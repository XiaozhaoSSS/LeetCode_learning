{
 "cells": [
  {
   "cell_type": "markdown",
   "metadata": {},
   "source": [
    "1.DP\n",
    "\n",
    "执行用时 :\n",
    "88 ms\n",
    ", 在所有 Python3 提交中击败了\n",
    "78.51%\n",
    "的用户\n",
    "内存消耗 :\n",
    "14.4 MB\n",
    ", 在所有 Python3 提交中击败了\n",
    "5.04%\n",
    "的用户"
   ]
  },
  {
   "cell_type": "code",
   "execution_count": null,
   "metadata": {},
   "outputs": [],
   "source": [
    "class Solution:\n",
    "    def maxSubArray(self, nums: List[int]) -> int:\n",
    "        tmp = nums[0]\n",
    "        max_ = tmp\n",
    "        n = len(nums)\n",
    "        for i in range(1,n):\n",
    "            # 当当前序列加上此时的元素的值大于tmp的值，说明最大序列和可能出现在后续序列中，记录此时的最大值\n",
    "            if tmp + nums[i]>nums[i]:\n",
    "                max_ = max(max_, tmp+nums[i])\n",
    "                tmp = tmp + nums[i]\n",
    "            else:\n",
    "            #当tmp(当前和)小于下一个元素时，当前最长序列到此为止。以该元素为起点继续找最大子序列,\n",
    "            # 并记录此时的最大值\n",
    "                max_ = max(max_, tmp, tmp+nums[i], nums[i])\n",
    "                tmp = nums[i]\n",
    "        return max_"
   ]
  }
 ],
 "metadata": {
  "kernelspec": {
   "display_name": "Python 3",
   "language": "python",
   "name": "python3"
  },
  "language_info": {
   "codemirror_mode": {
    "name": "ipython",
    "version": 3
   },
   "file_extension": ".py",
   "mimetype": "text/x-python",
   "name": "python",
   "nbconvert_exporter": "python",
   "pygments_lexer": "ipython3",
   "version": "3.7.1"
  }
 },
 "nbformat": 4,
 "nbformat_minor": 2
}

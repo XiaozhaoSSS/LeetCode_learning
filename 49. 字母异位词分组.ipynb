{
 "cells": [
  {
   "cell_type": "markdown",
   "metadata": {},
   "source": [
    "1.\n",
    "\n",
    "执行用时 :\n",
    "1052 ms\n",
    ", 在所有 Python3 提交中击败了\n",
    "5.21%\n",
    "的用户\n",
    "内存消耗 :\n",
    "17.3 MB\n",
    ", 在所有 Python3 提交中击败了\n",
    "8.69%\n",
    "的用户"
   ]
  },
  {
   "cell_type": "code",
   "execution_count": null,
   "metadata": {},
   "outputs": [],
   "source": [
    "class Solution:\n",
    "    def groupAnagrams(self, strs: List[str]) -> List[List[str]]:\n",
    "        label,res=[],[]\n",
    "        for s in strs:\n",
    "            curr=' '.join(s).split(' ')\n",
    "            curr.sort()\n",
    "            if curr in label:\n",
    "                res[label.index(curr)].append(s)\n",
    "            else:\n",
    "                label.append(curr)\n",
    "                res.append([s])\n",
    "        \n",
    "        return res"
   ]
  },
  {
   "cell_type": "markdown",
   "metadata": {},
   "source": [
    "2.用字典存放标志\n",
    "\n",
    "执行用时 :\n",
    "156 ms\n",
    ", 在所有 Python3 提交中击败了\n",
    "48.07%\n",
    "的用户\n",
    "内存消耗 :\n",
    "17.6 MB\n",
    ", 在所有 Python3 提交中击败了\n",
    "6.68%\n",
    "的用户"
   ]
  },
  {
   "cell_type": "code",
   "execution_count": null,
   "metadata": {},
   "outputs": [],
   "source": [
    "class Solution:\n",
    "    def groupAnagrams(self, strs: List[str]) -> List[List[str]]:\n",
    "        res=collections.defaultdict(list)\n",
    "        for s in strs:\n",
    "            res[tuple(sorted(s))].append(s)\n",
    "        return res.values()"
   ]
  },
  {
   "cell_type": "markdown",
   "metadata": {},
   "source": [
    "3.用字符个数做标志\n",
    "\n",
    "执行用时 :\n",
    "136 ms\n",
    ", 在所有 Python3 提交中击败了\n",
    "86.33%\n",
    "的用户\n",
    "内存消耗 :\n",
    "19.1 MB\n",
    ", 在所有 Python3 提交中击败了\n",
    "5.13%\n",
    "的用户"
   ]
  },
  {
   "cell_type": "code",
   "execution_count": null,
   "metadata": {},
   "outputs": [],
   "source": [
    "class Solution:\n",
    "    def groupAnagrams(self, strs: List[str]) -> List[List[str]]:\n",
    "        ans = collections.defaultdict(list)\n",
    "        for s in strs:\n",
    "            count = [0] * 26\n",
    "            for c in s:\n",
    "                count[ord(c) - ord('a')] += 1\n",
    "            ans[tuple(count)].append(s)\n",
    "        return ans.values()"
   ]
  }
 ],
 "metadata": {
  "kernelspec": {
   "display_name": "Python 3",
   "language": "python",
   "name": "python3"
  },
  "language_info": {
   "codemirror_mode": {
    "name": "ipython",
    "version": 3
   },
   "file_extension": ".py",
   "mimetype": "text/x-python",
   "name": "python",
   "nbconvert_exporter": "python",
   "pygments_lexer": "ipython3",
   "version": "3.7.3"
  }
 },
 "nbformat": 4,
 "nbformat_minor": 2
}

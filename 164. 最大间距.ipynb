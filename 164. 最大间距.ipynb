{
 "cells": [
  {
   "cell_type": "code",
   "execution_count": null,
   "metadata": {},
   "outputs": [],
   "source": [
    "1.桶排序"
   ]
  },
  {
   "cell_type": "code",
   "execution_count": null,
   "metadata": {},
   "outputs": [],
   "source": [
    "class Solution:\n",
    "    def maximumGap(self, nums: List[int]) -> int:\n",
    "        n = len(nums)\n",
    "        if n < 2: return 0\n",
    "        max_num = max(nums)\n",
    "        min_num = min(nums)\n",
    "        gap = math.ceil((max_num - min_num)/(n - 1))\n",
    "        bucket = [[float(\"inf\"), float(\"-inf\")] for _ in range(n - 1)]\n",
    "        #print(bucket)\n",
    "        # 求出每个桶的最大值，和最小值\n",
    "        for num in nums:\n",
    "            if num == max_num or num == min_num:\n",
    "                continue\n",
    "            loc = (num - min_num) // gap\n",
    "            bucket[loc][0] = min(num, bucket[loc][0])\n",
    "            bucket[loc][1] = max(num, bucket[loc][1])\n",
    "        ##print(bucket)\n",
    "        # 遍历整个桶\n",
    "        preMin = min_num\n",
    "        res = float(\"-inf\")\n",
    "        for x, y in bucket:\n",
    "            if x == float(\"inf\") :\n",
    "                continue\n",
    "            res = max(res, x - preMin)\n",
    "            preMin = y\n",
    "        res = max(res, max_num - preMin)\n",
    "        return res"
   ]
  }
 ],
 "metadata": {
  "kernelspec": {
   "display_name": "Python 3",
   "language": "python",
   "name": "python3"
  },
  "language_info": {
   "codemirror_mode": {
    "name": "ipython",
    "version": 3
   },
   "file_extension": ".py",
   "mimetype": "text/x-python",
   "name": "python",
   "nbconvert_exporter": "python",
   "pygments_lexer": "ipython3",
   "version": "3.7.3"
  }
 },
 "nbformat": 4,
 "nbformat_minor": 2
}

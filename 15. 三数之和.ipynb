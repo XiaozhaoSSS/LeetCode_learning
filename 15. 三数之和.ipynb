{
 "cells": [
  {
   "cell_type": "markdown",
   "metadata": {},
   "source": [
    "1.暴力解法，时间超限"
   ]
  },
  {
   "cell_type": "code",
   "execution_count": null,
   "metadata": {},
   "outputs": [],
   "source": [
    "class Solution:\n",
    "    def threeSum(self, nums: List[int]) -> List[List[int]]:\n",
    "        threesums=[]\n",
    "        n=len(nums)\n",
    "        if n<3:return threesums\n",
    "        nums=sorted(nums)\n",
    "        for index1 in range(n-2):\n",
    "            for index2 in range(index1+1,n-1):\n",
    "                num3=-(nums[index1]+nums[index2])\n",
    "                if num3 in nums[index2+1:n] and [nums[index1],nums[index2],num3] not in threesums:\n",
    "                    threesums.append([nums[index1],nums[index2],num3])\n",
    "        \n",
    "\n",
    "        \n",
    "        return threesums"
   ]
  },
  {
   "cell_type": "markdown",
   "metadata": {},
   "source": [
    "2.先排序，设置三个指针，两边指针向中间靠拢搜索满足要求的值\n",
    "\n",
    "执行用时 :1272 ms, 在所有 Python3 提交中击败了54.02%的用户\n",
    "内存消耗 :17.5 MB, 在所有 Python3 提交中击败了13.74%的用户"
   ]
  },
  {
   "cell_type": "code",
   "execution_count": null,
   "metadata": {},
   "outputs": [],
   "source": [
    "class Solution:\n",
    "    def threeSum(self, nums: List[int]) -> List[List[int]]:\n",
    "        threesums=[]\n",
    "        n=len(nums)\n",
    "        if n<3:return threesums\n",
    "        nums=sorted(nums)\n",
    "        for index2 in range(1,len(nums)-1):\n",
    "            label=label+1 if index2!=1 and nums[index2]==num2 else 0\n",
    "            if label>=2:continue\n",
    "            num2=nums[index2]\n",
    "            index1=0\n",
    "            index3=len(nums)-1\n",
    "            while index1<index2 and index3>index2:\n",
    "                \n",
    "                num1=nums[index1]\n",
    "                num3=nums[index3]\n",
    "                threesum=num1+num2+num3\n",
    "                if threesum==0:\n",
    "                    threesums.append([num1,num2,num3])\n",
    "                    while index1<n and nums[index1]==num1:\n",
    "                        index1+=1\n",
    "                    while index3>=0 and nums[index3]==num3:\n",
    "                        index3-=1\n",
    "                elif threesum>0:\n",
    "                    while index3>=0 and nums[index3]==num3:\n",
    "                        index3-=1\n",
    "                else:\n",
    "                    while index1<n and num1==nums[index1]:\n",
    "                        index1+=1\n",
    "        \n",
    "        return list(set([tuple(t) for t in threesums]))"
   ]
  }
 ],
 "metadata": {
  "kernelspec": {
   "display_name": "Python 3",
   "language": "python",
   "name": "python3"
  },
  "language_info": {
   "codemirror_mode": {
    "name": "ipython",
    "version": 3
   },
   "file_extension": ".py",
   "mimetype": "text/x-python",
   "name": "python",
   "nbconvert_exporter": "python",
   "pygments_lexer": "ipython3",
   "version": "3.7.1"
  }
 },
 "nbformat": 4,
 "nbformat_minor": 2
}

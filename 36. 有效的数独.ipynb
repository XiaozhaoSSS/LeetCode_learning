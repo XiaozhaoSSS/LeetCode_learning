{
 "cells": [
  {
   "cell_type": "markdown",
   "metadata": {},
   "source": [
    "1.每行每列每块检查\n",
    "\n",
    "执行用时 :\n",
    "276 ms\n",
    ", 在所有 Python3 提交中击败了\n",
    "5.40%\n",
    "的用户\n",
    "内存消耗 :\n",
    "30.1 MB\n",
    ", 在所有 Python3 提交中击败了\n",
    "5.17%\n",
    "的用户"
   ]
  },
  {
   "cell_type": "code",
   "execution_count": null,
   "metadata": {},
   "outputs": [],
   "source": [
    "class Solution:\n",
    "    def isValidSudoku(self, board: List[List[str]]) -> bool:\n",
    "        import numpy as np\n",
    "        board=np.array(board)\n",
    "        for i in range(9):\n",
    "            p=self.isvalid(board[i,:])\n",
    "            if not p:return p\n",
    "        for i in range(9):\n",
    "            p=self.isvalid(board[:,i])\n",
    "            if not p:return p\n",
    "        for i in range(3):\n",
    "            for j in range(3):\n",
    "                p=self.isvalid(board[i*3:(i+1)*3,j*3:(j+1)*3].reshape(-1,1))\n",
    "                if not p:return p\n",
    "        return p\n",
    "    def isvalid(self,curr):\n",
    "        for i in range(9):            \n",
    "            if curr[i]!='.' and curr[i] in curr[:i]:\n",
    "                return False\n",
    "\n",
    "        return True"
   ]
  },
  {
   "cell_type": "markdown",
   "metadata": {},
   "source": [
    "2.在一次查询中完成，对每个数字，查询其对应行、列、块中是否已经存在\n",
    "\n",
    "执行用时 :\n",
    "112 ms\n",
    ", 在所有 Python3 提交中击败了\n",
    "77.87%\n",
    "的用户\n",
    "内存消耗 :\n",
    "13.8 MB\n",
    ", 在所有 Python3 提交中击败了\n",
    "5.17%\n",
    "的用户"
   ]
  },
  {
   "cell_type": "code",
   "execution_count": null,
   "metadata": {},
   "outputs": [],
   "source": [
    "class Solution:\n",
    "    def isValidSudoku(self, board: List[List[str]]) -> bool:\n",
    "        rows=[{} for i in range(9)]\n",
    "        columns=[{} for i in range(9)]\n",
    "        boxs=[{} for i in range(9)]\n",
    "        for i in range(9):\n",
    "            for j in range(9):\n",
    "                num=board[i][j]\n",
    "                if num!=\".\":\n",
    "                    index_box=(i//3)*3+j//3\n",
    "                    rows[i][num]=rows[i].get(num,0)+1\n",
    "                    columns[j][num]=columns[j].get(num,0)+1\n",
    "                    boxs[index_box][num]=boxs[index_box].get(num,0)+1\n",
    "                    if rows[i][num]>1 or columns[j][num]>1 or boxs[index_box][num]>1:return False\n",
    "        return True"
   ]
  }
 ],
 "metadata": {
  "kernelspec": {
   "display_name": "Python 3",
   "language": "python",
   "name": "python3"
  },
  "language_info": {
   "codemirror_mode": {
    "name": "ipython",
    "version": 3
   },
   "file_extension": ".py",
   "mimetype": "text/x-python",
   "name": "python",
   "nbconvert_exporter": "python",
   "pygments_lexer": "ipython3",
   "version": "3.7.3"
  }
 },
 "nbformat": 4,
 "nbformat_minor": 2
}

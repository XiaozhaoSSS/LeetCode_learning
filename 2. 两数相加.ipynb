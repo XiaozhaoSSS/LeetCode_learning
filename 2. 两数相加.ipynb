{
 "cells": [
  {
   "cell_type": "code",
   "execution_count": null,
   "metadata": {},
   "outputs": [],
   "source": [
    "# Definition for singly-linked list.\n",
    "# class ListNode:\n",
    "#     def __init__(self, x):\n",
    "#         self.val = x\n",
    "#         self.next = None\n",
    "\n",
    "class Solution:\n",
    "    def addTwoNumbers(self, l1: ListNode, l2: ListNode) -> ListNode:\n",
    "        dummyHead=ListNode(0)\n",
    "        curr=dummyHead\n",
    "        carry=0\n",
    "        while (l1 or l2):\n",
    "            x=l1.val if l1 else 0\n",
    "            y=l2.val if l2 else 0\n",
    "            s=x+y+carry\n",
    "            curr.next=ListNode(s%10)\n",
    "            curr=curr.next\n",
    "            carry=s//10\n",
    "            if(l1!=None):l1=l1.next\n",
    "            if(l2!=None):l2=l2.next\n",
    "        if carry!=0:\n",
    "            curr.next=ListNode(1)\n",
    "        return dummyHead.next"
   ]
  }
 ],
 "metadata": {
  "kernelspec": {
   "display_name": "Python 3",
   "language": "python",
   "name": "python3"
  },
  "language_info": {
   "codemirror_mode": {
    "name": "ipython",
    "version": 3
   },
   "file_extension": ".py",
   "mimetype": "text/x-python",
   "name": "python",
   "nbconvert_exporter": "python",
   "pygments_lexer": "ipython3",
   "version": "3.7.3"
  }
 },
 "nbformat": 4,
 "nbformat_minor": 2
}

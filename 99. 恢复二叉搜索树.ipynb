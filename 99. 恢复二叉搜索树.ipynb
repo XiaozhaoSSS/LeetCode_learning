{
 "cells": [
  {
   "cell_type": "code",
   "execution_count": null,
   "metadata": {},
   "outputs": [],
   "source": [
    "1."
   ]
  },
  {
   "cell_type": "code",
   "execution_count": null,
   "metadata": {},
   "outputs": [],
   "source": [
    "# Definition for a binary tree node.\n",
    "# class TreeNode:\n",
    "#     def __init__(self, x):\n",
    "#         self.val = x\n",
    "#         self.left = None\n",
    "#         self.right = None\n",
    "\n",
    "class Solution:\n",
    "    def recoverTree(self, root: TreeNode) -> None:\n",
    "        \"\"\"\n",
    "        Do not return anything, modify root in-place instead.\n",
    "        \"\"\"\n",
    "        stack=[]\n",
    "        val=-float(\"Inf\")\n",
    "        head=root\n",
    "        #label=True\n",
    "        p1,p2=None,None\n",
    "        while stack or head:\n",
    "            while head:\n",
    "                stack.append(head)\n",
    "                head=head.left\n",
    "            head=stack.pop()\n",
    "            if not p1:\n",
    "                p1=head\n",
    "                val=head.val\n",
    "            if not p2 and head.val>val:\n",
    "                p1=head\n",
    "                val=head.val\n",
    "            elif not p2 and head.val<val:\n",
    "                p2=head\n",
    "                val=head.val\n",
    "            if p2 and head.val<val:\n",
    "                p2=head\n",
    "                break\n",
    "            elif p2 and head.val>val:\n",
    "                val=head.val\n",
    "            head=head.right\n",
    "        p1.val,p2.val=p2.val,p1.val"
   ]
  }
 ],
 "metadata": {
  "kernelspec": {
   "display_name": "Python 3",
   "language": "python",
   "name": "python3"
  },
  "language_info": {
   "codemirror_mode": {
    "name": "ipython",
    "version": 3
   },
   "file_extension": ".py",
   "mimetype": "text/x-python",
   "name": "python",
   "nbconvert_exporter": "python",
   "pygments_lexer": "ipython3",
   "version": "3.7.3"
  }
 },
 "nbformat": 4,
 "nbformat_minor": 2
}

{
 "cells": [
  {
   "cell_type": "markdown",
   "metadata": {},
   "source": [
    "从第1个字符开始，查找其后所有与之相同的字符，判断两个相同字符之间是否为回文；\n",
    "为减少运行时间，当剩余字符个数小于当前最长回文串长度时停止寻找；\n",
    "当输入字符串不为空且没有回文子串时，输出最后一个字符\n",
    "\n",
    "执行用时 :1904 ms, 在所有 Python3 提交中击败了58.51%的用户\n",
    "内存消耗 :13.8 MB, 在所有 Python3 提交中击败了19.00%的用户"
   ]
  },
  {
   "cell_type": "code",
   "execution_count": 1,
   "metadata": {},
   "outputs": [],
   "source": [
    "class Solution:\n",
    "    def longestPalindrome(self, s: str) -> str:\n",
    "        lp=\"\"\n",
    "        for i in range(len(s)):\n",
    "            if i+len(lp)>=len(s):\n",
    "                break\n",
    "            else:\n",
    "                for j in range(i+1,len(s)):\n",
    "                    if s[j]==s[i]:\n",
    "                        if s[j:(None if i-1<0 else i-1):-1]==s[i:j+1]:\n",
    "                            if len(s[i:j+1])>len(lp):\n",
    "                                lp=s[i:j+1]\n",
    "        if lp==\"\" and len(s)!=0:lp=s[-1]\n",
    "        return lp"
   ]
  },
  {
   "cell_type": "markdown",
   "metadata": {},
   "source": [
    "Manacher算法\n",
    "\n",
    "执行用时 :152 ms, 在所有 Python3 提交中击败了89.22%的用户\n",
    "内存消耗 :13.7 MB, 在所有 Python3 提交中击败了19.97%的用户"
   ]
  },
  {
   "cell_type": "code",
   "execution_count": null,
   "metadata": {},
   "outputs": [],
   "source": [
    "class Solution:\n",
    "    def longestPalindrome(self, s: str) -> str:\n",
    "        s='#'+'#'.join(s)+'#'#step1\n",
    "\n",
    "        RL=[0]*len(s) #各种初始化一下，RL是回文半径数组\n",
    "        MaxRight=0\n",
    "        Pos=0\n",
    "        Maxlen=0\n",
    "\n",
    "        for i in range(len(s)):\n",
    "            if i<MaxRight:#i在maxright左边\n",
    "                RL[i]=min(RL[2*Pos-i],MaxRight-i)\n",
    "            else:  #i在maxright右边，以i为中心的回文串还没扫到，此时，以i为中心向两边扩展\n",
    "                RL[i]=1#RL=1：只有自己\n",
    "\n",
    "            #以i为中心扩展，直到左！=右or达到边界(先判断边界)\n",
    "            while i-RL[i]>=0 and i+RL[i]<len(s) and s[i-RL[i]]==s[i+RL[i]]:\n",
    "                RL[i]+=1\n",
    "\n",
    "            #更新Maxright pos:\n",
    "            if RL[i]+i-1>MaxRight:\n",
    "                MaxRight=RL[i]+i-1\n",
    "                Pos=i\n",
    "\n",
    "            #更新最长回文子串的长;\n",
    "            Maxlen=max(Maxlen,RL[i])\n",
    "        s=s[RL.index(Maxlen)-(Maxlen-1):RL.index(Maxlen)+(Maxlen-1)]\n",
    "        s=s.replace('#','')\n",
    "        return s"
   ]
  }
 ],
 "metadata": {
  "kernelspec": {
   "display_name": "Python 3",
   "language": "python",
   "name": "python3"
  },
  "language_info": {
   "codemirror_mode": {
    "name": "ipython",
    "version": 3
   },
   "file_extension": ".py",
   "mimetype": "text/x-python",
   "name": "python",
   "nbconvert_exporter": "python",
   "pygments_lexer": "ipython3",
   "version": "3.7.3"
  }
 },
 "nbformat": 4,
 "nbformat_minor": 2
}

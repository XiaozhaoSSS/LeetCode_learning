{
 "cells": [
  {
   "cell_type": "code",
   "execution_count": null,
   "metadata": {},
   "outputs": [],
   "source": [
    "1.递归"
   ]
  },
  {
   "cell_type": "code",
   "execution_count": null,
   "metadata": {},
   "outputs": [],
   "source": [
    "class Solution:\n",
    "    def generateTrees(self, n):\n",
    "        \"\"\"\n",
    "        :type n: int\n",
    "        :rtype: List[TreeNode]\n",
    "        \"\"\"\n",
    "        def gen(begin,end):\n",
    "            if begin>end:return [None]\n",
    "            res=[]\n",
    "            for i in range(begin,end+1):\n",
    "                lefttree=gen(begin,i-1)\n",
    "                righttree=gen(i+1,end)\n",
    "                for l in lefttree:\n",
    "                    for r in righttree:\n",
    "                        current_tree = TreeNode(i)\n",
    "                        current_tree.left = l\n",
    "                        current_tree.right = r\n",
    "                        res.append(current_tree)\n",
    "            return res\n",
    "        return gen(1, n) if n else []"
   ]
  }
 ],
 "metadata": {
  "kernelspec": {
   "display_name": "Python 3",
   "language": "python",
   "name": "python3"
  },
  "language_info": {
   "codemirror_mode": {
    "name": "ipython",
    "version": 3
   },
   "file_extension": ".py",
   "mimetype": "text/x-python",
   "name": "python",
   "nbconvert_exporter": "python",
   "pygments_lexer": "ipython3",
   "version": "3.7.1"
  }
 },
 "nbformat": 4,
 "nbformat_minor": 2
}

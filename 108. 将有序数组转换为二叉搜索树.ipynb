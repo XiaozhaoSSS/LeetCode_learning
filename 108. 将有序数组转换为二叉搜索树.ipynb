{
 "cells": [
  {
   "cell_type": "code",
   "execution_count": null,
   "metadata": {},
   "outputs": [],
   "source": [
    "1.分治"
   ]
  },
  {
   "cell_type": "code",
   "execution_count": null,
   "metadata": {},
   "outputs": [],
   "source": [
    "/**\n",
    " * Definition for a binary tree node.\n",
    " * public class TreeNode {\n",
    " *     int val;\n",
    " *     TreeNode left;\n",
    " *     TreeNode right;\n",
    " *     TreeNode(int x) { val = x; }\n",
    " * }\n",
    " */\n",
    "class Solution {\n",
    "    public TreeNode sortedArrayToBST(int[] nums) {\n",
    "        return sortedArrayToBST(nums, 0, nums.length);\n",
    "}\n",
    "\n",
    "    private TreeNode sortedArrayToBST(int[] nums, int start, int end) {\n",
    "        if (start == end) {\n",
    "            return null;\n",
    "        }\n",
    "        int mid = (start + end) >>> 1;\n",
    "        TreeNode root = new TreeNode(nums[mid]);\n",
    "        root.left = sortedArrayToBST(nums, start, mid);\n",
    "        root.right = sortedArrayToBST(nums, mid + 1, end);\n",
    "\n",
    "        return root;\n",
    "    }\n",
    "}"
   ]
  },
  {
   "cell_type": "code",
   "execution_count": null,
   "metadata": {},
   "outputs": [],
   "source": [
    "     \n",
    "        \n",
    "        \n",
    "        \n",
    "        \n",
    "        \n",
    "        Queue<TreeNode> queue = new LinkedList<TreeNode>();\n",
    "        TreeNode root;\n",
    "        if (nums.length==0)\n",
    "            return root;\n",
    "        root.val=nums[0];\n",
    "        queue.offer(root);\n",
    "        int index=1;\n",
    "        while (!queue.isEmpty()) {\n",
    "            int levelNum = queue.size(); // 当前层元素的个数\n",
    "            \n",
    "            for (int i = 0; i < levelNum; i++) {\n",
    "                TreeNode curNode = queue.poll();\n",
    "                TreeNode leftnode,rightnode;\n",
    "                if (index<=nums.length-1){leftnode=new TreeNode(nums[index]);index+=1;}\n",
    "                //else{TreeNode leftnode=null;}\n",
    "                if (index<=nums.length-1){rightnode=new TreeNode(nums[index]);index+=1;}\n",
    "                //else{TreeNode rightnode=null;}\n",
    "                curNode.left=leftnode;\n",
    "                curNode.right=rightnode;\n",
    "                queue.offer(leftnode);\n",
    "                queue.offer(rightnode);\n",
    "            }\n",
    "        }\n",
    "        return root;\n",
    "    }\n",
    "}"
   ]
  },
  {
   "cell_type": "code",
   "execution_count": null,
   "metadata": {},
   "outputs": [],
   "source": []
  }
 ],
 "metadata": {
  "kernelspec": {
   "display_name": "Python 3",
   "language": "python",
   "name": "python3"
  },
  "language_info": {
   "codemirror_mode": {
    "name": "ipython",
    "version": 3
   },
   "file_extension": ".py",
   "mimetype": "text/x-python",
   "name": "python",
   "nbconvert_exporter": "python",
   "pygments_lexer": "ipython3",
   "version": "3.7.3"
  }
 },
 "nbformat": 4,
 "nbformat_minor": 2
}

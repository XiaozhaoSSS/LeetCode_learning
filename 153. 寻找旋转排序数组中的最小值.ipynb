{
 "cells": [
  {
   "cell_type": "code",
   "execution_count": null,
   "metadata": {},
   "outputs": [],
   "source": [
    "1."
   ]
  },
  {
   "cell_type": "code",
   "execution_count": null,
   "metadata": {},
   "outputs": [],
   "source": [
    "class Solution:\n",
    "    def findMin(self, nums: List[int]) -> int:\n",
    "        res=nums[0]\n",
    "        is_up,is_down=True,False\n",
    "        for num in nums:\n",
    "            if is_up and num<res:\n",
    "                res=num\n",
    "                is_down=True\n",
    "            if is_down:\n",
    "                if num>res:return res\n",
    "                else:res=num\n",
    "        return res"
   ]
  },
  {
   "cell_type": "code",
   "execution_count": null,
   "metadata": {},
   "outputs": [],
   "source": [
    "2.二分查找"
   ]
  },
  {
   "cell_type": "code",
   "execution_count": null,
   "metadata": {},
   "outputs": [],
   "source": [
    "class Solution:\n",
    "    def findMin(self, nums: List[int]) -> int:\n",
    "        if len(nums) == 1:return nums[0]\n",
    "        left = 0\n",
    "        right = len(nums) - 1\n",
    "        if nums[right] > nums[0]:return nums[0]\n",
    "        while right >= left:\n",
    "            mid = (right + left) // 2\n",
    "            if nums[mid] > nums[mid + 1]:return nums[mid + 1]\n",
    "            if nums[mid - 1] > nums[mid]:return nums[mid]\n",
    "            if nums[mid] > nums[0]:left = mid + 1\n",
    "            else:right = mid - 1"
   ]
  }
 ],
 "metadata": {
  "kernelspec": {
   "display_name": "Python 3",
   "language": "python",
   "name": "python3"
  },
  "language_info": {
   "codemirror_mode": {
    "name": "ipython",
    "version": 3
   },
   "file_extension": ".py",
   "mimetype": "text/x-python",
   "name": "python",
   "nbconvert_exporter": "python",
   "pygments_lexer": "ipython3",
   "version": "3.7.3"
  }
 },
 "nbformat": 4,
 "nbformat_minor": 2
}

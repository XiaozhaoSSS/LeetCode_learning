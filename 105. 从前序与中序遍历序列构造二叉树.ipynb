{
 "cells": [
  {
   "cell_type": "code",
   "execution_count": null,
   "metadata": {},
   "outputs": [],
   "source": [
    "1.分治"
   ]
  },
  {
   "cell_type": "code",
   "execution_count": null,
   "metadata": {},
   "outputs": [],
   "source": [
    "/**\n",
    " * Definition for a binary tree node.\n",
    " * public class TreeNode {\n",
    " *     int val;\n",
    " *     TreeNode left;\n",
    " *     TreeNode right;\n",
    " *     TreeNode(int x) { val = x; }\n",
    " * }\n",
    " */\n",
    "\n",
    "class Solution {\n",
    "    \n",
    "    public TreeNode buildTree(int[] preorder, int[] inorder) {\n",
    "        return Gen(preorder,inorder,0,preorder.length,0,inorder.length);\n",
    "     }   \n",
    "    public TreeNode Gen(int[] preorder, int[] inorder,int p_left,int p_right,int i_left,int i_right){\n",
    "        if (p_left==p_right){return null;}\n",
    "        TreeNode curr_tree=new TreeNode(preorder[p_left]);\n",
    "        int index = 0;\n",
    "        for (int i = i_left; i < i_right; i++) {\n",
    "            if (preorder[p_left] == inorder[i]) {break;}\n",
    "            index+=1;\n",
    "        }\n",
    "        \n",
    "        curr_tree.left=Gen(preorder,inorder,p_left+1,p_left+1+index,i_left,i_left+index);\n",
    "        curr_tree.right=Gen(preorder,inorder,p_left+1+index,p_right,i_left+index+1,i_right);\n",
    "        return curr_tree;\n",
    "    }\n",
    "}"
   ]
  },
  {
   "cell_type": "code",
   "execution_count": null,
   "metadata": {},
   "outputs": [],
   "source": [
    "2.把inorder的值和索引用哈希表存储"
   ]
  },
  {
   "cell_type": "code",
   "execution_count": null,
   "metadata": {},
   "outputs": [],
   "source": [
    "/**\n",
    " * Definition for a binary tree node.\n",
    " * public class TreeNode {\n",
    " *     int val;\n",
    " *     TreeNode left;\n",
    " *     TreeNode right;\n",
    " *     TreeNode(int x) { val = x; }\n",
    " * }\n",
    " */\n",
    "\n",
    "class Solution {\n",
    "    \n",
    "    public TreeNode buildTree(int[] preorder, int[] inorder) {\n",
    "        HashMap<Integer, Integer> map = new HashMap<>();\n",
    "        for (int i = 0; i < inorder.length; i++) {\n",
    "            map.put(inorder[i], i);\n",
    "        }\n",
    "        return Gen(preorder,inorder,0,preorder.length,0,inorder.length,map);\n",
    "     }   \n",
    "    public TreeNode Gen(int[] preorder, int[] inorder,int p_left,int p_right,int i_left,int i_right,HashMap<Integer, Integer> map){\n",
    "        if (p_left==p_right){return null;}\n",
    "        TreeNode curr_tree=new TreeNode(preorder[p_left]);\n",
    "        int index = map.get(preorder[p_left])-i_left;\n",
    "        \n",
    "        curr_tree.left=Gen(preorder,inorder,p_left+1,p_left+1+index,i_left,i_left+index,map);\n",
    "        curr_tree.right=Gen(preorder,inorder,p_left+1+index,p_right,i_left+index+1,i_right,map);\n",
    "        return curr_tree;\n",
    "    }\n",
    "}"
   ]
  }
 ],
 "metadata": {
  "kernelspec": {
   "display_name": "Python 3",
   "language": "python",
   "name": "python3"
  },
  "language_info": {
   "codemirror_mode": {
    "name": "ipython",
    "version": 3
   },
   "file_extension": ".py",
   "mimetype": "text/x-python",
   "name": "python",
   "nbconvert_exporter": "python",
   "pygments_lexer": "ipython3",
   "version": "3.7.3"
  }
 },
 "nbformat": 4,
 "nbformat_minor": 2
}

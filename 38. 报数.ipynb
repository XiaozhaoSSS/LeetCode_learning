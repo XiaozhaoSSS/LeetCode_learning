{
 "cells": [
  {
   "cell_type": "markdown",
   "metadata": {},
   "source": [
    "1.将字符输入栈，如果栈不为空且要输入的字符与栈顶字符不相同，将栈长和栈顶元素写入报文\n",
    "\n",
    "执行用时 :\n",
    "44 ms\n",
    ", 在所有 Python3 提交中击败了\n",
    "97.18%\n",
    "的用户\n",
    "内存消耗 :\n",
    "13.8 MB\n",
    ", 在所有 Python3 提交中击败了\n",
    "5.00%\n",
    "的用户"
   ]
  },
  {
   "cell_type": "code",
   "execution_count": null,
   "metadata": {},
   "outputs": [],
   "source": [
    "class Solution:\n",
    "    def countAndSay(self, n: int) -> str:\n",
    "        \n",
    "        def say(s):\n",
    "            curr=[]\n",
    "            new_s=[]\n",
    "            for j in range(len(s)):\n",
    "                if curr and s[j]!=curr[-1]:\n",
    "                    new_s.append(str(len(curr)))\n",
    "                    new_s.append(curr[-1])\n",
    "                    curr=[]\n",
    "                curr.append(s[j])\n",
    "            new_s.append(str(len(curr)))\n",
    "            new_s.append(curr[-1])\n",
    "            return ''.join(new_s)\n",
    "        \n",
    "        s=\"1\"\n",
    "        for i in range(n-1):\n",
    "            s=say(s)\n",
    "        return s"
   ]
  }
 ],
 "metadata": {
  "kernelspec": {
   "display_name": "Python 3",
   "language": "python",
   "name": "python3"
  },
  "language_info": {
   "codemirror_mode": {
    "name": "ipython",
    "version": 3
   },
   "file_extension": ".py",
   "mimetype": "text/x-python",
   "name": "python",
   "nbconvert_exporter": "python",
   "pygments_lexer": "ipython3",
   "version": "3.7.3"
  }
 },
 "nbformat": 4,
 "nbformat_minor": 2
}

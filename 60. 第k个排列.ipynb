{
 "cells": [
  {
   "cell_type": "markdown",
   "metadata": {},
   "source": [
    "1.\n",
    "\n",
    "执行用时 :\n",
    "48 ms\n",
    ", 在所有 python3 提交中击败了\n",
    "68.59%\n",
    "的用户\n",
    "内存消耗 :\n",
    "13.9 MB\n",
    ", 在所有 python3 提交中击败了\n",
    "5.61%\n",
    "的用户"
   ]
  },
  {
   "cell_type": "code",
   "execution_count": null,
   "metadata": {},
   "outputs": [],
   "source": [
    "class Solution:\n",
    "    def getPermutation(self, n: int, k: int) -> str:\n",
    "        res=''\n",
    "        s=list(range(1,n+1))\n",
    "        if k==1:return ''.join([str(x) for x in s])\n",
    "        import math\n",
    "        unit_length=math.factorial(n-1)\n",
    "        while s:\n",
    "            if k==0:\n",
    "                res+=(''.join([str(x) for x in s[::-1]]))\n",
    "                break\n",
    "            res+=str(s[max(0,(k-1)//unit_length)])\n",
    "            del s[max(0,(k-1)//unit_length)]\n",
    "            k=k%unit_length\n",
    "            unit_length//=(n-1)\n",
    "            n-=1\n",
    "        return res"
   ]
  }
 ],
 "metadata": {
  "kernelspec": {
   "display_name": "Python 3",
   "language": "python",
   "name": "python3"
  },
  "language_info": {
   "codemirror_mode": {
    "name": "ipython",
    "version": 3
   },
   "file_extension": ".py",
   "mimetype": "text/x-python",
   "name": "python",
   "nbconvert_exporter": "python",
   "pygments_lexer": "ipython3",
   "version": "3.7.3"
  }
 },
 "nbformat": 4,
 "nbformat_minor": 2
}

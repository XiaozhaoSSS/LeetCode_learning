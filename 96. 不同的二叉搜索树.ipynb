{
 "cells": [
  {
   "cell_type": "code",
   "execution_count": null,
   "metadata": {},
   "outputs": [],
   "source": [
    "1.类似上一题，递归求解，超时"
   ]
  },
  {
   "cell_type": "code",
   "execution_count": null,
   "metadata": {},
   "outputs": [],
   "source": [
    "class Solution:\n",
    "    def numTrees(self, n: int) -> int:\n",
    "        def gen(begin,end):\n",
    "            if begin>end:return 1\n",
    "            res=0\n",
    "            for i in range(begin,end+1):\n",
    "                lefttree=gen(begin,i-1)\n",
    "                righttree=gen(i+1,end)\n",
    "                res+=lefttree*righttree\n",
    "            return res\n",
    "        \n",
    "        return gen(1, n) if n else 0"
   ]
  },
  {
   "cell_type": "code",
   "execution_count": null,
   "metadata": {},
   "outputs": [],
   "source": [
    "2.卡特兰数  两种表达形式，第一种：h(0)=1,h(1)=1，h(n)= h(0)*h(n-1)+h(1)*h(n-2) + ... + h(n-1)*h(0) (n>=2)；\n",
    "第二种：h(n)=h(n-1)*(4*n-2)/(n+1)"
   ]
  },
  {
   "cell_type": "code",
   "execution_count": null,
   "metadata": {},
   "outputs": [],
   "source": [
    "第一种：相当于动态规划"
   ]
  },
  {
   "cell_type": "code",
   "execution_count": null,
   "metadata": {},
   "outputs": [],
   "source": [
    "class Solution:\n",
    "    def numTrees(self, n: int) -> int:\n",
    "        import numpy as np\n",
    "        dp=[1,1]\n",
    "        for i in range(2,n+1):\n",
    "            dp.append(np.sum([x*y for x,y in zip(dp,dp[::-1])]))\n",
    "        return dp[-1] if n else 0"
   ]
  },
  {
   "cell_type": "code",
   "execution_count": null,
   "metadata": {},
   "outputs": [],
   "source": [
    "class Solution:\n",
    "    def numTrees(self, n: int) -> int:\n",
    "        G = [0]*(n+1)\n",
    "        G[0], G[1] = 1, 1\n",
    "\n",
    "        for i in range(2, n+1):\n",
    "            for j in range(1, i+1):\n",
    "                G[i] += G[j-1] * G[i-j]\n",
    "\n",
    "        return G[n]"
   ]
  },
  {
   "cell_type": "code",
   "execution_count": null,
   "metadata": {},
   "outputs": [],
   "source": [
    "第二种："
   ]
  },
  {
   "cell_type": "code",
   "execution_count": null,
   "metadata": {},
   "outputs": [],
   "source": [
    "class Solution:\n",
    "    def numTrees(self, n: int) -> int:\n",
    "        C = 1\n",
    "        for i in range(0, n):\n",
    "            C = C * 2*(2*i+1)/(i+2)\n",
    "        return int(C)"
   ]
  }
 ],
 "metadata": {
  "kernelspec": {
   "display_name": "Python 3",
   "language": "python",
   "name": "python3"
  },
  "language_info": {
   "codemirror_mode": {
    "name": "ipython",
    "version": 3
   },
   "file_extension": ".py",
   "mimetype": "text/x-python",
   "name": "python",
   "nbconvert_exporter": "python",
   "pygments_lexer": "ipython3",
   "version": "3.7.1"
  }
 },
 "nbformat": 4,
 "nbformat_minor": 2
}

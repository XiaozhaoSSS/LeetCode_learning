{
 "cells": [
  {
   "cell_type": "markdown",
   "metadata": {},
   "source": [
    "1.\n",
    "\n",
    "执行用时 :80 ms, 在所有 Python3 提交中击败了12.21%的用户\n",
    "内存消耗 :13.8 MB, 在所有 Python3 提交中击败了5.53%的用户"
   ]
  },
  {
   "cell_type": "code",
   "execution_count": null,
   "metadata": {},
   "outputs": [],
   "source": [
    "# Definition for singly-linked list.\n",
    "# class ListNode:\n",
    "#     def __init__(self, x):\n",
    "#         self.val = x\n",
    "#         self.next = None\n",
    "\n",
    "class Solution:\n",
    "    def removeNthFromEnd(self, head: ListNode, n: int) -> ListNode:\n",
    "        dummyhead=ListNode(0)\n",
    "        dummyhead.next=head\n",
    "        curr=dummyhead\n",
    "        length=i=0\n",
    "        while curr.next!=None:\n",
    "            curr=curr.next\n",
    "            length+=1\n",
    "        curr=dummyhead\n",
    "        while i<length-n:\n",
    "            curr=curr.next\n",
    "            i+=1\n",
    "        curr.next=curr.next.next\n",
    "\n",
    "        return dummyhead.next"
   ]
  }
 ],
 "metadata": {
  "kernelspec": {
   "display_name": "Python 3",
   "language": "python",
   "name": "python3"
  },
  "language_info": {
   "codemirror_mode": {
    "name": "ipython",
    "version": 3
   },
   "file_extension": ".py",
   "mimetype": "text/x-python",
   "name": "python",
   "nbconvert_exporter": "python",
   "pygments_lexer": "ipython3",
   "version": "3.7.3"
  }
 },
 "nbformat": 4,
 "nbformat_minor": 2
}

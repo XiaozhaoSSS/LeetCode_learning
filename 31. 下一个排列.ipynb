{
 "cells": [
  {
   "cell_type": "markdown",
   "metadata": {},
   "source": [
    "1.先找到开始变大的点，再将该点往后数排序\n",
    "\n",
    "执行用时 :\n",
    "324 ms\n",
    ", 在所有 Python3 提交中击败了\n",
    "6.86%\n",
    "的用户\n",
    "内存消耗 :\n",
    "30.1 MB\n",
    ", 在所有 Python3 提交中击败了\n",
    "5.12%\n",
    "的用户"
   ]
  },
  {
   "cell_type": "code",
   "execution_count": null,
   "metadata": {},
   "outputs": [],
   "source": [
    "class Solution:\n",
    "    def nextPermutation(self, nums: List[int]) -> None:\n",
    "        \"\"\"\n",
    "        Do not return anything, modify nums in-place instead.\n",
    "        \"\"\"\n",
    "        import numpy as np\n",
    "        n=len(nums)\n",
    "        label=1\n",
    "        if n>1:\n",
    "            i=0\n",
    "            for i in list(range(n-1))[::-1]:\n",
    "                l=np.array(nums[i+1:])[np.array(nums[i+1:])>nums[i]]\n",
    "                if len(l)>0:\n",
    "                    m=min(l)\n",
    "                    del nums[nums[i+1:].index(m)+i+1]\n",
    "                    nums.insert(i,m)\n",
    "                    label=0\n",
    "                    break\n",
    "            print(nums)\n",
    "            if n-1-i+label>1:\n",
    "                for j in range(i+1-label,n-1):                   \n",
    "                    for z in range(j+1,n):\n",
    "                        curr=nums[j]\n",
    "                        if curr>nums[z]:\n",
    "                            nums[j]=nums[z]\n",
    "                            nums[z]=curr\n",
    "                    "
   ]
  }
 ],
 "metadata": {
  "kernelspec": {
   "display_name": "Python 3",
   "language": "python",
   "name": "python3"
  },
  "language_info": {
   "codemirror_mode": {
    "name": "ipython",
    "version": 3
   },
   "file_extension": ".py",
   "mimetype": "text/x-python",
   "name": "python",
   "nbconvert_exporter": "python",
   "pygments_lexer": "ipython3",
   "version": "3.7.3"
  }
 },
 "nbformat": 4,
 "nbformat_minor": 2
}

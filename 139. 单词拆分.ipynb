{
 "cells": [
  {
   "cell_type": "code",
   "execution_count": null,
   "metadata": {},
   "outputs": [],
   "source": [
    "1.回溯，关键在于剪枝，用memo存储s[begin:]能否拆分成字典元素，一旦发现一种可能置True,遍历完都没有置False"
   ]
  },
  {
   "cell_type": "code",
   "execution_count": null,
   "metadata": {},
   "outputs": [],
   "source": [
    "class Solution:\n",
    "    def wordBreak(self, s: str, wordDict: List[str]) -> bool:\n",
    "        def gen(begin):\n",
    "            nonlocal res,n\n",
    "            if res:return True\n",
    "            if begin>=n:\n",
    "                res=True\n",
    "                return res\n",
    "            if begin in memo:return memo[begin]\n",
    "            for i in range(begin,n):\n",
    "                if s[begin:i+1] in wordDict and gen(i+1):\n",
    "                    memo[begin]=True\n",
    "                    return True\n",
    "            memo[begin]=False\n",
    "            return False\n",
    "        memo={}\n",
    "        wordDict=set(wordDict)\n",
    "        res=False\n",
    "        n=len(s)\n",
    "        gen(0)\n",
    "        return res"
   ]
  },
  {
   "cell_type": "code",
   "execution_count": null,
   "metadata": {},
   "outputs": [],
   "source": [
    "2.动态规划"
   ]
  },
  {
   "cell_type": "code",
   "execution_count": null,
   "metadata": {},
   "outputs": [],
   "source": [
    "class Solution:\n",
    "    def wordBreak(self, s: str, wordDict: List[str]) -> bool:\n",
    "        n=len(s)\n",
    "        dp=[True]+[False for _ in range(n)]\n",
    "        for i in range(n):\n",
    "            for j in range(i+1):\n",
    "                if dp[j] and s[j:i+1] in wordDict:\n",
    "                    dp[i+1]=True\n",
    "                    break\n",
    "        return dp[-1]"
   ]
  }
 ],
 "metadata": {
  "kernelspec": {
   "display_name": "Python 3",
   "language": "python",
   "name": "python3"
  },
  "language_info": {
   "codemirror_mode": {
    "name": "ipython",
    "version": 3
   },
   "file_extension": ".py",
   "mimetype": "text/x-python",
   "name": "python",
   "nbconvert_exporter": "python",
   "pygments_lexer": "ipython3",
   "version": "3.7.3"
  }
 },
 "nbformat": 4,
 "nbformat_minor": 2
}

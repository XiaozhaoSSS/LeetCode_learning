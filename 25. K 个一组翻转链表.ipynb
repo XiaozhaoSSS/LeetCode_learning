{
 "cells": [
  {
   "cell_type": "markdown",
   "metadata": {},
   "source": [
    "1.递归，每次处理前k个元素\n",
    "\n",
    "执行用时 :\n",
    "64 ms\n",
    ", 在所有 Python3 提交中击败了\n",
    "92.88%\n",
    "的用户\n",
    "内存消耗 :\n",
    "14.9 MB\n",
    ", 在所有 Python3 提交中击败了\n",
    "5.15%\n",
    "的用户"
   ]
  },
  {
   "cell_type": "code",
   "execution_count": null,
   "metadata": {},
   "outputs": [],
   "source": [
    "# Definition for singly-linked list.\n",
    "# class ListNode:\n",
    "#     def __init__(self, x):\n",
    "#         self.val = x\n",
    "#         self.next = None\n",
    "\n",
    "class Solution:\n",
    "    def reverseKGroup(self, head: ListNode, k: int) -> ListNode:\n",
    "        p=head\n",
    "        def gen(p):\n",
    "            h=p\n",
    "            if p:\n",
    "                i=1\n",
    "                while p.next and i<k:\n",
    "                    p=p.next\n",
    "                    i+=1\n",
    "\n",
    "                if i==k:                   \n",
    "                    p=h.next\n",
    "                    q=h\n",
    "                    for j in range(k-1):\n",
    "                        w=p.next \n",
    "                        p.next=q                     \n",
    "                        q=p\n",
    "                        p=w                   \n",
    "                    h.next=gen(p)\n",
    "                    return q   \n",
    "            return h\n",
    "        \n",
    "        return gen(p)\n",
    "        "
   ]
  },
  {
   "cell_type": "code",
   "execution_count": null,
   "metadata": {},
   "outputs": [],
   "source": [
    "# Definition for singly-linked list.\n",
    "# class ListNode:\n",
    "#     def __init__(self, x):\n",
    "#         self.val = x\n",
    "#         self.next = None\n",
    "\n",
    "class Solution:\n",
    "    def reverseKGroup(self, head: ListNode, k: int) -> ListNode:\n",
    "        if not head:return None\n",
    "        \n",
    "        p1,kk=head,k\n",
    "        while kk>0 and p1:\n",
    "            kk-=1\n",
    "            p1=p1.next\n",
    "        if kk>0:return head     \n",
    "\n",
    "        p1,p2=head,head.next\n",
    "        if not p2:return p1\n",
    "        p3=p2.next\n",
    "      \n",
    "        for _ in range(k-1):\n",
    "            p2.next=p1\n",
    "            p1=p2\n",
    "            p2=p3\n",
    "            if not p3:break\n",
    "            p3=p3.next\n",
    "        \n",
    "        head.next=self.reverseKGroup(p2,k)\n",
    "        return p1"
   ]
  }
 ],
 "metadata": {
  "kernelspec": {
   "display_name": "Python 3",
   "language": "python",
   "name": "python3"
  },
  "language_info": {
   "codemirror_mode": {
    "name": "ipython",
    "version": 3
   },
   "file_extension": ".py",
   "mimetype": "text/x-python",
   "name": "python",
   "nbconvert_exporter": "python",
   "pygments_lexer": "ipython3",
   "version": "3.7.5"
  }
 },
 "nbformat": 4,
 "nbformat_minor": 2
}

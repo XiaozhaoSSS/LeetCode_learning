{
 "cells": [
  {
   "cell_type": "markdown",
   "metadata": {},
   "source": [
    "1.递归，每次处理前k个元素\n",
    "\n",
    "执行用时 :\n",
    "64 ms\n",
    ", 在所有 Python3 提交中击败了\n",
    "92.88%\n",
    "的用户\n",
    "内存消耗 :\n",
    "14.9 MB\n",
    ", 在所有 Python3 提交中击败了\n",
    "5.15%\n",
    "的用户"
   ]
  },
  {
   "cell_type": "code",
   "execution_count": null,
   "metadata": {},
   "outputs": [],
   "source": [
    "# Definition for singly-linked list.\n",
    "# class ListNode:\n",
    "#     def __init__(self, x):\n",
    "#         self.val = x\n",
    "#         self.next = None\n",
    "\n",
    "class Solution:\n",
    "    def reverseKGroup(self, head: ListNode, k: int) -> ListNode:\n",
    "        p=head\n",
    "        def gen(p):\n",
    "            h=p\n",
    "            if p:\n",
    "                i=1\n",
    "                while p.next and i<k:\n",
    "                    p=p.next\n",
    "                    i+=1\n",
    "\n",
    "                if i==k:                   \n",
    "                    p=h.next\n",
    "                    q=h\n",
    "                    for j in range(k-1):\n",
    "                        w=p.next \n",
    "                        p.next=q                     \n",
    "                        q=p\n",
    "                        p=w                   \n",
    "                    h.next=gen(p)\n",
    "                    return q   \n",
    "            return h\n",
    "        \n",
    "        return gen(p)\n",
    "        "
   ]
  }
 ],
 "metadata": {
  "kernelspec": {
   "display_name": "Python 3",
   "language": "python",
   "name": "python3"
  },
  "language_info": {
   "codemirror_mode": {
    "name": "ipython",
    "version": 3
   },
   "file_extension": ".py",
   "mimetype": "text/x-python",
   "name": "python",
   "nbconvert_exporter": "python",
   "pygments_lexer": "ipython3",
   "version": "3.7.3"
  }
 },
 "nbformat": 4,
 "nbformat_minor": 2
}

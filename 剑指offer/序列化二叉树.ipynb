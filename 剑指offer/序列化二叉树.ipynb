{
 "cells": [
  {
   "cell_type": "code",
   "execution_count": null,
   "metadata": {},
   "outputs": [],
   "source": [
    "题目描述\n",
    "请实现两个函数，分别用来序列化和反序列化二叉树\n",
    "\n",
    "二叉树的序列化是指：把一棵二叉树按照某种遍历方式的结果以某种格式保存为字符串，从而使得内存中建立起来的二叉树可以持久保存。\n",
    "序列化可以基于先序、中序、后序、层序的二叉树遍历方式来进行修改，序列化的结果是一个字符串，\n",
    "序列化时通过 某种符号表示空节点（#），以 ！ 表示一个结点值的结束（value!）。\n",
    "\n",
    "二叉树的反序列化是指：根据某种遍历顺序得到的序列化字符串结果str，重构二叉树。"
   ]
  },
  {
   "cell_type": "code",
   "execution_count": 18,
   "metadata": {},
   "outputs": [],
   "source": [
    "class TreeNode:\n",
    "    def __init__(self, x):\n",
    "        self.val = x\n",
    "        self.left = None\n",
    "        self.right = None\n",
    "        \n",
    "def Serialize( root):\n",
    "    # write code here\n",
    "    if root==None:return \"#!\"\n",
    "    return str(root.val)+\"!\"+Serialize(root.left)+Serialize(root.right)\n",
    "def Deserialize( s):\n",
    "    # write code here\n",
    "\n",
    "    index=0\n",
    "    def dfs():\n",
    "        nonlocal index\n",
    "        if s[index]=='#':\n",
    "            index+=2\n",
    "            return None\n",
    "        index_next=index+s[index:].index('!')\n",
    "        node=TreeNode(s[index:index_next])\n",
    "        index=index_next+1\n",
    "        node.left=dfs()\n",
    "        node.right=dfs()\n",
    "        return node\n",
    "    return dfs()"
   ]
  },
  {
   "cell_type": "code",
   "execution_count": 19,
   "metadata": {},
   "outputs": [
    {
     "name": "stdout",
     "output_type": "stream",
     "text": [
      "1!2!4!#!#!#!3!#!5!#!#!\n"
     ]
    },
    {
     "data": {
      "text/plain": [
       "'1!2!4!#!#!#!3!#!5!#!#!'"
      ]
     },
     "execution_count": 19,
     "metadata": {},
     "output_type": "execute_result"
    }
   ],
   "source": [
    "node4=TreeNode(4)\n",
    "node2=TreeNode(2)\n",
    "node2.left=node4\n",
    "node5=TreeNode(5)\n",
    "node3=TreeNode(3)\n",
    "node3.right=node5\n",
    "node1=TreeNode(1)\n",
    "node1.left=node2\n",
    "node1.right=node3\n",
    "\n",
    "s=Serialize(node1)\n",
    "print(s)\n",
    "t=Deserialize(s)\n",
    "def f(node):\n",
    "    if node==None:return '#!'\n",
    "    return str(node.val)+\"!\"+f(node.left)+f(node.right)\n",
    "f(t)"
   ]
  },
  {
   "cell_type": "code",
   "execution_count": null,
   "metadata": {},
   "outputs": [],
   "source": []
  }
 ],
 "metadata": {
  "kernelspec": {
   "display_name": "Python 3",
   "language": "python",
   "name": "python3"
  },
  "language_info": {
   "codemirror_mode": {
    "name": "ipython",
    "version": 3
   },
   "file_extension": ".py",
   "mimetype": "text/x-python",
   "name": "python",
   "nbconvert_exporter": "python",
   "pygments_lexer": "ipython3",
   "version": "3.7.5"
  }
 },
 "nbformat": 4,
 "nbformat_minor": 2
}

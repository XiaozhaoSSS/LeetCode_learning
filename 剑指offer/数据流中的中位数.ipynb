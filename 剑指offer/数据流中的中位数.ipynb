{
 "cells": [
  {
   "cell_type": "code",
   "execution_count": null,
   "metadata": {},
   "outputs": [],
   "source": [
    "题目描述\n",
    "如何得到一个数据流中的中位数？如果从数据流中读出奇数个数值，那么中位数就是所有数值排序之后位于中间的数值。\n",
    "如果从数据流中读出偶数个数值，那么中位数就是所有数值排序之后中间两个数的平均值。\n",
    "我们使用Insert()方法读取数据流，使用GetMedian()方法获取当前读取数据的中位数。"
   ]
  },
  {
   "cell_type": "code",
   "execution_count": null,
   "metadata": {},
   "outputs": [],
   "source": [
    "# -*- coding:utf-8 -*-\n",
    "class Solution:\n",
    "    def __init__(self):\n",
    "        self.data=[]\n",
    "    def Insert(self, num):\n",
    "        # write code here\n",
    "        self.data.append(num)\n",
    "        index=len(self.data)-2\n",
    "        while index>=0 and self.data[index]>num:\n",
    "            self.data[index+1]=self.data[index]\n",
    "            index-=1\n",
    "        self.data[index+1]=num\n",
    "    def GetMedian(self,data):\n",
    "        # write code here\n",
    "        n=len(self.data)\n",
    "        if n%2==0:\n",
    "            return (self.data[n//2-1]+self.data[n//2])/2.0\n",
    "        else:\n",
    "            return self.data[n//2]"
   ]
  },
  {
   "cell_type": "code",
   "execution_count": null,
   "metadata": {},
   "outputs": [],
   "source": [
    "思路2：\n",
    "两个堆保存大于中位数和小于中位数的数；\n",
    "O(2log(n))复杂度，比起思路1插入排序O(n)复杂度好"
   ]
  },
  {
   "cell_type": "code",
   "execution_count": 17,
   "metadata": {},
   "outputs": [],
   "source": [
    "# -*- coding:utf-8 -*-\n",
    "class Solution:\n",
    "    def __init__(self):\n",
    "        self.heap1=[]  #小顶堆\n",
    "        self.heap2=[]  #大顶堆\n",
    "        self.count=0\n",
    "        \n",
    "    def buildheap1(self,m):\n",
    "        n=len(self.heap1)\n",
    "        if 2*m==n and self.heap1[2*m-1]<self.heap1[m-1]:\n",
    "            self.heap1[2*m-1],self.heap1[m-1]=self.heap1[m-1],self.heap1[2*m-1]\n",
    "        elif 2*m+1<=n and self.heap1[m-1]>min(self.heap1[2*m-1],self.heap1[2*m]):\n",
    "            if self.heap1[2*m-1]<self.heap1[2*m]:\n",
    "                self.heap1[2*m-1],self.heap1[m-1]=self.heap1[m-1],self.heap1[2*m-1]\n",
    "                self.buildheap1(2*m)\n",
    "            else:\n",
    "                self.heap1[2*m],self.heap1[m-1]=self.heap1[m-1],self.heap1[2*m]\n",
    "                self.buildheap1(2*m+1)\n",
    "        \n",
    "    def buildheap2(self,m):\n",
    "        n=len(self.heap2)\n",
    "        if 2*m==n and self.heap2[2*m-1]>self.heap2[m-1]:\n",
    "            self.heap2[2*m-1],self.heap2[m-1]=self.heap2[m-1],self.heap2[2*m-1]\n",
    "        elif 2*m+1<=n and self.heap2[m-1]<max(self.heap2[2*m-1],self.heap2[2*m]):\n",
    "            if self.heap2[2*m-1]>self.heap2[2*m]:\n",
    "                self.heap2[2*m-1],self.heap2[m-1]=self.heap2[m-1],self.heap2[2*m-1]\n",
    "                self.buildheap2(2*m)\n",
    "            else:\n",
    "                self.heap2[2*m],self.heap2[m-1]=self.heap2[m-1],self.heap2[2*m]\n",
    "                self.buildheap2(2*m+1)\n",
    "        \n",
    "    def upheap1(self,m):\n",
    "        if m<=1:return\n",
    "        if self.heap1[m-1]<self.heap1[m//2-1]:\n",
    "            self.heap1[m-1],self.heap1[m//2-1]=self.heap1[m//2-1],self.heap1[m-1]\n",
    "            self.upheap1(m//2)\n",
    "            \n",
    "    def upheap2(self,m):\n",
    "        if m<=1:return\n",
    "        if self.heap2[m-1]>self.heap2[m//2-1]:\n",
    "            self.heap2[m-1],self.heap2[m//2-1]=self.heap2[m//2-1],self.heap2[m-1]\n",
    "            self.upheap2(m//2)\n",
    "        \n",
    "    def Insert(self, num):\n",
    "        # write code here\n",
    "        self.count+=1\n",
    "        if self.count%2==0:  #偶数个插入小顶堆\n",
    "            if self.heap2 and num<self.heap2[0]:\n",
    "                self.heap2.insert(0,num)\n",
    "                num=self.heap2.pop(1)\n",
    "                self.buildheap2(1)\n",
    "            self.heap1.append(num)\n",
    "            self.upheap1(len(self.heap1))\n",
    "        else:\n",
    "            if self.heap1 and num>self.heap1[0]:\n",
    "                self.heap1.insert(0,num)\n",
    "                num=self.heap1.pop(1)\n",
    "                self.buildheap1(1)\n",
    "            self.heap2.append(num)\n",
    "            self.upheap2(len(self.heap2))\n",
    "            \n",
    "    def GetMedian(self,data):\n",
    "        # write code here\n",
    "        if self.count%2==0:\n",
    "            return (self.heap1[0]+self.heap2[0])/2.0\n",
    "        else:\n",
    "            return self.heap2[0]"
   ]
  },
  {
   "cell_type": "code",
   "execution_count": null,
   "metadata": {},
   "outputs": [],
   "source": []
  }
 ],
 "metadata": {
  "kernelspec": {
   "display_name": "Python 3",
   "language": "python",
   "name": "python3"
  },
  "language_info": {
   "codemirror_mode": {
    "name": "ipython",
    "version": 3
   },
   "file_extension": ".py",
   "mimetype": "text/x-python",
   "name": "python",
   "nbconvert_exporter": "python",
   "pygments_lexer": "ipython3",
   "version": "3.7.5"
  }
 },
 "nbformat": 4,
 "nbformat_minor": 2
}

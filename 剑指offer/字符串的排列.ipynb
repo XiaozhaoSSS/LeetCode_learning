{
 "cells": [
  {
   "cell_type": "code",
   "execution_count": null,
   "metadata": {},
   "outputs": [],
   "source": [
    "题目描述\n",
    "输入一个字符串,按字典序打印出该字符串中字符的所有排列。\n",
    "例如输入字符串abc,则打印出由字符a,b,c所能排列出来的所有字符串abc,acb,bac,bca,cab和cba。"
   ]
  },
  {
   "cell_type": "code",
   "execution_count": null,
   "metadata": {},
   "outputs": [],
   "source": [
    "# -*- coding:utf-8 -*-\n",
    "class Solution:\n",
    "    def Permutation(self, ss):\n",
    "        # write code here\n",
    "        res=[]\n",
    "        def dfs(curr_s,curr_list,old_list):\n",
    "            n=len(curr_list)\n",
    "            if n==1:\n",
    "                res.append(curr_s+curr_list[0])\n",
    "                return\n",
    "            for i in range(n):\n",
    "                if curr_list[i] in old_list:continue\n",
    "                old_list.add(curr_list[i])\n",
    "                dfs(curr_s+curr_list[i],curr_list[:i]+curr_list[i+1:],set())\n",
    "        dfs(\"\",ss,set())\n",
    "        return res"
   ]
  }
 ],
 "metadata": {
  "kernelspec": {
   "display_name": "Python 3",
   "language": "python",
   "name": "python3"
  },
  "language_info": {
   "codemirror_mode": {
    "name": "ipython",
    "version": 3
   },
   "file_extension": ".py",
   "mimetype": "text/x-python",
   "name": "python",
   "nbconvert_exporter": "python",
   "pygments_lexer": "ipython3",
   "version": "3.7.5"
  }
 },
 "nbformat": 4,
 "nbformat_minor": 2
}

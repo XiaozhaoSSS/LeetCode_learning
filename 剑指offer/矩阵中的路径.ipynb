{
 "cells": [
  {
   "cell_type": "code",
   "execution_count": null,
   "metadata": {},
   "outputs": [],
   "source": []
  },
  {
   "cell_type": "code",
   "execution_count": null,
   "metadata": {},
   "outputs": [],
   "source": [
    "class Solution:\n",
    "    def exist(self, board: List[List[str]], word: str) -> bool:\n",
    "        rows=len(board)\n",
    "        cols=len(board[0]) if rows!=0 else 0\n",
    "        visited=set()\n",
    "        res=False\n",
    "        def findpath(i,j,index):\n",
    "            #print(i,j,index)\n",
    "            nonlocal res\n",
    "            if index>=len(word):res=True\n",
    "            if res:return\n",
    "            if i>0 and board[(i-1)][j]==word[index] and (i-1,j) not in visited:\n",
    "                visited.add((i-1,j))\n",
    "                findpath(i-1,j,index+1)\n",
    "                visited.remove((i-1,j))\n",
    "            if i<rows-1 and board[(i+1)][j]==word[index] and (i+1,j) not in visited:\n",
    "                visited.add((i+1,j))\n",
    "                findpath(i+1,j,index+1)\n",
    "                visited.remove((i+1,j))\n",
    "            if j>0 and board[i][j-1]==word[index] and (i,j-1) not in visited:\n",
    "                visited.add((i,j-1))\n",
    "                findpath(i,j-1,index+1)\n",
    "                visited.remove((i,j-1))\n",
    "            if j<cols-1 and board[i][j+1]==word[index] and (i,j+1) not in visited:\n",
    "                visited.add((i,j+1))\n",
    "                findpath(i,j+1,index+1)\n",
    "                visited.remove((i,j+1))\n",
    "        for i in range(rows):\n",
    "            for j in range(cols):\n",
    "                if board[i][j]==word[0]:\n",
    "                    visited.add((i,j))\n",
    "                    findpath(i,j,1)\n",
    "                    visited.remove((i,j))\n",
    "                if res:return res\n",
    "        return res"
   ]
  }
 ],
 "metadata": {
  "kernelspec": {
   "display_name": "Python 3",
   "language": "python",
   "name": "python3"
  },
  "language_info": {
   "codemirror_mode": {
    "name": "ipython",
    "version": 3
   },
   "file_extension": ".py",
   "mimetype": "text/x-python",
   "name": "python",
   "nbconvert_exporter": "python",
   "pygments_lexer": "ipython3",
   "version": "3.7.5"
  }
 },
 "nbformat": 4,
 "nbformat_minor": 2
}

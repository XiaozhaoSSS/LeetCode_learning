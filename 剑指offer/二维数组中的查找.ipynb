{
 "cells": [
  {
   "cell_type": "code",
   "execution_count": null,
   "metadata": {},
   "outputs": [],
   "source": [
    "题目描述\n",
    "在一个二维数组中（每个一维数组的长度相同），每一行都按照从左到右递增的顺序排序，每一列都按照从上到下递增的顺序排序。\n",
    "请完成一个函数，输入这样的一个二维数组和一个整数，判断数组中是否含有该整数。"
   ]
  },
  {
   "cell_type": "code",
   "execution_count": null,
   "metadata": {},
   "outputs": [],
   "source": [
    "# -*- coding:utf-8 -*-\n",
    "class Solution:\n",
    "    # array 二维列表\n",
    "    def Find(self, target, array):\n",
    "        # write code here\n",
    "        n=len(array)\n",
    "        if n==0:return False\n",
    "        m=len(array[0])\n",
    "        row_min,cal_max=0,m-1\n",
    "        \n",
    "        def binary_search(arr,tar):\n",
    "            #二分查找\n",
    "            left,right=0,len(arr)-1\n",
    "            while left<=right:\n",
    "                mid=(left+right)//2\n",
    "                if arr[mid]==tar:return True\n",
    "                elif arr[mid]<tar:left=mid+1\n",
    "                else:right=mid-1\n",
    "            return False\n",
    "        \n",
    "        while row_min<=n-1 and cal_max>=0:\n",
    "            if target==array[row_min][cal_max]:return True\n",
    "            elif target<array[row_min][cal_max]:\n",
    "                if binary_search(array[row_min][:cal_max],target):return True\n",
    "                cal_max-=1\n",
    "            row_min+=1\n",
    "        return False"
   ]
  }
 ],
 "metadata": {
  "kernelspec": {
   "display_name": "Python 3",
   "language": "python",
   "name": "python3"
  },
  "language_info": {
   "codemirror_mode": {
    "name": "ipython",
    "version": 3
   },
   "file_extension": ".py",
   "mimetype": "text/x-python",
   "name": "python",
   "nbconvert_exporter": "python",
   "pygments_lexer": "ipython3",
   "version": "3.7.5"
  }
 },
 "nbformat": 4,
 "nbformat_minor": 2
}

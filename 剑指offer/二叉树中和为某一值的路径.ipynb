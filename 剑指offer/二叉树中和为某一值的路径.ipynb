{
 "cells": [
  {
   "cell_type": "code",
   "execution_count": null,
   "metadata": {},
   "outputs": [],
   "source": [
    "题目描述\n",
    "输入一颗二叉树的根节点和一个整数，打印出二叉树中结点值的和为输入整数的所有路径。\n",
    "路径定义为从树的根结点开始往下一直到叶结点所经过的结点形成一条路径。\n",
    "(注意: 在返回值的list中，数组长度大的数组靠前)"
   ]
  },
  {
   "cell_type": "code",
   "execution_count": null,
   "metadata": {},
   "outputs": [],
   "source": [
    "# -*- coding:utf-8 -*-\n",
    "# class TreeNode:\n",
    "#     def __init__(self, x):\n",
    "#         self.val = x\n",
    "#         self.left = None\n",
    "#         self.right = None\n",
    "class Solution:\n",
    "    # 返回二维列表，内部每个列表表示找到的路径\n",
    "    def FindPath(self, root, expectNumber):\n",
    "        # write code here\n",
    "        res=[]\n",
    "        def dfs(node,curr_path,curr_num):\n",
    "            #nonlocal res\n",
    "            if node==None:return\n",
    "            if node.left==None and node.right==None and curr_num==node.val:\n",
    "                res.append(curr_path+[node.val])\n",
    "                return\n",
    "            dfs(node.left,curr_path+[node.val],curr_num-node.val)\n",
    "            dfs(node.right,curr_path+[node.val],curr_num-node.val)\n",
    "        dfs(root,[],expectNumber)\n",
    "        return res"
   ]
  }
 ],
 "metadata": {
  "kernelspec": {
   "display_name": "Python 3",
   "language": "python",
   "name": "python3"
  },
  "language_info": {
   "codemirror_mode": {
    "name": "ipython",
    "version": 3
   },
   "file_extension": ".py",
   "mimetype": "text/x-python",
   "name": "python",
   "nbconvert_exporter": "python",
   "pygments_lexer": "ipython3",
   "version": "3.7.5"
  }
 },
 "nbformat": 4,
 "nbformat_minor": 2
}

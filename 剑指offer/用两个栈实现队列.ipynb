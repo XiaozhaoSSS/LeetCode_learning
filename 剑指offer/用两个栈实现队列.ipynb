{
 "cells": [
  {
   "cell_type": "code",
   "execution_count": null,
   "metadata": {},
   "outputs": [],
   "source": [
    "题目描述\n",
    "用两个栈来实现一个队列，完成队列的Push和Pop操作。 队列中的元素为int类型。"
   ]
  },
  {
   "cell_type": "code",
   "execution_count": null,
   "metadata": {},
   "outputs": [],
   "source": [
    "# -*- coding:utf-8 -*-\n",
    "class Solution:\n",
    "    def __init__(self):\n",
    "        self.queue=[]\n",
    "    def push(self, node):\n",
    "        # write code here\n",
    "        self.queue.append(node)\n",
    "    def pop(self):\n",
    "        # return xx\n",
    "        if len(self.queue)==0:return None\n",
    "        return self.queue.pop(0)"
   ]
  }
 ],
 "metadata": {
  "kernelspec": {
   "display_name": "Python 3",
   "language": "python",
   "name": "python3"
  },
  "language_info": {
   "codemirror_mode": {
    "name": "ipython",
    "version": 3
   },
   "file_extension": ".py",
   "mimetype": "text/x-python",
   "name": "python",
   "nbconvert_exporter": "python",
   "pygments_lexer": "ipython3",
   "version": "3.7.5"
  }
 },
 "nbformat": 4,
 "nbformat_minor": 2
}

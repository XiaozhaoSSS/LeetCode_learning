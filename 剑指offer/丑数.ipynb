{
 "cells": [
  {
   "cell_type": "code",
   "execution_count": null,
   "metadata": {},
   "outputs": [],
   "source": [
    "题目描述\n",
    "把只包含质因子2、3和5的数称作丑数（Ugly Number）。例如6、8都是丑数，但14不是，因为它包含质因子7。\n",
    "习惯上我们把1当做是第一个丑数。求按从小到大的顺序的第N个丑数。"
   ]
  },
  {
   "cell_type": "code",
   "execution_count": null,
   "metadata": {},
   "outputs": [],
   "source": [
    "# -*- coding:utf-8 -*-\n",
    "class Solution:\n",
    "    def GetUglyNumber_Solution(self, index):\n",
    "        # write code here\n",
    "        if index==0:return 0\n",
    "        visited=[1]\n",
    "        p2,p3,p5=0,0,0\n",
    "        for _ in range(index-1):\n",
    "            next_num=min(visited[p2]*2,visited[p3]*3,visited[p5]*5)\n",
    "            visited.append(next_num)\n",
    "            if next_num%2==0:p2+=1\n",
    "            if next_num%3==0:p3+=1\n",
    "            if next_num%5==0:p5+=1\n",
    "        return visited[-1]"
   ]
  }
 ],
 "metadata": {
  "kernelspec": {
   "display_name": "Python 3",
   "language": "python",
   "name": "python3"
  },
  "language_info": {
   "codemirror_mode": {
    "name": "ipython",
    "version": 3
   },
   "file_extension": ".py",
   "mimetype": "text/x-python",
   "name": "python",
   "nbconvert_exporter": "python",
   "pygments_lexer": "ipython3",
   "version": "3.7.5"
  }
 },
 "nbformat": 4,
 "nbformat_minor": 2
}

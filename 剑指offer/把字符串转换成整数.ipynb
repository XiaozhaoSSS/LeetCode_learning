{
 "cells": [
  {
   "cell_type": "code",
   "execution_count": null,
   "metadata": {},
   "outputs": [],
   "source": [
    "题目描述\n",
    "将一个字符串转换成一个整数，要求不能使用字符串转换整数的库函数。 数值为0或者字符串不是一个合法的数值则返回0\n",
    "输入描述:\n",
    "输入一个字符串,包括数字字母符号,可以为空\n",
    "输出描述:\n",
    "如果是合法的数值表达则返回该数字，否则返回0"
   ]
  },
  {
   "cell_type": "code",
   "execution_count": null,
   "metadata": {},
   "outputs": [],
   "source": [
    "# -*- coding:utf-8 -*-\n",
    "class Solution:\n",
    "    def StrToInt(self, s):\n",
    "        # write code here\n",
    "        n=len(s)\n",
    "        if n==0 or n>11:return 0\n",
    "        num={'0','1','2','3','4','5','6','7','8','9'}\n",
    "        label=True #默认为负数\n",
    "        index=0\n",
    "        if s[0]=='+':index+=1\n",
    "        elif s[0]=='-':\n",
    "            label=False\n",
    "            index+=1\n",
    "        elif s[0] not in num:return 0\n",
    "        \n",
    "        res=0\n",
    "        while index<n:\n",
    "            if s[index] not in num:return 0\n",
    "            res=res*10+int(s[index])\n",
    "            index+=1\n",
    "        if not label:res=-res \n",
    "        if res<-2147483648 or res>2147483647:res=0 \n",
    "        return res"
   ]
  }
 ],
 "metadata": {
  "kernelspec": {
   "display_name": "Python 3",
   "language": "python",
   "name": "python3"
  },
  "language_info": {
   "codemirror_mode": {
    "name": "ipython",
    "version": 3
   },
   "file_extension": ".py",
   "mimetype": "text/x-python",
   "name": "python",
   "nbconvert_exporter": "python",
   "pygments_lexer": "ipython3",
   "version": "3.7.5"
  }
 },
 "nbformat": 4,
 "nbformat_minor": 2
}

{
 "cells": [
  {
   "cell_type": "code",
   "execution_count": null,
   "metadata": {},
   "outputs": [],
   "source": [
    "# -*- coding:utf-8 -*-\n",
    "class Solution:\n",
    "    def InversePairs(self, data):\n",
    "        # write code here\n",
    "        \n",
    "        def merge_count(data):\n",
    "            n=len(data)\n",
    "            if n<=1:return data,0\n",
    "            left,num1=merge_count(data[:n//2])\n",
    "            right,num2=merge_count(data[n//2:])\n",
    "            out,num3=merge(left,right)\n",
    "            return out,num1+num2+num3\n",
    "        def merge(arr1,arr2):\n",
    "            out=[]\n",
    "            num=0\n",
    "            while len(arr1)>0 and len(arr2)>0:\n",
    "                if arr1[0]>arr2[0]:\n",
    "                    num+=len(arr1)\n",
    "                    out.append(arr2.pop(0))\n",
    "                else:\n",
    "                    out.append(arr1.pop(0))\n",
    "            out+=arr1\n",
    "            out+=arr2\n",
    "            return out,num\n",
    "        \n",
    "        _,res=merge_count(data)\n",
    "        return res%1000000007"
   ]
  }
 ],
 "metadata": {
  "kernelspec": {
   "display_name": "Python 3",
   "language": "python",
   "name": "python3"
  },
  "language_info": {
   "codemirror_mode": {
    "name": "ipython",
    "version": 3
   },
   "file_extension": ".py",
   "mimetype": "text/x-python",
   "name": "python",
   "nbconvert_exporter": "python",
   "pygments_lexer": "ipython3",
   "version": "3.7.5"
  }
 },
 "nbformat": 4,
 "nbformat_minor": 2
}

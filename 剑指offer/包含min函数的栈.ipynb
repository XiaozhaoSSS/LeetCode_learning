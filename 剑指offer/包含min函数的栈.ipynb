{
 "cells": [
  {
   "cell_type": "code",
   "execution_count": null,
   "metadata": {},
   "outputs": [],
   "source": [
    "题目描述\n",
    "定义栈的数据结构，请在该类型中实现一个能够得到栈中所含最小元素的min函数（时间复杂度应为O（1））。\n",
    "注意：保证测试中不会当栈为空的时候，对栈调用pop()或者min()或者top()方法。"
   ]
  },
  {
   "cell_type": "code",
   "execution_count": null,
   "metadata": {},
   "outputs": [],
   "source": [
    "# -*- coding:utf-8 -*-\n",
    "class Solution:\n",
    "    def __init__(self):\n",
    "        self.stack=[]\n",
    "        self.sort_index=[]\n",
    "    def push(self, node):\n",
    "        # write code here\n",
    "        self.stack.append(node)\n",
    "        self.insertSort()\n",
    "    def pop(self):\n",
    "        # write code here\n",
    "        if not self.stack:return None\n",
    "        self.sort_index.remove(len(self.stack)-1)\n",
    "        return self.stack.pop()\n",
    "    def top(self):\n",
    "        # write code here\n",
    "        if not self.stack:return None\n",
    "        return self.stack[-1]\n",
    "    def min(self):\n",
    "        # write code here\n",
    "        return self.stack[self.sort_index[0]]\n",
    "    def insertSort(self):\n",
    "        n=len(self.stack)\n",
    "        self.sort_index.append(n-1)\n",
    "        index=n-2\n",
    "        while index>=0 and self.stack[self.sort_index[index]]>self.stack[n-1]:\n",
    "            self.sort_index[index+1]=self.sort_index[index]\n",
    "            index-=1\n",
    "        self.sort_index[index+1]=n-1"
   ]
  }
 ],
 "metadata": {
  "kernelspec": {
   "display_name": "Python 3",
   "language": "python",
   "name": "python3"
  }
 },
 "nbformat": 4,
 "nbformat_minor": 2
}

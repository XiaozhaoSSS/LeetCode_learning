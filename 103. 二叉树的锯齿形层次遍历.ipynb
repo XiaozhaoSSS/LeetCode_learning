{
 "cells": [
  {
   "cell_type": "code",
   "execution_count": null,
   "metadata": {},
   "outputs": [],
   "source": [
    "1.同上题方法，只不过在向res中添加结果时判断深度的奇偶，奇数层从头部插入新数据，偶数层从尾部插入新数据"
   ]
  },
  {
   "cell_type": "code",
   "execution_count": null,
   "metadata": {},
   "outputs": [],
   "source": [
    "# Definition for a binary tree node.\n",
    "# class TreeNode:\n",
    "#     def __init__(self, x):\n",
    "#         self.val = x\n",
    "#         self.left = None\n",
    "#         self.right = None\n",
    "\n",
    "class Solution:\n",
    "    def zigzagLevelOrder(self, root: TreeNode) -> List[List[int]]:\n",
    "        queue=[]\n",
    "        res={}\n",
    "        depth=[]\n",
    "        if root:\n",
    "            queue.append(root)\n",
    "            depth.append(0)\n",
    "        while queue:\n",
    "            curr_root=queue.pop()\n",
    "            curr_depth=depth.pop()\n",
    "            if curr_depth%2==0:res[curr_depth]=res.get(curr_depth,[])+[curr_root.val]\n",
    "            else:res[curr_depth]=[curr_root.val]+res.get(curr_depth,[])\n",
    "            if curr_root.left:\n",
    "                queue.insert(0,curr_root.left)\n",
    "                depth.insert(0,curr_depth+1)\n",
    "            if curr_root.right:\n",
    "                queue.insert(0,curr_root.right)\n",
    "                depth.insert(0,curr_depth+1)\n",
    "\n",
    "        return list(res.values())"
   ]
  }
 ],
 "metadata": {
  "kernelspec": {
   "display_name": "Python 3",
   "language": "python",
   "name": "python3"
  },
  "language_info": {
   "codemirror_mode": {
    "name": "ipython",
    "version": 3
   },
   "file_extension": ".py",
   "mimetype": "text/x-python",
   "name": "python",
   "nbconvert_exporter": "python",
   "pygments_lexer": "ipython3",
   "version": "3.7.3"
  }
 },
 "nbformat": 4,
 "nbformat_minor": 2
}

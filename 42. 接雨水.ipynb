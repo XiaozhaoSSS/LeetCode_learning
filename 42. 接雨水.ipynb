{
 "cells": [
  {
   "cell_type": "markdown",
   "metadata": {},
   "source": [
    "1.按行查找能存水的面积，思路清晰，但是超时间限制了"
   ]
  },
  {
   "cell_type": "code",
   "execution_count": null,
   "metadata": {},
   "outputs": [],
   "source": [
    "class Solution:\n",
    "    def trap(self, height: List[int]) -> int:\n",
    "        n=len(height)\n",
    "        area=0\n",
    "        if n>2:\n",
    "            for i in range(n):\n",
    "                if height[i]!=0:break\n",
    "            for j in range(n)[::-1]:\n",
    "                if height[j]!=0:break\n",
    "\n",
    "            def search(left,right):\n",
    "                nonlocal area\n",
    "\n",
    "                for index in range(left,right+1):\n",
    "                    if height[index]==0:area+=1\n",
    "                for index in range(n):\n",
    "                    if height[index]!=0:height[index]-=1\n",
    "\n",
    "                for i in range(left,right+1):\n",
    "                    if height[i]!=0:break\n",
    "                if i==right:return\n",
    "                for j in range(left,right+1)[::-1]:\n",
    "                    if height[j]!=0:break\n",
    "                search(i,j)\n",
    "            search(i,j)\n",
    "        return area"
   ]
  },
  {
   "cell_type": "code",
   "execution_count": null,
   "metadata": {},
   "outputs": [],
   "source": [
    "class Solution:\n",
    "    def trap(self, height: List[int]) -> int:\n",
    "        nums=list(set(height))\n",
    "        nums.sort()\n",
    "        n=len(nums)\n",
    "        area=0\n",
    "        if n>1:\n",
    "            \n",
    "            \n",
    "\n",
    "            def search(left,right,index):\n",
    "                nonlocal area\n",
    "                \n",
    "                while height[left]<=nums[index]:left+=1\n",
    "                while height[right]<=nums[index]:right-=1\n",
    "                if left>=right or index==n-1:return\n",
    "                #print(left,right)\n",
    "                #n_curr=str(height[left:right+1]).count(str(nums[index]))\n",
    "                for i in range(left,right+1):\n",
    "                    if height[i]<=nums[index]:area=area+nums[index+1]-nums[index]\n",
    "                #print(n_curr,nums[index+1],nums[index])\n",
    "                #area=area+n_curr*(nums[index+1]-nums[index])\n",
    "                index+=1\n",
    "                \n",
    "                search(left,right,index)\n",
    "            search(0,len(height)-1,0)\n",
    "        return area\n",
    "                    "
   ]
  }
 ],
 "metadata": {
  "kernelspec": {
   "display_name": "Python 3",
   "language": "python",
   "name": "python3"
  },
  "language_info": {
   "codemirror_mode": {
    "name": "ipython",
    "version": 3
   },
   "file_extension": ".py",
   "mimetype": "text/x-python",
   "name": "python",
   "nbconvert_exporter": "python",
   "pygments_lexer": "ipython3",
   "version": "3.7.3"
  }
 },
 "nbformat": 4,
 "nbformat_minor": 2
}

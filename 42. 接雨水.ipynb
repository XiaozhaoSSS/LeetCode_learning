{
 "cells": [
  {
   "cell_type": "markdown",
   "metadata": {},
   "source": [
    "1.按行查找能存水的面积，思路清晰，但是超时间限制了"
   ]
  },
  {
   "cell_type": "code",
   "execution_count": null,
   "metadata": {},
   "outputs": [],
   "source": [
    "class Solution:\n",
    "    def trap(self, height: List[int]) -> int:\n",
    "        n=len(height)\n",
    "        area=0\n",
    "        if n>2:\n",
    "            for i in range(n):\n",
    "                if height[i]!=0:break\n",
    "            for j in range(n)[::-1]:\n",
    "                if height[j]!=0:break\n",
    "\n",
    "            def search(left,right):\n",
    "                nonlocal area\n",
    "\n",
    "                for index in range(left,right+1):\n",
    "                    if height[index]==0:area+=1\n",
    "                for index in range(n):\n",
    "                    if height[index]!=0:height[index]-=1\n",
    "\n",
    "                for i in range(left,right+1):\n",
    "                    if height[i]!=0:break\n",
    "                if i==right:return\n",
    "                for j in range(left,right+1)[::-1]:\n",
    "                    if height[j]!=0:break\n",
    "                search(i,j)\n",
    "            search(i,j)\n",
    "        return area"
   ]
  },
  {
   "cell_type": "markdown",
   "metadata": {},
   "source": [
    "2.双指针\n",
    "\n",
    "执行用时 :\n",
    "68 ms\n",
    ", 在所有 Python3 提交中击败了\n",
    "82.67%\n",
    "的用户\n",
    "内存消耗 :\n",
    "14.5 MB\n",
    ", 在所有 Python3 提交中击败了\n",
    "5.00%\n",
    "的用户"
   ]
  },
  {
   "cell_type": "code",
   "execution_count": null,
   "metadata": {},
   "outputs": [],
   "source": [
    "class Solution:\n",
    "    def trap(self, height: List[int]) -> int:\n",
    "        left,right=0,len(height)-1\n",
    "        max_left,max_right=0,0\n",
    "        res=0\n",
    "        while left<right:\n",
    "            if height[left]<height[right]:\n",
    "                if height[left]>max_left:max_left=height[left]\n",
    "                else: res+=(max_left-height[left])\n",
    "                left+=1\n",
    "            else:\n",
    "                if height[right]>max_right:max_right=height[right]\n",
    "                else: res+=(max_right-height[right])\n",
    "                right-=1\n",
    "        return res"
   ]
  },
  {
   "cell_type": "markdown",
   "metadata": {},
   "source": [
    "3.找到最大值，从左右两侧分别向最大值遍历，用遍历到的最大值减去当前值即为当前列的储水量，如果当前值大于最大值则更新最大值\n",
    "\n",
    "执行用时 :\n",
    "60 ms\n",
    ", 在所有 Python3 提交中击败了\n",
    "91.44%\n",
    "的用户\n",
    "内存消耗 :\n",
    "14.6 MB\n",
    ", 在所有 Python3 提交中击败了\n",
    "5.00%\n",
    "的用户"
   ]
  },
  {
   "cell_type": "code",
   "execution_count": null,
   "metadata": {},
   "outputs": [],
   "source": [
    "class Solution:\n",
    "    def trap(self, height: List[int]) -> int:\n",
    "        left,right=0,len(height)-1\n",
    "        max_left,max_right=0,0\n",
    "        res=0\n",
    "        if len(height)>2:\n",
    "            max_height=max(height)\n",
    "            index=height.index(max_height)\n",
    "            while left<index:\n",
    "                if height[left]>max_left:max_left=height[left]\n",
    "                else:res+=(max_left-height[left])\n",
    "                left+=1\n",
    "            while right>index:\n",
    "                if height[right]>max_right:max_right=height[right]\n",
    "                else:res+=(max_right-height[right])\n",
    "                right-=1\n",
    "        return res"
   ]
  }
 ],
 "metadata": {
  "kernelspec": {
   "display_name": "Python 3",
   "language": "python",
   "name": "python3"
  },
  "language_info": {
   "codemirror_mode": {
    "name": "ipython",
    "version": 3
   },
   "file_extension": ".py",
   "mimetype": "text/x-python",
   "name": "python",
   "nbconvert_exporter": "python",
   "pygments_lexer": "ipython3",
   "version": "3.7.3"
  }
 },
 "nbformat": 4,
 "nbformat_minor": 2
}

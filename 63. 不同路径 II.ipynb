{
 "cells": [
  {
   "cell_type": "markdown",
   "metadata": {},
   "source": [
    "1.动态规划\n",
    "\n",
    "执行用时 :\n",
    "64 ms\n",
    ", 在所有 python3 提交中击败了\n",
    "76.93%\n",
    "的用户\n",
    "内存消耗 :\n",
    "13.8 MB\n",
    ", 在所有 python3 提交中击败了\n",
    "5.19%\n",
    "的用户"
   ]
  },
  {
   "cell_type": "code",
   "execution_count": null,
   "metadata": {},
   "outputs": [],
   "source": [
    "class Solution:\n",
    "    def uniquePathsWithObstacles(self, obstacleGrid: List[List[int]]) -> int:\n",
    "        if obstacleGrid[0][0]==1:return 0\n",
    "        else:\n",
    "            m,n=len(obstacleGrid),len(obstacleGrid[0])\n",
    "            obstacleGrid[0].append(1)\n",
    "            curr=[1]*(obstacleGrid[0].index(1))+[0]*(n-obstacleGrid[0].index(1))\n",
    "            is_obs=False\n",
    "            for i in range(1,m):\n",
    "                if not is_obs and obstacleGrid[i][0]==1:\n",
    "                    is_obs=True\n",
    "                    curr[0]=0\n",
    "                for j in range(1,n):\n",
    "                    curr[j]=curr[j]+curr[j-1] if obstacleGrid[i][j]!=1 else 0\n",
    "            return curr[-1]"
   ]
  },
  {
   "cell_type": "markdown",
   "metadata": {},
   "source": [
    "2.动态规划\n",
    "\n",
    "执行用时 :\n",
    "68 ms\n",
    ", 在所有 python3 提交中击败了\n",
    "66.13%\n",
    "的用户\n",
    "内存消耗 :\n",
    "13.7 MB\n",
    ", 在所有 python3 提交中击败了\n",
    "5.19%\n",
    "的用户"
   ]
  },
  {
   "cell_type": "code",
   "execution_count": null,
   "metadata": {},
   "outputs": [],
   "source": [
    "class Solution:\n",
    "    def uniquePathsWithObstacles(self, obstacleGrid: List[List[int]]) -> int:\n",
    "        \n",
    "        m,n=len(obstacleGrid),len(obstacleGrid[0])\n",
    "        if obstacleGrid[0][0]==0:obstacleGrid[0][0]=1\n",
    "        else:return 0\n",
    "        \n",
    "        for i in range(1,m):\n",
    "            obstacleGrid[i][0]=obstacleGrid[i-1][0] if obstacleGrid[i][0]!=1 else 0\n",
    "        for j in range(1,n):\n",
    "            obstacleGrid[0][j]=obstacleGrid[0][j-1] if obstacleGrid[0][j]!=1 else 0\n",
    "        for i in range(1,m):\n",
    "            for j in range(1,n):\n",
    "                obstacleGrid[i][j]=obstacleGrid[i-1][j]+obstacleGrid[i][j-1] if obstacleGrid[i][j]!=1 else 0\n",
    "        return obstacleGrid[-1][-1]"
   ]
  }
 ],
 "metadata": {
  "kernelspec": {
   "display_name": "Python 3",
   "language": "python",
   "name": "python3"
  },
  "language_info": {
   "codemirror_mode": {
    "name": "ipython",
    "version": 3
   },
   "file_extension": ".py",
   "mimetype": "text/x-python",
   "name": "python",
   "nbconvert_exporter": "python",
   "pygments_lexer": "ipython3",
   "version": "3.7.3"
  }
 },
 "nbformat": 4,
 "nbformat_minor": 2
}

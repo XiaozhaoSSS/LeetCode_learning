{
 "cells": [
  {
   "cell_type": "markdown",
   "metadata": {},
   "source": [
    "1.\n",
    "\n",
    "执行用时 :92 ms, 在所有 Python3 提交中击败了6.32%的用户\n",
    "内存消耗 :13.8 MB, 在所有 Python3 提交中击败了5.16%的用户"
   ]
  },
  {
   "cell_type": "code",
   "execution_count": null,
   "metadata": {},
   "outputs": [],
   "source": [
    "class Solution:\n",
    "    def myAtoi(self, str: str) -> int:\n",
    "        x=str.strip()\n",
    "        x+=' '\n",
    "        if x[0]=='+' and x[1].isdigit():\n",
    "            for index in range(1,len(x)):\n",
    "                if not x[index].isdigit():\n",
    "                    return int(x[1:index]) if int(x[1:index])<2**31-1 else 2**31-1\n",
    "        elif x[0]=='-' and x[1].isdigit():\n",
    "            for index in range(1,len(x)):\n",
    "                if not x[index].isdigit():\n",
    "                    return int(x[:index]) if int(x[:index])>-2**31 else -2**31\n",
    "        elif x[0].isdigit():\n",
    "            for index in range(len(x)):\n",
    "                if not x[index].isdigit():\n",
    "                    return int(x[:index]) if int(x[:index])<2**31-1 else 2**31-1\n",
    "        else:\n",
    "            return 0"
   ]
  },
  {
   "cell_type": "markdown",
   "metadata": {},
   "source": [
    "2.应用正则表达式\n",
    "\n",
    "执行用时 :48 ms, 在所有 Python3 提交中击败了93.05%的用户\n",
    "内存消耗 :13.8 MB, 在所有 Python3 提交中击败了5.16%的用户"
   ]
  },
  {
   "cell_type": "code",
   "execution_count": null,
   "metadata": {},
   "outputs": [],
   "source": [
    "class Solution:\n",
    "    def myAtoi(self, str: str) -> int:\n",
    "        return max(min(int(*re.findall('^[\\+\\-]?\\d+', str.lstrip())), 2**31 - 1), -2**31)"
   ]
  }
 ],
 "metadata": {
  "kernelspec": {
   "display_name": "Python 3",
   "language": "python",
   "name": "python3"
  },
  "language_info": {
   "codemirror_mode": {
    "name": "ipython",
    "version": 3
   },
   "file_extension": ".py",
   "mimetype": "text/x-python",
   "name": "python",
   "nbconvert_exporter": "python",
   "pygments_lexer": "ipython3",
   "version": "3.7.1"
  }
 },
 "nbformat": 4,
 "nbformat_minor": 2
}

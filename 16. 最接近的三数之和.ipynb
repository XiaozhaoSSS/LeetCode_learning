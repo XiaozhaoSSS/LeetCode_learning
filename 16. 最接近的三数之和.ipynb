{
 "cells": [
  {
   "cell_type": "markdown",
   "metadata": {},
   "source": [
    "1.\n",
    "\n",
    "执行用时 :188 ms, 在所有 Python3 提交中击败了43.60%的用户\n",
    "内存消耗 :13.9 MB, 在所有 Python3 提交中击败了5.04%的用户"
   ]
  },
  {
   "cell_type": "code",
   "execution_count": null,
   "metadata": {},
   "outputs": [],
   "source": [
    "class Solution:\n",
    "    def threeSumClosest(self, nums: List[int], target: int) -> int:\n",
    "        n=len(nums)\n",
    "        if n<3:return 0\n",
    "        nums=sorted(nums)\n",
    "        diff=sum(nums[:3])-target\n",
    "        for index2 in range(1,len(nums)-1):\n",
    "            label=label+1 if index2!=1 and nums[index2]==num2 else 0\n",
    "            if label>1:continue\n",
    "            num2=nums[index2]\n",
    "            index1=0\n",
    "            index3=len(nums)-1\n",
    "            while index1<index2 and index3>index2:\n",
    "                num1,num3=nums[index1],nums[index3]\n",
    "                if num1+num2+num3==target:return target\n",
    "                elif num1+num2+num3<target:\n",
    "                    diff=num1+num2+num3-target if abs(num1+num2+num3-target)<abs(diff) else diff\n",
    "                    while index1<index2 and nums[index1]==num1:\n",
    "                        index1+=1\n",
    "                else :\n",
    "                    diff=num1+num2+num3-target if abs(num1+num2+num3-target)<abs(diff) else diff\n",
    "                    while index3>index2 and nums[index3]==num3:\n",
    "                        index3-=1\n",
    "\n",
    "        return diff+target"
   ]
  }
 ],
 "metadata": {
  "kernelspec": {
   "display_name": "Python 3",
   "language": "python",
   "name": "python3"
  },
  "language_info": {
   "codemirror_mode": {
    "name": "ipython",
    "version": 3
   },
   "file_extension": ".py",
   "mimetype": "text/x-python",
   "name": "python",
   "nbconvert_exporter": "python",
   "pygments_lexer": "ipython3",
   "version": "3.7.1"
  }
 },
 "nbformat": 4,
 "nbformat_minor": 2
}

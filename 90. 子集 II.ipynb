{
 "cells": [
  {
   "cell_type": "code",
   "execution_count": null,
   "metadata": {},
   "outputs": [],
   "source": [
    "1."
   ]
  },
  {
   "cell_type": "code",
   "execution_count": null,
   "metadata": {},
   "outputs": [],
   "source": [
    "class Solution:\n",
    "    def subsetsWithDup(self, nums: List[int]) -> List[List[int]]:\n",
    "        \n",
    "        def gen(index):\n",
    "            if index==n-1:res.append(curr+[nums[index]])\n",
    "            else:\n",
    "                for i in range(index,n):\n",
    "                    if not(i>index and nums[i]==nums[i-1]):\n",
    "                        curr.append(nums[i])\n",
    "                        res.append(curr[:])\n",
    "                        gen(i+1)\n",
    "                        curr.pop()\n",
    "        nums.sort()\n",
    "        n=len(nums)\n",
    "        res,curr=[],[]\n",
    "        gen(0)\n",
    "        if res:res.append([])\n",
    "        return res "
   ]
  }
 ],
 "metadata": {
  "kernelspec": {
   "display_name": "Python 3",
   "language": "python",
   "name": "python3"
  },
  "language_info": {
   "codemirror_mode": {
    "name": "ipython",
    "version": 3
   },
   "file_extension": ".py",
   "mimetype": "text/x-python",
   "name": "python",
   "nbconvert_exporter": "python",
   "pygments_lexer": "ipython3",
   "version": "3.7.1"
  }
 },
 "nbformat": 4,
 "nbformat_minor": 2
}

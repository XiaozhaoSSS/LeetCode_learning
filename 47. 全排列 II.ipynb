{
 "cells": [
  {
   "cell_type": "markdown",
   "metadata": {},
   "source": [
    "1.回溯，比起第45题，在遍历元素时加一个条件判断，如果第i个元素在前i个元素中出现过，说明添加该元素至当前列表这种情况已经讨论过，无须再讨论\n",
    "\n",
    "执行用时 :\n",
    "64 ms\n",
    ", 在所有 Python3 提交中击败了\n",
    "98.32%\n",
    "的用户\n",
    "内存消耗 :\n",
    "13.9 MB\n",
    ", 在所有 Python3 提交中击败了\n",
    "9.35%\n",
    "的用户"
   ]
  },
  {
   "cell_type": "code",
   "execution_count": null,
   "metadata": {},
   "outputs": [],
   "source": [
    "class Solution:\n",
    "    def permuteUnique(self, nums: List[int]) -> List[List[int]]:\n",
    "        res,curr=[],[]\n",
    "        def search(rem_nums):\n",
    "            n=len(rem_nums)\n",
    "            if n<=1:\n",
    "                res.append(curr+rem_nums)\n",
    "            else:\n",
    "                for i in range(n):\n",
    "                    if rem_nums[i] in rem_nums[:i]:continue\n",
    "                    curr.append(rem_nums[i])\n",
    "                    search(rem_nums[:i]+rem_nums[i+1:])\n",
    "                    curr.pop()\n",
    "            \n",
    "        search(nums)\n",
    "        return res"
   ]
  }
 ],
 "metadata": {
  "kernelspec": {
   "display_name": "Python 3",
   "language": "python",
   "name": "python3"
  },
  "language_info": {
   "codemirror_mode": {
    "name": "ipython",
    "version": 3
   },
   "file_extension": ".py",
   "mimetype": "text/x-python",
   "name": "python",
   "nbconvert_exporter": "python",
   "pygments_lexer": "ipython3",
   "version": "3.7.3"
  }
 },
 "nbformat": 4,
 "nbformat_minor": 2
}

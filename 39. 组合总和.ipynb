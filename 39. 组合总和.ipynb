{
 "cells": [
  {
   "cell_type": "markdown",
   "metadata": {},
   "source": [
    "1.回溯，用当前target不断减去每个元素，看集合中是否有差值，类似无向图的搜索\n",
    "\n",
    "执行用时 :\n",
    "232 ms\n",
    ", 在所有 Python3 提交中击败了\n",
    "12.57%\n",
    "的用户\n",
    "内存消耗 :\n",
    "18.2 MB\n",
    ", 在所有 Python3 提交中击败了\n",
    "5.06%\n",
    "的用户"
   ]
  },
  {
   "cell_type": "code",
   "execution_count": null,
   "metadata": {},
   "outputs": [],
   "source": [
    "class Solution:\n",
    "    def combinationSum(self, candidates: List[int], target: int) -> List[List[int]]:\n",
    "        result=[]\n",
    "        candidates=[x for x in candidates if x<=target]\n",
    "        if candidates:\n",
    "            mindata=min(candidates)\n",
    "\n",
    "            def search(candidates,target):\n",
    "                if target<mindata:\n",
    "                    curr.pop()\n",
    "                else:                 \n",
    "                    if target in candidates:\n",
    "                        result.append(curr+[target])\n",
    "                    for num in candidates:\n",
    "                        curr.append(num)\n",
    "                        search(candidates,target-num)\n",
    "                    if curr:curr.pop()\n",
    "            for num in candidates:\n",
    "                curr=[]\n",
    "                if num==target:\n",
    "                    result.append([target])\n",
    "                    continue\n",
    "                curr.append(num)\n",
    "                search(candidates,target-num)\n",
    "        \n",
    "        return list(set([tuple(sorted(x)) for x in result]))"
   ]
  },
  {
   "cell_type": "markdown",
   "metadata": {},
   "source": [
    "2.看了下别人的代码，思想是一样的，但是简洁明了。原因在于要有清晰的数的概念剪枝的概念以及递归调用中传递哪些参数。\n",
    "\n",
    "执行用时 :\n",
    "60 ms\n",
    ", 在所有 Python3 提交中击败了\n",
    "99.51%\n",
    "的用户\n",
    "内存消耗 :\n",
    "13.6 MB\n",
    ", 在所有 Python3 提交中击败了\n",
    "5.06%\n",
    "的用户"
   ]
  },
  {
   "cell_type": "code",
   "execution_count": null,
   "metadata": {},
   "outputs": [],
   "source": [
    "from typing import List\n",
    "\n",
    "\n",
    "class Solution:\n",
    "    def combinationSum(self, candidates: List[int], target: int) -> List[List[int]]:\n",
    "        size = len(candidates)\n",
    "        if size == 0:\n",
    "            return []\n",
    "\n",
    "        # 剪枝的前提是数组元素排序\n",
    "        # 深度深的边不能比深度浅的边还小\n",
    "        # 要排序的理由：1、前面用过的数后面不能再用；2、下一层边上的数不能小于上一层边上的数。\n",
    "        candidates.sort()\n",
    "        # 在遍历的过程中记录路径，一般而言它是一个栈\n",
    "        path = []\n",
    "        res = []\n",
    "        # 注意要传入 size ，在 range 中， size 取不到\n",
    "        self.__dfs(candidates, 0, size, path, res, target)\n",
    "        return res\n",
    "\n",
    "    def __dfs(self, candidates, begin, size, path, res, target):\n",
    "        # 先写递归终止的情况\n",
    "        if target == 0:\n",
    "            # Python 中可变对象是引用传递，因此需要将当前 path 里的值拷贝出来\n",
    "            # 或者使用 path.copy()\n",
    "            res.append(path[:])\n",
    "\n",
    "        for index in range(begin, size):\n",
    "            residue = target - candidates[index]\n",
    "\n",
    "            if residue < 0:\n",
    "                break\n",
    "            path.append(candidates[index])\n",
    "            # 因为下一层不能比上一层还小，起始索引还从 index 开始\n",
    "            self.__dfs(candidates, index, size, path, res, residue)\n",
    "            path.pop()"
   ]
  }
 ],
 "metadata": {
  "kernelspec": {
   "display_name": "Python 3",
   "language": "python",
   "name": "python3"
  },
  "language_info": {
   "codemirror_mode": {
    "name": "ipython",
    "version": 3
   },
   "file_extension": ".py",
   "mimetype": "text/x-python",
   "name": "python",
   "nbconvert_exporter": "python",
   "pygments_lexer": "ipython3",
   "version": "3.7.3"
  }
 },
 "nbformat": 4,
 "nbformat_minor": 2
}

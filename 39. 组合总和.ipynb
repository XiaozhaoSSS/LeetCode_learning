{
 "cells": [
  {
   "cell_type": "code",
   "execution_count": null,
   "metadata": {},
   "outputs": [],
   "source": []
  },
  {
   "cell_type": "code",
   "execution_count": null,
   "metadata": {},
   "outputs": [],
   "source": [
    "class Solution:\n",
    "    def combinationSum(self, candidates: List[int], target: int) -> List[List[int]]:\n",
    "        result,curr=[],[]\n",
    "        candidates=[x for x in candidates if x<=target]\n",
    "        if candidates:\n",
    "            mindata=min(candidates)\n",
    "\n",
    "\n",
    "            def search(candidates,target):\n",
    "                add_num_list=[(x,x//target) for x in candidates if x%target==0]\n",
    "\n",
    "                if not add_num_list and target>=mindata:\n",
    "                    for num in candidates:\n",
    "                        if num<=target:\n",
    "                            curr.append(num)\n",
    "                            search(candidates,target-num)\n",
    "\n",
    "                else:\n",
    "                    for add_num in add_num_list:\n",
    "                        result.append(curr+[add_num[0]]*add_num[1])\n",
    "                    curr.pop()\n",
    "\n",
    "            for num in candidates:\n",
    "                if num==target:\n",
    "                    result.append(target)\n",
    "                    continue\n",
    "                curr.append(num)\n",
    "                search(candidates,target-num)\n",
    "        \n",
    "        return result"
   ]
  }
 ],
 "metadata": {
  "kernelspec": {
   "display_name": "Python 3",
   "language": "python",
   "name": "python3"
  },
  "language_info": {
   "codemirror_mode": {
    "name": "ipython",
    "version": 3
   },
   "file_extension": ".py",
   "mimetype": "text/x-python",
   "name": "python",
   "nbconvert_exporter": "python",
   "pygments_lexer": "ipython3",
   "version": "3.7.3"
  }
 },
 "nbformat": 4,
 "nbformat_minor": 2
}

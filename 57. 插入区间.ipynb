{
 "cells": [
  {
   "cell_type": "markdown",
   "metadata": {},
   "source": [
    "1.\n",
    "\n",
    "执行用时 :\n",
    "112 ms\n",
    ", 在所有 python3 提交中击败了\n",
    "69.88%\n",
    "的用户\n",
    "内存消耗 :\n",
    "17.2 MB\n",
    ", 在所有 python3 提交中击败了\n",
    "5.18%\n",
    "的用户"
   ]
  },
  {
   "cell_type": "code",
   "execution_count": null,
   "metadata": {},
   "outputs": [],
   "source": [
    "class Solution:\n",
    "    def insert(self, intervals: List[List[int]], newInterval: List[int]) -> List[List[int]]:\n",
    "        find_begin=False\n",
    "        n=len(intervals)\n",
    "        if n==0:\n",
    "            intervals.append(newInterval)\n",
    "            return intervals\n",
    "        for i in range(n):\n",
    "            if not find_begin and newInterval[0]>=intervals[i][0] and intervals[i][1]>=newInterval[0]:\n",
    "                find_begin=True\n",
    "                begin=i\n",
    "            elif not find_begin and (intervals[i][0]>newInterval[0] or (i==n-1 and newInterval[0]>intervals[i][1])):\n",
    "                begin=i\n",
    "                if i==n-1 and newInterval[0]>intervals[i][1]:\n",
    "                    intervals.append(newInterval)\n",
    "                    break\n",
    "                elif intervals[i][0]>newInterval[1]:\n",
    "                    intervals.insert(i,newInterval)\n",
    "                    break\n",
    "                else:\n",
    "                    \n",
    "                    intervals[begin][0]=newInterval[0]\n",
    "                    find_begin=True\n",
    "            if find_begin and (i==n-1 or intervals[i+1][0]>newInterval[1]):\n",
    "                intervals[begin][1]=max(newInterval[1],intervals[i][1])\n",
    "                break\n",
    "        \n",
    "        for _ in range(i-begin):del intervals[begin+1]\n",
    "        return intervals"
   ]
  },
  {
   "cell_type": "markdown",
   "metadata": {},
   "source": [
    "2,二分查找找到插入点，插入后向两边合并\n",
    "\n",
    "的用户\n",
    "内存消耗 :\n",
    "17.3 MB\n",
    ", 在所有 python3 提交中击败了\n",
    "5.18%\n",
    "的用户"
   ]
  },
  {
   "cell_type": "code",
   "execution_count": null,
   "metadata": {},
   "outputs": [],
   "source": [
    "class Solution:\n",
    "    def insert(self, intervals: List[List[int]], newInterval: List[int]) -> List[List[int]]:\n",
    "        n=len(intervals)\n",
    "        if n==0:\n",
    "            intervals.append(newInterval)\n",
    "            return intervals\n",
    "        left,right=0,n-1\n",
    "        while left<=right:\n",
    "            \n",
    "            mid=(left+right)//2\n",
    "\n",
    "            if intervals[mid][0]==newInterval[0]:break\n",
    "            elif intervals[mid][0]>newInterval[0]:right=mid-1\n",
    "            else:left=mid+1\n",
    "\n",
    "        insert_index=mid+1 if not(newInterval[0]<intervals[mid][0]) else mid\n",
    "\n",
    "        intervals.insert(insert_index,newInterval)\n",
    "\n",
    "        while insert_index<len(intervals)-1 and newInterval[1]>=intervals[insert_index+1][0]:\n",
    "            intervals[insert_index][1]=max(newInterval[1],intervals[insert_index+1][1])\n",
    "            del intervals[insert_index+1]\n",
    "        if insert_index>0 and intervals[insert_index][0]<=intervals[insert_index-1][1]:\n",
    "            intervals[insert_index][0]=intervals[insert_index-1][0]\n",
    "            if intervals[insert_index][1]<=intervals[insert_index-1][1]:\n",
    "                intervals[insert_index][1]=intervals[insert_index-1][1]\n",
    "            del intervals[insert_index-1]\n",
    "        return intervals\n",
    "            "
   ]
  }
 ],
 "metadata": {
  "kernelspec": {
   "display_name": "Python 3",
   "language": "python",
   "name": "python3"
  },
  "language_info": {
   "codemirror_mode": {
    "name": "ipython",
    "version": 3
   },
   "file_extension": ".py",
   "mimetype": "text/x-python",
   "name": "python",
   "nbconvert_exporter": "python",
   "pygments_lexer": "ipython3",
   "version": "3.7.3"
  }
 },
 "nbformat": 4,
 "nbformat_minor": 2
}

{
 "cells": [
  {
   "cell_type": "code",
   "execution_count": null,
   "metadata": {},
   "outputs": [],
   "source": [
    "1.动态规划"
   ]
  },
  {
   "cell_type": "code",
   "execution_count": null,
   "metadata": {},
   "outputs": [],
   "source": [
    "class Solution:\n",
    "    def isInterleave(self, s1: str, s2: str, s3: str) -> bool:\n",
    "        n1,n2,n3=len(s1),len(s2),len(s3)\n",
    "        if n1+n2!=n3:return False\n",
    "        dp=[[0]*(n2+1) for _ in range(n1+1)]\n",
    "        dp[0][0]=True\n",
    "        for j in range(n1+1):\n",
    "            for k in range(n2+1):\n",
    "                if j==0 and k!=0:dp[0][k]=dp[0][k-1] and (s2[k-1]==s3[k-1])\n",
    "                elif k==0 and j!=0:dp[j][0]=dp[j-1][0] and (s1[j-1]==s3[j-1])\n",
    "                elif j==0 and k==0:dp[0][0]=True\n",
    "                elif s1[j-1]!=s3[j+k-1] and s2[k-1]!=s3[j+k-1]:dp[j][k]=False\n",
    "                elif s1[j-1]==s3[j+k-1] and s2[k-1]==s3[j+k-1]:dp[j][k]=dp[j-1][k] or dp[j][k-1]\n",
    "                elif s1[j-1]==s3[j+k-1]:dp[j][k]=dp[j-1][k]\n",
    "                elif s2[k-1]==s3[j+k-1]:dp[j][k]=dp[j][k-1]\n",
    "        return dp[-1][-1]"
   ]
  }
 ],
 "metadata": {
  "kernelspec": {
   "display_name": "Python 3",
   "language": "python",
   "name": "python3"
  },
  "language_info": {
   "codemirror_mode": {
    "name": "ipython",
    "version": 3
   },
   "file_extension": ".py",
   "mimetype": "text/x-python",
   "name": "python",
   "nbconvert_exporter": "python",
   "pygments_lexer": "ipython3",
   "version": "3.7.1"
  }
 },
 "nbformat": 4,
 "nbformat_minor": 2
}

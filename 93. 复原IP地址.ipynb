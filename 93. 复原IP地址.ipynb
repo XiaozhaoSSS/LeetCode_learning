{
 "cells": [
  {
   "cell_type": "code",
   "execution_count": null,
   "metadata": {},
   "outputs": [],
   "source": [
    "1.回溯"
   ]
  },
  {
   "cell_type": "code",
   "execution_count": null,
   "metadata": {},
   "outputs": [],
   "source": [
    "class Solution:\n",
    "    def restoreIpAddresses(self, s: str) -> List[str]:\n",
    "        def gen(index,m):\n",
    "            \n",
    "            nonlocal n\n",
    "            if index>=n or m<0:return            \n",
    "            min_length=max(1,n-index-(m-1)*3)\n",
    "            max_length=min(3,n-index-(m-1)*1) if s[index]!=\"0\" else 1\n",
    "            if min_length>3 :return\n",
    "            elif m==1 and n-index<=max_length  and int(s[index:])<=255:res.append('.'.join(curr+[s[index:]]))            \n",
    "            else:\n",
    "                for i in range(min_length,max_length+1):\n",
    "                    if int(s[index:index+i])<=255:\n",
    "                        curr.append(s[index:index+i])\n",
    "                        m-=1\n",
    "                        gen(index+i,m)\n",
    "                        curr.pop()\n",
    "                        m+=1\n",
    "        res=[]\n",
    "        curr=[]\n",
    "        n=len(s)\n",
    "        gen(0,4)\n",
    "        return res"
   ]
  }
 ],
 "metadata": {
  "kernelspec": {
   "display_name": "Python 3",
   "language": "python",
   "name": "python3"
  },
  "language_info": {
   "codemirror_mode": {
    "name": "ipython",
    "version": 3
   },
   "file_extension": ".py",
   "mimetype": "text/x-python",
   "name": "python",
   "nbconvert_exporter": "python",
   "pygments_lexer": "ipython3",
   "version": "3.7.1"
  }
 },
 "nbformat": 4,
 "nbformat_minor": 2
}

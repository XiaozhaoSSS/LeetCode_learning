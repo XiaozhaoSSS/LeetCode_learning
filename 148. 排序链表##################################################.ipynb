{
 "cells": [
  {
   "cell_type": "code",
   "execution_count": null,
   "metadata": {},
   "outputs": [],
   "source": [
    "1.迭代+归并排序\n",
    "时间复杂度O(nlogn)\n",
    "空间复杂度O(n)"
   ]
  },
  {
   "cell_type": "code",
   "execution_count": null,
   "metadata": {},
   "outputs": [],
   "source": [
    "# Definition for singly-linked list.\n",
    "# class ListNode:\n",
    "#     def __init__(self, x):\n",
    "#         self.val = x\n",
    "#         self.next = None\n",
    "class Solution:\n",
    "    def sortList(self, head: ListNode) -> ListNode:\n",
    "        if not head or not head.next: return head # termination.\n",
    "        # cut the LinkedList at the mid index.\n",
    "        slow, fast = head, head.next\n",
    "        while fast and fast.next:\n",
    "            fast, slow = fast.next.next, slow.next\n",
    "        mid, slow.next = slow.next, None # save and cut.\n",
    "        # recursive for cutting.\n",
    "        left, right = self.sortList(head), self.sortList(mid)\n",
    "        # merge `left` and `right` linked list and return it.\n",
    "        h = res = ListNode(0)\n",
    "        while left and right:\n",
    "            if left.val < right.val: h.next, left = left, left.next\n",
    "            else: h.next, right = right, right.next\n",
    "            h = h.next\n",
    "        h.next = left if left else right\n",
    "        return res.next"
   ]
  },
  {
   "cell_type": "code",
   "execution_count": null,
   "metadata": {},
   "outputs": [],
   "source": [
    "2.迭代+归并排序\n",
    "时间复杂度O(nlogn)\n",
    "空间复杂度O(1)"
   ]
  },
  {
   "cell_type": "code",
   "execution_count": null,
   "metadata": {},
   "outputs": [],
   "source": [
    "# Definition for singly-linked list.\n",
    "# class ListNode:\n",
    "#     def __init__(self, x):\n",
    "#         self.val = x\n",
    "#         self.next = None\n",
    "\n",
    "class Solution:\n",
    "    def sortList(self, head: ListNode) -> ListNode:\n",
    "        h, length, intv = head, 0, 1\n",
    "        while h: h, length = h.next, length + 1\n",
    "        res = ListNode(0)\n",
    "        res.next = head\n",
    "        # merge the list in different intv.\n",
    "        while intv < length:\n",
    "            pre, h = res, res.next\n",
    "            while h:\n",
    "                # get the two merge head `h1`, `h2`\n",
    "                h1, i = h, intv\n",
    "                while i and h: h, i = h.next, i - 1\n",
    "                if i: break # no need to merge because the `h2` is None.\n",
    "                h2, i = h, intv\n",
    "                while i and h: h, i = h.next, i - 1\n",
    "                c1, c2 = intv, intv - i # the `c2`: length of `h2` can be small than the `intv`.\n",
    "                # merge the `h1` and `h2`.\n",
    "                while c1 and c2:\n",
    "                    if h1.val < h2.val: pre.next, h1, c1 = h1, h1.next, c1 - 1\n",
    "                    else: pre.next, h2, c2 = h2, h2.next, c2 - 1\n",
    "                    pre = pre.next\n",
    "                pre.next = h1 if c1 else h2\n",
    "                while c1 > 0 or c2 > 0: pre, c1, c2 = pre.next, c1 - 1, c2 - 1\n",
    "                pre.next = h \n",
    "            intv *= 2\n",
    "        return res.next"
   ]
  }
 ],
 "metadata": {
  "kernelspec": {
   "display_name": "Python 3",
   "language": "python",
   "name": "python3"
  },
  "language_info": {
   "codemirror_mode": {
    "name": "ipython",
    "version": 3
   },
   "file_extension": ".py",
   "mimetype": "text/x-python",
   "name": "python",
   "nbconvert_exporter": "python",
   "pygments_lexer": "ipython3",
   "version": "3.7.3"
  }
 },
 "nbformat": 4,
 "nbformat_minor": 2
}

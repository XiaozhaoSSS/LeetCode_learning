{
 "cells": [
  {
   "cell_type": "markdown",
   "metadata": {},
   "source": [
    "1.头尾双指针\n",
    "\n",
    "执行用时 :\n",
    "56 ms\n",
    ", 在所有 Python3 提交中击败了\n",
    "50.48%\n",
    "的用户\n",
    "内存消耗 :\n",
    "14 MB\n",
    ", 在所有 Python3 提交中击败了\n",
    "5.37%\n",
    "的用户"
   ]
  },
  {
   "cell_type": "code",
   "execution_count": null,
   "metadata": {},
   "outputs": [],
   "source": [
    "class Solution:\n",
    "    def removeElement(self, nums: List[int], val: int) -> int:\n",
    "        i,j=0,len(nums)-1\n",
    "        while i<=j:\n",
    "            if nums[i]==val:\n",
    "                while j>=0 and nums[j]==val:\n",
    "                    j-=1\n",
    "                if j>i:\n",
    "                    nums[i]=nums[j]\n",
    "                    nums[j]=val\n",
    "                else:break\n",
    "            i+=1\n",
    "        return i"
   ]
  },
  {
   "cell_type": "markdown",
   "metadata": {},
   "source": [
    "2.另一种双指针，都从头部开始\n",
    "\n",
    "执行用时 :\n",
    "48 ms\n",
    ", 在所有 Python3 提交中击败了\n",
    "86.07%\n",
    "的用户\n",
    "内存消耗 :\n",
    "13.7 MB\n",
    ", 在所有 Python3 提交中击败了\n",
    "5.37%\n",
    "的用户"
   ]
  },
  {
   "cell_type": "code",
   "execution_count": null,
   "metadata": {},
   "outputs": [],
   "source": [
    "class Solution:\n",
    "    def removeElement(self, nums: List[int], val: int) -> int:\n",
    "        i,j=0,0\n",
    "        while j<len(nums):\n",
    "            if nums[j]!=val:\n",
    "                nums[i]=nums[j]\n",
    "                i+=1\n",
    "            j+=1\n",
    "        return i"
   ]
  },
  {
   "cell_type": "markdown",
   "metadata": {},
   "source": [
    "3.第一个的变种，不需要找到不等于val的nums[j]再交换，每次把nums[j]交还给nums[i]再判断nums[i]是否等于val，等于的话再交换下一个nums[j]\n",
    "\n",
    "执行用时 :\n",
    "56 ms\n",
    ", 在所有 Python3 提交中击败了\n",
    "50.48%\n",
    "的用户\n",
    "内存消耗 :\n",
    "13.7 MB\n",
    ", 在所有 Python3 提交中击败了\n",
    "5.37%\n",
    "的用户"
   ]
  },
  {
   "cell_type": "code",
   "execution_count": null,
   "metadata": {},
   "outputs": [],
   "source": [
    "class Solution:\n",
    "    def removeElement(self, nums: List[int], val: int) -> int:\n",
    "        i,j=0,len(nums)\n",
    "        while i<j:\n",
    "            if nums[i]==val:\n",
    "                nums[i]=nums[j-1]\n",
    "                j-=1\n",
    "            else:i+=1\n",
    "        return i"
   ]
  },
  {
   "cell_type": "code",
   "execution_count": 4,
   "metadata": {},
   "outputs": [],
   "source": [
    "s=[2]\n",
    "s.append('3')"
   ]
  },
  {
   "cell_type": "code",
   "execution_count": 5,
   "metadata": {},
   "outputs": [
    {
     "data": {
      "text/plain": [
       "[2, '3']"
      ]
     },
     "execution_count": 5,
     "metadata": {},
     "output_type": "execute_result"
    }
   ],
   "source": [
    "s"
   ]
  },
  {
   "cell_type": "code",
   "execution_count": null,
   "metadata": {},
   "outputs": [],
   "source": []
  }
 ],
 "metadata": {
  "kernelspec": {
   "display_name": "Python 3",
   "language": "python",
   "name": "python3"
  },
  "language_info": {
   "codemirror_mode": {
    "name": "ipython",
    "version": 3
   },
   "file_extension": ".py",
   "mimetype": "text/x-python",
   "name": "python",
   "nbconvert_exporter": "python",
   "pygments_lexer": "ipython3",
   "version": "3.7.3"
  }
 },
 "nbformat": 4,
 "nbformat_minor": 2
}

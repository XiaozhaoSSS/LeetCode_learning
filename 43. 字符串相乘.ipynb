{
 "cells": [
  {
   "cell_type": "markdown",
   "metadata": {},
   "source": [
    "1.竖式乘法\n",
    "\n",
    "执行用时 :\n",
    "596 ms\n",
    ", 在所有 Python3 提交中击败了\n",
    "7.89%\n",
    "的用户\n",
    "内存消耗 :\n",
    "13.8 MB\n",
    ", 在所有 Python3 提交中击败了\n",
    "5.12%\n",
    "的用户"
   ]
  },
  {
   "cell_type": "code",
   "execution_count": null,
   "metadata": {},
   "outputs": [],
   "source": [
    "class Solution:\n",
    "    def multiply(self, num1: str, num2: str) -> str:\n",
    "        \n",
    "        res=[]\n",
    "        if num1!='0' and num2!='0':\n",
    "            lenth1=len(num1)\n",
    "            lenth2=len(num2)\n",
    "            num1=num1[::-1]\n",
    "            num2=num2[::-1]\n",
    "            for i in range(lenth2):\n",
    "                if num2[i]=='0':continue\n",
    "                label=0\n",
    "                curr=[]\n",
    "                for j in range(lenth1):\n",
    "                    curr.append(str((int(num2[i])*int(num1[j])+label)%10))\n",
    "\n",
    "                    label=(int(num2[i])*int(num1[j])+label)//10\n",
    "                if label!=0:curr+=str(label)\n",
    "                curr=['0']*i+curr\n",
    "\n",
    "                k,label=0,0\n",
    "                if len(curr)<len(res):\n",
    "                    while k<=len(curr)-1:\n",
    "                        res[k],label=str((int(res[k])+int(curr[k])+label)%10),(int(res[k])+int(curr[k])+label)//10\n",
    "                        k+=1\n",
    "                else:\n",
    "                    while k<=len(res)-1:\n",
    "                        curr[k],label=str((int(res[k])+int(curr[k])+label)%10),(int(res[k])+int(curr[k])+label)//10\n",
    "\n",
    "                        k+=1\n",
    "                    res=curr[:]\n",
    "\n",
    "                while label:\n",
    "\n",
    "                    if k>len(res)-1:\n",
    "                        res=res+['1']\n",
    "                        break\n",
    "                    res[k],label=str((int(res[k])+1)%10),(int(res[k])+1)//10\n",
    "                    k+=1\n",
    "\n",
    "        return ''.join(res)[::-1] if res else '0'"
   ]
  }
 ],
 "metadata": {
  "kernelspec": {
   "display_name": "Python 3",
   "language": "python",
   "name": "python3"
  },
  "language_info": {
   "codemirror_mode": {
    "name": "ipython",
    "version": 3
   },
   "file_extension": ".py",
   "mimetype": "text/x-python",
   "name": "python",
   "nbconvert_exporter": "python",
   "pygments_lexer": "ipython3",
   "version": "3.7.3"
  }
 },
 "nbformat": 4,
 "nbformat_minor": 2
}

{
 "cells": [
  {
   "cell_type": "markdown",
   "metadata": {},
   "source": [
    "1.二分查找\n",
    "\n",
    "执行用时 :\n",
    "60 ms\n",
    ", 在所有 python3 提交中击败了\n",
    "54.36%\n",
    "的用户\n",
    "内存消耗 :\n",
    "13.9 MB\n",
    ", 在所有 python3 提交中击败了\n",
    "5.22%\n",
    "的用户"
   ]
  },
  {
   "cell_type": "code",
   "execution_count": null,
   "metadata": {},
   "outputs": [],
   "source": [
    "class Solution:\n",
    "    def mySqrt(self, x: int) -> int:\n",
    "        left,right=0,x\n",
    "        while left<=right:\n",
    "            mid=(left+right)//2\n",
    "            if mid**2==x:break\n",
    "            elif mid**2>x:right=mid-1\n",
    "            else:left=mid+1\n",
    "        return (left+right)//2"
   ]
  },
  {
   "cell_type": "markdown",
   "metadata": {},
   "source": [
    "2.牛顿法"
   ]
  },
  {
   "cell_type": "code",
   "execution_count": null,
   "metadata": {},
   "outputs": [],
   "source": [
    "class Solution:\n",
    "    def mySqrt(self, x: int) -> int:\n",
    "        if x < 0:\n",
    "            raise Exception('不能输入负数')\n",
    "        if x == 0:\n",
    "            return 0\n",
    "        # 起始的时候在 1 ，这可以比较随意设置\n",
    "        cur = 1\n",
    "        while True:\n",
    "            pre = cur\n",
    "            cur = (cur + x / cur) / 2\n",
    "            if abs(cur - pre) < 1e-6:\n",
    "                return int(cur)"
   ]
  }
 ],
 "metadata": {
  "kernelspec": {
   "display_name": "Python 3",
   "language": "python",
   "name": "python3"
  },
  "language_info": {
   "codemirror_mode": {
    "name": "ipython",
    "version": 3
   },
   "file_extension": ".py",
   "mimetype": "text/x-python",
   "name": "python",
   "nbconvert_exporter": "python",
   "pygments_lexer": "ipython3",
   "version": "3.7.3"
  }
 },
 "nbformat": 4,
 "nbformat_minor": 2
}

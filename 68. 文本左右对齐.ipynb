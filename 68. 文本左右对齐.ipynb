{
 "cells": [
  {
   "cell_type": "markdown",
   "metadata": {},
   "source": [
    "1.贪心\n",
    "\n",
    "执行用时 :\n",
    "56 ms\n",
    ", 在所有 python3 提交中击败了\n",
    "34.78%\n",
    "的用户\n",
    "内存消耗 :\n",
    "13.8 MB\n",
    ", 在所有 python3 提交中击败了\n",
    "6.82%\n",
    "的用户"
   ]
  },
  {
   "cell_type": "code",
   "execution_count": null,
   "metadata": {},
   "outputs": [],
   "source": [
    "class Solution:\n",
    "    def fullJustify(self, words: List[str], maxWidth: int) -> List[str]:\n",
    "        res=[]\n",
    "        n=len(words)\n",
    "        def gen(index):\n",
    "            nonlocal n\n",
    "            if index==n:return\n",
    "            curr_lentgh=len(words[index])\n",
    "            begin_index=index\n",
    "            while index<n-1 and curr_lentgh+1+len(words[index+1])<=maxWidth: \n",
    "                curr_lentgh+=(1+len(words[index+1]))\n",
    "                index+=1\n",
    "            if index!=n-1:\n",
    "                if index!=begin_index:\n",
    "                    blank_lentgh=maxWidth-curr_lentgh+(index-begin_index)\n",
    "                    a,b=blank_lentgh//(index-begin_index),blank_lentgh%(index-begin_index)\n",
    "                    curr=''\n",
    "                    for i in range(begin_index,index):\n",
    "                        curr+=(words[i]+' '*(a+1 if i<begin_index+b else a))\n",
    "                    curr+=words[index]\n",
    "                else:\n",
    "                    curr=words[index]+' '*(maxWidth-curr_lentgh)\n",
    "            else:\n",
    "                curr=' '.join(words[begin_index:n])+' '*(maxWidth-curr_lentgh)\n",
    "            res.append(curr)\n",
    "            gen(index+1)\n",
    "        gen(0)\n",
    "        return res"
   ]
  }
 ],
 "metadata": {
  "kernelspec": {
   "display_name": "Python 3",
   "language": "python",
   "name": "python3"
  },
  "language_info": {
   "codemirror_mode": {
    "name": "ipython",
    "version": 3
   },
   "file_extension": ".py",
   "mimetype": "text/x-python",
   "name": "python",
   "nbconvert_exporter": "python",
   "pygments_lexer": "ipython3",
   "version": "3.7.3"
  }
 },
 "nbformat": 4,
 "nbformat_minor": 2
}

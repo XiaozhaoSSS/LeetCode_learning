{
 "cells": [
  {
   "cell_type": "markdown",
   "metadata": {},
   "source": [
    "1.二分法\n",
    "\n",
    "执行用时 :\n",
    "80 ms\n",
    ", 在所有 Python3 提交中击败了\n",
    "49.09%\n",
    "的用户\n",
    "内存消耗 :\n",
    "14.7 MB\n",
    ", 在所有 Python3 提交中击败了\n",
    "5.47%\n",
    "的用户"
   ]
  },
  {
   "cell_type": "code",
   "execution_count": null,
   "metadata": {},
   "outputs": [],
   "source": [
    "class Solution:\n",
    "    def searchInsert(self, nums: List[int], target: int) -> int:\n",
    "        n=len(nums)\n",
    "        if n==0:return 0\n",
    "        p,q=0,n-1\n",
    "        c=(n-1)//2\n",
    "        if nums[0]>=target:return 0\n",
    "        elif nums[-1]<target:return n\n",
    "        elif nums[-1]==target:return n-1\n",
    "        else:\n",
    "            while p!=c:\n",
    "                if nums[c]==target:return c\n",
    "                elif nums[c]>target:\n",
    "                    q=c\n",
    "                    c=(p+q)//2\n",
    "                else:\n",
    "                    p=c\n",
    "                    c=(p+q)//2      \n",
    "            \n",
    "        return p if nums[p]==target else q"
   ]
  }
 ],
 "metadata": {
  "kernelspec": {
   "display_name": "Python 3",
   "language": "python",
   "name": "python3"
  },
  "language_info": {
   "codemirror_mode": {
    "name": "ipython",
    "version": 3
   },
   "file_extension": ".py",
   "mimetype": "text/x-python",
   "name": "python",
   "nbconvert_exporter": "python",
   "pygments_lexer": "ipython3",
   "version": "3.7.3"
  }
 },
 "nbformat": 4,
 "nbformat_minor": 2
}

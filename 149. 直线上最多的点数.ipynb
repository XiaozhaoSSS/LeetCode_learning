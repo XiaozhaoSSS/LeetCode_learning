{
 "cells": [
  {
   "cell_type": "code",
   "execution_count": null,
   "metadata": {},
   "outputs": [],
   "source": [
    " 1.对每个点，计算所有其他点与它之间的斜率，统计斜率最多的个数\n",
    "    时间复杂度O(n**2)"
   ]
  },
  {
   "cell_type": "code",
   "execution_count": null,
   "metadata": {},
   "outputs": [],
   "source": [
    "from collections import *\n",
    "class Solution:\n",
    "    def maxPoints(self, points: List[List[int]]) -> int:\n",
    "        # i是需要判断点的索引\n",
    "        def calc(points, i):\n",
    "            # defaultdict是collections里的一个类，就是带有默认值的字典\n",
    "            # 这样不用在给字典赋值时先判断key存不存在了\n",
    "            hashmap = defaultdict(int)\n",
    "            # 记录与需要判断点重合点的数目\n",
    "            same = 0\n",
    "            for j in range(len(points)):\n",
    "                # 不对同一个点进行计算\n",
    "                if j != i:\n",
    "                    # 如果两点坐标相同same加一然后跳回循环开始\n",
    "                    if points[i] == points[j]:\n",
    "                        same += 1\n",
    "                        continue\n",
    "                    # 因为可能存在斜率无穷大的情况，提前做判断\n",
    "                    if points[i][1] - points[j][1] == 0:\n",
    "                        k = float('Inf')\n",
    "                    else:\n",
    "                        k = (points[i][0] - points[j][0]) / (points[i][1] - points[j][1])\n",
    "                    # 最后更新hashmap\n",
    "                    hashmap[k] += 1\n",
    "            # 取hashmap中最大值加上重复的个数再加一就是该点的结果\n",
    "            return 1 + same + (max(hashmap.values()) if hashmap else 0)\n",
    "        res = 0\n",
    "        if len(points) == 1: return 1\n",
    "        # 对于每个点进行一次calc操作，取最大值作为答案\n",
    "        for i in range(len(points)):\n",
    "            res = max(res, calc(points, i))\n",
    "        return res"
   ]
  }
 ],
 "metadata": {
  "kernelspec": {
   "display_name": "Python 3",
   "language": "python",
   "name": "python3"
  },
  "language_info": {
   "codemirror_mode": {
    "name": "ipython",
    "version": 3
   },
   "file_extension": ".py",
   "mimetype": "text/x-python",
   "name": "python",
   "nbconvert_exporter": "python",
   "pygments_lexer": "ipython3",
   "version": "3.7.3"
  }
 },
 "nbformat": 4,
 "nbformat_minor": 2
}

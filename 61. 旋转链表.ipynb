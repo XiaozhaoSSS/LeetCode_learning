{
 "cells": [
  {
   "cell_type": "markdown",
   "metadata": {},
   "source": [
    "1.\n",
    "\n",
    "执行用时 :\n",
    "36 ms\n",
    ", 在所有 python3 提交中击败了\n",
    "99.09%\n",
    "的用户\n",
    "内存消耗 :\n",
    "13.6 MB\n",
    ", 在所有 python3 提交中击败了\n",
    "5.40%\n",
    "的用户"
   ]
  },
  {
   "cell_type": "code",
   "execution_count": null,
   "metadata": {},
   "outputs": [],
   "source": [
    "# Definition for singly-linked list.\n",
    "# class ListNode:\n",
    "#     def __init__(self, x):\n",
    "#         self.val = x\n",
    "#         self.next = None\n",
    "\n",
    "class Solution:\n",
    "    def rotateRight(self, head: ListNode, k: int) -> ListNode:\n",
    "        dummyhead=ListNode(0)\n",
    "        dummyhead.next=head\n",
    "        curr=dummyhead\n",
    "        length=0\n",
    "        while curr.next:\n",
    "            length+=1\n",
    "            curr=curr.next\n",
    "        if length:\n",
    "            k=k%length\n",
    "            if k:\n",
    "                k=length-k\n",
    "                p=dummyhead\n",
    "                for _ in range(k):\n",
    "                    p=p.next\n",
    "\n",
    "                curr.next=dummyhead.next\n",
    "                dummyhead.next=p.next\n",
    "                p.next=None\n",
    "        return dummyhead.next"
   ]
  }
 ],
 "metadata": {
  "kernelspec": {
   "display_name": "Python 3",
   "language": "python",
   "name": "python3"
  },
  "language_info": {
   "codemirror_mode": {
    "name": "ipython",
    "version": 3
   },
   "file_extension": ".py",
   "mimetype": "text/x-python",
   "name": "python",
   "nbconvert_exporter": "python",
   "pygments_lexer": "ipython3",
   "version": "3.7.3"
  }
 },
 "nbformat": 4,
 "nbformat_minor": 2
}

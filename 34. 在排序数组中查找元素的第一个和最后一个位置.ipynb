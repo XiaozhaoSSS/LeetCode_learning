{
 "cells": [
  {
   "cell_type": "markdown",
   "metadata": {},
   "source": [
    "1.用折半查找找两个index，一个index对应值等于target且index=0或index-1对应值不等于target;\n",
    "另一个index对应值等于target且index=n-1或index+1对应值不等于target\n",
    "\n",
    "执行用时 :\n",
    "116 ms\n",
    ", 在所有 Python3 提交中击败了\n",
    "71.38%\n",
    "的用户\n",
    "内存消耗 :\n",
    "14.9 MB\n",
    ", 在所有 Python3 提交中击败了\n",
    "5.30%\n",
    "的用户"
   ]
  },
  {
   "cell_type": "code",
   "execution_count": null,
   "metadata": {},
   "outputs": [],
   "source": [
    "class Solution:\n",
    "    def searchRange(self, nums: List[int], target: int) -> List[int]:\n",
    "        n=len(nums)\n",
    "        i,j=0,n-1\n",
    "        index1,index2=-1,-1\n",
    "        while i<=j:\n",
    "            p=(i+j)//2\n",
    "            if nums[p]==target and (p==0 or nums[p-1]!=target):\n",
    "                index1=p\n",
    "                break\n",
    "            elif nums[p]<target:\n",
    "                i=p+1\n",
    "            else:\n",
    "                j=p-1\n",
    "        if index1!=-1:\n",
    "            i,j=index1,n-1\n",
    "            while i<=j:\n",
    "                p=(i+j)//2\n",
    "                if nums[p]==target and (p==n-1 or nums[p+1]!=target):\n",
    "                    index2=p\n",
    "                    break\n",
    "                elif nums[p]>target:\n",
    "                    j=p-1\n",
    "                else:\n",
    "                    i=p+1\n",
    "        return [index1,index2]"
   ]
  }
 ],
 "metadata": {
  "kernelspec": {
   "display_name": "Python 3",
   "language": "python",
   "name": "python3"
  },
  "language_info": {
   "codemirror_mode": {
    "name": "ipython",
    "version": 3
   },
   "file_extension": ".py",
   "mimetype": "text/x-python",
   "name": "python",
   "nbconvert_exporter": "python",
   "pygments_lexer": "ipython3",
   "version": "3.7.3"
  }
 },
 "nbformat": 4,
 "nbformat_minor": 2
}

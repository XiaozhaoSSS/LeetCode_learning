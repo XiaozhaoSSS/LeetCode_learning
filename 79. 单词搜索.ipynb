{
 "cells": [
  {
   "cell_type": "markdown",
   "metadata": {},
   "source": [
    "1.递归"
   ]
  },
  {
   "cell_type": "code",
   "execution_count": null,
   "metadata": {},
   "outputs": [],
   "source": [
    "class Solution:\n",
    "    def exist(self, board: List[List[str]], word: str) -> bool:\n",
    "        m=len(board)\n",
    "        n=len(board[0]) if m!=0 else 0\n",
    "        l=len(word)\n",
    "        res=False\n",
    "        def gen(i):\n",
    "            nonlocal l,m,n,res\n",
    "            if res:return\n",
    "            index=len(curr_list)\n",
    "            row,col=i//n,i%n\n",
    "            #print(row,col,index)\n",
    "            if index==l:\n",
    "                res=True\n",
    "                #print('成功了')\n",
    "                return\n",
    "            if row<m-1 and (row+1)*n+col not in curr_list and board[row+1][col]==word[index]:\n",
    "                curr_list.append((row+1)*n+col)\n",
    "                gen((row+1)*n+col)\n",
    "                curr_list.pop()\n",
    "            if col<n-1 and row*n+col+1 not in curr_list and board[row][col+1]==word[index]:\n",
    "                curr_list.append(row*n+col+1)\n",
    "                gen(row*n+col+1)\n",
    "                curr_list.pop()\n",
    "            if row>0 and (row-1)*n+col not in curr_list and board[row-1][col]==word[index]:\n",
    "                curr_list.append((row-1)*n+col)\n",
    "                gen((row-1)*n+col)\n",
    "                curr_list.pop()\n",
    "            if col>0 and row*n+col-1 not in curr_list and board[row][col-1]==word[index]:\n",
    "                curr_list.append(row*n+col-1)\n",
    "                gen(row*n+col-1)\n",
    "                curr_list.pop()\n",
    "        for i in range(m*n):\n",
    "            row,col=i//n,i%n\n",
    "            if board[row][col]==word[0]:\n",
    "                curr_list=[i]\n",
    "                gen(i)\n",
    "                if res:return True\n",
    "        return res"
   ]
  }
 ],
 "metadata": {
  "kernelspec": {
   "display_name": "Python 3",
   "language": "python",
   "name": "python3"
  },
  "language_info": {
   "codemirror_mode": {
    "name": "ipython",
    "version": 3
   },
   "file_extension": ".py",
   "mimetype": "text/x-python",
   "name": "python",
   "nbconvert_exporter": "python",
   "pygments_lexer": "ipython3",
   "version": "3.7.1"
  }
 },
 "nbformat": 4,
 "nbformat_minor": 2
}

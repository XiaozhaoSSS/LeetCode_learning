{
 "cells": [
  {
   "cell_type": "markdown",
   "metadata": {},
   "source": [
    "1.暴力法，从haystack第一个元素开始，取len(needle)字符串看与needle是否相同\n",
    "\n",
    "执行用时 :\n",
    "48 ms\n",
    ", 在所有 Python3 提交中击败了\n",
    "79.23%\n",
    "的用户\n",
    "内存消耗 :\n",
    "13.8 MB\n",
    ", 在所有 Python3 提交中击败了\n",
    "5.99%\n",
    "的用户"
   ]
  },
  {
   "cell_type": "code",
   "execution_count": null,
   "metadata": {},
   "outputs": [],
   "source": [
    "class Solution:\n",
    "    def strStr(self, haystack: str, needle: str) -> int:\n",
    "        n=len(needle)\n",
    "        m=len(haystack)\n",
    "        if n<=m and n!=0:\n",
    "            for i in range(m-n+1):\n",
    "                if haystack[i:i+n]==needle:return i\n",
    "        return -1 if n!=0 else 0"
   ]
  }
 ],
 "metadata": {
  "kernelspec": {
   "display_name": "Python 3",
   "language": "python",
   "name": "python3"
  },
  "language_info": {
   "codemirror_mode": {
    "name": "ipython",
    "version": 3
   },
   "file_extension": ".py",
   "mimetype": "text/x-python",
   "name": "python",
   "nbconvert_exporter": "python",
   "pygments_lexer": "ipython3",
   "version": "3.7.3"
  }
 },
 "nbformat": 4,
 "nbformat_minor": 2
}

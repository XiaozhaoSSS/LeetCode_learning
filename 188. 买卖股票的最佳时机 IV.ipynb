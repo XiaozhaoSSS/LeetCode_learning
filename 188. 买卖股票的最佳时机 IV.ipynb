{
 "cells": [
  {
   "cell_type": "code",
   "execution_count": null,
   "metadata": {},
   "outputs": [],
   "source": [
    "class Solution:\n",
    "    def maxProfit(self, k: int, prices: List[int]) -> int:\n",
    "        if not prices or not k:\n",
    "            return 0\n",
    "        n  = len(prices)\n",
    "        # 如果k大于数组长度的一半，则可以用贪心解决\n",
    "        if k > n//2:\n",
    "            return self.greedy(prices)\n",
    "        # 动态规划\n",
    "        dp = [[[0] * 2 for _ in range(k+1)] for _ in range(n)]\n",
    "        res = []\n",
    "        # 设置初始状态\n",
    "        for i in range(k+1):\n",
    "            dp[0][i][0], dp[0][i][1] = 0, -prices[0]\n",
    "        # 开始两层循环\n",
    "        for i in range(1,n):\n",
    "            for j in range(k+1):\n",
    "                if not j:\n",
    "                    dp[i][j][0] = dp[i-1][j][0]\n",
    "                else:\n",
    "                    dp[i][j][0] = max(dp[i-1][j][0], dp[i-1][j-1][1] + prices[i])\n",
    "                dp[i][j][1] = max(dp[i-1][j][1], dp[i-1][j][0] - prices[i])\n",
    "        # 找到最大值\n",
    "        for m in range(k+1):\n",
    "            print(dp[n-1][m][0])\n",
    "            res.append(dp[n-1][m][0])\n",
    "        return max(res)\n",
    "    def greedy(self, prices):\n",
    "        res = 0\n",
    "        for i in range(1,len(prices)):\n",
    "            if prices[i] > prices[i-1]:\n",
    "                res += prices[i] - prices[i-1]\n",
    "        return res"
   ]
  },
  {
   "cell_type": "code",
   "execution_count": null,
   "metadata": {},
   "outputs": [],
   "source": [
    "class Solution:\n",
    "    def maxProfit(self, k: int, prices: List[int]) -> int:\n",
    "        n=len(prices)\n",
    "        if n<=1 or k==0:return 0\n",
    "        if k>=n//2:   #当可以无限次交易时，采用贪心\n",
    "            res=0\n",
    "            for i in range(1,n):\n",
    "                res+=max(0,prices[i]-prices[i-1])\n",
    "            return res\n",
    "\n",
    "        #有限次建议动态规划\n",
    "        s1=[-float('Inf')]*k\n",
    "        s2=[-float('Inf')]*k\n",
    "        for num in prices:\n",
    "            s1[0]=max(s1[0],-num)\n",
    "            s2[0]=max(s2[0],s1[0]+num)\n",
    "            for i in range(1,k):\n",
    "                s1[i]=max(s1[i],s2[i-1]-num)\n",
    "                s2[i]=max(s2[i],s1[i]+num)\n",
    "        return s2[-1]"
   ]
  }
 ],
 "metadata": {
  "kernelspec": {
   "display_name": "Python 3",
   "language": "python",
   "name": "python3"
  },
  "language_info": {
   "codemirror_mode": {
    "name": "ipython",
    "version": 3
   },
   "file_extension": ".py",
   "mimetype": "text/x-python",
   "name": "python",
   "nbconvert_exporter": "python",
   "pygments_lexer": "ipython3",
   "version": "3.7.5"
  }
 },
 "nbformat": 4,
 "nbformat_minor": 2
}

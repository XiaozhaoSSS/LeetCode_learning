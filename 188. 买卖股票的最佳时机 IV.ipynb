{
 "cells": [
  {
   "cell_type": "code",
   "execution_count": null,
   "metadata": {},
   "outputs": [],
   "source": [
    "1."
   ]
  },
  {
   "cell_type": "code",
   "execution_count": null,
   "metadata": {},
   "outputs": [],
   "source": [
    "class Solution:\n",
    "    def maxProfit(self, k: int, prices: List[int]) -> int:\n",
    "        if not prices or not k:\n",
    "            return 0\n",
    "        n  = len(prices)\n",
    "        # 如果k大于数组长度的一半，则可以用贪心解决\n",
    "        if k > n//2:\n",
    "            return self.greedy(prices)\n",
    "        # 动态规划\n",
    "        dp = [[[0] * 2 for _ in range(k+1)] for _ in range(n)]\n",
    "        res = []\n",
    "        # 设置初始状态\n",
    "        for i in range(k+1):\n",
    "            dp[0][i][0], dp[0][i][1] = 0, -prices[0]\n",
    "        # 开始两层循环\n",
    "        for i in range(1,n):\n",
    "            for j in range(k+1):\n",
    "                if not j:\n",
    "                    dp[i][j][0] = dp[i-1][j][0]\n",
    "                else:\n",
    "                    dp[i][j][0] = max(dp[i-1][j][0], dp[i-1][j-1][1] + prices[i])\n",
    "                dp[i][j][1] = max(dp[i-1][j][1], dp[i-1][j][0] - prices[i])\n",
    "        # 找到最大值\n",
    "        for m in range(k+1):\n",
    "            print(dp[n-1][m][0])\n",
    "            res.append(dp[n-1][m][0])\n",
    "        return max(res)\n",
    "    def greedy(self, prices):\n",
    "        res = 0\n",
    "        for i in range(1,len(prices)):\n",
    "            if prices[i] > prices[i-1]:\n",
    "                res += prices[i] - prices[i-1]\n",
    "        return res"
   ]
  }
 ],
 "metadata": {
  "kernelspec": {
   "display_name": "Python 3",
   "language": "python",
   "name": "python3"
  },
  "language_info": {
   "codemirror_mode": {
    "name": "ipython",
    "version": 3
   },
   "file_extension": ".py",
   "mimetype": "text/x-python",
   "name": "python",
   "nbconvert_exporter": "python",
   "pygments_lexer": "ipython3",
   "version": "3.7.3"
  }
 },
 "nbformat": 4,
 "nbformat_minor": 2
}

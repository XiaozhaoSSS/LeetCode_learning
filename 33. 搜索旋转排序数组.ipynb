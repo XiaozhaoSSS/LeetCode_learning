{
 "cells": [
  {
   "cell_type": "markdown",
   "metadata": {},
   "source": [
    "1.先找到旋转的点，复原，然后折半查找\n",
    "\n",
    "执行用时 :\n",
    "56 ms\n",
    ", 在所有 Python3 提交中击败了\n",
    "78.72%\n",
    "的用户\n",
    "内存消耗 :\n",
    "14.2 MB\n",
    ", 在所有 Python3 提交中击败了\n",
    "5.73%\n",
    "的用户"
   ]
  },
  {
   "cell_type": "code",
   "execution_count": null,
   "metadata": {},
   "outputs": [],
   "source": [
    "class Solution:\n",
    "    def search(self, nums: List[int], target: int) -> int:\n",
    "        n=len(nums)\n",
    "        index=-1\n",
    "        if n<2:return 0 if target in nums else index\n",
    "        \n",
    "        i,j=0,n-1\n",
    "        num1=nums[0]\n",
    "        while i<j and i!=j-1:\n",
    "            k=(i+j)//2\n",
    "            if nums[k]>num1:\n",
    "                i=k\n",
    "            else:\n",
    "                j=k\n",
    "        new_nums=nums[j:]+nums[:j] if nums[j]<num1 else nums  \n",
    "        p=j if nums[j]<num1 else n\n",
    "        i,j,k=0,n-1,(n-1)//2\n",
    "        while i<k:\n",
    "            if new_nums[k]==target:\n",
    "                index=k\n",
    "                break\n",
    "            elif new_nums[k]>target:\n",
    "                j=k\n",
    "            else:\n",
    "                i=k\n",
    "            k=(i+j)//2\n",
    "        if i==j-1:\n",
    "            if new_nums[i]==target:index=i\n",
    "            elif new_nums[j]==target:index=j\n",
    "        if index!=-1:index=index-(n-p) if index>=(n-p) else p+index\n",
    "        return index"
   ]
  }
 ],
 "metadata": {
  "kernelspec": {
   "display_name": "Python 3",
   "language": "python",
   "name": "python3"
  },
  "language_info": {
   "codemirror_mode": {
    "name": "ipython",
    "version": 3
   },
   "file_extension": ".py",
   "mimetype": "text/x-python",
   "name": "python",
   "nbconvert_exporter": "python",
   "pygments_lexer": "ipython3",
   "version": "3.7.3"
  }
 },
 "nbformat": 4,
 "nbformat_minor": 2
}

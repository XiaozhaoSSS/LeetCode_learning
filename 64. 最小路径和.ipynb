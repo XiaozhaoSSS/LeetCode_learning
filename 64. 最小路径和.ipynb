{
 "cells": [
  {
   "cell_type": "markdown",
   "metadata": {},
   "source": [
    "1.动态规划\n",
    "\n",
    "执行用时 :\n",
    "112 ms\n",
    ", 在所有 python3 提交中击败了\n",
    "93.49%\n",
    "的用户\n",
    "内存消耗 :\n",
    "15.4 MB\n",
    ", 在所有 python3 提交中击败了\n",
    "5.12%\n",
    "的用户"
   ]
  },
  {
   "cell_type": "code",
   "execution_count": null,
   "metadata": {},
   "outputs": [],
   "source": [
    "class Solution:\n",
    "    def minPathSum(self, grid: List[List[int]]) -> int:\n",
    "        m,n=len(grid),len(grid[0])\n",
    "        for i in range(1,m):\n",
    "            grid[i][0]+=grid[i-1][0]\n",
    "        for j in range(1,n):\n",
    "            grid[0][j]+=grid[0][j-1]\n",
    "        for i in range(1,m):\n",
    "            for j in range(1,n):\n",
    "                grid[i][j]+=min(grid[i-1][j],grid[i][j-1])\n",
    "        return grid[-1][-1]"
   ]
  }
 ],
 "metadata": {
  "kernelspec": {
   "display_name": "Python 3",
   "language": "python",
   "name": "python3"
  },
  "language_info": {
   "codemirror_mode": {
    "name": "ipython",
    "version": 3
   },
   "file_extension": ".py",
   "mimetype": "text/x-python",
   "name": "python",
   "nbconvert_exporter": "python",
   "pygments_lexer": "ipython3",
   "version": "3.7.3"
  }
 },
 "nbformat": 4,
 "nbformat_minor": 2
}

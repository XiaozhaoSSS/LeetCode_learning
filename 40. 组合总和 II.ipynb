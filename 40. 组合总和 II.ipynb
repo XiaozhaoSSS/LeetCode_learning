{
 "cells": [
  {
   "cell_type": "markdown",
   "metadata": {},
   "source": [
    "1.回溯，数，剪枝 \n",
    "\n",
    "执行用时 :\n",
    "80 ms\n",
    ", 在所有 Python3 提交中击败了\n",
    "68.45%\n",
    "的用户\n",
    "内存消耗 :\n",
    "13.8 MB\n",
    ", 在所有 Python3 提交中击败了\n",
    "5.40%\n",
    "的用户"
   ]
  },
  {
   "cell_type": "code",
   "execution_count": null,
   "metadata": {},
   "outputs": [],
   "source": [
    "class Solution:\n",
    "    def combinationSum2(self, candidates: List[int], target: int) -> List[List[int]]:\n",
    "        size=len(candidates)\n",
    "        if size==0:return []\n",
    "        res=[]\n",
    "        path=[]\n",
    "        candidates.sort()\n",
    "        self.search(candidates,0,size,path,res,target)\n",
    "        return list(set([tuple(x) for x in res]))\n",
    "    def search(self,candidates,begin,size,path,res,target):\n",
    "        if target==0:res.append(path[:])\n",
    "        \n",
    "        for index in range(begin,size):\n",
    "            new_target=target-candidates[index]\n",
    "            if new_target<0:break\n",
    "            path.append(candidates[index])\n",
    "            self.search(candidates,index+1,size,path,res,new_target)\n",
    "            path.pop()"
   ]
  }
 ],
 "metadata": {
  "kernelspec": {
   "display_name": "Python 3",
   "language": "python",
   "name": "python3"
  },
  "language_info": {
   "codemirror_mode": {
    "name": "ipython",
    "version": 3
   },
   "file_extension": ".py",
   "mimetype": "text/x-python",
   "name": "python",
   "nbconvert_exporter": "python",
   "pygments_lexer": "ipython3",
   "version": "3.7.3"
  }
 },
 "nbformat": 4,
 "nbformat_minor": 2
}

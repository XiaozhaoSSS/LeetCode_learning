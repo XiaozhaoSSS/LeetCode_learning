{
 "cells": [
  {
   "cell_type": "code",
   "execution_count": null,
   "metadata": {},
   "outputs": [],
   "source": [
    "1.3*(a,b,c)-(a,a,a,b,b,b,c)=2*c"
   ]
  },
  {
   "cell_type": "code",
   "execution_count": null,
   "metadata": {},
   "outputs": [],
   "source": [
    "class Solution:\n",
    "    def singleNumber(self, nums: List[int]) -> int:\n",
    "        return int((3*sum(set(nums))-sum(nums))/2)"
   ]
  },
  {
   "cell_type": "code",
   "execution_count": null,
   "metadata": {},
   "outputs": [],
   "source": [
    "2.通用法，其它数都出现了k次，某个数出现了p次\n",
    "对每一位，计算1出现的次数，如果是k的整数倍该位为0，如果不是该位为1\n",
    "所以对于每一位需要用一个m位的数记录1出现的次数，其中 2的m次方>=k，对于32位整数，需要32个m位数记录\n",
    "每个m位数的值应该在0~k-1，所以如果该值=k了，就置0，方法是将该值与mask按位与，当该值=k时，mask所有位为0，否则所有位为1\n",
    "我们可以用m个数统一记录，x1记录这32个数的最低位，xm记录第m位\n",
    "假设p=100110,那么返回x2,x3,x6都可以，因为结果是下面这种形式，假如32位数的第0、3位上出现1的次数不是k的整数倍，是p次\n",
    "   4 3 2 1 0\n",
    "x6 0 1 0 0 1\n",
    "x5 0 0 0 0 0\n",
    "x4 0 0 0 0 0\n",
    "x3 0 1 0 0 1\n",
    "x2 0 1 0 0 1\n",
    "x1 0 0 0 0 0"
   ]
  },
  {
   "cell_type": "code",
   "execution_count": null,
   "metadata": {},
   "outputs": [],
   "source": [
    "class Solution:\n",
    "    def singleNumber(self, nums: List[int]) -> int:\n",
    "        x1,x2,mask= 0,0,0\n",
    "        for num in nums:\n",
    "            x2 ^= x1 & num\n",
    "            x1 ^= num\n",
    "            mask = ~(x1 & x2)\n",
    "            x2 &= mask\n",
    "            x1 &= mask\n",
    "        return x1"
   ]
  }
 ],
 "metadata": {
  "kernelspec": {
   "display_name": "Python 3",
   "language": "python",
   "name": "python3"
  },
  "language_info": {
   "codemirror_mode": {
    "name": "ipython",
    "version": 3
   },
   "file_extension": ".py",
   "mimetype": "text/x-python",
   "name": "python",
   "nbconvert_exporter": "python",
   "pygments_lexer": "ipython3",
   "version": "3.7.3"
  }
 },
 "nbformat": 4,
 "nbformat_minor": 2
}

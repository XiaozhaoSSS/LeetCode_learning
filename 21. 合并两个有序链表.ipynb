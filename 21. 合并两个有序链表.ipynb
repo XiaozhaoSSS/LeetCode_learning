{
 "cells": [
  {
   "cell_type": "markdown",
   "metadata": {},
   "source": [
    "1.\n",
    "\n",
    "执行用时 :84 ms, 在所有 Python3 提交中击败了16.64%的用户\n",
    "内存消耗 :13.8 MB, 在所有 Python3 提交中击败了5.66%的用户"
   ]
  },
  {
   "cell_type": "code",
   "execution_count": null,
   "metadata": {},
   "outputs": [],
   "source": [
    "# Definition for singly-linked list.\n",
    "# class ListNode:\n",
    "#     def __init__(self, x):\n",
    "#         self.val = x\n",
    "#         self.next = None\n",
    "\n",
    "class Solution:\n",
    "    def mergeTwoLists(self, l1: ListNode, l2: ListNode) -> ListNode:\n",
    "        l=ListNode(0)\n",
    "        curr=l\n",
    "        while l1 and l2:\n",
    "            if l1.val<l2.val:\n",
    "                curr.next=l1\n",
    "                curr=curr.next\n",
    "                l1=l1.next\n",
    "            else:\n",
    "                curr.next=l2\n",
    "                curr=curr.next\n",
    "                l2=l2.next\n",
    "        curr.next=l1 if l1!=None else l2\n",
    "        return l.next"
   ]
  },
  {
   "cell_type": "markdown",
   "metadata": {},
   "source": [
    "2.递归\n",
    "\n",
    "执行用时 :56 ms, 在所有 Python3 提交中击败了72.60%的用户\n",
    "内存消耗 :13.9 MB, 在所有 Python3 提交中击败了5.66%的用户"
   ]
  },
  {
   "cell_type": "code",
   "execution_count": null,
   "metadata": {},
   "outputs": [],
   "source": [
    "# Definition for singly-linked list.\n",
    "# class ListNode:\n",
    "#     def __init__(self, x):\n",
    "#         self.val = x\n",
    "#         self.next = None\n",
    "\n",
    "class Solution:\n",
    "    def mergeTwoLists(self, l1: ListNode, l2: ListNode) -> ListNode:\n",
    "        l=ListNode(0)\n",
    "        if not l1:return l2\n",
    "        if not l2:return l1\n",
    "        if l1.val<l2.val:\n",
    "            l.next=ListNode(l1.val)\n",
    "            l.next.next=self.mergeTwoLists(l1.next,l2)\n",
    "        else:\n",
    "            l.next=ListNode(l2.val)\n",
    "            l.next.next=self.mergeTwoLists(l1,l2.next)\n",
    "        return l.next"
   ]
  }
 ],
 "metadata": {
  "kernelspec": {
   "display_name": "Python 3",
   "language": "python",
   "name": "python3"
  },
  "language_info": {
   "codemirror_mode": {
    "name": "ipython",
    "version": 3
   },
   "file_extension": ".py",
   "mimetype": "text/x-python",
   "name": "python",
   "nbconvert_exporter": "python",
   "pygments_lexer": "ipython3",
   "version": "3.7.3"
  }
 },
 "nbformat": 4,
 "nbformat_minor": 2
}

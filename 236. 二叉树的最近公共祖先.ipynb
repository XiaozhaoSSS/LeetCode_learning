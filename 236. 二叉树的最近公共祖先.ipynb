{
 "cells": [
  {
   "cell_type": "code",
   "execution_count": null,
   "metadata": {},
   "outputs": [],
   "source": [
    "# Definition for a binary tree node.\n",
    "# class TreeNode:\n",
    "#     def __init__(self, x):\n",
    "#         self.val = x\n",
    "#         self.left = None\n",
    "#         self.right = None\n",
    "\n",
    "class Solution:\n",
    "    def lowestCommonAncestor(self, root: 'TreeNode', p: 'TreeNode', q: 'TreeNode') -> 'TreeNode':\n",
    "        if not root:return None\n",
    "        def dfs(node,target):\n",
    "            nonlocal label\n",
    "            if label:return\n",
    "            if node==None or target==None:return\n",
    "            if node==target:\n",
    "                path.append(node)\n",
    "                label=True\n",
    "                return\n",
    "            path.append(node)\n",
    "            dfs(node.left,target)\n",
    "            if label:return\n",
    "            dfs(node.right,target)\n",
    "            if label:return\n",
    "            path.pop()\n",
    "        path,label=[],False\n",
    "        dfs(root,p)\n",
    "        p_path=path.copy()\n",
    "        path,label=[],False\n",
    "        dfs(root,q)\n",
    "        q_path=path.copy()\n",
    "        index=0\n",
    "        n=min(len(p_path),len(q_path))\n",
    "        while index<n:\n",
    "            if p_path[index]==q_path[index]:index+=1\n",
    "            else:break\n",
    "        return p_path[index-1]\n"
   ]
  }
 ],
 "metadata": {
  "kernelspec": {
   "display_name": "Python 3",
   "language": "python",
   "name": "python3"
  },
  "language_info": {
   "codemirror_mode": {
    "name": "ipython",
    "version": 3
   },
   "file_extension": ".py",
   "mimetype": "text/x-python",
   "name": "python",
   "nbconvert_exporter": "python",
   "pygments_lexer": "ipython3",
   "version": "3.7.5"
  }
 },
 "nbformat": 4,
 "nbformat_minor": 2
}

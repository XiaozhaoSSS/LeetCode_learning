{
 "cells": [
  {
   "cell_type": "markdown",
   "metadata": {},
   "source": [
    "1.\n",
    "\n",
    "执行用时 :92 ms, 在所有 Python3 提交中击败了59.85%的用户\n",
    "内存消耗 :13.9 MB, 在所有 Python3 提交中击败了5.04%的用户"
   ]
  },
  {
   "cell_type": "code",
   "execution_count": null,
   "metadata": {},
   "outputs": [],
   "source": [
    "class Solution:\n",
    "    def isMatch(self, s: str, p: str) -> bool:\n",
    "        return re.match('^'+p+'$',s)"
   ]
  },
  {
   "cell_type": "markdown",
   "metadata": {},
   "source": [
    "2.\n",
    "\n",
    "执行用时 :1764 ms, 在所有 Python3 提交中击败了27.47%的用户\n",
    "内存消耗 :13.9 MB, 在所有 Python3 提交中击败了5.04%的用户"
   ]
  },
  {
   "cell_type": "code",
   "execution_count": null,
   "metadata": {},
   "outputs": [],
   "source": [
    "class Solution:\n",
    "    def isMatch(self, s: str, p: str) -> bool:\n",
    "        if not p:\n",
    "            return not s\n",
    "        \n",
    "        first_match=bool(s) and p[0] in ['.',s[0]]\n",
    "        \n",
    "        if len(p)>=2 and p[1]=='*':\n",
    "            return self.isMatch(s,p[2:]) or (first_match and self.isMatch(s[1:],p))\n",
    "        return first_match and self.isMatch(s[1:],p[1:])"
   ]
  }
 ],
 "metadata": {
  "kernelspec": {
   "display_name": "Python 3",
   "language": "python",
   "name": "python3"
  },
  "language_info": {
   "codemirror_mode": {
    "name": "ipython",
    "version": 3
   },
   "file_extension": ".py",
   "mimetype": "text/x-python",
   "name": "python",
   "nbconvert_exporter": "python",
   "pygments_lexer": "ipython3",
   "version": "3.7.1"
  }
 },
 "nbformat": 4,
 "nbformat_minor": 2
}

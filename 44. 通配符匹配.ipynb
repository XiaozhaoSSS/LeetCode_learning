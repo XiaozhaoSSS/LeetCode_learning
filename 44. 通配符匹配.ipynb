{
 "cells": [
  {
   "cell_type": "code",
   "execution_count": null,
   "metadata": {},
   "outputs": [],
   "source": [
    "1.递归，类似第10题，但是超时了"
   ]
  },
  {
   "cell_type": "code",
   "execution_count": null,
   "metadata": {},
   "outputs": [],
   "source": [
    "class Solution:\n",
    "    def isMatch(self, s: str, p: str) -> bool:\n",
    "        if not p:return not s\n",
    "        if p[0]=='*':\n",
    "            i=1\n",
    "            while i<len(p) and p[i]=='*':i+=1\n",
    "\n",
    "            return   (bool(s) and self.isMatch(s[1:],p[i-1:])) or self.isMatch(s,p[i:])\n",
    "        else:\n",
    "            first_match=bool(s) and p[0] in ['?',s[0]]\n",
    "\n",
    "\n",
    "            return first_match and self.isMatch(s[1:],p[1:])"
   ]
  },
  {
   "cell_type": "markdown",
   "metadata": {},
   "source": [
    "2.双指针，有点绕\n",
    "\n",
    "执行用时 :\n",
    "48 ms\n",
    ", 在所有 Python3 提交中击败了\n",
    "99.64%\n",
    "的用户\n",
    "内存消耗 :\n",
    "14 MB\n",
    ", 在所有 Python3 提交中击败了\n",
    "67.33%\n",
    "的用户"
   ]
  },
  {
   "cell_type": "code",
   "execution_count": null,
   "metadata": {},
   "outputs": [],
   "source": [
    "class Solution:\n",
    "    def isMatch(self, s, p):\n",
    "        \"\"\"\n",
    "        :type s: str\n",
    "        :type p: str\n",
    "        :rtype: bool\n",
    "        \"\"\"\n",
    "        i = 0\n",
    "        j = 0\n",
    "        start = -1\n",
    "        match = 0\n",
    "        while i < len(s):\n",
    "            # 一对一匹配,匹配成功一起移\n",
    "            if j < len(p) and (s[i] == p[j] or p[j] == \"?\"):\n",
    "                i += 1\n",
    "                j += 1\n",
    "            # 记录p的\"*\"的位置,还有s的位置\n",
    "            elif j < len(p) and p[j] == \"*\":\n",
    "                start = j\n",
    "                match = i\n",
    "                j += 1\n",
    "            # j 回到 记录的下一个位置\n",
    "            # match 更新下一个位置\n",
    "            # 这不代表用*匹配一个字符\n",
    "            elif start != -1:\n",
    "                j = start + 1\n",
    "                match += 1\n",
    "                i = match\n",
    "            else:\n",
    "                return False\n",
    "         # 将多余的 * 直接匹配空串\n",
    "        return all(x == \"*\" for x in p[j:])"
   ]
  },
  {
   "cell_type": "markdown",
   "metadata": {},
   "source": [
    "3.动态规划"
   ]
  },
  {
   "cell_type": "code",
   "execution_count": null,
   "metadata": {},
   "outputs": [],
   "source": [
    "class Solution:\n",
    "    def isMatch(self, s, p):\n",
    "        \"\"\"\n",
    "        :type s: str\n",
    "        :type p: str\n",
    "        :rtype: bool\n",
    "        \"\"\"\n",
    "        sn = len(s)\n",
    "        pn = len(p)\n",
    "        dp = [[False] * (pn + 1) for _ in range(sn + 1)]\n",
    "        dp[0][0] = True\n",
    "        for j in range(1, pn + 1):\n",
    "            if p[j - 1] == \"*\":\n",
    "                dp[0][j] = dp[0][j - 1]\n",
    "\n",
    "        for i in range(1, sn + 1):\n",
    "            for j in range(1, pn + 1):\n",
    "                if (s[i - 1] == p[j - 1] or p[j - 1] == \"?\"):\n",
    "                    dp[i][j] = dp[i - 1][j - 1]\n",
    "                elif p[j - 1] == \"*\":\n",
    "                    dp[i][j] = dp[i - 1][j] or dp[i][j - 1]\n",
    "        return dp[-1][-1]"
   ]
  }
 ],
 "metadata": {
  "kernelspec": {
   "display_name": "Python 3",
   "language": "python",
   "name": "python3"
  },
  "language_info": {
   "codemirror_mode": {
    "name": "ipython",
    "version": 3
   },
   "file_extension": ".py",
   "mimetype": "text/x-python",
   "name": "python",
   "nbconvert_exporter": "python",
   "pygments_lexer": "ipython3",
   "version": "3.7.3"
  }
 },
 "nbformat": 4,
 "nbformat_minor": 2
}

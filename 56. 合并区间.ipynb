{
 "cells": [
  {
   "cell_type": "markdown",
   "metadata": {},
   "source": [
    "1.根据区间左值排序后相邻两个区间判断\n",
    "\n",
    "执行用时 :\n",
    "172 ms\n",
    ", 在所有 python3 提交中击败了\n",
    "22.28%\n",
    "的用户\n",
    "内存消耗 :\n",
    "15.6 MB\n",
    ", 在所有 python3 提交中击败了\n",
    "98.84%\n",
    "的用户"
   ]
  },
  {
   "cell_type": "code",
   "execution_count": null,
   "metadata": {},
   "outputs": [],
   "source": [
    "class Solution:\n",
    "    def merge(self, intervals: List[List[int]]) -> List[List[int]]:\n",
    "        i=0\n",
    "        intervals.sort(key=lambda s: s[0])\n",
    "        while i<len(intervals)-1:\n",
    "            if intervals[i][1]>=intervals[i+1][0]:\n",
    "                intervals[i][1]=max(intervals[i+1][1],intervals[i][1])\n",
    "                del intervals[i+1]\n",
    "            else:\n",
    "                i+=1\n",
    "        return intervals"
   ]
  },
  {
   "cell_type": "markdown",
   "metadata": {},
   "source": [
    "2.方法一样。用空间换时间\n",
    "\n",
    "执行用时 :\n",
    "116 ms\n",
    ", 在所有 python3 提交中击败了\n",
    "77.80%\n",
    "的用户\n",
    "内存消耗 :\n",
    "15.7 MB\n",
    ", 在所有 python3 提交中击败了\n",
    "78.76%\n",
    "的用户"
   ]
  },
  {
   "cell_type": "code",
   "execution_count": null,
   "metadata": {},
   "outputs": [],
   "source": [
    "class Solution:\n",
    "    def merge(self, intervals: List[List[int]]) -> List[List[int]]:\n",
    "        intervals.sort(key=lambda x: x[0])\n",
    "\n",
    "        merged = []\n",
    "        for interval in intervals:\n",
    "            # if the list of merged intervals is empty or if the current\n",
    "            # interval does not overlap with the previous, simply append it.\n",
    "            if not merged or merged[-1][1] < interval[0]:\n",
    "                merged.append(interval)\n",
    "            else:\n",
    "            # otherwise, there is overlap, so we merge the current and previous\n",
    "            # intervals.\n",
    "                merged[-1][1] = max(merged[-1][1], interval[1])\n",
    "\n",
    "        return merged"
   ]
  }
 ],
 "metadata": {
  "kernelspec": {
   "display_name": "Python 3",
   "language": "python",
   "name": "python3"
  },
  "language_info": {
   "codemirror_mode": {
    "name": "ipython",
    "version": 3
   },
   "file_extension": ".py",
   "mimetype": "text/x-python",
   "name": "python",
   "nbconvert_exporter": "python",
   "pygments_lexer": "ipython3",
   "version": "3.7.3"
  }
 },
 "nbformat": 4,
 "nbformat_minor": 2
}

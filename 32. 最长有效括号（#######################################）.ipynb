{
 "cells": [
  {
   "cell_type": "markdown",
   "metadata": {},
   "source": [
    "1.动态规划\n",
    "\n",
    "执行用时 :\n",
    "68 ms\n",
    ", 在所有 Python3 提交中击败了\n",
    "69.64%\n",
    "的用户\n",
    "内存消耗 :\n",
    "13.9 MB\n",
    ", 在所有 Python3 提交中击败了\n",
    "27.78%\n",
    "的用户"
   ]
  },
  {
   "cell_type": "code",
   "execution_count": null,
   "metadata": {},
   "outputs": [],
   "source": [
    "class Solution:\n",
    "    def longestValidParentheses(self, s: str) -> int:\n",
    "        s='00'+s\n",
    "        n=len(s)\n",
    "        dp=[0]*n\n",
    "        i=3\n",
    "        while i<n:\n",
    "            if s[i]==')':\n",
    "                if s[i-1]=='(':dp[i]=dp[i-2]+2\n",
    "                elif s[i-1]==')':\n",
    "                    if s[i-1-dp[i-1]]=='(':dp[i]=dp[i-1]+2+dp[i-2-dp[i-1]]\n",
    "            i+=1\n",
    "        return max(dp) "
   ]
  },
  {
   "cell_type": "markdown",
   "metadata": {},
   "source": [
    "2.栈，栈中存放的是\"(\"的index，利用栈判断子字符串的出现以及其长度\n",
    "\n",
    "执行用时 :\n",
    "88 ms\n",
    ", 在所有 Python3 提交中击败了\n",
    "30.23%\n",
    "的用户\n",
    "内存消耗 :\n",
    "14.2 MB\n",
    ", 在所有 Python3 提交中击败了\n",
    "8.84%\n",
    "的用户"
   ]
  },
  {
   "cell_type": "code",
   "execution_count": null,
   "metadata": {},
   "outputs": [],
   "source": [
    "class Solution:\n",
    "    def longestValidParentheses(self, s: str) -> int:\n",
    "        s_list=[-1]\n",
    "        l=0\n",
    "        for i in range(len(s)):\n",
    "            if s[i]=='(':s_list.append(i)\n",
    "            else:\n",
    "                s_list.pop()\n",
    "                if not s_list:s_list.append(i)\n",
    "                else:\n",
    "                    curr=i-s_list[-1]\n",
    "                    l=curr if curr>l else l  \n",
    "        return l"
   ]
  },
  {
   "cell_type": "markdown",
   "metadata": {},
   "source": [
    "3.利用左右括号的数量判断，不需要额外空间，关键在于从左到右查找完后再反向查一次，不需要遍历每个元素分别向后查找\n",
    "\n",
    "执行用时 :\n",
    "72 ms\n",
    ", 在所有 Python3 提交中击败了\n",
    "56.34%\n",
    "的用户\n",
    "内存消耗 :\n",
    "13.9 MB\n",
    ", 在所有 Python3 提交中击败了\n",
    "35.35%\n",
    "的用户"
   ]
  },
  {
   "cell_type": "code",
   "execution_count": null,
   "metadata": {},
   "outputs": [],
   "source": [
    "class Solution:\n",
    "    def longestValidParentheses(self, s: str) -> int:\n",
    "        l=0\n",
    "        n_left,n_right=0,0\n",
    "        for curr in s:\n",
    "            if curr=='(':n_left+=1\n",
    "            else : n_right+=1\n",
    "            if n_left==n_right:l=2*n_left if 2*n_left>l else l\n",
    "            elif n_left<n_right:\n",
    "                n_left,n_right=0,0\n",
    "        n_left,n_right=0,0\n",
    "        for curr in s[::-1]:\n",
    "            if curr=='(':n_left+=1\n",
    "            else : n_right+=1\n",
    "            if n_left==n_right:l=2*n_left if 2*n_left>l else l\n",
    "            elif n_left>n_right:\n",
    "                n_left,n_right=0,0\n",
    "        return l"
   ]
  }
 ],
 "metadata": {
  "kernelspec": {
   "display_name": "Python 3",
   "language": "python",
   "name": "python3"
  },
  "language_info": {
   "codemirror_mode": {
    "name": "ipython",
    "version": 3
   },
   "file_extension": ".py",
   "mimetype": "text/x-python",
   "name": "python",
   "nbconvert_exporter": "python",
   "pygments_lexer": "ipython3",
   "version": "3.7.3"
  }
 },
 "nbformat": 4,
 "nbformat_minor": 2
}

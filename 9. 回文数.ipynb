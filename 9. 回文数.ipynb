{
 "cells": [
  {
   "cell_type": "markdown",
   "metadata": {},
   "source": [
    "1.\n",
    "\n",
    "执行用时 :76 ms, 在所有 Python3 提交中击败了96.96%的用户\n",
    "内存消耗 :14.1 MB, 在所有 Python3 提交中击败了5.01%的用户"
   ]
  },
  {
   "cell_type": "code",
   "execution_count": null,
   "metadata": {},
   "outputs": [],
   "source": [
    "class Solution:\n",
    "    def isPalindrome(self, x: int) -> bool:\n",
    "        return str(x)==str(x)[::-1]"
   ]
  },
  {
   "cell_type": "markdown",
   "metadata": {},
   "source": [
    "2.不用转化字符串\n",
    "\n",
    "执行用时 :172 ms, 在所有 Python3 提交中击败了6.87%的用户\n",
    "内存消耗 :13.7 MB, 在所有 Python3 提交中击败了5.01%的用户"
   ]
  },
  {
   "cell_type": "code",
   "execution_count": null,
   "metadata": {},
   "outputs": [],
   "source": [
    "class Solution:\n",
    "    def isPalindrome(self, x: int) -> bool:\n",
    "        if x>=0:\n",
    "            rev=0\n",
    "            x1=x\n",
    "            while x!=0:\n",
    "                pop=x%10\n",
    "                rev=rev*10+pop\n",
    "                x//=10\n",
    "                print(rev)\n",
    "            if x1==rev:return True\n",
    "        return False"
   ]
  }
 ],
 "metadata": {
  "kernelspec": {
   "display_name": "Python 3",
   "language": "python",
   "name": "python3"
  },
  "language_info": {
   "codemirror_mode": {
    "name": "ipython",
    "version": 3
   },
   "file_extension": ".py",
   "mimetype": "text/x-python",
   "name": "python",
   "nbconvert_exporter": "python",
   "pygments_lexer": "ipython3",
   "version": "3.7.1"
  }
 },
 "nbformat": 4,
 "nbformat_minor": 2
}

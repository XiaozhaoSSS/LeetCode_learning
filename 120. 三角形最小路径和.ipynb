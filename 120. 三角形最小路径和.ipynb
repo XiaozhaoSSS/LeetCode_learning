{
 "cells": [
  {
   "cell_type": "code",
   "execution_count": null,
   "metadata": {},
   "outputs": [],
   "source": [
    "1.动态规划"
   ]
  },
  {
   "cell_type": "code",
   "execution_count": null,
   "metadata": {},
   "outputs": [],
   "source": [
    "class Solution:\n",
    "    def minimumTotal(self, triangle: List[List[int]]) -> int:\n",
    "        n=len(triangle)\n",
    "        if n==0:return 0\n",
    "        dp=[triangle[0][0]]*n\n",
    "        for row in range(1,n):\n",
    "            dp[row]=dp[row-1]+triangle[row][row]\n",
    "            for col in range(1,row)[::-1]:\n",
    "                dp[col]=min(dp[col],dp[col-1])+triangle[row][col]\n",
    "            dp[0]+=triangle[row][0]\n",
    "        return min(dp)"
   ]
  }
 ],
 "metadata": {
  "kernelspec": {
   "display_name": "Python 3",
   "language": "python",
   "name": "python3"
  },
  "language_info": {
   "codemirror_mode": {
    "name": "ipython",
    "version": 3
   },
   "file_extension": ".py",
   "mimetype": "text/x-python",
   "name": "python",
   "nbconvert_exporter": "python",
   "pygments_lexer": "ipython3",
   "version": "3.7.3"
  }
 },
 "nbformat": 4,
 "nbformat_minor": 2
}

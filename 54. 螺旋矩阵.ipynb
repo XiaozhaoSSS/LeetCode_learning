{
 "cells": [
  {
   "cell_type": "markdown",
   "metadata": {},
   "source": [
    "1.\n",
    "\n",
    "执行用时 :\n",
    "48 ms\n",
    ", 在所有 Python3 提交中击败了\n",
    "67.87%\n",
    "的用户\n",
    "内存消耗 :\n",
    "13.7 MB\n",
    ", 在所有 Python3 提交中击败了\n",
    "5.66%\n",
    "的用户"
   ]
  },
  {
   "cell_type": "code",
   "execution_count": null,
   "metadata": {},
   "outputs": [],
   "source": [
    "class Solution:\n",
    "    def spiralOrder(self, matrix: List[List[int]]) -> List[int]:\n",
    "        m=len(matrix)\n",
    "        n=len(matrix[0]) if m!=0 else 0\n",
    "        res=[]\n",
    "        j,i,first,label,num=0,0,False,4,0\n",
    "        while num<(m*n):\n",
    "            if label==4 and j==i:\n",
    "                label=1\n",
    "                first=not first\n",
    "            if label==1 and j==n-1-i:label=2\n",
    "            if label==2 and i==m-n+j:label=3\n",
    "            if label==3 and i==m-1-j:label=4\n",
    "            res.append(matrix[i][j])\n",
    "            if label==1:\n",
    "                if first:j+=1\n",
    "                else:\n",
    "                    res.pop()\n",
    "                    i+=1\n",
    "                    j+=1\n",
    "                    first=not first\n",
    "                    num-=1\n",
    "            elif label==2:i+=1\n",
    "            elif label==3:j-=1\n",
    "            elif label==4:i-=1\n",
    "            num+=1\n",
    "        return res"
   ]
  }
 ],
 "metadata": {
  "kernelspec": {
   "display_name": "Python 3",
   "language": "python",
   "name": "python3"
  },
  "language_info": {
   "codemirror_mode": {
    "name": "ipython",
    "version": 3
   },
   "file_extension": ".py",
   "mimetype": "text/x-python",
   "name": "python",
   "nbconvert_exporter": "python",
   "pygments_lexer": "ipython3",
   "version": "3.7.3"
  }
 },
 "nbformat": 4,
 "nbformat_minor": 2
}

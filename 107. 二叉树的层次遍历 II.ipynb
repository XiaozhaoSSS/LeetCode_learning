{
 "cells": [
  {
   "cell_type": "code",
   "execution_count": null,
   "metadata": {},
   "outputs": [],
   "source": [
    "1.DFS"
   ]
  },
  {
   "cell_type": "code",
   "execution_count": null,
   "metadata": {},
   "outputs": [],
   "source": [
    "/**\n",
    " * Definition for a binary tree node.\n",
    " * public class TreeNode {\n",
    " *     int val;\n",
    " *     TreeNode left;\n",
    " *     TreeNode right;\n",
    " *     TreeNode(int x) { val = x; }\n",
    " * }\n",
    " */\n",
    "class Solution {\n",
    "    public List<List<Integer>> levelOrderBottom(TreeNode root) {\n",
    "        List<List<Integer>> ans = new ArrayList<>();\n",
    "        DFS(root, 0, ans);\n",
    "        return ans;\n",
    "    }\n",
    "\n",
    "    private void DFS(TreeNode root, int level, List<List<Integer>> ans) {\n",
    "        if (root == null) {\n",
    "            return;\n",
    "        }\n",
    "        // 当前层数还没有元素，先 new 一个空的列表\n",
    "        if (ans.size() <= level) {\n",
    "            ans.add(0, new ArrayList<>());\n",
    "        }\n",
    "        // 当前值加入\n",
    "        ans.get(ans.size() - 1 - level).add(root.val);\n",
    "\n",
    "        DFS(root.left, level + 1, ans);\n",
    "        DFS(root.right, level + 1, ans);\n",
    "    }\n",
    "}"
   ]
  },
  {
   "cell_type": "code",
   "execution_count": null,
   "metadata": {},
   "outputs": [],
   "source": [
    "2.BFS"
   ]
  },
  {
   "cell_type": "code",
   "execution_count": null,
   "metadata": {},
   "outputs": [],
   "source": [
    "/**\n",
    " * Definition for a binary tree node.\n",
    " * public class TreeNode {\n",
    " *     int val;\n",
    " *     TreeNode left;\n",
    " *     TreeNode right;\n",
    " *     TreeNode(int x) { val = x; }\n",
    " * }\n",
    " */\n",
    "class Solution {\n",
    "    public List<List<Integer>> levelOrderBottom(TreeNode root) {\n",
    "        Queue<TreeNode> queue = new LinkedList<TreeNode>();\n",
    "        List<List<Integer>> ans = new LinkedList<List<Integer>>();\n",
    "        if (root == null)\n",
    "            return ans;\n",
    "        queue.offer(root);\n",
    "        while (!queue.isEmpty()) {\n",
    "            int levelNum = queue.size(); // 当前层元素的个数\n",
    "            List<Integer> subList = new LinkedList<Integer>();\n",
    "            for (int i = 0; i < levelNum; i++) {\n",
    "                TreeNode curNode = queue.poll();\n",
    "                if (curNode != null) {\n",
    "                    subList.add(curNode.val);\n",
    "                    queue.offer(curNode.left);\n",
    "                    queue.offer(curNode.right);\n",
    "                }\n",
    "            }\n",
    "            if (subList.size() > 0) {\n",
    "                ans.add(0, subList);\n",
    "            }\n",
    "        }\n",
    "        return ans;\n",
    "    }\n",
    "}"
   ]
  }
 ],
 "metadata": {
  "kernelspec": {
   "display_name": "Python 3",
   "language": "python",
   "name": "python3"
  },
  "language_info": {
   "codemirror_mode": {
    "name": "ipython",
    "version": 3
   },
   "file_extension": ".py",
   "mimetype": "text/x-python",
   "name": "python",
   "nbconvert_exporter": "python",
   "pygments_lexer": "ipython3",
   "version": "3.7.3"
  }
 },
 "nbformat": 4,
 "nbformat_minor": 2
}

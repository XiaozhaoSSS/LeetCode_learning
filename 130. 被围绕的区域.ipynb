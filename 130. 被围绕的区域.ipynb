{
 "cells": [
  {
   "cell_type": "code",
   "execution_count": null,
   "metadata": {},
   "outputs": [],
   "source": [
    "1.递归查找所有与边连通的\"O\",保存其位置在{}中，对所有不在{}的位置元素置\"X\""
   ]
  },
  {
   "cell_type": "code",
   "execution_count": null,
   "metadata": {},
   "outputs": [],
   "source": [
    "class Solution:\n",
    "    def solve(self, board: List[List[str]]) -> None:\n",
    "        \"\"\"\n",
    "        Do not return anything, modify board in-place instead.\n",
    "        \"\"\"\n",
    "        def find(row,col):\n",
    "            nonlocal m,n,position_O\n",
    "            position_O.add((row,col))\n",
    "            if row>0 and board[row-1][col]==\"O\" and (row-1,col) not in position_O:find(row-1,col)\n",
    "            if col>0 and board[row][col-1]==\"O\" and (row,col-1) not in position_O:find(row,col-1)\n",
    "            if row<m-1 and board[row+1][col]==\"O\" and (row+1,col) not in position_O:find(row+1,col)\n",
    "            if col<n-1 and board[row][col+1]==\"O\" and (row,col+1) not in position_O:find(row,col+1)\n",
    "        position_O={(-1,-1)}\n",
    "        m=len(board)\n",
    "        n=len(board[0]) if m!=0 else 0\n",
    "        if m==0 or n==0:return board\n",
    "        \n",
    "        for col in range(n):\n",
    "            if board[0][col]==\"O\" and (0,col) not in position_O:find(0,col)\n",
    "            if board[m-1][col]==\"O\" and (m-1,col) not in position_O:find(m-1,col)\n",
    "        for row in range(m):\n",
    "            if board[row][0]==\"O\" and (row,0) not in position_O:find(row,0)\n",
    "            if board[row][n-1]==\"O\" and (row,n-1) not in position_O:find(row,n-1)\n",
    "\n",
    "        for row in range(m):\n",
    "            for col in range(n):\n",
    "                if (row,col) not in position_O:board[row][col]=\"X\"\n",
    "        return board"
   ]
  }
 ],
 "metadata": {
  "kernelspec": {
   "display_name": "Python 3",
   "language": "python",
   "name": "python3"
  },
  "language_info": {
   "codemirror_mode": {
    "name": "ipython",
    "version": 3
   },
   "file_extension": ".py",
   "mimetype": "text/x-python",
   "name": "python",
   "nbconvert_exporter": "python",
   "pygments_lexer": "ipython3",
   "version": "3.7.5"
  }
 },
 "nbformat": 4,
 "nbformat_minor": 2
}

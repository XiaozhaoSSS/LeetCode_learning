{
 "cells": [
  {
   "cell_type": "code",
   "execution_count": null,
   "metadata": {},
   "outputs": [],
   "source": [
    "1. 镜像条件：1空位置用无穷填充后的中序遍历数组对称 2根节点左右节点值相等"
   ]
  },
  {
   "cell_type": "code",
   "execution_count": null,
   "metadata": {},
   "outputs": [],
   "source": [
    "# Definition for a binary tree node.\n",
    "# class TreeNode:\n",
    "#     def __init__(self, x):\n",
    "#         self.val = x\n",
    "#         self.left = None\n",
    "#         self.right = None\n",
    "\n",
    "class Solution:\n",
    "    def isSymmetric(self, root: TreeNode) -> bool:\n",
    "        stack=[]\n",
    "        res=[]\n",
    "        l=float(\"Inf\")\n",
    "        r_val=root.right.val if root and root.right else l\n",
    "        l_val=root.left.val if root and root.left else l\n",
    "        label= (not root ) or (r_val==l_val)\n",
    "        while (stack or root):\n",
    "            while root:\n",
    "                stack.append(root)\n",
    "                root=root.left\n",
    "            root=stack.pop()\n",
    "            \n",
    "            if root.left==None and root.right!=None:res.append(l)\n",
    "            res.append(root.val)\n",
    "            if root.left!=None and root.right==None:res.append(l)\n",
    "            root=root.right\n",
    "        return res==res[::-1] and label"
   ]
  }
 ],
 "metadata": {
  "kernelspec": {
   "display_name": "Python 3",
   "language": "python",
   "name": "python3"
  },
  "language_info": {
   "codemirror_mode": {
    "name": "ipython",
    "version": 3
   },
   "file_extension": ".py",
   "mimetype": "text/x-python",
   "name": "python",
   "nbconvert_exporter": "python",
   "pygments_lexer": "ipython3",
   "version": "3.7.3"
  }
 },
 "nbformat": 4,
 "nbformat_minor": 2
}

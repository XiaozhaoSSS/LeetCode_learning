{
 "cells": [
  {
   "cell_type": "code",
   "execution_count": null,
   "metadata": {},
   "outputs": [],
   "source": [
    "1.双向搜索"
   ]
  },
  {
   "cell_type": "code",
   "execution_count": null,
   "metadata": {},
   "outputs": [],
   "source": [
    "class Solution:\n",
    "    def findLadders(self, beginWord: str, endWord: str, wordList: list) -> list:\n",
    "        wordList = set(wordList)  # 转换为hash实现O(1)的in判断\n",
    "        if endWord not in wordList:\n",
    "            return []\n",
    "        # 分别为答案、用于剪枝的已访问哈希，前向分支和后向分支，当前的前向分支以及后向分支中的路径和的长度\n",
    "        # 前向路径分支与后向路径分支的字典结构为{结束词：到达该结束词的路径列表}\n",
    "        res, visited, forward, backward= [], set(), {beginWord: [[beginWord]]}, {endWord: [[endWord]]}\n",
    "        while forward:\n",
    "            if len(forward) > len(backward):  # 始终从路径分支较少的一端做BFS\n",
    "                forward, backward = backward, forward\n",
    "            tmp = {}  # 存储新的前向分支\n",
    "            while forward:\n",
    "                word, paths = forward.popitem()  # 取出路径结束词以及到达它的所有路径\n",
    "                visited.add(word)  # 记录已访问\n",
    "                for i in range(len(word)):\n",
    "                    for a in 'abcdefghijklmnopqrstuvwxyz':\n",
    "                        new = word[:i]+a+word[i+1:]  # 对结束词尝试每一位的置换\n",
    "                        if new in backward:  # 如果在后向分支列表里发现置换后的词，则路径会和\n",
    "                            if paths[0][0] == beginWord:  # 前向分支是从beginWord开始的，添加路径会和的笛卡尔积\n",
    "                                res.extend(fPath + bPath[::-1] for fPath in paths for bPath in backward[new])\n",
    "                            else:  # 后向分支是从endWord开始的，添加路径会和的笛卡尔积\n",
    "                                res.extend(bPath + fPath[::-1] for fPath in paths for bPath in backward[new])\n",
    "                        if new in wordList and new not in visited:  # 仅当wordList存在该词且该词还未碰见过才进行BFS\n",
    "                            tmp[new] = tmp.get(new, []) + [path + [new] for path in paths]\n",
    "            if res:  # res已有答案，且下一次BFS的会和路径长度已超过当前长度，不是最短\n",
    "                break\n",
    "            forward = tmp  # 更新前向分支\n",
    "        return res"
   ]
  }
 ],
 "metadata": {
  "kernelspec": {
   "display_name": "Python 3",
   "language": "python",
   "name": "python3"
  },
  "language_info": {
   "codemirror_mode": {
    "name": "ipython",
    "version": 3
   },
   "file_extension": ".py",
   "mimetype": "text/x-python",
   "name": "python",
   "nbconvert_exporter": "python",
   "pygments_lexer": "ipython3",
   "version": "3.7.3"
  }
 },
 "nbformat": 4,
 "nbformat_minor": 2
}

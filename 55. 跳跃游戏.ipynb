{
 "cells": [
  {
   "cell_type": "code",
   "execution_count": null,
   "metadata": {},
   "outputs": [],
   "source": [
    "1."
   ]
  },
  {
   "cell_type": "code",
   "execution_count": null,
   "metadata": {},
   "outputs": [],
   "source": [
    "class Solution:\n",
    "    def canJump(self, nums: List[int]) -> bool:\n",
    "        zero_index=[]\n",
    "        n=len(nums)\n",
    "        if n<=1:return True\n",
    "        for i in range(n)[::-1][1:]:\n",
    "            if nums[i]==0:zero_index.append(i)\n",
    "            elif i+nums[i]<n-1 and nums[i+1:i+nums[i]+1]==[0]*nums[i]:\n",
    "                nums[i]=0\n",
    "                zero_index.append(i)\n",
    "        return bool(nums[0])"
   ]
  },
  {
   "cell_type": "markdown",
   "metadata": {},
   "source": [
    "2.\n",
    "\n",
    "执行用时 :\n",
    "116 ms\n",
    ", 在所有 Python3 提交中击败了\n",
    "80.93%\n",
    "的用户\n",
    "内存消耗 :\n",
    "16 MB\n",
    ", 在所有 Python3 提交中击败了\n",
    "5.09%\n",
    "的用户"
   ]
  },
  {
   "cell_type": "code",
   "execution_count": null,
   "metadata": {},
   "outputs": [],
   "source": [
    "class Solution:\n",
    "    def canJump(self, nums: List[int]) -> bool:\n",
    "        n=len(nums)\n",
    "        lastPos=n-1\n",
    "        for i in range(n)[::-1]:\n",
    "            if i+nums[i]>=lastPos:lastPos=i         \n",
    "        return lastPos==0"
   ]
  }
 ],
 "metadata": {
  "kernelspec": {
   "display_name": "Python 3",
   "language": "python",
   "name": "python3"
  },
  "language_info": {
   "codemirror_mode": {
    "name": "ipython",
    "version": 3
   },
   "file_extension": ".py",
   "mimetype": "text/x-python",
   "name": "python",
   "nbconvert_exporter": "python",
   "pygments_lexer": "ipython3",
   "version": "3.7.3"
  }
 },
 "nbformat": 4,
 "nbformat_minor": 2
}

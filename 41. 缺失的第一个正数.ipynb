{
 "cells": [
  {
   "cell_type": "markdown",
   "metadata": {},
   "source": [
    "1.\n",
    "\n",
    "执行用时 :\n",
    "36 ms\n",
    ", 在所有 Python3 提交中击败了\n",
    "99.53%\n",
    "的用户\n",
    "内存消耗 :\n",
    "13.7 MB\n",
    ", 在所有 Python3 提交中击败了\n",
    "5.39%\n",
    "的用户"
   ]
  },
  {
   "cell_type": "code",
   "execution_count": null,
   "metadata": {},
   "outputs": [],
   "source": [
    "class Solution:\n",
    "    def firstMissingPositive(self, nums: List[int]) -> int:\n",
    "        if 1 not in nums:return 1\n",
    "        else:\n",
    "            nums.sort()\n",
    "            i=nums.index(1)\n",
    "            for i in range(nums.index(1)+1,len(nums)):\n",
    "                if nums[i]-nums[i-1]>1:\n",
    "                    i-=1\n",
    "                    break\n",
    "            return nums[i]+1"
   ]
  }
 ],
 "metadata": {
  "kernelspec": {
   "display_name": "Python 3",
   "language": "python",
   "name": "python3"
  },
  "language_info": {
   "codemirror_mode": {
    "name": "ipython",
    "version": 3
   },
   "file_extension": ".py",
   "mimetype": "text/x-python",
   "name": "python",
   "nbconvert_exporter": "python",
   "pygments_lexer": "ipython3",
   "version": "3.7.3"
  }
 },
 "nbformat": 4,
 "nbformat_minor": 2
}

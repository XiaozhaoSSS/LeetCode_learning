{
 "cells": [
  {
   "cell_type": "markdown",
   "metadata": {},
   "source": [
    "1.常数空间，一趟扫描。当前值为0的话往前移，为2的话往后移"
   ]
  },
  {
   "cell_type": "code",
   "execution_count": null,
   "metadata": {},
   "outputs": [],
   "source": [
    "class Solution:\n",
    "    def sortColors(self, nums: List[int]) -> None:\n",
    "        \"\"\"\n",
    "        Do not return anything, modify nums in-place instead.\n",
    "        \"\"\"\n",
    "        n=len(nums)\n",
    "        i,index0,index2=0,0,n-1\n",
    "        while i<=index2:\n",
    "            if nums[i]==0:\n",
    "                curr=nums[index0]\n",
    "                nums[index0]=0\n",
    "                nums[i]=curr\n",
    "                index0+=1\n",
    "            elif nums[i]==2:\n",
    "                curr=nums[index2]\n",
    "                nums[index2]=2\n",
    "                nums[i]=curr\n",
    "                index2-=1\n",
    "                if curr==0 or 2:i-=1\n",
    "            i+=1"
   ]
  },
  {
   "cell_type": "markdown",
   "metadata": {},
   "source": [
    "2.把代码简洁一下"
   ]
  },
  {
   "cell_type": "code",
   "execution_count": null,
   "metadata": {},
   "outputs": [],
   "source": [
    "class Solution:\n",
    "    def sortColors(self, nums: List[int]) -> None:\n",
    "        \"\"\"\n",
    "        Do not return anything, modify nums in-place instead.\n",
    "        \"\"\"\n",
    "        n=len(nums)\n",
    "        i,index0,index2=0,0,n-1\n",
    "        while i<=index2:\n",
    "            if nums[i]==0:\n",
    "                nums[index0],nums[i]=nums[i],nums[index0]\n",
    "                index0+=1\n",
    "                i+=1\n",
    "            elif nums[i]==2:\n",
    "                nums[index2],nums[i]=nums[i],nums[index2]\n",
    "                index2-=1\n",
    "            else:i+=1"
   ]
  }
 ],
 "metadata": {
  "kernelspec": {
   "display_name": "Python 3",
   "language": "python",
   "name": "python3"
  },
  "language_info": {
   "codemirror_mode": {
    "name": "ipython",
    "version": 3
   },
   "file_extension": ".py",
   "mimetype": "text/x-python",
   "name": "python",
   "nbconvert_exporter": "python",
   "pygments_lexer": "ipython3",
   "version": "3.7.3"
  }
 },
 "nbformat": 4,
 "nbformat_minor": 2
}

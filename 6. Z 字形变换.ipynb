{
 "cells": [
  {
   "cell_type": "markdown",
   "metadata": {},
   "source": [
    "执行用时 :84 ms, 在所有 Python3 提交中击败了76.24%的用户\n",
    "内存消耗 :13.9 MB, 在所有 Python3 提交中击败了7.76%的用户"
   ]
  },
  {
   "cell_type": "code",
   "execution_count": null,
   "metadata": {},
   "outputs": [],
   "source": [
    "class Solution:\n",
    "    def convert(self, s: str, numRows: int) -> str:\n",
    "        if numRows==1:\n",
    "            return s\n",
    "        else:\n",
    "            s_new=[\"\"]*numRows\n",
    "            for i in range(len(s)):\n",
    "                i_new=i%(2*numRows-2)\n",
    "                row=numRows-1-abs(i_new-(numRows-1))\n",
    "                s_new[row]+=s[i]\n",
    "        return \"\".join(s_new)         "
   ]
  }
 ],
 "metadata": {
  "kernelspec": {
   "display_name": "Python 3",
   "language": "python",
   "name": "python3"
  },
  "language_info": {
   "codemirror_mode": {
    "name": "ipython",
    "version": 3
   },
   "file_extension": ".py",
   "mimetype": "text/x-python",
   "name": "python",
   "nbconvert_exporter": "python",
   "pygments_lexer": "ipython3",
   "version": "3.7.3"
  }
 },
 "nbformat": 4,
 "nbformat_minor": 2
}

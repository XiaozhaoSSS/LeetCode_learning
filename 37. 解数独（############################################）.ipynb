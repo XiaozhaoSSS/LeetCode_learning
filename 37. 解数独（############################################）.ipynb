{
 "cells": [
  {
   "cell_type": "markdown",
   "metadata": {},
   "source": [
    "1.回溯法，关键搞清如何回溯\n",
    "\n",
    "执行用时 :\n",
    "228 ms\n",
    ", 在所有 Python3 提交中击败了\n",
    "71.90%\n",
    "的用户\n",
    "内存消耗 :\n",
    "13.9 MB\n",
    ", 在所有 Python3 提交中击败了\n",
    "5.22%\n",
    "的用户"
   ]
  },
  {
   "cell_type": "code",
   "execution_count": null,
   "metadata": {},
   "outputs": [],
   "source": [
    "class Solution:\n",
    "    def solveSudoku(self, board: List[List[str]]) -> None:\n",
    "        \"\"\"\n",
    "        Do not return anything, modify board in-place instead.\n",
    "        \"\"\"\n",
    "        \n",
    "        def backtrack(i=0,j=0):\n",
    "            if board[i][j]=='.':\n",
    "                for m in range(1,10):\n",
    "                    m=str(m)\n",
    "                    if m not in rows[i] and m not in columns[j] and m not in boxs[i//3*3+j//3]:\n",
    "                        rows[i].append(m)\n",
    "                        columns[j].append(m)\n",
    "                        boxs[i//3*3+j//3].append(m)\n",
    "                        board[i][j]=m\n",
    "                        place_next_num(i,j)\n",
    "                        if not sudoku_solved:\n",
    "                            rows[i].remove(m)\n",
    "                            columns[j].remove(m)\n",
    "                            boxs[i//3*3+j//3].remove(m)\n",
    "                            board[i][j]='.'\n",
    "            else:\n",
    "                place_next_num(i,j)\n",
    "        \n",
    "        def place_next_num(i,j):\n",
    "            if i==8 and j==8:\n",
    "                nonlocal sudoku_solved\n",
    "                sudoku_solved=True\n",
    "            elif j==8:\n",
    "                backtrack(i+1,0)\n",
    "            else:\n",
    "                backtrack(i,j+1)\n",
    "        \n",
    "        rows=[[] for i in range(9)]\n",
    "        columns=[[] for i in range(9)]\n",
    "        boxs=[[] for i in range(9)]\n",
    "        for i in range(9):\n",
    "            for j in range(9):\n",
    "                num=board[i][j]\n",
    "                if num!='.':\n",
    "                    index_box=i//3*3+j//3\n",
    "                    rows[i].append(num)\n",
    "                    columns[j].append(num)\n",
    "                    boxs[index_box].append(num)\n",
    "\n",
    "        sudoku_solved=False\n",
    "        backtrack()"
   ]
  }
 ],
 "metadata": {
  "kernelspec": {
   "display_name": "Python 3",
   "language": "python",
   "name": "python3"
  },
  "language_info": {
   "codemirror_mode": {
    "name": "ipython",
    "version": 3
   },
   "file_extension": ".py",
   "mimetype": "text/x-python",
   "name": "python",
   "nbconvert_exporter": "python",
   "pygments_lexer": "ipython3",
   "version": "3.7.3"
  }
 },
 "nbformat": 4,
 "nbformat_minor": 2
}

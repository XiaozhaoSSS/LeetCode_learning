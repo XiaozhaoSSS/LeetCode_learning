{
 "cells": [
  {
   "cell_type": "markdown",
   "metadata": {},
   "source": [
    "1.暴力解法\n",
    "\n",
    "执行用时 :64 ms, 在所有 Python3 提交中击败了29.90%的用户\n",
    "内存消耗 :13.9 MB, 在所有 Python3 提交中击败了5.53%的用户"
   ]
  },
  {
   "cell_type": "code",
   "execution_count": null,
   "metadata": {},
   "outputs": [],
   "source": [
    "class Solution:\n",
    "    def longestCommonPrefix(self, strs: List[str]) -> str:\n",
    "        if len(strs)>1:\n",
    "            lcp=''\n",
    "            strs[0]+='#'\n",
    "            for i in range(len(strs[0])):\n",
    "                lcp_c=strs[0][i]\n",
    "                for s in strs[1:]:\n",
    "                    \n",
    "                    if i==len(s) or s[i]!=lcp_c:return lcp\n",
    "                lcp+=lcp_c\n",
    "\n",
    "        return strs[0] if len(strs)==1 else ''"
   ]
  },
  {
   "cell_type": "code",
   "execution_count": null,
   "metadata": {},
   "outputs": [],
   "source": [
    "2.\n",
    "\n",
    "执行用时 :\n",
    "88 ms\n",
    ", 在所有 Python3 提交中击败了\n",
    "6.33%\n",
    "的用户\n",
    "内存消耗 :\n",
    "13.9 MB\n",
    ", 在所有 Python3 提交中击败了\n",
    "5.53%\n",
    "的用户"
   ]
  },
  {
   "cell_type": "code",
   "execution_count": null,
   "metadata": {},
   "outputs": [],
   "source": [
    "class Solution:\n",
    "    def longestCommonPrefix(self, strs: List[str]) -> str:\n",
    "        n=len(strs)\n",
    "        if n==0 or '' in strs:return ''\n",
    "        if n==1:return strs[0]\n",
    "        elif n==2:\n",
    "            lcp=''\n",
    "            #if '' in strs:return lcp\n",
    "            for i in range(min(len(strs[0]),len(strs[1]))):\n",
    "                if strs[0][i]==strs[1][i]:lcp+=strs[0][i]\n",
    "                else:break\n",
    "            return lcp\n",
    "        else:\n",
    "            left=strs[:n//2]\n",
    "            right=strs[n//2:]\n",
    "            return self.longestCommonPrefix([self.longestCommonPrefix(left),self.longestCommonPrefix(right)])"
   ]
  }
 ],
 "metadata": {
  "kernelspec": {
   "display_name": "Python 3",
   "language": "python",
   "name": "python3"
  },
  "language_info": {
   "codemirror_mode": {
    "name": "ipython",
    "version": 3
   },
   "file_extension": ".py",
   "mimetype": "text/x-python",
   "name": "python",
   "nbconvert_exporter": "python",
   "pygments_lexer": "ipython3",
   "version": "3.7.1"
  }
 },
 "nbformat": 4,
 "nbformat_minor": 2
}

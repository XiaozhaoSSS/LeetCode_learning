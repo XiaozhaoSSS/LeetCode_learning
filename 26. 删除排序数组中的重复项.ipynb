{
 "cells": [
  {
   "cell_type": "markdown",
   "metadata": {},
   "source": [
    "1.\n",
    "\n",
    "执行用时 :1272 ms, 在所有 Python3 提交中击败了5.09%的用户\n",
    "内存消耗 :15.4 MB, 在所有 Python3 提交中击败了5.25%的用户"
   ]
  },
  {
   "cell_type": "code",
   "execution_count": null,
   "metadata": {},
   "outputs": [],
   "source": [
    "class Solution:\n",
    "    def removeDuplicates(self, nums: List[int]) -> int:\n",
    "        n=len(nums)\n",
    "        if n<2:return n\n",
    "        s=nums[0]\n",
    "        for num in nums[1:]:\n",
    "            if s==num:\n",
    "                nums.remove(num)\n",
    "            else:\n",
    "                s=num\n",
    "        return len(nums)"
   ]
  },
  {
   "cell_type": "markdown",
   "metadata": {},
   "source": [
    "2.双指针法\n",
    "\n",
    "执行用时 :128 ms, 在所有 Python3 提交中击败了51.69%的用户\n",
    "内存消耗 :15.2 MB, 在所有 Python3 提交中击败了5.25%的用户"
   ]
  },
  {
   "cell_type": "code",
   "execution_count": null,
   "metadata": {},
   "outputs": [],
   "source": [
    "class Solution:\n",
    "    def removeDuplicates(self, nums: List[int]) -> int:\n",
    "        n=len(nums)\n",
    "        if n<2:return n\n",
    "        i=0\n",
    "        for j in range(1,len(nums)):\n",
    "            if nums[j]!=nums[i]:\n",
    "                nums[i+1]=nums[j]\n",
    "                i+=1\n",
    "        return i+1\n",
    "        "
   ]
  }
 ],
 "metadata": {
  "kernelspec": {
   "display_name": "Python 3",
   "language": "python",
   "name": "python3"
  },
  "language_info": {
   "codemirror_mode": {
    "name": "ipython",
    "version": 3
   },
   "file_extension": ".py",
   "mimetype": "text/x-python",
   "name": "python",
   "nbconvert_exporter": "python",
   "pygments_lexer": "ipython3",
   "version": "3.7.3"
  }
 },
 "nbformat": 4,
 "nbformat_minor": 2
}

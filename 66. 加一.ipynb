{
 "cells": [
  {
   "cell_type": "markdown",
   "metadata": {},
   "source": [
    "1.\n",
    "\n",
    "执行用时 :\n",
    "36 ms\n",
    ", 在所有 python3 提交中击败了\n",
    "98.86%\n",
    "的用户\n",
    "内存消耗 :\n",
    "13.7 MB\n",
    ", 在所有 python3 提交中击败了\n",
    "5.64%\n",
    "的用户"
   ]
  },
  {
   "cell_type": "code",
   "execution_count": null,
   "metadata": {},
   "outputs": [],
   "source": [
    "class Solution:\n",
    "    def plusOne(self, digits: List[int]) -> List[int]:\n",
    "        label,i,n=1,1,len(digits)\n",
    "        while i<=n and label:\n",
    "            if digits[-i]==9:digits[-i]=0\n",
    "            else:\n",
    "                digits[-i]+=1\n",
    "                label=0\n",
    "            i+=1\n",
    "        if label:digits.insert(0,1)\n",
    "        return digits"
   ]
  }
 ],
 "metadata": {
  "kernelspec": {
   "display_name": "Python 3",
   "language": "python",
   "name": "python3"
  },
  "language_info": {
   "codemirror_mode": {
    "name": "ipython",
    "version": 3
   },
   "file_extension": ".py",
   "mimetype": "text/x-python",
   "name": "python",
   "nbconvert_exporter": "python",
   "pygments_lexer": "ipython3",
   "version": "3.7.3"
  }
 },
 "nbformat": 4,
 "nbformat_minor": 2
}

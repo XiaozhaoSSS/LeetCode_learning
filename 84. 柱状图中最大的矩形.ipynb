{
 "cells": [
  {
   "cell_type": "code",
   "execution_count": null,
   "metadata": {},
   "outputs": [],
   "source": [
    "1.分治"
   ]
  },
  {
   "cell_type": "code",
   "execution_count": null,
   "metadata": {},
   "outputs": [],
   "source": [
    "class Solution:\n",
    "    def largestRectangleArea(self, heights: List[int]) -> int:\n",
    "        heights=('#'+'##'.join([str(x) for x in heights])+'#')\n",
    "        def gen(s):\n",
    "            s=[int(x) for x in s.split('#') if x]\n",
    "            n=len(s)\n",
    "            if n==0:return 0\n",
    "            elif n==1:return s[0]\n",
    "            else:\n",
    "                curr_min=min(s)\n",
    "                res=n*curr_min\n",
    "                curr_list=('#'+'##'.join([str(x) for x in s])+'#').split('#'+str(curr_min)+'#')\n",
    "                res=max([res]+[gen(x) for x in curr_list if x])\n",
    "                return res\n",
    "        \n",
    "        return gen(heights)"
   ]
  },
  {
   "cell_type": "code",
   "execution_count": null,
   "metadata": {},
   "outputs": [],
   "source": [
    "class Solution:\n",
    "    def largestRectangleArea(self, heights: List[int]) -> int:\n",
    "        \n",
    "        def gen(s):\n",
    "            n=len(s)\n",
    "            if n==0:return 0\n",
    "            elif n==1:return s[0]\n",
    "            else:\n",
    "                index=0\n",
    "                for i in range(n):\n",
    "                    if s[index]>s[i]:index=i\n",
    "                return max(n*s[index],gen(s[:index]),gen(s[index+1:]))\n",
    "        return gen(heights)"
   ]
  },
  {
   "cell_type": "code",
   "execution_count": null,
   "metadata": {},
   "outputs": [],
   "source": [
    "2.栈"
   ]
  },
  {
   "cell_type": "code",
   "execution_count": null,
   "metadata": {},
   "outputs": [],
   "source": [
    "class Solution:\n",
    "    def largestRectangleArea(self, heights: List[int]) -> int:\n",
    "        stack = []\n",
    "        heights = [0] + heights + [0]\n",
    "        res = 0\n",
    "        for i in range(len(heights)):\n",
    "            #print(stack)\n",
    "            while stack and heights[stack[-1]] > heights[i]:\n",
    "                tmp = stack.pop()\n",
    "                res = max(res, (i - stack[-1] - 1) * heights[tmp])\n",
    "            stack.append(i)\n",
    "        return res"
   ]
  }
 ],
 "metadata": {
  "kernelspec": {
   "display_name": "Python 3",
   "language": "python",
   "name": "python3"
  },
  "language_info": {
   "codemirror_mode": {
    "name": "ipython",
    "version": 3
   },
   "file_extension": ".py",
   "mimetype": "text/x-python",
   "name": "python",
   "nbconvert_exporter": "python",
   "pygments_lexer": "ipython3",
   "version": "3.7.1"
  }
 },
 "nbformat": 4,
 "nbformat_minor": 2
}

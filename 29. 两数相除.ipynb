{
 "cells": [
  {
   "cell_type": "markdown",
   "metadata": {},
   "source": [
    "1.根据长度一步步缩减(思路有点复杂)\n",
    "\n",
    "执行用时 :\n",
    "56 ms\n",
    ", 在所有 Python3 提交中击败了\n",
    "53.87%\n",
    "的用户\n",
    "内存消耗 :\n",
    "13.8 MB\n",
    ", 在所有 Python3 提交中击败了\n",
    "5.30%\n",
    "的用户"
   ]
  },
  {
   "cell_type": "code",
   "execution_count": null,
   "metadata": {},
   "outputs": [],
   "source": [
    "class Solution:\n",
    "    def divide(self, dividend: int, divisor: int) -> int:\n",
    "        s=-1 if dividend<0 and divisor>0 or dividend>0 and divisor<0 else 1\n",
    "        dividend=abs(dividend)\n",
    "        divisor=abs(divisor)\n",
    "        i=0\n",
    "        while dividend>=divisor:\n",
    "            dividend=str(dividend)   \n",
    "            i_list=[dividend[0]]\n",
    "            curr_list=[]\n",
    "            curr0=0\n",
    "            n_zero=len(dividend)-len(str(divisor))-1\n",
    "            if n_zero>0:\n",
    "                while n_zero>0:\n",
    "                    i_list.append('0')\n",
    "                    curr_list.append('0')\n",
    "                    n_zero-=1\n",
    "                #print(i_list)\n",
    "                i+=int(''.join(i_list))\n",
    "                for j in range(int(i_list[0])):curr0+=divisor\n",
    "                curr=int(str(curr0)+''.join(curr_list))\n",
    "                dividend=int(dividend)-curr\n",
    "            else:\n",
    "                dividend=int(dividend)\n",
    "                while dividend>=divisor:\n",
    "                        i+=1\n",
    "                        dividend-=divisor\n",
    "        if s==1 and i>=2**31:i=2**31-1\n",
    "        elif s==-1 and i>=2**31:i=2**31\n",
    "        \n",
    "        return -i if s==-1 else i"
   ]
  },
  {
   "cell_type": "markdown",
   "metadata": {},
   "source": [
    "2.dividend=divisor*（z^n+z^m...+）用指数增加的方式不断逼近被除数，思路稍微清晰些\n",
    "\n",
    "执行用时 :\n",
    "64 ms\n",
    ", 在所有 Python3 提交中击败了\n",
    "29.35%\n",
    "的用户\n",
    "内存消耗 :\n",
    "14 MB\n",
    ", 在所有 Python3 提交中击败了\n",
    "5.30%\n",
    "的用户"
   ]
  },
  {
   "cell_type": "code",
   "execution_count": null,
   "metadata": {},
   "outputs": [],
   "source": [
    "class Solution:\n",
    "    def divide(self, dividend: int, divisor: int) -> int:\n",
    "        s=-1 if dividend<0 and divisor>0 or dividend>0 and divisor<0 else 1\n",
    "        dividend=abs(dividend)\n",
    "        divisor=abs(divisor)\n",
    "        i=0\n",
    "        while dividend>=divisor:\n",
    "            curr=divisor\n",
    "            j=0\n",
    "            while dividend>=curr+curr:\n",
    "                    j+=1\n",
    "                    curr+=curr\n",
    "            dividend-=curr\n",
    "            i+=2**j\n",
    "                        \n",
    "        if s==1 and i>=2**31:i=2**31-1\n",
    "        elif s==-1 and i>=2**31:i=2**31\n",
    "        \n",
    "        return -i if s==-1 else i"
   ]
  },
  {
   "cell_type": "markdown",
   "metadata": {},
   "source": [
    "3.本质和2一样,但是用移位运算，速度快些\n",
    "\n",
    "执行用时 :\n",
    "44 ms\n",
    ", 在所有 Python3 提交中击败了\n",
    "95.15%\n",
    "的用户\n",
    "内存消耗 :\n",
    "13.9 MB\n",
    ", 在所有 Python3 提交中击败了\n",
    "5.30%\n",
    "的用户"
   ]
  },
  {
   "cell_type": "code",
   "execution_count": null,
   "metadata": {},
   "outputs": [],
   "source": [
    "class Solution:\n",
    "    def divide(self, dividend: int, divisor: int) -> int:\n",
    "        sign = (dividend > 0) ^ (divisor > 0)\n",
    "        dividend = abs(dividend)\n",
    "        divisor = abs(divisor)\n",
    "        count = 0\n",
    "        #把除数不断左移，直到它大于被除数\n",
    "        while dividend >= divisor:\n",
    "            count += 1\n",
    "            divisor <<= 1\n",
    "        result = 0\n",
    "        while count > 0:\n",
    "            count -= 1\n",
    "            divisor >>= 1\n",
    "            if divisor <= dividend:\n",
    "                result += 1 << count #这里的移位运算是把二进制（第count+1位上的1）转换为十进制\n",
    "                dividend -= divisor\n",
    "        if sign: result = -result\n",
    "        return result if -(1<<31) <= result <= (1<<31)-1 else (1<<31)-1 "
   ]
  }
 ],
 "metadata": {
  "kernelspec": {
   "display_name": "Python 3",
   "language": "python",
   "name": "python3"
  },
  "language_info": {
   "codemirror_mode": {
    "name": "ipython",
    "version": 3
   },
   "file_extension": ".py",
   "mimetype": "text/x-python",
   "name": "python",
   "nbconvert_exporter": "python",
   "pygments_lexer": "ipython3",
   "version": "3.7.3"
  }
 },
 "nbformat": 4,
 "nbformat_minor": 2
}

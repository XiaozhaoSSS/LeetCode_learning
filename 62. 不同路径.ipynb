{
 "cells": [
  {
   "cell_type": "markdown",
   "metadata": {},
   "source": [
    "1.从n个不同元素中取m个可重复元素，设每个元素被取个数为x1,x2...xn,x1+x2+...+xn=m,转化为(x1+1)+(x2+1)+...+(xn+1)=m+n,\n",
    "相当于把m+n个球放到n个盒子中，且不能有空盒，相当于在m+n个球(m+n-1个空位)中插入n-1个挡板，即C(m+n-1,n-1)。\n",
    "\n",
    "执行用时 :\n",
    "36 ms\n",
    ", 在所有 python3 提交中击败了\n",
    "97.42%\n",
    "的用户\n",
    "内存消耗 :\n",
    "13.8 MB\n",
    ", 在所有 python3 提交中击败了\n",
    "5.14%\n",
    "的用户"
   ]
  },
  {
   "cell_type": "code",
   "execution_count": null,
   "metadata": {},
   "outputs": [],
   "source": [
    "class Solution:\n",
    "    def uniquePaths(self, m: int, n: int) -> int:\n",
    "        import math\n",
    "        return int(math.factorial(m+n-2)/(math.factorial(n-1)*math.factorial(m-1)))"
   ]
  },
  {
   "cell_type": "markdown",
   "metadata": {},
   "source": [
    "2.动态规划"
   ]
  },
  {
   "cell_type": "code",
   "execution_count": null,
   "metadata": {},
   "outputs": [],
   "source": [
    "class Solution:\n",
    "    def uniquePaths(self, m: int, n: int) -> int:\n",
    "        cur = [1] * n\n",
    "        for i in range(1, m):\n",
    "            for j in range(1, n):\n",
    "                cur[j] += cur[j-1]\n",
    "        return cur[-1]"
   ]
  }
 ],
 "metadata": {
  "kernelspec": {
   "display_name": "Python 3",
   "language": "python",
   "name": "python3"
  },
  "language_info": {
   "codemirror_mode": {
    "name": "ipython",
    "version": 3
   },
   "file_extension": ".py",
   "mimetype": "text/x-python",
   "name": "python",
   "nbconvert_exporter": "python",
   "pygments_lexer": "ipython3",
   "version": "3.7.3"
  }
 },
 "nbformat": 4,
 "nbformat_minor": 2
}

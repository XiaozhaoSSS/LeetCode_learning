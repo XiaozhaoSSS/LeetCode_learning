{
 "cells": [
  {
   "cell_type": "code",
   "execution_count": null,
   "metadata": {},
   "outputs": [],
   "source": [
    "1.同上题方法，计算每层节点个数方法不同"
   ]
  },
  {
   "cell_type": "code",
   "execution_count": null,
   "metadata": {},
   "outputs": [],
   "source": [
    "\"\"\"\n",
    "# Definition for a Node.\n",
    "class Node:\n",
    "    def __init__(self, val, left, right, next):\n",
    "        self.val = val\n",
    "        self.left = left\n",
    "        self.right = right\n",
    "        self.next = next\n",
    "\"\"\"\n",
    "class Solution:\n",
    "    def connect(self, root: 'Node') -> 'Node':\n",
    "        stack=[]\n",
    "        if root:\n",
    "            stack.append(root)\n",
    "            num=1\n",
    "        while stack:\n",
    "            next_num=0\n",
    "            for i in range(num):\n",
    "                node=stack.pop()\n",
    "                if node.left!=None:\n",
    "                    stack.insert(0,node.left)\n",
    "                    next_num+=1\n",
    "                if node.right!=None:\n",
    "                    stack.insert(0,node.right)\n",
    "                    next_num+=1\n",
    "                node.next=stack[-1] if i!=num-1 else None\n",
    "            num=next_num\n",
    "        return root"
   ]
  }
 ],
 "metadata": {
  "kernelspec": {
   "display_name": "Python 3",
   "language": "python",
   "name": "python3"
  },
  "language_info": {
   "codemirror_mode": {
    "name": "ipython",
    "version": 3
   },
   "file_extension": ".py",
   "mimetype": "text/x-python",
   "name": "python",
   "nbconvert_exporter": "python",
   "pygments_lexer": "ipython3",
   "version": "3.7.3"
  }
 },
 "nbformat": 4,
 "nbformat_minor": 2
}

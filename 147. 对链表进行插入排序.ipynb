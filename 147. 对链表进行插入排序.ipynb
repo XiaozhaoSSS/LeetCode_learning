{
 "cells": [
  {
   "cell_type": "code",
   "execution_count": null,
   "metadata": {},
   "outputs": [],
   "source": [
    "1."
   ]
  },
  {
   "cell_type": "code",
   "execution_count": null,
   "metadata": {},
   "outputs": [],
   "source": [
    "# Definition for singly-linked list.\n",
    "# class ListNode:\n",
    "#     def __init__(self, x):\n",
    "#         self.val = x\n",
    "#         self.next = None\n",
    "\n",
    "class Solution:\n",
    "    def insertionSortList(self, head: ListNode) -> ListNode:\n",
    "        dummyhead=ListNode(-float(\"Inf\"))\n",
    "        dummyhead.next=head\n",
    "        p=dummyhead.next\n",
    "        while p and p.next:\n",
    "            if p.next.val<p.val:\n",
    "                q=p.next\n",
    "                p.next=p.next.next\n",
    "                index=dummyhead\n",
    "                while True:\n",
    "                    if index.val<=q.val and index.next.val>q.val:break\n",
    "                    index=index.next\n",
    "                q.next=index.next\n",
    "                index.next=q\n",
    "            else:p=p.next\n",
    "        return dummyhead.next"
   ]
  }
 ],
 "metadata": {
  "kernelspec": {
   "display_name": "Python 3",
   "language": "python",
   "name": "python3"
  },
  "language_info": {
   "codemirror_mode": {
    "name": "ipython",
    "version": 3
   },
   "file_extension": ".py",
   "mimetype": "text/x-python",
   "name": "python",
   "nbconvert_exporter": "python",
   "pygments_lexer": "ipython3",
   "version": "3.7.3"
  }
 },
 "nbformat": 4,
 "nbformat_minor": 2
}

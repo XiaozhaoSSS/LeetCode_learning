{
 "cells": [
  {
   "cell_type": "code",
   "execution_count": null,
   "metadata": {},
   "outputs": [],
   "source": [
    "1.三次反转"
   ]
  },
  {
   "cell_type": "code",
   "execution_count": null,
   "metadata": {},
   "outputs": [],
   "source": [
    "class Solution:\n",
    "    def rotate(self, nums: List[int], k: int) -> None:\n",
    "        \"\"\"\n",
    "        Do not return anything, modify nums in-place instead.\n",
    "        \"\"\"\n",
    "        n=len(nums)\n",
    "        k=k%n\n",
    "        for i in range(n//2):\n",
    "            temp=nums[n-1-i]\n",
    "            nums[n-1-i]=nums[i]\n",
    "            nums[i]=temp\n",
    "        for i in range(k//2):\n",
    "            temp=nums[k-1-i]\n",
    "            nums[k-1-i]=nums[i]\n",
    "            nums[i]=temp\n",
    "        for i in range((n-k)//2):\n",
    "            temp=nums[n-1-i]\n",
    "            nums[n-1-i]=nums[k+i]\n",
    "            nums[k+i]=temp\n"
   ]
  }
 ],
 "metadata": {
  "kernelspec": {
   "display_name": "Python 3",
   "language": "python",
   "name": "python3"
  },
  "language_info": {
   "codemirror_mode": {
    "name": "ipython",
    "version": 3
   },
   "file_extension": ".py",
   "mimetype": "text/x-python",
   "name": "python",
   "nbconvert_exporter": "python",
   "pygments_lexer": "ipython3",
   "version": "3.7.3"
  }
 },
 "nbformat": 4,
 "nbformat_minor": 2
}

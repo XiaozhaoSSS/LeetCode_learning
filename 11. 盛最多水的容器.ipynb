{
 "cells": [
  {
   "cell_type": "markdown",
   "metadata": {},
   "source": [
    "1.双指针法\n",
    "\n",
    "执行用时 :224 ms, 在所有 Python3 提交中击败了21.40%的用户\n",
    "内存消耗 :15.4 MB, 在所有 Python3 提交中击败了5.18%的用户"
   ]
  },
  {
   "cell_type": "code",
   "execution_count": null,
   "metadata": {},
   "outputs": [],
   "source": [
    "class Solution:\n",
    "    def maxArea(self, height: List[int]) -> int:\n",
    "        maxarea=0\n",
    "        i=0\n",
    "        j=len(height)-1\n",
    "        while i!=j:\n",
    "            area=min(height[i],height[j])*(j-i)\n",
    "            if area>maxarea:maxarea=area\n",
    "            if height[i]>height[j]:j-=1\n",
    "            else:i+=1\n",
    "        return maxarea"
   ]
  },
  {
   "cell_type": "markdown",
   "metadata": {},
   "source": [
    "2.稍有些暴力的解法（时间超限了）"
   ]
  },
  {
   "cell_type": "code",
   "execution_count": null,
   "metadata": {},
   "outputs": [],
   "source": [
    "class Solution:\n",
    "    def maxArea(self, height: List[int]) -> int:\n",
    "\n",
    "        i_list=list(range(len(height)))\n",
    "        maxarea=0\n",
    "        for i,a in enumerate(height):\n",
    "            index=[x>=a for x in height]\n",
    "            area=max([abs(y-i) for y in [x for indx,x in enumerate(i_list) if index[indx] == True]]) * a\n",
    "            if area>maxarea:maxarea=area\n",
    "        return maxarea"
   ]
  }
 ],
 "metadata": {
  "kernelspec": {
   "display_name": "Python 3",
   "language": "python",
   "name": "python3"
  },
  "language_info": {
   "codemirror_mode": {
    "name": "ipython",
    "version": 3
   },
   "file_extension": ".py",
   "mimetype": "text/x-python",
   "name": "python",
   "nbconvert_exporter": "python",
   "pygments_lexer": "ipython3",
   "version": "3.7.3"
  }
 },
 "nbformat": 4,
 "nbformat_minor": 2
}

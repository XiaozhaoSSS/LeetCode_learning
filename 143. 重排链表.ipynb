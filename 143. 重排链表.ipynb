{
 "cells": [
  {
   "cell_type": "code",
   "execution_count": null,
   "metadata": {},
   "outputs": [],
   "source": []
  },
  {
   "cell_type": "code",
   "execution_count": null,
   "metadata": {},
   "outputs": [],
   "source": [
    "# Definition for singly-linked list.\n",
    "# class ListNode:\n",
    "#     def __init__(self, x):\n",
    "#         self.val = x\n",
    "#         self.next = None\n",
    "\n",
    "class Solution:\n",
    "    def reorderList(self, head: ListNode) -> None:\n",
    "        \"\"\"\n",
    "        Do not return anything, modify head in-place instead.\n",
    "        \"\"\"\n",
    "        ####1.统计链表元素个数\n",
    "        num=0\n",
    "        dummyhead=ListNode(0)\n",
    "        dummyhead.next=head\n",
    "        p=dummyhead.next\n",
    "        while p:\n",
    "            num+=1\n",
    "            p=p.next\n",
    "        if num<=2:return dummyhead.next\n",
    "        \n",
    "        ####2.对中间往后的元素进行链表反转\n",
    "        p=dummyhead.next\n",
    "        index=0\n",
    "        while index<num//2:#找到中间元素位置\n",
    "            p=p.next\n",
    "            index+=1\n",
    "        curr_p=p.next\n",
    "        p.next=None\n",
    "        while curr_p:#间往后的元素反转\n",
    "            next_p=curr_p.next\n",
    "            curr_p.next=p\n",
    "            p=curr_p\n",
    "            curr_p=next_p\n",
    "        \n",
    "        ###3.重排链表，前后交替进行索引\n",
    "        right,left=p,dummyhead.next\n",
    "        while right.next!=None:\n",
    "            next_left=left.next\n",
    "            next_right=right.next\n",
    "            left.next=right\n",
    "            right.next=next_left\n",
    "            left,right=next_left,next_right\n",
    "        return dummyhead.next"
   ]
  }
 ],
 "metadata": {
  "kernelspec": {
   "display_name": "Python 3",
   "language": "python",
   "name": "python3"
  },
  "language_info": {
   "codemirror_mode": {
    "name": "ipython",
    "version": 3
   },
   "file_extension": ".py",
   "mimetype": "text/x-python",
   "name": "python",
   "nbconvert_exporter": "python",
   "pygments_lexer": "ipython3",
   "version": "3.7.3"
  }
 },
 "nbformat": 4,
 "nbformat_minor": 2
}

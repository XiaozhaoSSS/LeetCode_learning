{
 "cells": [
  {
   "cell_type": "code",
   "execution_count": null,
   "metadata": {},
   "outputs": [],
   "source": [
    "1."
   ]
  },
  {
   "cell_type": "code",
   "execution_count": null,
   "metadata": {},
   "outputs": [],
   "source": [
    "class Solution:\n",
    "    def evalRPN(self, tokens: List[str]) -> int:\n",
    "        stack=[]\n",
    "        for value in tokens:\n",
    "            if value.isdigit() or value[0]==\"-\" and value[1:].isdigit():stack.append(int(value))\n",
    "            elif value==\"+\":stack.append(stack.pop()+stack.pop())\n",
    "            elif value==\"-\":stack.append(-stack.pop()+stack.pop())\n",
    "            elif value==\"*\":stack.append(stack.pop()*stack.pop())\n",
    "            elif value==\"/\":\n",
    "                a,b=stack.pop(),stack.pop()\n",
    "                stack.append(int(b/a))\n",
    "        return stack[-1]"
   ]
  }
 ],
 "metadata": {
  "kernelspec": {
   "display_name": "Python 3",
   "language": "python",
   "name": "python3"
  },
  "language_info": {
   "codemirror_mode": {
    "name": "ipython",
    "version": 3
   },
   "file_extension": ".py",
   "mimetype": "text/x-python",
   "name": "python",
   "nbconvert_exporter": "python",
   "pygments_lexer": "ipython3",
   "version": "3.7.3"
  }
 },
 "nbformat": 4,
 "nbformat_minor": 2
}

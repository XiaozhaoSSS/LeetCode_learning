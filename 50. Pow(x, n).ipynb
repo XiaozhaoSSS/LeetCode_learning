{
 "cells": [
  {
   "cell_type": "markdown",
   "metadata": {},
   "source": [
    "1.递归，x^n=x^(n//2)*x^(n//2)*x^(n%2)\n",
    "\n",
    "执行用时 :\n",
    "40 ms\n",
    ", 在所有 Python3 提交中击败了\n",
    "94.30%\n",
    "的用户\n",
    "内存消耗 :\n",
    "13.9 MB\n",
    ", 在所有 Python3 提交中击败了\n",
    "5.24%\n",
    "的用户"
   ]
  },
  {
   "cell_type": "code",
   "execution_count": null,
   "metadata": {},
   "outputs": [],
   "source": [
    "class Solution:\n",
    "    def myPow(self, x: float, n: int) -> float:\n",
    "        label=True\n",
    "        if n<0:\n",
    "            label=False\n",
    "            n=-n\n",
    "        return self.Calculation(x,n) if label else 1/self.Calculation(x,n)\n",
    "    def Calculation(self,x,n):\n",
    "        if n==0:return 1\n",
    "        elif n==1:return x\n",
    "        else:\n",
    "            curr=self.Calculation(x,n//2)\n",
    "            return curr*curr*self.Calculation(x,n%2)"
   ]
  }
 ],
 "metadata": {
  "kernelspec": {
   "display_name": "Python 3",
   "language": "python",
   "name": "python3"
  },
  "language_info": {
   "codemirror_mode": {
    "name": "ipython",
    "version": 3
   },
   "file_extension": ".py",
   "mimetype": "text/x-python",
   "name": "python",
   "nbconvert_exporter": "python",
   "pygments_lexer": "ipython3",
   "version": "3.7.3"
  }
 },
 "nbformat": 4,
 "nbformat_minor": 2
}

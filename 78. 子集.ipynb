{
 "cells": [
  {
   "cell_type": "markdown",
   "metadata": {},
   "source": [
    "1.递归，树"
   ]
  },
  {
   "cell_type": "code",
   "execution_count": null,
   "metadata": {},
   "outputs": [],
   "source": [
    "class Solution:\n",
    "    def subsets(self, nums: List[int]) -> List[List[int]]:\n",
    "        res=[[]]\n",
    "        curr=[]\n",
    "        n=len(nums)\n",
    "        def gen(begin=0):\n",
    "            nonlocal n\n",
    "            if begin!=n-1:  \n",
    "                for i in range(begin,n):\n",
    "                    curr.append(nums[i])\n",
    "                    res.append(curr[:])\n",
    "                    gen(i+1)\n",
    "                    curr.pop()\n",
    "            else:res.append(curr+[nums[begin]])\n",
    "        gen()\n",
    "        return res"
   ]
  }
 ],
 "metadata": {
  "kernelspec": {
   "display_name": "Python 3",
   "language": "python",
   "name": "python3"
  },
  "language_info": {
   "codemirror_mode": {
    "name": "ipython",
    "version": 3
   },
   "file_extension": ".py",
   "mimetype": "text/x-python",
   "name": "python",
   "nbconvert_exporter": "python",
   "pygments_lexer": "ipython3",
   "version": "3.7.1"
  }
 },
 "nbformat": 4,
 "nbformat_minor": 2
}

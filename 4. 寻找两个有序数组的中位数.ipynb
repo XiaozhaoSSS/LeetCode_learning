{
 "cells": [
  {
   "cell_type": "markdown",
   "metadata": {},
   "source": [
    "1."
   ]
  },
  {
   "cell_type": "code",
   "execution_count": null,
   "metadata": {},
   "outputs": [],
   "source": [
    "class Solution:\n",
    "    def findMedianSortedArrays(self, nums1: List[int], nums2: List[int]) -> float:\n",
    "        m,n=len(nums1),len(nums2)\n",
    "        if nums1==[]:\n",
    "            return (nums2[(n+1)//2-1]+nums2[(n+2)//2-1])/2\n",
    "        elif nums2==[]:\n",
    "            return (nums1[(m+1)//2-1]+nums1[(m+2)//2-1])/2\n",
    "        else:\n",
    "            i,j=0,0\n",
    "            a=b=min(nums1+nums2)\n",
    "            for x in range(1,(m+n+2)//2+1):\n",
    "                if i>=m:\n",
    "                    b=nums2[j]\n",
    "                    j+=1\n",
    "                elif j>=n:\n",
    "                    b=nums1[i]\n",
    "                    i+=1\n",
    "                    \n",
    "                else:\n",
    "                    if nums1[i]>nums2[j]:\n",
    "                        b=nums2[j]\n",
    "                        j+=1\n",
    "                    else:\n",
    "                        b=nums1[i]\n",
    "                        i+=1\n",
    "                if x==(m+n+1)//2:\n",
    "                        a=b\n",
    "            return (a+b)/2"
   ]
  },
  {
   "cell_type": "markdown",
   "metadata": {},
   "source": [
    "2."
   ]
  },
  {
   "cell_type": "code",
   "execution_count": null,
   "metadata": {},
   "outputs": [],
   "source": [
    "class Solution:\n",
    "    def findMedianSortedArrays(self, nums1: List[int], nums2: List[int]) -> float:\n",
    "        li = sorted((nums1 + nums2))\n",
    "        s = len(li)\n",
    "        if s % 2:\n",
    "            return float(li[s // 2])\n",
    "        else:\n",
    "            return float((li[s // 2 - 1] + li[s // 2]) / 2)"
   ]
  },
  {
   "cell_type": "markdown",
   "metadata": {},
   "source": [
    "3."
   ]
  },
  {
   "cell_type": "code",
   "execution_count": null,
   "metadata": {},
   "outputs": [],
   "source": [
    "class Solution:\n",
    "    def findMedianSortedArrays(self, A: List[int], B: List[int]) -> float:\n",
    "        m, n = len(A), len(B)\n",
    "        if m > n:\n",
    "            A, B, m, n = B, A, n, m\n",
    "        if n == 0:\n",
    "            raise ValueError\n",
    "\n",
    "        imin, imax, half_len = 0, m, (m + n + 1) / 2\n",
    "        while imin <= imax:\n",
    "            i = int((imin + imax) / 2)\n",
    "            j = int(half_len - i)\n",
    "            if i < m and B[j-1] > A[i]:\n",
    "                # i is too small, must increase it\n",
    "                imin = i + 1\n",
    "            elif i > 0 and A[i-1] > B[j]:\n",
    "                # i is too big, must decrease it\n",
    "                imax = i - 1\n",
    "            else:\n",
    "                # i is perfect\n",
    "\n",
    "                if i == 0: max_of_left = B[j-1]\n",
    "                elif j == 0: max_of_left = A[i-1]\n",
    "                else: max_of_left = max(A[i-1], B[j-1])\n",
    "\n",
    "                if (m + n) % 2 == 1:\n",
    "                    return max_of_left\n",
    "\n",
    "                if i == m: min_of_right = B[j]\n",
    "                elif j == n: min_of_right = A[i]\n",
    "                else: min_of_right = min(A[i], B[j])\n",
    "\n",
    "                return (max_of_left + min_of_right) / 2.0"
   ]
  }
 ],
 "metadata": {
  "kernelspec": {
   "display_name": "Python 3",
   "language": "python",
   "name": "python3"
  },
  "language_info": {
   "codemirror_mode": {
    "name": "ipython",
    "version": 3
   },
   "file_extension": ".py",
   "mimetype": "text/x-python",
   "name": "python",
   "nbconvert_exporter": "python",
   "pygments_lexer": "ipython3",
   "version": "3.7.3"
  }
 },
 "nbformat": 4,
 "nbformat_minor": 2
}

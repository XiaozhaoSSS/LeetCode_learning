{
 "cells": [
  {
   "cell_type": "code",
   "execution_count": null,
   "metadata": {},
   "outputs": [],
   "source": [
    "1.队列，每次出队当前节点，入队当前节点的左节点、右节点；用dict存储每层深度下节点"
   ]
  },
  {
   "cell_type": "code",
   "execution_count": null,
   "metadata": {},
   "outputs": [],
   "source": [
    "# Definition for a binary tree node.\n",
    "# class TreeNode:\n",
    "#     def __init__(self, x):\n",
    "#         self.val = x\n",
    "#         self.left = None\n",
    "#         self.right = None\n",
    "\n",
    "class Solution:\n",
    "    def levelOrder(self, root: TreeNode) -> List[List[int]]:\n",
    "        queue=[]\n",
    "        res={}\n",
    "        depth=[]\n",
    "        if root:\n",
    "            queue.append(root)\n",
    "            depth.append(0)\n",
    "        while queue:\n",
    "            curr_root=queue.pop()\n",
    "            curr_depth=depth.pop()\n",
    "            res[curr_depth]=res.get(curr_depth,[])+[curr_root.val]\n",
    "            if curr_root.left:\n",
    "                queue.insert(0,curr_root.left)\n",
    "                depth.insert(0,curr_depth+1)\n",
    "            if curr_root.right:\n",
    "                queue.insert(0,curr_root.right)\n",
    "                depth.insert(0,curr_depth+1)\n",
    "        return list(res.values())"
   ]
  }
 ],
 "metadata": {
  "kernelspec": {
   "display_name": "Python 3",
   "language": "python",
   "name": "python3"
  },
  "language_info": {
   "codemirror_mode": {
    "name": "ipython",
    "version": 3
   },
   "file_extension": ".py",
   "mimetype": "text/x-python",
   "name": "python",
   "nbconvert_exporter": "python",
   "pygments_lexer": "ipython3",
   "version": "3.7.3"
  }
 },
 "nbformat": 4,
 "nbformat_minor": 2
}

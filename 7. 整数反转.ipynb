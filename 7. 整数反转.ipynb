{
 "cells": [
  {
   "cell_type": "markdown",
   "metadata": {},
   "source": [
    "1.\n",
    "\n",
    "执行用时 :48 ms, 在所有 Python3 提交中击败了85.37%的用户\n",
    "内存消耗 :13.9 MB, 在所有 Python3 提交中击败了5.21%的用户"
   ]
  },
  {
   "cell_type": "code",
   "execution_count": null,
   "metadata": {},
   "outputs": [],
   "source": [
    "class Solution:\n",
    "    def reverse(self, x: int) -> int:\n",
    "        x_str=str(x)\n",
    "        x_str_reverse=x_str[::-1]\n",
    "        for index in range(len(x_str_reverse)):\n",
    "            if x_str_reverse[index]!=0:break\n",
    "        if x_str_reverse[-1]=='-':\n",
    "            x_str_new='-'+x_str_reverse[index:-1]\n",
    "        else:\n",
    "            x_str_new=x_str_reverse[index:]\n",
    "        x_new=int(x_str_new)\n",
    "\n",
    "        return x_new if x_new>= -2**31 and x_new < 2**31-1 else 0"
   ]
  },
  {
   "cell_type": "markdown",
   "metadata": {},
   "source": [
    "2.用数学方法，取余 pop\n",
    "\n",
    "执行用时 :52 ms, 在所有 Python3 提交中击败了69.23%的用户\n",
    "内存消耗 :14.2 MB, 在所有 Python3 提交中击败了5.21%的用户"
   ]
  },
  {
   "cell_type": "code",
   "execution_count": null,
   "metadata": {},
   "outputs": [],
   "source": [
    "class Solution:\n",
    "    def reverse(self, x: int) -> int:\n",
    "        rev=0\n",
    "        while x!=0:\n",
    "            print(x)\n",
    "            pop=(x//abs(x))*(abs(x)%10)\n",
    "            rev=rev*10+pop\n",
    "            print(pop)\n",
    "            if rev<-2**31 or rev>2**31-1:\n",
    "                return 0\n",
    "            x=(x//abs(x))*(abs(x)//10)\n",
    "        return rev"
   ]
  }
 ],
 "metadata": {
  "kernelspec": {
   "display_name": "Python 3",
   "language": "python",
   "name": "python3"
  },
  "language_info": {
   "codemirror_mode": {
    "name": "ipython",
    "version": 3
   },
   "file_extension": ".py",
   "mimetype": "text/x-python",
   "name": "python",
   "nbconvert_exporter": "python",
   "pygments_lexer": "ipython3",
   "version": "3.7.1"
  }
 },
 "nbformat": 4,
 "nbformat_minor": 2
}

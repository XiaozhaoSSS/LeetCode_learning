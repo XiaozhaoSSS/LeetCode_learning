{
 "cells": [
  {
   "cell_type": "code",
   "execution_count": null,
   "metadata": {},
   "outputs": [],
   "source": [
    "1.状态机的解法，s0代表初始状态，初始时钱是 0。s1代表第一次买入后当前的钱，s2代表第一次卖出后当前的前，\n",
    "s3代表第二次买入后当前的钱，s4代表第二次卖出后当前的钱。"
   ]
  },
  {
   "cell_type": "code",
   "execution_count": null,
   "metadata": {},
   "outputs": [],
   "source": [
    "class Solution:\n",
    "    def maxProfit(self, prices: List[int]) -> int:\n",
    "        n=len(prices)\n",
    "        if n<=1:return 0\n",
    "        s1,s2,s3,s4=-prices[0],-float(\"Inf\"),-float(\"Inf\"),-float(\"Inf\")\n",
    "        for i in range(1,n):\n",
    "            s1 = max(s1, -prices[i])\n",
    "            s2 = max(s2, s1+prices[i])\n",
    "            s3 = max(s3, s2-prices[i])\n",
    "            s4 = max(s4, s3+prices[i])\n",
    "        return max(0,s4)"
   ]
  }
 ],
 "metadata": {
  "kernelspec": {
   "display_name": "Python 3",
   "language": "python",
   "name": "python3"
  },
  "language_info": {
   "codemirror_mode": {
    "name": "ipython",
    "version": 3
   },
   "file_extension": ".py",
   "mimetype": "text/x-python",
   "name": "python",
   "nbconvert_exporter": "python",
   "pygments_lexer": "ipython3",
   "version": "3.7.3"
  }
 },
 "nbformat": 4,
 "nbformat_minor": 2
}

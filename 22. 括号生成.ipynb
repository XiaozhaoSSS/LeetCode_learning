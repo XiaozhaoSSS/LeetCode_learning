{
 "cells": [
  {
   "cell_type": "markdown",
   "metadata": {},
   "source": [
    "1.\n",
    "\n",
    "执行用时 :2244 ms, 在所有 Python3 提交中击败了5.25%的用户\n",
    "内存消耗 :17.6 MB, 在所有 Python3 提交中击败了5.03%的用户"
   ]
  },
  {
   "cell_type": "code",
   "execution_count": null,
   "metadata": {},
   "outputs": [],
   "source": [
    "class Solution:\n",
    "    def generateParenthesis(self, n: int) -> List[str]:\n",
    "        import copy\n",
    "        r=[]\n",
    "        c=[\"0\"]*2*n\n",
    "        def gen(c):\n",
    "            index=[i for i,x in enumerate(c) if x=='0']\n",
    "            i=len(index)\n",
    "            if i==0:r.append(''.join(c))\n",
    "            l=[]\n",
    "\n",
    "            while i>=2:\n",
    "                b=copy.deepcopy(c)\n",
    "                b[index[0]]='('\n",
    "                b[index[i-1]]=')'\n",
    "                l.append(b)\n",
    "                i-=2\n",
    "\n",
    "            for b in l:\n",
    "                gen(b)\n",
    "        gen(c)\n",
    "        return set(r)"
   ]
  },
  {
   "cell_type": "markdown",
   "metadata": {},
   "source": [
    "2.回溯法\n",
    "\n",
    "执行用时 :56 ms, 在所有 Python3 提交中击败了67.35%的用户\n",
    "内存消耗 :13.9 MB, 在所有 Python3 提交中击败了5.03%的用户"
   ]
  },
  {
   "cell_type": "code",
   "execution_count": null,
   "metadata": {},
   "outputs": [],
   "source": [
    "class Solution:\n",
    "    def generateParenthesis(self, n: int) -> List[str]:\n",
    "        r=[]\n",
    "        def gen(s='',left=0,right=0):\n",
    "            if len(s)==2*n:\n",
    "                r.append(s)\n",
    "            if left<n:\n",
    "                gen(s+'(',left+1,right)\n",
    "            if left>right:\n",
    "                gen(s+')',left,right+1)\n",
    "        gen()\n",
    "        return r"
   ]
  },
  {
   "cell_type": "markdown",
   "metadata": {},
   "source": [
    "3.闭包法\n",
    "\n",
    "执行用时 :104 ms, 在所有 Python3 提交中击败了9.37%的用户\n",
    "内存消耗 :13.7 MB, 在所有 Python3 提交中击败了5.27%的用户"
   ]
  },
  {
   "cell_type": "code",
   "execution_count": null,
   "metadata": {},
   "outputs": [],
   "source": [
    "class Solution:\n",
    "    def generateParenthesis(self, n: int) -> List[str]:\n",
    "        if n==0:return ['']\n",
    "        r=[]\n",
    "        for i in range(n):\n",
    "            for left in self.generateParenthesis(i):\n",
    "                for right in self.generateParenthesis(n-1-i):\n",
    "                    r.append('({}){}'.format(left,right))\n",
    "        return r\n",
    "        "
   ]
  }
 ],
 "metadata": {
  "kernelspec": {
   "display_name": "Python 3",
   "language": "python",
   "name": "python3"
  },
  "language_info": {
   "codemirror_mode": {
    "name": "ipython",
    "version": 3
   },
   "file_extension": ".py",
   "mimetype": "text/x-python",
   "name": "python",
   "nbconvert_exporter": "python",
   "pygments_lexer": "ipython3",
   "version": "3.7.3"
  }
 },
 "nbformat": 4,
 "nbformat_minor": 2
}

{
 "cells": [
  {
   "cell_type": "markdown",
   "metadata": {},
   "source": [
    "1.\n",
    "\n",
    "执行用时 :\n",
    "40 ms\n",
    ", 在所有 python3 提交中击败了\n",
    "93.75%\n",
    "的用户\n",
    "内存消耗 :\n",
    "13.8 MB\n",
    ", 在所有 python3 提交中击败了\n",
    "5.14%\n",
    "的用户"
   ]
  },
  {
   "cell_type": "code",
   "execution_count": null,
   "metadata": {},
   "outputs": [],
   "source": [
    "class Solution:\n",
    "    def generateMatrix(self, n: int) -> List[List[int]]:\n",
    "        res=[[0]*n for i in range(n)]\n",
    "        i,j,di,num=0,0,0,1\n",
    "        dr=[0,1,0,-1]\n",
    "        dc=[1,0,-1,0]\n",
    "        while num<=n**2:\n",
    "            res[i][j]=num\n",
    "            next_i=i+dr[di]\n",
    "            next_j=j+dc[di]\n",
    "            if next_j<n and next_i<n and next_j>=0 and res[next_i][next_j]==0:\n",
    "                i=next_i\n",
    "                j=next_j  \n",
    "            else:\n",
    "                di=(di+1)%4\n",
    "                i+=dr[di]\n",
    "                j+=dc[di]\n",
    "            num+=1\n",
    "        return res"
   ]
  },
  {
   "cell_type": "markdown",
   "metadata": {},
   "source": [
    "2.\n",
    "\n",
    "执行用时 :\n",
    "44 ms\n",
    ", 在所有 python3 提交中击败了\n",
    "86.52%\n",
    "的用户\n",
    "内存消耗 :\n",
    "13.8 MB\n",
    ", 在所有 python3 提交中击败了\n",
    "5.14%\n",
    "的用户"
   ]
  },
  {
   "cell_type": "code",
   "execution_count": null,
   "metadata": {},
   "outputs": [],
   "source": [
    "class Solution:\n",
    "    def generateMatrix(self, n: int) -> List[List[int]]:\n",
    "        l, r, t, b = 0, n - 1, 0, n - 1\n",
    "        mat = [[0 for _ in range(n)] for _ in range(n)]\n",
    "        num, tar = 1, n * n\n",
    "        while num <= tar:\n",
    "            for i in range(l, r + 1): # left to right\n",
    "                mat[t][i] = num\n",
    "                num += 1\n",
    "            t += 1\n",
    "            for i in range(t, b + 1): # top to bottom\n",
    "                mat[i][r] = num\n",
    "                num += 1\n",
    "            r -= 1\n",
    "            for i in range(r, l - 1, -1): # right to left\n",
    "                mat[b][i] = num\n",
    "                num += 1\n",
    "            b -= 1\n",
    "            for i in range(b, t - 1, -1): # bottom to top\n",
    "                mat[i][l] = num\n",
    "                num += 1\n",
    "            l += 1\n",
    "        return mat\n"
   ]
  }
 ],
 "metadata": {
  "kernelspec": {
   "display_name": "Python 3",
   "language": "python",
   "name": "python3"
  },
  "language_info": {
   "codemirror_mode": {
    "name": "ipython",
    "version": 3
   },
   "file_extension": ".py",
   "mimetype": "text/x-python",
   "name": "python",
   "nbconvert_exporter": "python",
   "pygments_lexer": "ipython3",
   "version": "3.7.3"
  }
 },
 "nbformat": 4,
 "nbformat_minor": 2
}

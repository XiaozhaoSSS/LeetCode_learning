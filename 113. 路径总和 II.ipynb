{
 "cells": [
  {
   "cell_type": "code",
   "execution_count": null,
   "metadata": {},
   "outputs": [],
   "source": [
    "1,回溯"
   ]
  },
  {
   "cell_type": "code",
   "execution_count": null,
   "metadata": {},
   "outputs": [],
   "source": [
    "# Definition for a binary tree node.\n",
    "# class TreeNode:\n",
    "#     def __init__(self, x):\n",
    "#         self.val = x\n",
    "#         self.left = None\n",
    "#         self.right = None\n",
    "\n",
    "class Solution:\n",
    "    def pathSum(self, root: TreeNode, sum: int) -> List[List[int]]:\n",
    "        def path(node,num):\n",
    "            if node.left==None and node.right==None:\n",
    "                if num==node.val:res.append(curr+[node.val])\n",
    "            else:\n",
    "                if node.right!=None:\n",
    "                    curr.append(node.val)\n",
    "                    path(node.right,num-node.val)\n",
    "                    curr.pop()\n",
    "                if node.left!=None:\n",
    "                    curr.append(node.val)\n",
    "                    path(node.left,num-node.val)\n",
    "                    curr.pop()\n",
    "        res,curr=[],[]\n",
    "        if root!=None:path(root,sum)\n",
    "        return res"
   ]
  }
 ],
 "metadata": {
  "kernelspec": {
   "display_name": "Python 3",
   "language": "python",
   "name": "python3"
  },
  "language_info": {
   "codemirror_mode": {
    "name": "ipython",
    "version": 3
   },
   "file_extension": ".py",
   "mimetype": "text/x-python",
   "name": "python",
   "nbconvert_exporter": "python",
   "pygments_lexer": "ipython3",
   "version": "3.7.3"
  }
 },
 "nbformat": 4,
 "nbformat_minor": 2
}

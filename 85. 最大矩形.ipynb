{
 "cells": [
  {
   "cell_type": "code",
   "execution_count": null,
   "metadata": {},
   "outputs": [],
   "source": [
    "1."
   ]
  },
  {
   "cell_type": "code",
   "execution_count": null,
   "metadata": {},
   "outputs": [],
   "source": [
    "class Solution:\n",
    "    def maximalRectangle(self, matrix: List[List[str]]) -> int:\n",
    "        matrix=[''.join(x) for x in matrix]\n",
    "        n=len(matrix)\n",
    "        res=0\n",
    "        if n==0 or matrix[0]==\"\":return 0\n",
    "        for i in range(n):\n",
    "            curr=matrix[i]\n",
    "            res=max(res,max([len(x) for x in curr.split('0')]))\n",
    "            for j in range(i+1,n):\n",
    "                curr=bin(int(curr,2)&int(matrix[j],2)).replace('0b','')\n",
    "                res=max(res,max([len(x) for x in curr.split('0')])*(j-i+1))\n",
    "        return res"
   ]
  }
 ],
 "metadata": {
  "kernelspec": {
   "display_name": "Python 3",
   "language": "python",
   "name": "python3"
  },
  "language_info": {
   "codemirror_mode": {
    "name": "ipython",
    "version": 3
   },
   "file_extension": ".py",
   "mimetype": "text/x-python",
   "name": "python",
   "nbconvert_exporter": "python",
   "pygments_lexer": "ipython3",
   "version": "3.7.1"
  }
 },
 "nbformat": 4,
 "nbformat_minor": 2
}

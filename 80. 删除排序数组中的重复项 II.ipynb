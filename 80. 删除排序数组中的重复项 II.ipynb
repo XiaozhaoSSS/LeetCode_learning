{
 "cells": [
  {
   "cell_type": "code",
   "execution_count": null,
   "metadata": {},
   "outputs": [],
   "source": [
    "1."
   ]
  },
  {
   "cell_type": "code",
   "execution_count": null,
   "metadata": {},
   "outputs": [],
   "source": [
    "class Solution:\n",
    "    def removeDuplicates(self, nums: List[int]) -> int:\n",
    "        i,label=0,0\n",
    "        n=len(nums)\n",
    "        for j in range(1,n):\n",
    "            if label==0:\n",
    "                label=1 if nums[j]==nums[i] else 0\n",
    "                i+=1\n",
    "                nums[i]=nums[j]\n",
    "            elif label==1 and nums[j]!=nums[i]:\n",
    "                label=0\n",
    "                i+=1\n",
    "                nums[i]=nums[j]\n",
    "        return i+1"
   ]
  }
 ],
 "metadata": {
  "kernelspec": {
   "display_name": "Python 3",
   "language": "python",
   "name": "python3"
  },
  "language_info": {
   "codemirror_mode": {
    "name": "ipython",
    "version": 3
   },
   "file_extension": ".py",
   "mimetype": "text/x-python",
   "name": "python",
   "nbconvert_exporter": "python",
   "pygments_lexer": "ipython3",
   "version": "3.7.1"
  }
 },
 "nbformat": 4,
 "nbformat_minor": 2
}

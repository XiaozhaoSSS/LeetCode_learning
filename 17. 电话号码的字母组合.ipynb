{
 "cells": [
  {
   "cell_type": "markdown",
   "metadata": {},
   "source": [
    "1.\n",
    "\n",
    "执行用时 :48 ms, 在所有 Python3 提交中击败了75.29%的用户\n",
    "内存消耗 :13.6 MB, 在所有 Python3 提交中击败了5.30%的用户"
   ]
  },
  {
   "cell_type": "code",
   "execution_count": null,
   "metadata": {},
   "outputs": [],
   "source": [
    "class Solution:\n",
    "    def letterCombinations(self, digits: str) -> List[str]:\n",
    "        if len(digits)==0:return ''\n",
    "        digit_str_dict={'2':['a','b','c'],'3':['d','e','f'],'4':['g','h','i'],'5':['j','k','l'],'6':['m','n','o'],'7':['p','q','r','s'],'8':['t','u','v'],'9':['w','x','y','z']}\n",
    "        lettercombinations=digit_str_dict[digits[0]]\n",
    "        if len(digits)>1:\n",
    "            for i in range(1,len(digits)):\n",
    "                l1=digit_str_dict[digits[i]]\n",
    "                l2=''.join([((x+'#')*len(l1)) for x in lettercombinations]).split('#')[:-1]\n",
    "                \n",
    "                lettercombinations=[x+y for x,y in zip(l2,l1*len(lettercombinations))]\n",
    "        return lettercombinations\n",
    "            "
   ]
  },
  {
   "cell_type": "markdown",
   "metadata": {},
   "source": [
    "2.回溯\n",
    "\n",
    "执行用时 :52 ms, 在所有 Python3 提交中击败了55.12%的用户\n",
    "内存消耗 :13.9 MB, 在所有 Python3 提交中击败了5.30%的用户"
   ]
  },
  {
   "cell_type": "code",
   "execution_count": null,
   "metadata": {},
   "outputs": [],
   "source": [
    "class Solution:\n",
    "    def letterCombinations(self, digits: str) -> List[str]:\n",
    "        phone={'2':['a','b','c'],'3':['d','e','f'],'4':['g','h','i'],'5':['j','k','l'],'6':['m','n','o'],'7':['p','q','r','s'],'8':['t','u','v'],'9':['w','x','y','z']}\n",
    "        def backtrack(combination, next_digits):\n",
    "            # if there is no more digits to check\n",
    "            if len(next_digits) == 0:\n",
    "                # the combination is done\n",
    "                output.append(combination)\n",
    "            # if there are still digits to check\n",
    "            else:\n",
    "                # iterate over all letters which map \n",
    "                # the next available digit\n",
    "                for letter in phone[next_digits[0]]:\n",
    "                    # append the current letter to the combination\n",
    "                    # and proceed to the next digits\n",
    "                    backtrack(combination + letter, next_digits[1:])\n",
    "                    \n",
    "        output = []\n",
    "        if digits:\n",
    "            backtrack(\"\", digits)\n",
    "        return output"
   ]
  }
 ],
 "metadata": {
  "kernelspec": {
   "display_name": "Python 3",
   "language": "python",
   "name": "python3"
  },
  "language_info": {
   "codemirror_mode": {
    "name": "ipython",
    "version": 3
   },
   "file_extension": ".py",
   "mimetype": "text/x-python",
   "name": "python",
   "nbconvert_exporter": "python",
   "pygments_lexer": "ipython3",
   "version": "3.7.1"
  }
 },
 "nbformat": 4,
 "nbformat_minor": 2
}

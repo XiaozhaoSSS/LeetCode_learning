{
 "cells": [
  {
   "cell_type": "markdown",
   "metadata": {},
   "source": [
    "1.\n",
    "\n",
    "执行用时 :88 ms, 在所有 Python3 提交中击败了39.26%的用户\n",
    "内存消耗 :14.1 MB, 在所有 Python3 提交中击败了5.26%的用户"
   ]
  },
  {
   "cell_type": "code",
   "execution_count": null,
   "metadata": {},
   "outputs": [],
   "source": [
    "class Solution:\n",
    "    def intToRoman(self, num: int) -> str:\n",
    "        roman=[]\n",
    "        romandict={1:'I',5:'V',10:'X',50:'L',100:'C',500:'D',1000:'M'}\n",
    "        for i in list(romandict)[::-1]:\n",
    "\n",
    "            if str(num)[0] in['4','9']:\n",
    "                roman.append(romandict[10**(len(str(num))-1)]+romandict[(int(str(num)[0])+1)*10**(len(str(num))-1)])\n",
    "                num%=(int(str(num)[0])*10**(len(str(num))-1))\n",
    "            else:\n",
    "                t=num//i\n",
    "                roman.append(romandict[i]*t)\n",
    "                num=num-t*i  \n",
    "        \n",
    "        return ''.join(roman)"
   ]
  },
  {
   "cell_type": "markdown",
   "metadata": {},
   "source": [
    "2.所有4，9特殊情况也加入字典中\n",
    "\n",
    "执行用时 :68 ms, 在所有 Python3 提交中击败了90.03%的用户\n",
    "内存消耗 :14 MB, 在所有 Python3 提交中击败了5.26%的用户"
   ]
  },
  {
   "cell_type": "code",
   "execution_count": null,
   "metadata": {},
   "outputs": [],
   "source": [
    "class Solution:\n",
    "    def intToRoman(self, num: int) -> str:\n",
    "        roman=[]\n",
    "        romandict={1:'I',4:'IV',5:'V',9:'IX',10:'X',40:'XL',50:'L',90:'XC',100:'C',400:'CD',500:'D',900:'CM',1000:'M'}\n",
    "        for i in list(romandict)[::-1]:\n",
    "            t=num//i\n",
    "            roman.append(romandict[i]*t)\n",
    "            num=num-t*i  \n",
    "        \n",
    "        return ''.join(roman)"
   ]
  }
 ],
 "metadata": {
  "kernelspec": {
   "display_name": "Python 3",
   "language": "python",
   "name": "python3"
  },
  "language_info": {
   "codemirror_mode": {
    "name": "ipython",
    "version": 3
   },
   "file_extension": ".py",
   "mimetype": "text/x-python",
   "name": "python",
   "nbconvert_exporter": "python",
   "pygments_lexer": "ipython3",
   "version": "3.7.1"
  }
 },
 "nbformat": 4,
 "nbformat_minor": 2
}

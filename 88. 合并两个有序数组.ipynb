{
 "cells": [
  {
   "cell_type": "code",
   "execution_count": null,
   "metadata": {},
   "outputs": [],
   "source": [
    "1."
   ]
  },
  {
   "cell_type": "code",
   "execution_count": null,
   "metadata": {},
   "outputs": [],
   "source": [
    "class Solution:\n",
    "    def merge(self, nums1: List[int], m: int, nums2: List[int], n: int) -> None:\n",
    "        \"\"\"\n",
    "        Do not return anything, modify nums1 in-place instead.\n",
    "        \"\"\"\n",
    "        if m==0 or n==0:nums1[:m+n]=nums1[:m]+nums2[:n]\n",
    "        else:\n",
    "            p1=0\n",
    "            while p1<m:\n",
    "                p2=0\n",
    "                if nums1[p1]>nums2[p2]:\n",
    "                    nums1[p1],nums2[p2]=nums2[p2],nums1[p1]\n",
    "                    while p2<n-1 and nums2[p2]>nums2[p2+1]:\n",
    "                        nums2[p2],nums2[p2+1]=nums2[p2+1],nums2[p2]\n",
    "                        p2+=1\n",
    "                p1+=1\n",
    "            nums1[m:m+n]=nums2"
   ]
  }
 ],
 "metadata": {
  "kernelspec": {
   "display_name": "Python 3",
   "language": "python",
   "name": "python3"
  },
  "language_info": {
   "codemirror_mode": {
    "name": "ipython",
    "version": 3
   },
   "file_extension": ".py",
   "mimetype": "text/x-python",
   "name": "python",
   "nbconvert_exporter": "python",
   "pygments_lexer": "ipython3",
   "version": "3.7.1"
  }
 },
 "nbformat": 4,
 "nbformat_minor": 2
}

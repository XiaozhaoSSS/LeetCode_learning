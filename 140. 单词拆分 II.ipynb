{
 "cells": [
  {
   "cell_type": "code",
   "execution_count": null,
   "metadata": {},
   "outputs": [],
   "source": [
    "1.动态规划+搜索"
   ]
  },
  {
   "cell_type": "code",
   "execution_count": null,
   "metadata": {},
   "outputs": [],
   "source": [
    "class Solution:\n",
    "    def wordBreak(self, s: str, wordDict: List[str]) -> List[str]:\n",
    "        n=len(s)\n",
    "        dp=[True]+[False for _ in range(n)]\n",
    "        wordDict=set(wordDict)\n",
    "\n",
    "        for i in range(n):\n",
    "            for j in range(i+1):\n",
    "                if dp[j] and s[j:i+1] in wordDict:\n",
    "                    dp[i+1]=True\n",
    "        res={0:[\"\"]}\n",
    "\n",
    "        if dp[-1]:            \n",
    "            for i in range(n):\n",
    "                if dp[i+1]:\n",
    "                    for j in range(i+1):\n",
    "                        if dp[j] and s[j:i+1] in wordDict:\n",
    "                            for res_j in res[j]:\n",
    "                                if res_j==\"\":res[i+1]=res.get(i+1,[])+[s[j:i+1]]\n",
    "                                else:res[i+1]=res.get(i+1,[])+[res_j+\" \"+s[j:i+1]]\n",
    "        return res[n] if n in res else []"
   ]
  }
 ],
 "metadata": {
  "kernelspec": {
   "display_name": "Python 3",
   "language": "python",
   "name": "python3"
  },
  "language_info": {
   "codemirror_mode": {
    "name": "ipython",
    "version": 3
   },
   "file_extension": ".py",
   "mimetype": "text/x-python",
   "name": "python",
   "nbconvert_exporter": "python",
   "pygments_lexer": "ipython3",
   "version": "3.7.3"
  }
 },
 "nbformat": 4,
 "nbformat_minor": 2
}

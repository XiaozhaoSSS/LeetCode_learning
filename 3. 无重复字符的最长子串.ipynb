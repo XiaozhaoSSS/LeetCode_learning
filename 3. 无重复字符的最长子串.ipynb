{
 "cells": [
  {
   "cell_type": "markdown",
   "metadata": {},
   "source": [
    "1."
   ]
  },
  {
   "cell_type": "code",
   "execution_count": 1,
   "metadata": {},
   "outputs": [],
   "source": [
    "class Solution:\n",
    "    def lengthOfLongestSubstring(self, s: str) -> int:\n",
    "        LongestSubstring=\"\"\n",
    "        Currentstring=\"\"\n",
    "        for i in range(len(s)):\n",
    "            Currentstring=s[i]\n",
    "            for j in range(i+1,len(s)):\n",
    "                if s[j] not in Currentstring:\n",
    "                    Currentstring+=s[j]\n",
    "                else:\n",
    "                    break\n",
    "            LongestSubstring=Currentstring if len(Currentstring)>len(LongestSubstring) else LongestSubstring\n",
    "\n",
    "        return len(LongestSubstring)  "
   ]
  },
  {
   "cell_type": "markdown",
   "metadata": {},
   "source": [
    "2."
   ]
  },
  {
   "cell_type": "code",
   "execution_count": 2,
   "metadata": {},
   "outputs": [],
   "source": [
    "class Solution:\n",
    "    def lengthOfLongestSubstring(self, s: str) -> int:\n",
    "        st = {}\n",
    "        i, ans = 0, 0\n",
    "        for j in range(len(s)):\n",
    "            if s[j] in st:\n",
    "                i = max(st[s[j]], i)\n",
    "            ans = max(ans, j - i + 1)\n",
    "            st[s[j]] = j + 1\n",
    "        return ans"
   ]
  },
  {
   "cell_type": "markdown",
   "metadata": {},
   "source": [
    "3."
   ]
  },
  {
   "cell_type": "code",
   "execution_count": null,
   "metadata": {},
   "outputs": [],
   "source": [
    "class Solution:\n",
    "    def lengthOfLongestSubstring(self, s: str) -> int:\n",
    "        l = []\n",
    "        res = []\n",
    "        for x in s:\n",
    "            if x not in l:\n",
    "                l.append(x)\n",
    "            else:\n",
    "                res.append(len(l))\n",
    "                i = l.index(x)\n",
    "                l = l[i+1:]\n",
    "                l.append(x)\n",
    "        res.append(len(l))\n",
    "        return max(res) if res else 0"
   ]
  }
 ],
 "metadata": {
  "kernelspec": {
   "display_name": "Python 3",
   "language": "python",
   "name": "python3"
  },
  "language_info": {
   "codemirror_mode": {
    "name": "ipython",
    "version": 3
   },
   "file_extension": ".py",
   "mimetype": "text/x-python",
   "name": "python",
   "nbconvert_exporter": "python",
   "pygments_lexer": "ipython3",
   "version": "3.7.3"
  }
 },
 "nbformat": 4,
 "nbformat_minor": 2
}

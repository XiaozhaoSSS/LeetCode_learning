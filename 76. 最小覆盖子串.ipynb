{
 "cells": [
  {
   "cell_type": "code",
   "execution_count": null,
   "metadata": {},
   "outputs": [],
   "source": [
    "1.从每个元素出发找，时间超限"
   ]
  },
  {
   "cell_type": "code",
   "execution_count": null,
   "metadata": {},
   "outputs": [],
   "source": [
    "class Solution:\n",
    "    def minWindow(self, s: str, t: str) -> str:\n",
    "        from collections import Counter\n",
    "        n,m=len(s),len(t)\n",
    "        lentgh,index2,index1=n+1,n+1,0\n",
    "        if n>=m:\n",
    "            for i in range(n-m+1):\n",
    "                t_dict=Counter(t)\n",
    "                if s[i] in  t_dict:\n",
    "                    curr_index1,curr_index2=i,i+n+1\n",
    "                    \n",
    "                    j=i+1\n",
    "                    t_dict[s[i]]-=1\n",
    "                    if t_dict[s[i]]==0:t_dict.pop(s[i])\n",
    "                    while t_dict:\n",
    "                        if s[j] in t_dict:\n",
    "                            t_dict[s[j]]-=1\n",
    "                            if t_dict[s[j]]==0:t_dict.pop(s[j])\n",
    "                        j+=1\n",
    "                        if j>n-1:break\n",
    "                    if not t_dict:curr_index2=j\n",
    "\n",
    "                    if curr_index2-curr_index1<lentgh:\n",
    "                        index1,index2,lentgh=curr_index1,curr_index2,curr_index2-curr_index1\n",
    "\n",
    "        return s[index1:index2] if lentgh!=n+1 else \"\""
   ]
  },
  {
   "cell_type": "code",
   "execution_count": null,
   "metadata": {},
   "outputs": [],
   "source": [
    "2.双指针"
   ]
  },
  {
   "cell_type": "code",
   "execution_count": null,
   "metadata": {},
   "outputs": [],
   "source": [
    "class Solution:\n",
    "    def minWindow(self, s: str, t: str) -> str:\n",
    "        from collections import Counter\n",
    "        n=len(s)\n",
    "        left,right=0,0\n",
    "        t_dict=Counter(t)\n",
    "        m=len(t_dict)\n",
    "        window_counts = {}\n",
    "        formed=0\n",
    "        res=float(\"inf\"), None, None\n",
    "        while right<n:\n",
    "            if s[right] in t_dict:\n",
    "                window_counts[s[right]]=window_counts.get(s[right],0)+1\n",
    "                if window_counts[s[right]]==t_dict[s[right]]:formed+=1\n",
    "            #print(formed,m)\n",
    "            while left<=right and formed==m:\n",
    "                #print(right,left,res[0])\n",
    "                if right-left+1<res[0]:\n",
    "                    res=(right-left+1,left,right) \n",
    "                if s[left] in window_counts:\n",
    "                    window_counts[s[left]]-=1\n",
    "                    if window_counts[s[left]]<t_dict[s[left]]:formed-=1\n",
    "                left+=1\n",
    "            right+=1\n",
    "        return \"\" if res[0]==float(\"inf\") else s[res[1]:res[2]+1]"
   ]
  }
 ],
 "metadata": {
  "kernelspec": {
   "display_name": "Python 3",
   "language": "python",
   "name": "python3"
  },
  "language_info": {
   "codemirror_mode": {
    "name": "ipython",
    "version": 3
   },
   "file_extension": ".py",
   "mimetype": "text/x-python",
   "name": "python",
   "nbconvert_exporter": "python",
   "pygments_lexer": "ipython3",
   "version": "3.7.1"
  }
 },
 "nbformat": 4,
 "nbformat_minor": 2
}

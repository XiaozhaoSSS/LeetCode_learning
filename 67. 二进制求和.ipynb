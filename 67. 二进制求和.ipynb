{
 "cells": [
  {
   "cell_type": "markdown",
   "metadata": {},
   "source": [
    "1.\n",
    "\n",
    "执行用时 :\n",
    "36 ms\n",
    ", 在所有 python3 提交中击败了\n",
    "98.71%\n",
    "的用户\n",
    "内存消耗 :\n",
    "13.7 MB\n",
    ", 在所有 python3 提交中击败了\n",
    "5.24%\n",
    "的用户"
   ]
  },
  {
   "cell_type": "code",
   "execution_count": null,
   "metadata": {},
   "outputs": [],
   "source": [
    "class Solution:\n",
    "    def addBinary(self, a: str, b: str) -> str:\n",
    "        l=min(len(a),len(b))\n",
    "        res=''\n",
    "        label=0\n",
    "        for i in range(1,l+1):\n",
    "            if a[-i]+b[-i]=='11':\n",
    "                res+=('1' if label else '0')\n",
    "                label=1\n",
    "            elif a[-i]+b[-i]=='00':\n",
    "                res+=('1' if label else '0')\n",
    "                label=0\n",
    "            else:\n",
    "                res+=('0' if label else '1')\n",
    "        res+=((a[:(len(a)-l)]+b[:(len(b)-l)])[::-1])\n",
    "        res=list(res)\n",
    "        n=len(res)\n",
    "        if label:\n",
    "            while l<n:\n",
    "                if res[l]=='1':\n",
    "                    res[l]='0'\n",
    "                    l+=1\n",
    "                else:\n",
    "                    res[l]='1'\n",
    "                    label=0\n",
    "                    break\n",
    "            if label:res.append('1')\n",
    "        return (''.join(res))[::-1]"
   ]
  }
 ],
 "metadata": {
  "kernelspec": {
   "display_name": "Python 3",
   "language": "python",
   "name": "python3"
  },
  "language_info": {
   "codemirror_mode": {
    "name": "ipython",
    "version": 3
   },
   "file_extension": ".py",
   "mimetype": "text/x-python",
   "name": "python",
   "nbconvert_exporter": "python",
   "pygments_lexer": "ipython3",
   "version": "3.7.3"
  }
 },
 "nbformat": 4,
 "nbformat_minor": 2
}

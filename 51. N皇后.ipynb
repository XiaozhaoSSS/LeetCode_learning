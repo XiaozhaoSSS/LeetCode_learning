{
 "cells": [
  {
   "cell_type": "markdown",
   "metadata": {},
   "source": [
    "1.回溯，用row,column,diagonal_left,diagonal_right四个list分别记录当前允许放的行、列和不允许放的斜线标志\n",
    "\n",
    "执行用时 :\n",
    "60 ms\n",
    ", 在所有 Python3 提交中击败了\n",
    "98.75%\n",
    "的用户\n",
    "内存消耗 :\n",
    "14.2 MB\n",
    ", 在所有 Python3 提交中击败了\n",
    "5.00%\n",
    "的用户\n",
    "\n",
    "时间复杂度：O(N!). 放置第 1 个皇后有 N 种可能的方法，放置两个皇后的方法不超过 N (N - 2) ，放置 3 个皇后的方法不超过 N(N - 2)(N - 4) ，以此类推。总体上，时间复杂度为O(N!) .\n",
    "空间复杂度：O(N) . 需要保存对角线和行的信息。"
   ]
  },
  {
   "cell_type": "code",
   "execution_count": null,
   "metadata": {},
   "outputs": [],
   "source": [
    "class Solution:\n",
    "    def solveNQueens(self, n: int) -> List[List[str]]:\n",
    "        res=[]\n",
    "        curr=[]\n",
    "        diagonal_left,diagonal_right=[],[]\n",
    "        row,column=list(range(n)),list(range(n))\n",
    "        def solve(curr,row,column,diagonal_left,diagonal_right):\n",
    "            \n",
    "            if len(row)==1:\n",
    "                if row[0]+column[0] not in diagonal_left and row[0]-column[0] not in diagonal_right:\n",
    "                    res.append(curr+['.'*column[0]+'Q'+'.'*(n-column[0]-1)])\n",
    "            else:\n",
    "                for i in range(len(column)):\n",
    "                    curr_row=row[0]\n",
    "                    curr_column=column[i]\n",
    "                    if curr_row+curr_column not in diagonal_left and curr_row-curr_column not in diagonal_right:\n",
    "                        curr.append('.'*curr_column+'Q'+'.'*(n-curr_column-1))\n",
    "                        diagonal_left.append(curr_row+curr_column)\n",
    "                        diagonal_right.append(curr_row-curr_column)\n",
    "                        solve(curr,row[1:],column[:i]+column[i+1:],diagonal_left,diagonal_right)\n",
    "                        curr.pop()\n",
    "                        diagonal_left.pop()\n",
    "                        diagonal_right.pop()\n",
    "        if n==0:res.append([])\n",
    "        else:solve(curr,row,column,diagonal_left,diagonal_right)\n",
    "        return res"
   ]
  }
 ],
 "metadata": {
  "kernelspec": {
   "display_name": "Python 3",
   "language": "python",
   "name": "python3"
  },
  "language_info": {
   "codemirror_mode": {
    "name": "ipython",
    "version": 3
   },
   "file_extension": ".py",
   "mimetype": "text/x-python",
   "name": "python",
   "nbconvert_exporter": "python",
   "pygments_lexer": "ipython3",
   "version": "3.7.3"
  }
 },
 "nbformat": 4,
 "nbformat_minor": 2
}

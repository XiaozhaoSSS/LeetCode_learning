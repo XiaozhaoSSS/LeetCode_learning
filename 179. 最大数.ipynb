{
 "cells": [
  {
   "cell_type": "code",
   "execution_count": null,
   "metadata": {},
   "outputs": [],
   "source": [
    "1."
   ]
  },
  {
   "cell_type": "code",
   "execution_count": null,
   "metadata": {},
   "outputs": [],
   "source": [
    "class LargerNumKey(str):\n",
    "    def __lt__(x, y):\n",
    "        return x+y > y+x\n",
    "        \n",
    "class Solution:\n",
    "    def largestNumber(self, nums):\n",
    "        largest_num = ''.join(sorted(map(str, nums), key=LargerNumKey))\n",
    "        return '0' if largest_num[0] == '0' else largest_num"
   ]
  }
 ],
 "metadata": {
  "kernelspec": {
   "display_name": "Python 3",
   "language": "python",
   "name": "python3"
  },
  "language_info": {
   "codemirror_mode": {
    "name": "ipython",
    "version": 3
   },
   "file_extension": ".py",
   "mimetype": "text/x-python",
   "name": "python",
   "nbconvert_exporter": "python",
   "pygments_lexer": "ipython3",
   "version": "3.7.3"
  }
 },
 "nbformat": 4,
 "nbformat_minor": 2
}

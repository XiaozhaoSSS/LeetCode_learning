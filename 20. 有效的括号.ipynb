{
 "cells": [
  {
   "cell_type": "markdown",
   "metadata": {},
   "source": [
    "1.栈的方法\n",
    "\n",
    "执行用时 :52 ms, 在所有 Python3 提交中击败了63.24%的用户\n",
    "内存消耗 :13.9 MB, 在所有 Python3 提交中击败了5.51%的用户"
   ]
  },
  {
   "cell_type": "code",
   "execution_count": null,
   "metadata": {},
   "outputs": [],
   "source": [
    "class Solution:\n",
    "    def isValid(self, s: str) -> bool:\n",
    "        l=[]\n",
    "        valid_list=['()','{}','[]']\n",
    "        if s:\n",
    "            for ss in s:\n",
    "                if  l and l[-1]+ss in valid_list:l.pop()\n",
    "                else:l.append(ss)\n",
    "        return not l"
   ]
  }
 ],
 "metadata": {
  "kernelspec": {
   "display_name": "Python 3",
   "language": "python",
   "name": "python3"
  },
  "language_info": {
   "codemirror_mode": {
    "name": "ipython",
    "version": 3
   },
   "file_extension": ".py",
   "mimetype": "text/x-python",
   "name": "python",
   "nbconvert_exporter": "python",
   "pygments_lexer": "ipython3",
   "version": "3.7.3"
  }
 },
 "nbformat": 4,
 "nbformat_minor": 2
}

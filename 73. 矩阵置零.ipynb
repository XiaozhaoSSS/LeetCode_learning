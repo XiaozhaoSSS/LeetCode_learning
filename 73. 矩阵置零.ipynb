{
 "cells": [
  {
   "cell_type": "markdown",
   "metadata": {},
   "source": [
    "1."
   ]
  },
  {
   "cell_type": "code",
   "execution_count": null,
   "metadata": {},
   "outputs": [],
   "source": [
    "class Solution:\n",
    "    def setZeroes(self, matrix: List[List[int]]) -> None:\n",
    "        \"\"\"\n",
    "        Do not return anything, modify matrix in-place instead.\n",
    "        \"\"\"\n",
    "        m=len(matrix)\n",
    "        n=len(matrix[0]) if m!=0 else 0\n",
    "        row,col=[],[]\n",
    "        #=list(range(m))\n",
    "        #col=list(range(n))\n",
    "        for i in range(m):\n",
    "            col_lentgh=len(col)\n",
    "            for j in range(n):\n",
    "                if matrix[i][j]==0:col.append(j)\n",
    "            if len(col)!=col_lentgh:row.append(i)\n",
    "        row,col=list(set(row)),list(set(col))\n",
    "        for i in range(m):\n",
    "            if i in row:matrix[i]=[0]*n\n",
    "            else:\n",
    "                for j in range(n):\n",
    "                    if j in col:matrix[i][j]=0"
   ]
  }
 ],
 "metadata": {
  "kernelspec": {
   "display_name": "Python 3",
   "language": "python",
   "name": "python3"
  },
  "language_info": {
   "codemirror_mode": {
    "name": "ipython",
    "version": 3
   },
   "file_extension": ".py",
   "mimetype": "text/x-python",
   "name": "python",
   "nbconvert_exporter": "python",
   "pygments_lexer": "ipython3",
   "version": "3.7.3"
  }
 },
 "nbformat": 4,
 "nbformat_minor": 2
}

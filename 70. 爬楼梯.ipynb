{
 "cells": [
  {
   "cell_type": "markdown",
   "metadata": {},
   "source": [
    "1.出现2的次数有(n//2)种，对每种进行排列组合"
   ]
  },
  {
   "cell_type": "code",
   "execution_count": null,
   "metadata": {},
   "outputs": [],
   "source": [
    "class Solution:\n",
    "    def climbStairs(self, n: int) -> int:\n",
    "        import math\n",
    "        max_num_two=n//2\n",
    "        res=0\n",
    "        for i in range(max_num_two+1):\n",
    "            res+=(math.factorial(n-i)/(math.factorial(i)*math.factorial(n-i-i)))\n",
    "        return int(res)"
   ]
  },
  {
   "cell_type": "markdown",
   "metadata": {},
   "source": [
    "2.动态规划，其实就是斐波那契数"
   ]
  },
  {
   "cell_type": "code",
   "execution_count": null,
   "metadata": {},
   "outputs": [],
   "source": [
    "class Solution:\n",
    "    def climbStairs(self, n: int) -> int:\n",
    "        if n<=2:return n\n",
    "        else:\n",
    "            first,second=1,2\n",
    "            for i in range(3,n+1):\n",
    "                third=first+second\n",
    "                first=second\n",
    "                second=third\n",
    "            return second"
   ]
  },
  {
   "cell_type": "markdown",
   "metadata": {},
   "source": [
    "3.直接用斐波那契数公式"
   ]
  },
  {
   "cell_type": "code",
   "execution_count": null,
   "metadata": {},
   "outputs": [],
   "source": [
    "class Solution:\n",
    "    def climbStairs(self, n: int) -> int:\n",
    "        import math\n",
    "        sqrt5=math.sqrt(5)\n",
    "        fibn=math.pow((1+sqrt5)/2,n+1)-math.pow((1-sqrt5)/2,n+1)\n",
    "        return (int)(fibn/sqrt5)"
   ]
  }
 ],
 "metadata": {
  "kernelspec": {
   "display_name": "Python 3",
   "language": "python",
   "name": "python3"
  },
  "language_info": {
   "codemirror_mode": {
    "name": "ipython",
    "version": 3
   },
   "file_extension": ".py",
   "mimetype": "text/x-python",
   "name": "python",
   "nbconvert_exporter": "python",
   "pygments_lexer": "ipython3",
   "version": "3.7.3"
  }
 },
 "nbformat": 4,
 "nbformat_minor": 2
}

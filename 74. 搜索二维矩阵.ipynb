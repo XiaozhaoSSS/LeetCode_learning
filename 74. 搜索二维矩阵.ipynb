{
 "cells": [
  {
   "cell_type": "markdown",
   "metadata": {},
   "source": [
    "1.两次二分查找"
   ]
  },
  {
   "cell_type": "code",
   "execution_count": null,
   "metadata": {},
   "outputs": [],
   "source": [
    "class Solution:\n",
    "    def searchMatrix(self, matrix: List[List[int]], target: int) -> bool:\n",
    "        m=len(matrix)\n",
    "        n=len(matrix[0]) if m!=0 else 0\n",
    "        if n==0:return False\n",
    "        left,right=0,m-1\n",
    "        while left<=right:\n",
    "            mid=(left+right)//2\n",
    "            if matrix[mid][0]==target:return True\n",
    "            elif matrix[mid][0]>target:right=mid-1\n",
    "            else:left=mid+1\n",
    "        row_index=(left+right)//2\n",
    "        left,right=0,n-1\n",
    "        while left<=right:\n",
    "            mid=(left+right)//2\n",
    "            if matrix[row_index][mid]==target:return True\n",
    "            elif matrix[row_index][mid]>target:right=mid-1\n",
    "            else:left=mid+1\n",
    "        return False"
   ]
  }
 ],
 "metadata": {
  "kernelspec": {
   "display_name": "Python 3",
   "language": "python",
   "name": "python3"
  },
  "language_info": {
   "codemirror_mode": {
    "name": "ipython",
    "version": 3
   },
   "file_extension": ".py",
   "mimetype": "text/x-python",
   "name": "python",
   "nbconvert_exporter": "python",
   "pygments_lexer": "ipython3",
   "version": "3.7.3"
  }
 },
 "nbformat": 4,
 "nbformat_minor": 2
}

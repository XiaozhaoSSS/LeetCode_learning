{
 "cells": [
  {
   "cell_type": "code",
   "execution_count": null,
   "metadata": {},
   "outputs": [],
   "source": [
    "1."
   ]
  },
  {
   "cell_type": "code",
   "execution_count": null,
   "metadata": {},
   "outputs": [],
   "source": [
    "# Definition for singly-linked list.\n",
    "# class ListNode:\n",
    "#     def __init__(self, x):\n",
    "#         self.val = x\n",
    "#         self.next = None\n",
    "\n",
    "class Solution:\n",
    "    def reverseBetween(self, head: ListNode, m: int, n: int) -> ListNode:\n",
    "        dummyhead=ListNode(0)\n",
    "        p1=dummyhead\n",
    "        left=head\n",
    "        p1.next=left\n",
    "        for _ in range(m-1):\n",
    "            \n",
    "            p1=p1.next\n",
    "            left=left.next\n",
    "        right=left\n",
    "        p2=right.next\n",
    "        for _ in range(n-m):\n",
    "            right=p2\n",
    "            p2=p2.next\n",
    "            right.next=left\n",
    "            left=right\n",
    "        p1.next.next=p2 \n",
    "        p1.next=right\n",
    "        return dummyhead.next"
   ]
  }
 ],
 "metadata": {
  "kernelspec": {
   "display_name": "Python 3",
   "language": "python",
   "name": "python3"
  },
  "language_info": {
   "codemirror_mode": {
    "name": "ipython",
    "version": 3
   },
   "file_extension": ".py",
   "mimetype": "text/x-python",
   "name": "python",
   "nbconvert_exporter": "python",
   "pygments_lexer": "ipython3",
   "version": "3.7.1"
  }
 },
 "nbformat": 4,
 "nbformat_minor": 2
}

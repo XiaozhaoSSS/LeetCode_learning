{
 "cells": [
  {
   "cell_type": "markdown",
   "metadata": {},
   "source": [
    "1.每次跳到当前能够访问到的点中“潜力”最大的点，即该点的index+value最大\n",
    "\n",
    "执行用时 :\n",
    "112 ms\n",
    ", 在所有 Python3 提交中击败了\n",
    "98.85%\n",
    "的用户\n",
    "内存消耗 :\n",
    "15.9 MB\n",
    ", 在所有 Python3 提交中击败了\n",
    "6.40%\n",
    "的用户"
   ]
  },
  {
   "cell_type": "code",
   "execution_count": null,
   "metadata": {},
   "outputs": [],
   "source": [
    "class Solution:\n",
    "    def jump(self, nums: List[int]) -> int:\n",
    "        jump_num=0\n",
    "        curr,n=0,len(nums)\n",
    "        if n<=1:return 0\n",
    "        furth_index=nums[0]\n",
    "        while furth_index<n-1:\n",
    "\n",
    "            for i in range(curr+1,furth_index+1):\n",
    "                if nums[i]+i>furth_index:\n",
    "                    furth_index=nums[i]+i\n",
    "                    curr=i\n",
    "            jump_num+=1\n",
    "\n",
    "        return jump_num+1"
   ]
  }
 ],
 "metadata": {
  "kernelspec": {
   "display_name": "Python 3",
   "language": "python",
   "name": "python3"
  },
  "language_info": {
   "codemirror_mode": {
    "name": "ipython",
    "version": 3
   },
   "file_extension": ".py",
   "mimetype": "text/x-python",
   "name": "python",
   "nbconvert_exporter": "python",
   "pygments_lexer": "ipython3",
   "version": "3.7.3"
  }
 },
 "nbformat": 4,
 "nbformat_minor": 2
}

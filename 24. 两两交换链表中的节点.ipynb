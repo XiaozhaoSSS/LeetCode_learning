{
 "cells": [
  {
   "cell_type": "markdown",
   "metadata": {},
   "source": [
    "1.每次检查链表是否存在前两个元素，存在就交换\n",
    "\n",
    "执行用时 :\n",
    "44 ms\n",
    ", 在所有 Python3 提交中击败了\n",
    "91.16%\n",
    "的用户\n",
    "内存消耗 :\n",
    "13.9 MB\n",
    ", 在所有 Python3 提交中击败了\n",
    "5.93%\n",
    "的用户"
   ]
  },
  {
   "cell_type": "code",
   "execution_count": null,
   "metadata": {},
   "outputs": [],
   "source": [
    "# Definition for singly-linked list.\n",
    "# class ListNode:\n",
    "#     def __init__(self, x):\n",
    "#         self.val = x\n",
    "#         self.next = None\n",
    "\n",
    "class Solution:\n",
    "    def swapPairs(self, head: ListNode) -> ListNode:\n",
    "        dummyhead=ListNode(0)\n",
    "        dummyhead.next=head\n",
    "        p=dummyhead\n",
    "        def gen(p):\n",
    "            \n",
    "            if p.next!=None and p.next.next!=None:\n",
    "                q=p.next\n",
    "                p.next=p.next.next\n",
    "                q.next=p.next.next\n",
    "                p.next.next=q\n",
    "                p=p.next.next\n",
    "                gen(p)\n",
    "        gen(p)\n",
    "        return dummyhead.next"
   ]
  },
  {
   "cell_type": "markdown",
   "metadata": {},
   "source": [
    "2.稍微变变样子，递归\n",
    "\n",
    "执行用时 :\n",
    "100 ms\n",
    ", 在所有 Python3 提交中击败了\n",
    "8.21%\n",
    "的用户\n",
    "内存消耗 :\n",
    "14.1 MB\n",
    ", 在所有 Python3 提交中击败了\n",
    "5.93%\n",
    "的用户"
   ]
  },
  {
   "cell_type": "code",
   "execution_count": null,
   "metadata": {},
   "outputs": [],
   "source": [
    "# Definition for singly-linked list.\n",
    "# class ListNode:\n",
    "#     def __init__(self, x):\n",
    "#         self.val = x\n",
    "#         self.next = None\n",
    "\n",
    "class Solution:\n",
    "    def swapPairs(self, head: ListNode) -> ListNode:\n",
    "        p=head\n",
    "        def gen(p):\n",
    "            if p and p.next:\n",
    "                print(p,p.next)\n",
    "                q=p\n",
    "                p=p.next\n",
    "                q.next=gen(p.next)\n",
    "                \n",
    "                p.next=q\n",
    "            return p\n",
    "        \n",
    "        return gen(p)"
   ]
  }
 ],
 "metadata": {
  "kernelspec": {
   "display_name": "Python 3",
   "language": "python",
   "name": "python3"
  },
  "language_info": {
   "codemirror_mode": {
    "name": "ipython",
    "version": 3
   },
   "file_extension": ".py",
   "mimetype": "text/x-python",
   "name": "python",
   "nbconvert_exporter": "python",
   "pygments_lexer": "ipython3",
   "version": "3.7.3"
  }
 },
 "nbformat": 4,
 "nbformat_minor": 2
}

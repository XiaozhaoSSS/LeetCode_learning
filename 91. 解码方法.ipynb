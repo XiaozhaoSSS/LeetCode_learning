{
 "cells": [
  {
   "cell_type": "code",
   "execution_count": null,
   "metadata": {},
   "outputs": [],
   "source": [
    "1.动态规划"
   ]
  },
  {
   "cell_type": "code",
   "execution_count": null,
   "metadata": {},
   "outputs": [],
   "source": [
    "class Solution:\n",
    "    def numDecodings(self, s: str) -> int:\n",
    "        n=len(s)\n",
    "        dp0=1 if s[0]!='0' else 0\n",
    "        if n==1 or dp0==0:return dp0\n",
    "        if s[1]!='0':\n",
    "            if int(s[:2])<=26:dp0,dp1=1,2\n",
    "            else:dp0,dp1=1,1\n",
    "        else:\n",
    "            if s[0] in ['1','2']:dp0,dp1=0,1\n",
    "            else:return 0\n",
    "\n",
    "        for i in range(2,n):\n",
    "            if s[i]=='0':\n",
    "                if s[i-1] in ['1','2']:dp0,dp1=0,dp0 \n",
    "                else:\n",
    "                    dp1=0\n",
    "                    break \n",
    "            else:\n",
    "                m=2 if int(s[i-1:i+1])<=26 else 1\n",
    "                dp0,dp1=dp1,dp0*m+dp1-dp0\n",
    "        return dp1\n",
    "                    "
   ]
  }
 ],
 "metadata": {
  "kernelspec": {
   "display_name": "Python 3",
   "language": "python",
   "name": "python3"
  },
  "language_info": {
   "codemirror_mode": {
    "name": "ipython",
    "version": 3
   },
   "file_extension": ".py",
   "mimetype": "text/x-python",
   "name": "python",
   "nbconvert_exporter": "python",
   "pygments_lexer": "ipython3",
   "version": "3.7.1"
  }
 },
 "nbformat": 4,
 "nbformat_minor": 2
}

{
 "cells": [
  {
   "cell_type": "code",
   "execution_count": null,
   "metadata": {},
   "outputs": [],
   "source": [
    "小易有根柱子，第根柱子的高度为。一开始小易站在第一根柱子上。小易能从第根柱子跳到第根柱子，当且仅当且。其中为指定的一个数字。\n",
    "另外小易拥有一次释放超能力的机会。这个超能力能让小易从柱子跳到任意满足的柱子而无视柱子高度的限制。\n",
    "现在小易想知道，小易是否能到达第根柱子。"
   ]
  },
  {
   "cell_type": "code",
   "execution_count": null,
   "metadata": {},
   "outputs": [],
   "source": [
    "输入描述:\n",
    "第一行数据组数\n",
    "对于每组数据，第一行数字，接下来一行个数字表示.\n",
    "\n",
    "\n",
    "输出描述:\n",
    "对于每组数据，输出YES或NO"
   ]
  },
  {
   "cell_type": "code",
   "execution_count": null,
   "metadata": {},
   "outputs": [],
   "source": [
    "输入例子1:\n",
    "1\n",
    "5 3\n",
    "6 2 4 3 8\n",
    "\n",
    "输出例子1:\n",
    "YES\n",
    "\n",
    "输入例子2:\n",
    "1\n",
    "5 2\n",
    "1 8 2 3 4\n",
    "\n",
    "输出例子2:\n",
    "NO"
   ]
  },
  {
   "cell_type": "code",
   "execution_count": null,
   "metadata": {},
   "outputs": [],
   "source": [
    "思路：\n",
    "1.动态规划\n",
    "2.两个列表dp1和dp2，列表元素分别表示 能否到达第i个柱子 和 到第i个柱子是否需要动用超能力\n",
    "3.更新列表第i个元素时分3种情况：\n",
    "    i-k <= j <i\n",
    "    1.能到达第j个柱子 且 未使用超能力 且 第j个柱子值大于第i个柱子值\n",
    "    2.能到达第j个柱子 且 使用了超能力 且 第j个柱子值大于第i个柱子值\n",
    "    3.能到达第j个柱子 且 未使用超能力 且 第j个柱子值不大于第i个柱子值"
   ]
  },
  {
   "cell_type": "code",
   "execution_count": null,
   "metadata": {},
   "outputs": [],
   "source": [
    "import sys \n",
    "t=int(sys.stdin.readline().strip())\n",
    "n,k,arr=[],[],[]\n",
    "for _ in range(t):\n",
    "    lines=sys.stdin.readline().strip().split()\n",
    "    n.append(int(lines[0]))\n",
    "    k.append(int(lines[1]))\n",
    "    lines=sys.stdin.readline().strip().split()\n",
    "    lines=[int(x) for x in lines]\n",
    "    arr.append(lines)\n",
    "def can_reach_or_not(n,k,arr):\n",
    "    dp1=[True]+[False]*(n-1)  #列表第i个元素表示能否到达第i个柱子\n",
    "    dp2=[False]*n #该列表第i个元素表示到第i个柱子是否需要动用超能力\n",
    "    for i in range(1,n):\n",
    "        begin=max(0,i-k)\n",
    "        for j in range(begin,i):\n",
    "            if dp1[j] and not dp2[j] and arr[j]>=arr[i]:\n",
    "                dp1[i]=True\n",
    "                break\n",
    "        if not dp1[i]:\n",
    "            for j in range(begin,i):\n",
    "                if dp1[j]:\n",
    "                    if  not dp2[j] or arr[j]>=arr[i]:\n",
    "                        dp1[i]=True\n",
    "                        dp2[i]=True\n",
    "                        break\n",
    "        #print(dp1,dp2)\n",
    "    return dp1[-1]\n",
    "res=[]\n",
    "for i in range(t):\n",
    "    if can_reach_or_not(n[i],k[i],arr[i]):res.append('YES')\n",
    "    else:res.append('NO')\n",
    "print('\\n'.join(res))"
   ]
  },
  {
   "cell_type": "code",
   "execution_count": 3,
   "metadata": {},
   "outputs": [
    {
     "data": {
      "text/plain": [
       "False"
      ]
     },
     "execution_count": 3,
     "metadata": {},
     "output_type": "execute_result"
    }
   ],
   "source": [
    "1\n",
    "5 2\n",
    "1 8 2 3 4\n",
    "1\n",
    "5 3\n",
    "6 2 4 3 8"
   ]
  },
  {
   "cell_type": "code",
   "execution_count": 4,
   "metadata": {},
   "outputs": [
    {
     "data": {
      "text/plain": [
       "<zip at 0x19cf7caf548>"
      ]
     },
     "execution_count": 4,
     "metadata": {},
     "output_type": "execute_result"
    }
   ],
   "source": [
    "zip([False,True],[False,False])"
   ]
  },
  {
   "cell_type": "code",
   "execution_count": 5,
   "metadata": {},
   "outputs": [
    {
     "data": {
      "text/plain": [
       "True"
      ]
     },
     "execution_count": 5,
     "metadata": {},
     "output_type": "execute_result"
    }
   ],
   "source": [
    "a=False\n",
    "not a"
   ]
  },
  {
   "cell_type": "code",
   "execution_count": 25,
   "metadata": {},
   "outputs": [
    {
     "name": "stdout",
     "output_type": "stream",
     "text": [
      "[True, True, False, False, False, False, False, False, False, False] [False, False, False, False, False, False, False, False, False, False]\n",
      "[True, True, True, False, False, False, False, False, False, False] [False, False, True, False, False, False, False, False, False, False]\n",
      "[True, True, True, True, False, False, False, False, False, False] [False, False, True, True, False, False, False, False, False, False]\n",
      "[True, True, True, True, True, False, False, False, False, False] [False, False, True, True, True, False, False, False, False, False]\n",
      "[True, True, True, True, True, True, False, False, False, False] [False, False, True, True, True, True, False, False, False, False]\n",
      "[True, True, True, True, True, True, True, False, False, False] [False, False, True, True, True, True, True, False, False, False]\n",
      "[True, True, True, True, True, True, True, True, False, False] [False, False, True, True, True, True, True, True, False, False]\n",
      "[True, True, True, True, True, True, True, True, True, False] [False, False, True, True, True, True, True, True, True, False]\n",
      "[True, True, True, True, True, True, True, True, True, True] [False, False, True, True, True, True, True, True, True, True]\n"
     ]
    },
    {
     "data": {
      "text/plain": [
       "True"
      ]
     },
     "execution_count": 25,
     "metadata": {},
     "output_type": "execute_result"
    }
   ],
   "source": [
    "def can_reach_or_not(n,k,arr):\n",
    "    dp1=[True]+[False]*(n-1)  #列表第i个元素表示能否到达第i个柱子\n",
    "    dp2=[False]*n #该列表第i个元素表示到第i个柱子是否需要动用超能力\n",
    "    for i in range(1,n):\n",
    "        begin=max(0,i-k)\n",
    "        for j in range(begin,i):\n",
    "            if dp1[j] and not dp2[j] and arr[j]>=arr[i]:\n",
    "                dp1[i]=True\n",
    "                break\n",
    "        if not dp1[i]:\n",
    "            for j in range(begin,i):\n",
    "                if dp1[j]:\n",
    "                    if  not dp2[j] or arr[j]>=arr[i]:\n",
    "                        dp1[i]=True\n",
    "                        dp2[i]=True\n",
    "                        break\n",
    "        #print(dp1,dp2)\n",
    "    return dp1[-1]\n",
    "can_reach_or_not(10,5,a)"
   ]
  },
  {
   "cell_type": "code",
   "execution_count": 21,
   "metadata": {},
   "outputs": [],
   "source": [
    "a='50590387 8028493 660013516 226575217 85137277 569716449 31075276 331696 27381455 503700401'\n",
    "a=a.split()\n",
    "a=[int(x) for x in a]"
   ]
  },
  {
   "cell_type": "code",
   "execution_count": 19,
   "metadata": {},
   "outputs": [
    {
     "data": {
      "text/plain": [
       "[50590387,\n",
       " 8028493,\n",
       " 660013516,\n",
       " 226575217,\n",
       " 85137277,\n",
       " 569716449,\n",
       " 31075276,\n",
       " 331696,\n",
       " 27381455,\n",
       " 503700401]"
      ]
     },
     "execution_count": 19,
     "metadata": {},
     "output_type": "execute_result"
    }
   ],
   "source": [
    "a"
   ]
  },
  {
   "cell_type": "code",
   "execution_count": null,
   "metadata": {},
   "outputs": [],
   "source": []
  }
 ],
 "metadata": {
  "kernelspec": {
   "display_name": "Python 3",
   "language": "python",
   "name": "python3"
  },
  "language_info": {
   "codemirror_mode": {
    "name": "ipython",
    "version": 3
   },
   "file_extension": ".py",
   "mimetype": "text/x-python",
   "name": "python",
   "nbconvert_exporter": "python",
   "pygments_lexer": "ipython3",
   "version": "3.7.5"
  }
 },
 "nbformat": 4,
 "nbformat_minor": 2
}

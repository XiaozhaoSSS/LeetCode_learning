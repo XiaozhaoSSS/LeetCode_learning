{
 "cells": [
  {
   "cell_type": "code",
   "execution_count": null,
   "metadata": {},
   "outputs": [],
   "source": [
    "通过键盘输入一串小写字母(a~z)组成的字符串。\n",
    "请编写一个字符串归一化程序，统计字符串中相同字符出现的次数，并按字典序输出字符及其出现次数。\n",
    "例如字符串\"babcc\"归一化后为\"a1b2c2\""
   ]
  },
  {
   "cell_type": "code",
   "execution_count": null,
   "metadata": {},
   "outputs": [],
   "source": [
    "输入描述:\n",
    "每个测试用例每行为一个字符串，以'\\n'结尾，例如cccddecca\n",
    "\n",
    "输出描述:\n",
    "输出压缩后的字符串ac5d2e"
   ]
  },
  {
   "cell_type": "code",
   "execution_count": null,
   "metadata": {},
   "outputs": [],
   "source": [
    "输入例子1:\n",
    "dabcab\n",
    "\n",
    "输出例子1:\n",
    "a2b2c1d1"
   ]
  },
  {
   "cell_type": "code",
   "execution_count": null,
   "metadata": {},
   "outputs": [],
   "source": [
    "import sys\n",
    "import operator\n",
    "\n",
    "data=[]\n",
    "while True:\n",
    "    line=sys.stdin.readline().strip()\n",
    "    if line=='':break\n",
    "    data.append(line)\n",
    "    \n",
    "def normal(string):\n",
    "    ans={}\n",
    "    for s in string:\n",
    "        ans[s]=ans.get(s,0)+1\n",
    "    ans=sorted(ans.items(),key=operator.itemgetter(0))\n",
    "    return ''.join([str(x[0])+str(x[1]) for x in ans])\n",
    "res=[]\n",
    "for string in data:\n",
    "    res.append(normal(string))\n",
    "print('\\n'.join(res))"
   ]
  }
 ],
 "metadata": {
  "kernelspec": {
   "display_name": "Python 3",
   "language": "python",
   "name": "python3"
  },
  "language_info": {
   "codemirror_mode": {
    "name": "ipython",
    "version": 3
   },
   "file_extension": ".py",
   "mimetype": "text/x-python",
   "name": "python",
   "nbconvert_exporter": "python",
   "pygments_lexer": "ipython3",
   "version": "3.7.5"
  }
 },
 "nbformat": 4,
 "nbformat_minor": 2
}

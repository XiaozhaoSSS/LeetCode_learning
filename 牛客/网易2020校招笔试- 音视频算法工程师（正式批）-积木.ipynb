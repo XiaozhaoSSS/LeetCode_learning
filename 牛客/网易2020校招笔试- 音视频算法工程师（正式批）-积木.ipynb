{
 "cells": [
  {
   "cell_type": "code",
   "execution_count": null,
   "metadata": {},
   "outputs": [],
   "source": [
    "小易有堆积木，第堆积木有块。小易还拥有一个容量无限的背包。\n",
    "一开始小易站在第一堆积木旁边。每次小易可以选择进行下列三种操作中的一种：\n",
    "1、从背包里掏出一块积木（如果有的话）放到当前这一堆里\n",
    "2、从当前这一堆积木里掏出一块塞到背包里(如果当前积木堆不为空的话)\n",
    "3、从当前这一堆走到下一堆。\n",
    "一开始小易的背包里有块积木。小易希望把这些个积木变成严格递增的（即。小易希望知道这是否有可能能完成。\n",
    "（所有操作结束后不需要保证背包里没有积木了，可以有积木堆为空）。"
   ]
  },
  {
   "cell_type": "code",
   "execution_count": null,
   "metadata": {},
   "outputs": [],
   "source": [
    "输入描述:\n",
    "第一行数据组数T\n",
    "对于每组数据，第一行数字，接下来一行个数字表示.\n",
    "\n",
    "\n",
    "输出描述:\n",
    "对于每组数据输出一行，输出结果YES或NO"
   ]
  },
  {
   "cell_type": "code",
   "execution_count": null,
   "metadata": {},
   "outputs": [],
   "source": [
    "输入例子1:\n",
    "1\n",
    "5 3\n",
    "2 2 3 3 1\n",
    "\n",
    "输出例子1:\n",
    "YES\n",
    "\n",
    "输入例子2:\n",
    "1\n",
    "5 2\n",
    "0 0 1 2 1\n",
    "\n",
    "输出例子2:\n",
    "NO"
   ]
  },
  {
   "cell_type": "code",
   "execution_count": null,
   "metadata": {},
   "outputs": [],
   "source": [
    "思路：\n",
    "1.若要形成递增序列，第i堆积木最少为i个\n",
    "2.按每堆积木应有的的最少数量计算，超过的都放包里，不够的从包里拿，若包里也不够了就没办法了"
   ]
  },
  {
   "cell_type": "code",
   "execution_count": null,
   "metadata": {},
   "outputs": [],
   "source": [
    "import sys\n",
    "t=int(sys.stdin.readline().strip())\n",
    "n,m,arr=[],[],[]\n",
    "for _ in range(t):\n",
    "    lines=sys.stdin.readline().strip().split()\n",
    "    n.append(int(lines[0]))\n",
    "    m.append(int(lines[1]))\n",
    "    lines=sys.stdin.readline().strip().split()\n",
    "    arr.append([int(x) for x in lines])\n",
    "\n",
    "def can_incremental(n,m,arr):\n",
    "    for i in range(n):\n",
    "        m+=(arr[i]-i)\n",
    "        if m<0:return False\n",
    "    return True\n",
    "    \n",
    "res=[]    \n",
    "for i in range(t):\n",
    "    if can_incremental(n[i],m[i],arr[i]):res.append('YES')\n",
    "    else:res.append('NO')\n",
    "print('\\n'.join(res))"
   ]
  },
  {
   "cell_type": "code",
   "execution_count": null,
   "metadata": {},
   "outputs": [],
   "source": []
  }
 ],
 "metadata": {
  "kernelspec": {
   "display_name": "Python 3",
   "language": "python",
   "name": "python3"
  },
  "language_info": {
   "codemirror_mode": {
    "name": "ipython",
    "version": 3
   },
   "file_extension": ".py",
   "mimetype": "text/x-python",
   "name": "python",
   "nbconvert_exporter": "python",
   "pygments_lexer": "ipython3",
   "version": "3.7.5"
  }
 },
 "nbformat": 4,
 "nbformat_minor": 2
}

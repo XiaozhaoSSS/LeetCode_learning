{
 "cells": [
  {
   "cell_type": "code",
   "execution_count": null,
   "metadata": {},
   "outputs": [],
   "source": [
    "有一天，小易把1到n的所有排列按字典序排成一排。小易从中选出了一个排列，假设它是正数第Q个排列，小易希望你能回答他倒数第Q个排列是什么。\n",
    "例如1到3的所有排列是：\n",
    "1 2 3\n",
    "1 3 2\n",
    "2 1 3\n",
    "2 3 1\n",
    "3 1 2\n",
    "3 2 1\n",
    "若小易选出的排列是1 2 3，则Q = 1，而你应该输出排列3 2 1"
   ]
  },
  {
   "cell_type": "code",
   "execution_count": null,
   "metadata": {},
   "outputs": [],
   "source": [
    "输入描述:\n",
    "第一行数字n,表示排列长度 \n",
    "接下来一行n个数字，表示选出的排列\n",
    "\n",
    "\n",
    "\n",
    "输出描述:\n",
    "一行n个数字，表示所求的排列。"
   ]
  },
  {
   "cell_type": "code",
   "execution_count": null,
   "metadata": {},
   "outputs": [],
   "source": [
    "输入例子1:\n",
    "3\n",
    "1 2 3\n",
    "\n",
    "输出例子1:\n",
    "3 2 1\n",
    "\n",
    "输入例子2:\n",
    "5\n",
    "3 1 5 2 4\n",
    "\n",
    "输出例子2:\n",
    "3 5 1 4 2"
   ]
  },
  {
   "cell_type": "code",
   "execution_count": null,
   "metadata": {},
   "outputs": [],
   "source": [
    "import sys \n",
    "n=int(sys.stdin.readline().strip())\n",
    "arr=sys.stdin.readline().strip().split()\n",
    "arr=[int(x) for x in arr]\n",
    "\n",
    "def factorial(n):\n",
    "    #计算阶乘\n",
    "    if n == 0 or n == 1:\n",
    "        return 1\n",
    "    else:\n",
    "        return (n * factorial(n - 1))\n",
    "    \n",
    "#计算0，1，...n的阶乘并保存在dict中\n",
    "factorial_dict={}\n",
    "for i in range(n+1):\n",
    "    factorial_dict[i]=factorial(i)\n",
    "\n",
    "def get_q(n,arr):\n",
    "    #计算数组arr是字典序的第几个排列\n",
    "    visited=set()\n",
    "    q=1\n",
    "    for i in range(n):\n",
    "        num=arr[i]-1\n",
    "        visited.add(arr[i])\n",
    "        while True:\n",
    "            if num not in visited:break\n",
    "            num-=1\n",
    "        if num!=0:\n",
    "            q+=((num-len(set(range(1,num+1))&visited))*factorial_dict[n-1-i])\n",
    "    return q\n",
    "\n",
    "def get_arr(n,q):\n",
    "    #计算字典序的第q个数组\n",
    "    remain=list(range(1,n+1))\n",
    "    arr=[]\n",
    "    for i in range(1,n+1):\n",
    "        temp=factorial_dict[n-i]\n",
    "        index=(q-1)//temp\n",
    "        arr.append(remain[index])\n",
    "        remain.pop(index)\n",
    "        q-=(temp*index)\n",
    "    return arr\n",
    "q=get_q(n,arr)\n",
    "res=get_arr(n,factorial_dict[n]+1-q)\n",
    "res=[str(x) for x in res]\n",
    "print(' '.join(res))"
   ]
  }
 ],
 "metadata": {
  "kernelspec": {
   "display_name": "Python 3",
   "language": "python",
   "name": "python3"
  },
  "language_info": {
   "codemirror_mode": {
    "name": "ipython",
    "version": 3
   },
   "file_extension": ".py",
   "mimetype": "text/x-python",
   "name": "python",
   "nbconvert_exporter": "python",
   "pygments_lexer": "ipython3",
   "version": "3.7.5"
  }
 },
 "nbformat": 4,
 "nbformat_minor": 2
}

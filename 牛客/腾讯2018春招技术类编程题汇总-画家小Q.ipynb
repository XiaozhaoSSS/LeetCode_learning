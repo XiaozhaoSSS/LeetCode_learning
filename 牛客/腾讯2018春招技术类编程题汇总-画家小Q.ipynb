{
 "cells": [
  {
   "cell_type": "markdown",
   "metadata": {},
   "source": [
    "画家小Q又开始他的艺术创作。小Q拿出了一块有NxM像素格的画板, 画板初始状态是空白的,用'X'表示。\n",
    "小Q有他独特的绘画技巧,每次小Q会选择一条斜线, 如果斜线的方向形如'/',即斜率为1,小Q会选择这条\n",
    "斜线中的一段格子,都涂画为蓝色,用'B'表示;如果对角线的方向形如'\\',即斜率为-1,小Q会选择这条斜线中的一段格子,都涂画为黄色,用'Y'表示。\n",
    "如果一个格子既被蓝色涂画过又被黄色涂画过,那么这个格子就会变成绿色,用'G'表示。\n",
    "小Q已经有想画出的作品的样子, 请你帮他计算一下他最少需要多少次操作完成这幅画。"
   ]
  },
  {
   "cell_type": "code",
   "execution_count": null,
   "metadata": {},
   "outputs": [],
   "source": [
    "输入描述:\n",
    "每个输入包含一个测试用例。\n",
    "每个测试用例的第一行包含两个正整数N和M(1 <= N, M <= 50), 表示画板的长宽。\n",
    "接下来的N行包含N个长度为M的字符串, 其中包含字符'B','Y','G','X',分别表示蓝色,黄色,绿色,空白。整个表示小Q要完成的作品。"
   ]
  },
  {
   "cell_type": "code",
   "execution_count": null,
   "metadata": {},
   "outputs": [],
   "source": [
    "输出描述:\n",
    "输出一个正整数, 表示小Q最少需要多少次操作完成绘画。"
   ]
  },
  {
   "cell_type": "code",
   "execution_count": null,
   "metadata": {},
   "outputs": [],
   "source": [
    "输入例子1:\n",
    "4 4\n",
    "YXXB\n",
    "XYGX\n",
    "XBYY\n",
    "BXXY\n",
    "\n",
    "输出例子1:\n",
    "3"
   ]
  },
  {
   "cell_type": "code",
   "execution_count": null,
   "metadata": {},
   "outputs": [],
   "source": [
    "import sys\n",
    "try:\n",
    "    line=sys.stdin.readline().strip()\n",
    "    lines=line.split()\n",
    "    n,m=int(lines[0]),int(lines[1])\n",
    "    \n",
    "    data=[]\n",
    "    while True:\n",
    "        line=sys.stdin.readline().strip()\n",
    "        if line=='':\n",
    "            break\n",
    "        data.append(line)\n",
    "    res=0\n",
    "    if n==1 or m==1:\n",
    "        for i in range(n):\n",
    "            for j in range(m):\n",
    "                if data[i][j]=='Y' or data[i][j]=='B':res+=1\n",
    "                elif data[i][j]=='G':res+=2\n",
    "    else:\n",
    "        for i in range(n):\n",
    "            for j in range(m):\n",
    "                if i==0:\n",
    "                    if data[i][j]=='G':res+=2\n",
    "                    elif data[i][j] in ['Y','B']:res+=1\n",
    "                elif j==0:\n",
    "                    if data[i][j] in ['G','Y']:res+=1\n",
    "                    if data[i][j] in ['G','B'] and data[i-1][j+1] not in ['G','B']:res+=1\n",
    "                elif j==m-1:\n",
    "                    if data[i][j] in ['G','B']:res+=1\n",
    "                    if data[i][j] in ['G','Y'] and data[i-1][j-1] not in ['G','Y']:res+=1\n",
    "                else:\n",
    "                    if data[i][j] in ['G','B'] and data[i-1][j+1] not in ['G','B']:res+=1\n",
    "                    if data[i][j] in ['G','Y'] and data[i-1][j-1] not in ['G','Y']:res+=1\n",
    "    print(res)\n",
    "except:\n",
    "    pass"
   ]
  }
 ],
 "metadata": {
  "kernelspec": {
   "display_name": "Python 3",
   "language": "python",
   "name": "python3"
  },
  "language_info": {
   "codemirror_mode": {
    "name": "ipython",
    "version": 3
   },
   "file_extension": ".py",
   "mimetype": "text/x-python",
   "name": "python",
   "nbconvert_exporter": "python",
   "pygments_lexer": "ipython3",
   "version": "3.7.5"
  }
 },
 "nbformat": 4,
 "nbformat_minor": 2
}

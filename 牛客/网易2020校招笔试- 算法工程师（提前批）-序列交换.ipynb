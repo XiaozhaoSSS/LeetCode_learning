{
 "cells": [
  {
   "cell_type": "code",
   "execution_count": null,
   "metadata": {},
   "outputs": [],
   "source": [
    "小易给你一个包含n个数字的数组。你可以对这个数组执行任意次以下交换操作：\n",
    "对于数组中的两个下标i,j(1<=i,j<=n)，如果为奇数，就可以交换a_i和a_j。\n",
    "\n",
    "现在允许你使用操作次数不限，小易希望你能求出在所有能通过若干次操作可以得到的数组中，字典序最小的一个是什么。"
   ]
  },
  {
   "cell_type": "code",
   "execution_count": null,
   "metadata": {},
   "outputs": [],
   "source": [
    "输入描述:\n",
    "第一行一个整数n；\n",
    "第二行n个整数a_1,a_2,..,a_n，表示数组，每两个数字之间用一个空格分隔。\n",
    "输入保证。\n",
    "\n",
    "输出描述:\n",
    "n个整数，每两个整数之间用一个空格分隔，表示得到的字典序最小的数组。"
   ]
  },
  {
   "cell_type": "code",
   "execution_count": null,
   "metadata": {},
   "outputs": [],
   "source": [
    "输入例子1:\n",
    "4\n",
    "7 3 5 1\n",
    "\n",
    "输出例子1:\n",
    "7 3 5 1"
   ]
  },
  {
   "cell_type": "code",
   "execution_count": null,
   "metadata": {},
   "outputs": [],
   "source": [
    "输入例子2:\n",
    "10\n",
    "53941 38641 31525 75864 29026 12199 83522 58200 64784 80987\n",
    "\n",
    "输出例子2:\n",
    "12199 29026 31525 38641 53941 58200 64784 75864 80987 83522"
   ]
  },
  {
   "cell_type": "code",
   "execution_count": null,
   "metadata": {},
   "outputs": [],
   "source": [
    "import sys\n",
    "try:\n",
    "    line=sys.stdin.readline().strip()\n",
    "    n=int(line)\n",
    "    line=sys.stdin.readline().strip()\n",
    "    lines=line.split()\n",
    "    result = [int(x) for x in lines]\n",
    "    temp1 = [x for x in result if x % 2 == 0]    \n",
    "    temp2 = [x for x in result if x %2 != 0]    \n",
    "    if temp1 != [] and temp2  != []:        \n",
    "        result.sort()    \n",
    "    result = [str(x) for x in result]    \n",
    "    print((' '.join(result)))\n",
    "except:\n",
    "    pass"
   ]
  }
 ],
 "metadata": {
  "kernelspec": {
   "display_name": "Python 3",
   "language": "python",
   "name": "python3"
  },
  "language_info": {
   "codemirror_mode": {
    "name": "ipython",
    "version": 3
   },
   "file_extension": ".py",
   "mimetype": "text/x-python",
   "name": "python",
   "nbconvert_exporter": "python",
   "pygments_lexer": "ipython3",
   "version": "3.7.5"
  }
 },
 "nbformat": 4,
 "nbformat_minor": 2
}

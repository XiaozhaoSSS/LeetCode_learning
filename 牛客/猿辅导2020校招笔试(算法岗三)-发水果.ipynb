{
 "cells": [
  {
   "cell_type": "code",
   "execution_count": null,
   "metadata": {},
   "outputs": [],
   "source": [
    "中午是猿辅导水果时间，小猿会给每个同学发水果。猿辅导有一个矩形的办公区域，共有N 排，每排M个工位。\n",
    "平时小猿按照从第一排到最后一排的顺序发水果，某一天小猿突然发现似乎旋转着发水果是一种更有趣的方式，\n",
    "所以决定试试按照逆时针方向螺旋发水果。\n",
    "已知每个工位有一个数字，表示该工位员工的工号，每个员工的工号不同。\n",
    "已知小猿从（0, 0）位置开始，按照逆时针螺旋的顺序发水果，请输出收到水果的员工工号序列。"
   ]
  },
  {
   "cell_type": "code",
   "execution_count": null,
   "metadata": {},
   "outputs": [],
   "source": [
    "输入描述:\n",
    "第一行 两个数， 数组行列 N，M\n",
    "接下来 N 行，每行 M 个正整数，表示每个位置的员工工号\n",
    "1 ≤ N ≤ 1000\n",
    "1 ≤ M ≤ 1000\n",
    "\n",
    "输出描述:\n",
    "发放水果工号序列"
   ]
  },
  {
   "cell_type": "code",
   "execution_count": null,
   "metadata": {},
   "outputs": [],
   "source": [
    "输入例子1:\n",
    "3 3\n",
    "1 2 3 \n",
    "4 5 6 \n",
    "7 8 9\n",
    "\n",
    "输出例子1:\n",
    "1 4 7 8 9 6 3 2 5"
   ]
  },
  {
   "cell_type": "code",
   "execution_count": null,
   "metadata": {},
   "outputs": [],
   "source": [
    "import sys\n",
    "lines=sys.stdin.readline().strip().split()\n",
    "n,m=int(lines[0]),int(lines[1])\n",
    "data=[]\n",
    "while True:\n",
    "    line=sys.stdin.readline().strip()\n",
    "    if line=='':break\n",
    "    data.append(line.split())\n",
    "\n",
    "row_c=[1,0,-1,0]\n",
    "col_c=[0,1,0,-1]\n",
    "index=0\n",
    "row,col=0,0\n",
    "res=[]\n",
    "for _ in range(n*m):\n",
    "    res.append(data[row][col])\n",
    "    data[row][col]=0\n",
    "    row_next=row+row_c[index]\n",
    "    col_next=col+col_c[index]\n",
    "    if row_next>=n or col_next>=m or row_next<0 or data[row_next][col_next]==0:\n",
    "        index=(index+1)%4\n",
    "        row_next=row+row_c[index]\n",
    "        col_next=col+col_c[index]\n",
    "    row,col=row_next,col_next\n",
    "print(' '.join(res))"
   ]
  }
 ],
 "metadata": {
  "kernelspec": {
   "display_name": "Python 3",
   "language": "python",
   "name": "python3"
  },
  "language_info": {
   "codemirror_mode": {
    "name": "ipython",
    "version": 3
   },
   "file_extension": ".py",
   "mimetype": "text/x-python",
   "name": "python",
   "nbconvert_exporter": "python",
   "pygments_lexer": "ipython3",
   "version": "3.7.5"
  }
 },
 "nbformat": 4,
 "nbformat_minor": 2
}

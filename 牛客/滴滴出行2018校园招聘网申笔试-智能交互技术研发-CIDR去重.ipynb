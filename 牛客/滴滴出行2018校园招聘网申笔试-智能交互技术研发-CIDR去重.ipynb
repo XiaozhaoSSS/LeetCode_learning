{
 "cells": [
  {
   "cell_type": "code",
   "execution_count": null,
   "metadata": {},
   "outputs": [],
   "source": [
    "无类别域间路由（CIDR）是一个用于对IPV4地址进行分类表述的方法。\n",
    "CIDR 路由描述的IP地址组的子网mask长度是可变长度, 例如10.0.0.0/22 表示前22位和10.0.0.0相同的网络地址都被覆盖, \n",
    "22包含了10.0这前两个字段(0-7位,8-15位)和第三个字段的前6位(16-21,即0b000000**), \n",
    "涵盖了 10.0.0.*, 10.0.1.*, 10.0.2.*, 10.0.3.* 四组ip地址. \n",
    "\n",
    "在此前提下请实现IP网络中的一个常用的去重操作: 给定一系列 CIDR 路由地址, 其中没有完全等价的路由, \n",
    "去掉被重复表示的 CIDR 路由, 即去掉已经被其他CIDR路由表示覆盖的路由地址. \n",
    "\n",
    "例如 10.0.1.1/32 已经被 10.0.0.0/22覆盖了, 如果路由列表中已经有了后者, 就可以去掉前者."
   ]
  },
  {
   "cell_type": "code",
   "execution_count": null,
   "metadata": {},
   "outputs": [],
   "source": [
    "输入描述:\n",
    "k+1行, k表示输入的CIDR路由个数\n",
    "第1行:表示路由个数k\n",
    "第2~k+1行: 表示一个CIDR路由, 形如 x.x.x.x/x\n",
    "\n",
    "输出描述:\n",
    "n+1行, n表示去重后剩下的CIDR路由个数\n",
    "第1行:n\n",
    "第2~n+1行: 表示一个去重后的CIDR路由, 输出按照输入顺序"
   ]
  },
  {
   "cell_type": "code",
   "execution_count": null,
   "metadata": {},
   "outputs": [],
   "source": [
    "输入例子1:\n",
    "13\n",
    "192.168.0.0/16\n",
    "172.24.96.17/32\n",
    "172.50.137.225/32\n",
    "202.139.219.192/32\n",
    "172.24.68.0/24\n",
    "192.183.125.71/32\n",
    "201.45.111.138/32\n",
    "192.168.59.211/32\n",
    "192.168.26.13/32\n",
    "172.24.0.0/17\n",
    "172.24.5.1/32\n",
    "172.24.68.37/32\n",
    "172.24.168.32/32\n",
    "\n",
    "输出例子1:\n",
    "7\n",
    "192.168.0.0/16\n",
    "172.50.137.225/32\n",
    "202.139.219.192/32\n",
    "192.183.125.71/32\n",
    "201.45.111.138/32\n",
    "172.24.0.0/17\n",
    "172.24.168.32/32"
   ]
  },
  {
   "cell_type": "code",
   "execution_count": null,
   "metadata": {},
   "outputs": [],
   "source": [
    "思路:\n",
    "1.注意比较前m位是否相同的同时，比较两个地址的m大小，去掉m较大的"
   ]
  },
  {
   "cell_type": "code",
   "execution_count": null,
   "metadata": {},
   "outputs": [],
   "source": [
    "import sys\n",
    "k=int(sys.stdin.readline().strip())\n",
    "arr=[]\n",
    "res=[]\n",
    "m=[]\n",
    "for _ in range(k):\n",
    "    line=sys.stdin.readline().strip()\n",
    "    res.append(line)\n",
    "    lines=line.split('.')\n",
    "    a=''\n",
    "    for i in range(3):\n",
    "        #print(lines[i])\n",
    "        a+=bin(int(lines[i]))[2:].zfill(8)\n",
    "    temp1,temp2=lines[-1].split('/')\n",
    "    a+=bin(int(temp1))[2:].zfill(8)\n",
    "    arr.append(a)\n",
    "    m.append(int(temp2))\n",
    "#print(arr)\n",
    "i=0\n",
    "while i<len(arr)-1:\n",
    "    j=i+1\n",
    "    temp1,temp2=arr[i][:m[i]],m[i]\n",
    "    while j<len(arr):\n",
    "        if arr[j][:temp2]==temp1 and m[j]>=temp2:\n",
    "            arr.pop(j)\n",
    "            res.pop(j)\n",
    "            m.pop(j)\n",
    "            continue\n",
    "        j+=1\n",
    "    i+=1\n",
    "res,arr,m=res[::-1],arr[::-1],m[::-1]\n",
    "i=0\n",
    "while i<len(arr)-1:\n",
    "    j=i+1\n",
    "    temp1,temp2=arr[i][:m[i]],m[i]\n",
    "    while j<len(arr):\n",
    "        if arr[j][:temp2]==temp1 and m[j]>=temp2:\n",
    "            arr.pop(j)\n",
    "            res.pop(j)\n",
    "            m.pop(j)\n",
    "            continue\n",
    "        j+=1\n",
    "    i+=1\n",
    "    \n",
    "print(len(res))\n",
    "print('\\n'.join(res[::-1]))"
   ]
  }
 ],
 "metadata": {
  "kernelspec": {
   "display_name": "Python 3",
   "language": "python",
   "name": "python3"
  }
 },
 "nbformat": 4,
 "nbformat_minor": 2
}

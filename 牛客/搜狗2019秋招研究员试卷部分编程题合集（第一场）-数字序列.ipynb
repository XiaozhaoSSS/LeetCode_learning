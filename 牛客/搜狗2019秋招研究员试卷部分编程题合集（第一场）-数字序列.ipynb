{
 "cells": [
  {
   "cell_type": "code",
   "execution_count": null,
   "metadata": {},
   "outputs": [],
   "source": [
    "一个由若干个取值范围在[1,2^31-1]的整数构成长度为N的数字序列，其中N<=5,000,000；\n",
    "求该数字序列上一段最小的连续区间的长度，要求该区间内正好包含了所有不同的数字，\n",
    "如果存在多个这样的区间，按照出现的顺序有序输出所有的区间起始和结束位置，序列的位置编号从1到N，其中最小的区间长度不会超过10,000。"
   ]
  },
  {
   "cell_type": "code",
   "execution_count": null,
   "metadata": {},
   "outputs": [],
   "source": [
    "输入描述:\n",
    "第一行：N\n",
    "第2至N+1行：每行1个数\n",
    "\n",
    "输出描述:\n",
    "第一行：最小的区间长度 区间个数X (以空格进行分隔）\n",
    "第二行：X个区间的起始和结束位置，按照出现的顺序有序输出，多个区间之间以空格分隔，每个区间的输出格式如下所示：[start,end]，最后以换行结尾"
   ]
  },
  {
   "cell_type": "code",
   "execution_count": null,
   "metadata": {},
   "outputs": [],
   "source": [
    "输入例子1:\n",
    "10\n",
    "1\n",
    "1\n",
    "3\n",
    "4\n",
    "6\n",
    "6\n",
    "5\n",
    "1\n",
    "3\n",
    "3\n",
    "\n",
    "输出例子1:\n",
    "6 3\n",
    "[2,7] [3,8] [4,9]"
   ]
  },
  {
   "cell_type": "code",
   "execution_count": null,
   "metadata": {},
   "outputs": [],
   "source": [
    "思路：\n",
    "1.查找从每个数出发的区间，超时\n",
    "2.双指针,但还是超时，通过了70%，细节地方可能需要优化"
   ]
  },
  {
   "cell_type": "code",
   "execution_count": null,
   "metadata": {},
   "outputs": [],
   "source": [
    "import sys\n",
    "n=int(sys.stdin.readline().strip())\n",
    "arr=[]\n",
    "arr_set=set()\n",
    "for _ in range(n):\n",
    "    line=sys.stdin.readline().strip()\n",
    "    arr.append(line)\n",
    "    arr_set.add(line)\n",
    "dp=[0]*n\n",
    "m=len(arr_set)  #不同元素个数\n",
    "min_len,min_len_range=float('Inf'),[]\n",
    "for i in range(n):\n",
    "    curr_nums=set()\n",
    "    for j in range(i,n):\n",
    "        curr_nums.add(arr[j])\n",
    "        if len(curr_nums)==m:\n",
    "            if j-i+1<min_len:\n",
    "                min_len=j-i+1\n",
    "                min_len_range=[[i+1,j+1]]\n",
    "            elif j-i+1==min_len:\n",
    "                min_len_range.append([i+1,j+1])\n",
    "            break\n",
    "range_num=len(min_len_range)\n",
    "print('%d %d'%(min_len,range_num))\n",
    "for i in range(range_num):\n",
    "    print('[%d,%d]'%(min_len_range[i][0],min_len_range[i][1]), end='')\n",
    "    if i<range_num-1:print(' ', end='')\n",
    "    else:print()"
   ]
  },
  {
   "cell_type": "code",
   "execution_count": null,
   "metadata": {},
   "outputs": [],
   "source": [
    "import sys\n",
    "n=int(sys.stdin.readline().strip())\n",
    "arr=[]\n",
    "\n",
    "for _ in range(n):\n",
    "    line=sys.stdin.readline().strip()\n",
    "    arr.append(line)\n",
    "    \n",
    "p1,p2=0,0\n",
    "m=len(set(arr))\n",
    "visited={}\n",
    "first_find,ahead=False,True   #两个标志，分别代表是(F)否(T)第一次找到包含全部数字的序列、是由p2继续向前(F)还是p1向前(T)\n",
    "min_len,min_len_range=float('Inf'),None\n",
    "\n",
    "while True:\n",
    "    if not first_find:\n",
    "        visited[arr[p2]]=visited.get(arr[p2],0)+1\n",
    "        if len(visited)==m:   #第一次找到\n",
    "            first_find=True\n",
    "            ahead=False   #开始由p1向前缩小序列\n",
    "        else:p2+=1\n",
    "        else:\n",
    "            visited[arr[p1]]-=1\n",
    "            if visited[arr[p1]]==0:\n",
    "                ahead=True\n",
    "                if p2-p1+1<min_len:\n",
    "                    min_len,min_len_range=p2-p1+1,['['+str(p1+1)+','+str(p2+1)+']']\n",
    "                elif p2-p1+1==min_len:min_len_range.append('['+str(p1+1)+','+str(p2+1)+']')                 \n",
    "            p1+=1\n",
    "\n",
    "range_num=len(min_len_range)\n",
    "print('%d %d'%(min_len,range_num))\n",
    "print(' '.join(min_len_range))"
   ]
  }
 ],
 "metadata": {
  "kernelspec": {
   "display_name": "Python 3",
   "language": "python",
   "name": "python3"
  },
  "language_info": {
   "codemirror_mode": {
    "name": "ipython",
    "version": 3
   },
   "file_extension": ".py",
   "mimetype": "text/x-python",
   "name": "python",
   "nbconvert_exporter": "python",
   "pygments_lexer": "ipython3",
   "version": "3.7.5"
  }
 },
 "nbformat": 4,
 "nbformat_minor": 2
}

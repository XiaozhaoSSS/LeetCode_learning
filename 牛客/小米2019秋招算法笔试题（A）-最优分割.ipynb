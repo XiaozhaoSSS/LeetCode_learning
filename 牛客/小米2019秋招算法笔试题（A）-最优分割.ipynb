{
 "cells": [
  {
   "cell_type": "code",
   "execution_count": null,
   "metadata": {},
   "outputs": [],
   "source": [
    "依次给出n个正整数A1，A2，… ，An，将这n个数分割成m段，每一段内的所有数的和记为这一段的权重， m段权重的最大值记为本次分割的权重。\n",
    "问所有分割方案中分割权重的最小值是多少？"
   ]
  },
  {
   "cell_type": "code",
   "execution_count": null,
   "metadata": {},
   "outputs": [],
   "source": [
    "输入描述:\n",
    "第一行依次给出正整数n，m，单空格切分；(n <= 10000, m <= 10000, m <= n)\n",
    "第二行依次给出n个正整数单空格切分A1，A2，… ，An  (Ai <= 10000)\n",
    "\n",
    "输出描述:\n",
    "分割权重的最小值"
   ]
  },
  {
   "cell_type": "code",
   "execution_count": null,
   "metadata": {},
   "outputs": [],
   "source": [
    "输入例子1:\n",
    "5 3\n",
    "1 4 2 3 5\n",
    "\n",
    "输出例子1:\n",
    "5"
   ]
  },
  {
   "cell_type": "code",
   "execution_count": null,
   "metadata": {},
   "outputs": [],
   "source": [
    "思路：\n",
    "1.二分法\n",
    "2.可能的权重值在max(Ai)和sum(Ai)之间，用二分法查找\n",
    "3.记录用当前权重值划分时最少能划分多少区间（每个区间权重不超过该值）\n",
    "4.当区间个数小于等于m时，说明有可能是最终结果，right = mid，在（left,right）中继续查找\n",
    "5.当区间个数大于m时，left = mid + 1，在（left,right）中继续查找"
   ]
  },
  {
   "cell_type": "code",
   "execution_count": null,
   "metadata": {},
   "outputs": [],
   "source": [
    "n, m = map(int, input().split())\n",
    "num = list(map(int, input().split()))\n",
    "left = max(num)\n",
    "right = sum(num)\n",
    "ans = right\n",
    "while left < right:\n",
    "    res = 0\n",
    "    cnt = 1\n",
    "    mid = (left+right)//2\n",
    "    for i in range(len(num)):\n",
    "        if res+num[i] > mid:\n",
    "            cnt += 1\n",
    "            res = num[i]\n",
    "        else:\n",
    "            res += num[i]\n",
    "    \n",
    "    if cnt <= m:\n",
    "        ans = min(mid, ans)\n",
    "        right = mid\n",
    "    else:\n",
    "        left = mid + 1\n",
    "print(ans)"
   ]
  }
 ],
 "metadata": {
  "kernelspec": {
   "display_name": "Python 3",
   "language": "python",
   "name": "python3"
  },
  "language_info": {
   "codemirror_mode": {
    "name": "ipython",
    "version": 3
   },
   "file_extension": ".py",
   "mimetype": "text/x-python",
   "name": "python",
   "nbconvert_exporter": "python",
   "pygments_lexer": "ipython3",
   "version": "3.7.5"
  }
 },
 "nbformat": 4,
 "nbformat_minor": 2
}

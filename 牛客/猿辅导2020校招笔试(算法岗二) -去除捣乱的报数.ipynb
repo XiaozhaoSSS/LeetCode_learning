{
 "cells": [
  {
   "cell_type": "code",
   "execution_count": null,
   "metadata": {},
   "outputs": [],
   "source": [
    "猿辅导老师在直播课上和同学们做游戏，让同学们在聊天区报自己的学号，每报一次可以获得一个礼物。\n",
    "但是老师不给报数次数超过了一定的次数的同学发礼物。\n",
    "现在请你来帮助老师把聊天区的报数数列处理一下。\n",
    "规定，当发现某个数大于 m 次时，则认定为报数过多，我们需要得到去除这些学生的报数后的报数数列。"
   ]
  },
  {
   "cell_type": "code",
   "execution_count": null,
   "metadata": {},
   "outputs": [],
   "source": [
    "输入描述:\n",
    "第一行：两个数，学生报数总个数n，和允许的最大重复次数 m，以空格分隔\n",
    "第二行：n个整数，表示学生所有报数数列，以空格分隔，范围是-2147483648~2147483647\n",
    "\n",
    "输出描述:\n",
    "只有一行，去除超出m次的报数数字后的报数数列，该数列不改变原报数顺序，数列以空格分隔"
   ]
  },
  {
   "cell_type": "code",
   "execution_count": null,
   "metadata": {},
   "outputs": [],
   "source": [
    "输入例子1:\n",
    "7 2\n",
    "4 3 3 3 1 5 5\n",
    "\n",
    "输出例子1:\n",
    "4 1 5 5"
   ]
  },
  {
   "cell_type": "code",
   "execution_count": null,
   "metadata": {},
   "outputs": [],
   "source": [
    "import sys\n",
    "lines=sys.stdin.readline().strip().split()\n",
    "n,m=int(lines[0]),int(lines[1])\n",
    "lines=sys.stdin.readline().strip().split()\n",
    "record={}\n",
    "for i in range(n):\n",
    "    record[lines[i]]=record.get(lines[i],[])\n",
    "    record[lines[i]].append(i)\n",
    "all_index=list(record.values())\n",
    "good_index=[]\n",
    "for index in all_index:\n",
    "    if len(index)<=m:good_index+=index\n",
    "good_index.sort()\n",
    "res=[]\n",
    "for index in good_index:\n",
    "    res.append(lines[index])\n",
    "print(' '.join(res))"
   ]
  }
 ],
 "metadata": {
  "kernelspec": {
   "display_name": "Python 3",
   "language": "python",
   "name": "python3"
  },
  "language_info": {
   "codemirror_mode": {
    "name": "ipython",
    "version": 3
   },
   "file_extension": ".py",
   "mimetype": "text/x-python",
   "name": "python",
   "nbconvert_exporter": "python",
   "pygments_lexer": "ipython3",
   "version": "3.7.5"
  }
 },
 "nbformat": 4,
 "nbformat_minor": 2
}

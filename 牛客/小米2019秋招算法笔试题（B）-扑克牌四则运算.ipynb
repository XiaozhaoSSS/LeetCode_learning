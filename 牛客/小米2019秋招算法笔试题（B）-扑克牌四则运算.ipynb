{
 "cells": [
  {
   "cell_type": "code",
   "execution_count": null,
   "metadata": {},
   "outputs": [],
   "source": [
    "现在有一幅扑克牌，去掉大小王52张牌。随机选出4张牌，可以任意改变扑克牌的顺序，并填入 + - * / 四个运算符，不用考虑括号，\n",
    "除法按整数操作，计算过程中没有浮点数，问是否能够求值得到给定的数m。"
   ]
  },
  {
   "cell_type": "code",
   "execution_count": null,
   "metadata": {},
   "outputs": [],
   "source": [
    "输入描述:\n",
    "一行四个数字 （JQK 分别被替换成11，12，13）单空格分割，另一行输入 m\n",
    "\n",
    "输出描述:\n",
    "可以输出1\n",
    "否则输出0"
   ]
  },
  {
   "cell_type": "code",
   "execution_count": null,
   "metadata": {},
   "outputs": [],
   "source": [
    "输入例子1:\n",
    "13 13 13 13 \n",
    "24\n",
    "\n",
    "输出例子1:\n",
    "0"
   ]
  },
  {
   "cell_type": "code",
   "execution_count": null,
   "metadata": {},
   "outputs": [],
   "source": [
    "import sys\n",
    "arr=sys.stdin.readline().strip().split()\n",
    "arr=[int(x) for x in arr]\n",
    "m=int(sys.stdin.readline().strip())\n",
    "res=0\n",
    "def dfs(a,p,l):\n",
    "    if a==[]:return p+l==m\n",
    "    for i in range(len(a)):\n",
    "        \n",
    "        if dfs(a[:i]+a[i+1:],p+l,a[i]):\n",
    "            return True\n",
    "        if dfs(a[:i]+a[i+1:],p+l,-a[i]):\n",
    "            return True\n",
    "        if dfs(a[:i]+a[i+1:],p,l*a[i]):\n",
    "            return True\n",
    "        if dfs(a[:i]+a[i+1:],p,l//a[i]):\n",
    "            return True\n",
    "    return False\n",
    "if dfs(arr,0,0):res=1\n",
    "print(res)"
   ]
  }
 ],
 "metadata": {
  "kernelspec": {
   "display_name": "Python 3",
   "language": "python",
   "name": "python3"
  },
  "language_info": {
   "codemirror_mode": {
    "name": "ipython",
    "version": 3
   },
   "file_extension": ".py",
   "mimetype": "text/x-python",
   "name": "python",
   "nbconvert_exporter": "python",
   "pygments_lexer": "ipython3",
   "version": "3.7.5"
  }
 },
 "nbformat": 4,
 "nbformat_minor": 2
}

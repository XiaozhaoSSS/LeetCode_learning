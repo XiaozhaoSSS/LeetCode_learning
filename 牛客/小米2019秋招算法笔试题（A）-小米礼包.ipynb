{
 "cells": [
  {
   "cell_type": "code",
   "execution_count": null,
   "metadata": {},
   "outputs": [],
   "source": [
    "小米之家是成人糖果店。里面有很多便宜，好用，好玩的产品。中秋节快到了，小米之家想给米粉们准备一些固定金额大礼包。\n",
    "对于给定的一个金额，需要判断能不能用不同种产品（一种产品在礼包最多出现一次）组合出来这个金额。聪明的你来帮帮米家的小伙伴吧。"
   ]
  },
  {
   "cell_type": "code",
   "execution_count": null,
   "metadata": {},
   "outputs": [],
   "source": [
    "输入描述:\n",
    "输入 N （N 是正整数， N  <= 200）\n",
    "输入 N 个价格p（正整数, p <= 10000）用单空格分割\n",
    "输入金额 M（M是正整数，M <= 100000 ）\n",
    "\n",
    "输出描述:\n",
    "能组合出来输出 1\n",
    "否则输出 0"
   ]
  },
  {
   "cell_type": "code",
   "execution_count": null,
   "metadata": {},
   "outputs": [],
   "source": [
    "思路：\n",
    "1.01背包问题，递归实现,超时了，通过70%\n",
    "2.通过移位等运算"
   ]
  },
  {
   "cell_type": "code",
   "execution_count": null,
   "metadata": {},
   "outputs": [],
   "source": [
    "import sys\n",
    "n=int(sys.stdin.readline().strip())\n",
    "p=sys.stdin.readline().strip().split()\n",
    "p=[int(x) for x in p]\n",
    "m=int(sys.stdin.readline().strip())\n",
    "\n",
    "def dfs(depth,num,res):\n",
    "    if res==1 or depth>=n:return res\n",
    "    if p[depth]==num:res=1\n",
    "    \n",
    "    if p[depth]<num:res=dfs(depth+1,num-p[depth],res)\n",
    "    res=dfs(depth+1,num,res)\n",
    "    return res\n",
    "\n",
    "print(dfs(0,m,0))"
   ]
  },
  {
   "cell_type": "code",
   "execution_count": null,
   "metadata": {},
   "outputs": [],
   "source": [
    "N = int(input())\n",
    "price = list(map(int, input().split(' ')))\n",
    "m = int(input())\n",
    " \n",
    "possible_sum = 1\n",
    "for p in price:\n",
    "    possible_sum |= (possible_sum << p)\n",
    "print(possible_sum >> m & 1)"
   ]
  }
 ],
 "metadata": {
  "kernelspec": {
   "display_name": "Python 3",
   "language": "python",
   "name": "python3"
  },
  "language_info": {
   "codemirror_mode": {
    "name": "ipython",
    "version": 3
   },
   "file_extension": ".py",
   "mimetype": "text/x-python",
   "name": "python",
   "nbconvert_exporter": "python",
   "pygments_lexer": "ipython3",
   "version": "3.7.5"
  }
 },
 "nbformat": 4,
 "nbformat_minor": 2
}

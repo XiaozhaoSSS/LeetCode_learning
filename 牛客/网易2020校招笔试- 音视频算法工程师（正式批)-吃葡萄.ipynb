{
 "cells": [
  {
   "cell_type": "code",
   "execution_count": null,
   "metadata": {},
   "outputs": [],
   "source": [
    "有三种葡萄，每种分别有颗。有三个人，第一个人只吃第种葡萄，第二个人只吃第种葡萄，第三个人只吃第种葡萄。\n",
    "适当安排三个人使得吃完所有的葡萄,并且且三个人中吃的最多的那个人吃得尽量少。"
   ]
  },
  {
   "cell_type": "code",
   "execution_count": null,
   "metadata": {},
   "outputs": [],
   "source": [
    "输入例子：\n",
    "10\n",
    "6 5 7\n",
    "3 2 1\n",
    "9 8 3\n",
    "3 2 1\n",
    "1 7 10\n",
    "8 1 3\n",
    "1 5 3\n",
    "2 1 1\n",
    "3 2 1\n",
    "5 2 1\n",
    "输出例子：\n",
    "6\n",
    "2\n",
    "7\n",
    "2\n",
    "6\n",
    "4\n",
    "3\n",
    "2\n",
    "2\n",
    "3"
   ]
  },
  {
   "cell_type": "code",
   "execution_count": null,
   "metadata": {},
   "outputs": [],
   "source": [
    "import sys\n",
    "t=int(sys.stdin.readline().strip())\n",
    "data=[]\n",
    "while True:\n",
    "    line=sys.stdin.readline().strip()\n",
    "    if line=='':break\n",
    "    lines=line.split()\n",
    "    lines=[int(x) for x in lines]\n",
    "    data.append(lines)\n",
    "res=[]\n",
    "for abc in data:\n",
    "    abc.sort()\n",
    "    if (abc[0]+abc[1])*2>=abc[2]:max_num=sum(abc)//3+(0 if sum(abc)%3==0 else 1)\n",
    "    else:max_num=abc[2]//2+(0 if abc[2]%2==0 else 1)\n",
    "    res.append(str(max_num))\n",
    "print('\\n'.join(res))"
   ]
  }
 ],
 "metadata": {
  "kernelspec": {
   "display_name": "Python 3",
   "language": "python",
   "name": "python3"
  },
  "language_info": {
   "codemirror_mode": {
    "name": "ipython",
    "version": 3
   },
   "file_extension": ".py",
   "mimetype": "text/x-python",
   "name": "python",
   "nbconvert_exporter": "python",
   "pygments_lexer": "ipython3",
   "version": "3.7.5"
  }
 },
 "nbformat": 4,
 "nbformat_minor": 2
}

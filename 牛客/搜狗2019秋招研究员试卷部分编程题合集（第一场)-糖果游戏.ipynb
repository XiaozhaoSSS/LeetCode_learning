{
 "cells": [
  {
   "cell_type": "code",
   "execution_count": null,
   "metadata": {},
   "outputs": [],
   "source": [
    "小明和小红都很喜欢吃糖果，今天他们一起玩一个糖果游戏。他们将装有不同数量的透明糖果盒子摆放成一个环，\n",
    "现在两人依次选择糖果盒子，小明先拿，且小明第一次挑选可以选择环中任意一个糖果盒子，将环分割成一列有首尾的序列，\n",
    "之后两人每次选择时只能从剩余的糖果盒子序列的行首或者行尾挑选，直到两人将糖果盒子全部拿完，最后糖果多的为胜者。\n",
    "假设两人都希望自己是最后的赢家，且糖果的总数是奇数，现给定一个糖果的环，用一个数组表示环中的各糖果盒子中糖果的数量，\n",
    "数组首尾相连成环，元素个数为N。请输出胜利者比失败者至少多拿多少糖果。\n"
   ]
  },
  {
   "cell_type": "code",
   "execution_count": null,
   "metadata": {},
   "outputs": [],
   "source": [
    "输入描述:\n",
    "第一行：N\n",
    "第2至N+1行：每行一个数，代表糖果数\n",
    "\n",
    "输出描述:\n",
    "一个数，请输出胜利者比失败者多拿多少糖果\n",
    "\n",
    "输入例子1:\n",
    "4 \n",
    "1\n",
    "55\n",
    "41\n",
    "2\n",
    "\n",
    "输出例子1:\n",
    "15"
   ]
  },
  {
   "cell_type": "code",
   "execution_count": null,
   "metadata": {},
   "outputs": [],
   "source": [
    "思路：\n",
    "1.不是每次拿首尾两块中较大的就好"
   ]
  },
  {
   "cell_type": "code",
   "execution_count": null,
   "metadata": {},
   "outputs": [],
   "source": [
    "dic={}\n",
    "def res(ary):\n",
    "    if not ary:\n",
    "        return 0\n",
    "    if not ary in dic:\n",
    "        dic[ary]=min(-res(ary[1:])-ary[0],-res(ary[:-1])-ary[-1])#对于对手来说，对手得分是负的自己得分\n",
    "    return dic[ary]\n",
    "a=int(input())\n",
    "aa=[int(input()) for _ in range(a)]\n",
    "print (abs(max([-res(tuple(aa[i:]+aa[:i])) for i in range(a)])))"
   ]
  }
 ],
 "metadata": {
  "kernelspec": {
   "display_name": "Python 3",
   "language": "python",
   "name": "python3"
  },
  "language_info": {
   "codemirror_mode": {
    "name": "ipython",
    "version": 3
   },
   "file_extension": ".py",
   "mimetype": "text/x-python",
   "name": "python",
   "nbconvert_exporter": "python",
   "pygments_lexer": "ipython3",
   "version": "3.7.5"
  }
 },
 "nbformat": 4,
 "nbformat_minor": 2
}

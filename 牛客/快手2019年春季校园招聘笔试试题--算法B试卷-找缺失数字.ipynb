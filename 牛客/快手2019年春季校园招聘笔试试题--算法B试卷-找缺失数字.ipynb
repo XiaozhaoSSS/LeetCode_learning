{
 "cells": [
  {
   "cell_type": "code",
   "execution_count": null,
   "metadata": {},
   "outputs": [],
   "source": [
    "从0,1,2,...,n这n+1个数中选择n个数，找出这n个数中缺失的那个数，要求O(n)尽可能小。"
   ]
  },
  {
   "cell_type": "code",
   "execution_count": null,
   "metadata": {},
   "outputs": [],
   "source": [
    "输入描述:\n",
    "给定一个以逗号（,）分割的数字串。\n",
    "\n",
    "输出描述:\n",
    "输出缺失的数字"
   ]
  },
  {
   "cell_type": "code",
   "execution_count": null,
   "metadata": {},
   "outputs": [],
   "source": [
    "输入例子1:\n",
    "0,1,2,3,4,5,7\n",
    "\n",
    "输出例子1:\n",
    "6\n",
    "\n",
    "输入例子2:\n",
    "0,1,2,3,4,5,7,8,9,10,11\n",
    "\n",
    "输出例子2:\n",
    "6"
   ]
  },
  {
   "cell_type": "code",
   "execution_count": null,
   "metadata": {},
   "outputs": [],
   "source": [
    "思路：\n",
    "1.二分法"
   ]
  },
  {
   "cell_type": "code",
   "execution_count": null,
   "metadata": {},
   "outputs": [],
   "source": [
    "import sys\n",
    "arr=sys.stdin.readline().strip().split(',')\n",
    "arr=[int(x) for x in arr]\n",
    "n=len(arr)\n",
    "left,right=0,n-1\n",
    "while left!=right:\n",
    "    mid=(left+right)//2\n",
    "    if arr[mid]==mid:\n",
    "        left=mid+1\n",
    "    else:\n",
    "        right=mid\n",
    "print(left)"
   ]
  }
 ],
 "metadata": {
  "kernelspec": {
   "display_name": "Python 3",
   "language": "python",
   "name": "python3"
  },
  "language_info": {
   "codemirror_mode": {
    "name": "ipython",
    "version": 3
   },
   "file_extension": ".py",
   "mimetype": "text/x-python",
   "name": "python",
   "nbconvert_exporter": "python",
   "pygments_lexer": "ipython3",
   "version": "3.7.5"
  }
 },
 "nbformat": 4,
 "nbformat_minor": 2
}

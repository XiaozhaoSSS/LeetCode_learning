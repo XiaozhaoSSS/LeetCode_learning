{
 "cells": [
  {
   "cell_type": "code",
   "execution_count": null,
   "metadata": {},
   "outputs": [],
   "source": [
    "前几个月放映的头号玩家简直火得不能再火了，作为一个探索终极AI的研究人员，月神自然去看了此神剧。\n",
    "由于太过兴奋，晚上月神做了一个奇怪的梦，月神梦见自己掉入了一个被施放了魔法的深渊，月神想要爬上此深渊。\n",
    "\n",
    "已知深渊有N层台阶构成（1 <= N <= 1000)，并且每次月神仅可往上爬2的整数次幂个台阶(1、2、4、....)，\n",
    "请你编程告诉月神，月神有多少种方法爬出深渊"
   ]
  },
  {
   "cell_type": "code",
   "execution_count": null,
   "metadata": {},
   "outputs": [],
   "source": [
    "输入描述:\n",
    "输入共有M行，(1<=M<=1000)\n",
    "\n",
    "第一行输入一个数M表示有多少组测试数据，\n",
    "\n",
    "接着有M行，每一行都输入一个N表示深渊的台阶数\n",
    "\n",
    "输出描述:\n",
    "输出可能的爬出深渊的方式"
   ]
  },
  {
   "cell_type": "code",
   "execution_count": null,
   "metadata": {},
   "outputs": [],
   "source": [
    "输入例子1:\n",
    "4\n",
    "1\n",
    "2\n",
    "3\n",
    "4\n",
    "\n",
    "输出例子1:\n",
    "1\n",
    "2\n",
    "3\n",
    "6"
   ]
  },
  {
   "cell_type": "code",
   "execution_count": null,
   "metadata": {},
   "outputs": [],
   "source": [
    "思路：\n",
    "1.动态规划\n",
    "2.dp[i]=dp[i-1]+dp[i-2]+dp[i-4]+dp[i-8]+......"
   ]
  },
  {
   "cell_type": "code",
   "execution_count": null,
   "metadata": {},
   "outputs": [],
   "source": [
    "import sys\n",
    "m=int(sys.stdin.readline().strip())\n",
    "n_list=[]\n",
    "for _ in range(m):\n",
    "    n_list.append(int(sys.stdin.readline().strip()))\n",
    "    \n",
    "    \n",
    "def find_methods(n):\n",
    "    dp=[0]*(n+1)\n",
    "    dp[0]=1\n",
    "    for i in range(1,n+1):\n",
    "        j=0\n",
    "        idx=i-1\n",
    "        while idx>=0:\n",
    "            dp[i]+=dp[idx]\n",
    "            j+=1\n",
    "            idx=i-2**j\n",
    "    return dp[-1]\n",
    "\n",
    "res=[]\n",
    "for n in n_list:\n",
    "    res.append(str(find_methods(n)%1000000003))\n",
    "print('\\n'.join(res))"
   ]
  }
 ],
 "metadata": {
  "kernelspec": {
   "display_name": "Python 3",
   "language": "python",
   "name": "python3"
  },
  "language_info": {
   "codemirror_mode": {
    "name": "ipython",
    "version": 3
   },
   "file_extension": ".py",
   "mimetype": "text/x-python",
   "name": "python",
   "nbconvert_exporter": "python",
   "pygments_lexer": "ipython3",
   "version": "3.7.5"
  }
 },
 "nbformat": 4,
 "nbformat_minor": 2
}

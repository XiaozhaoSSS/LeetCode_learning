{
 "cells": [
  {
   "cell_type": "code",
   "execution_count": null,
   "metadata": {},
   "outputs": [],
   "source": [
    "我们部门需要装饰墙，但是墙非常非常的长，有一千万米。我们会按顺序贴很多海报在上面，这些海报相互之间会重叠，\n",
    "请问下，最后还能看到哪些？（只看到一部分也算）\n"
   ]
  },
  {
   "cell_type": "code",
   "execution_count": null,
   "metadata": {},
   "outputs": [],
   "source": [
    "输入描述:\n",
    "N表示N张海报\n",
    "接下来每一行代表海报的左右边界（上下默认全满），Li，Ri，均为整数，大于0，小于一千万。海报按输入顺序张贴。\n",
    "\n",
    "输出描述:\n",
    "有多少张海报是可见的"
   ]
  },
  {
   "cell_type": "code",
   "execution_count": null,
   "metadata": {},
   "outputs": [],
   "source": [
    "输入例子1:\n",
    "5\n",
    "1 4\n",
    "2 6\n",
    "8 10\n",
    "3 4\n",
    "7 10\n",
    "\n",
    "输出例子1:\n",
    "4"
   ]
  },
  {
   "cell_type": "code",
   "execution_count": null,
   "metadata": {},
   "outputs": [],
   "source": [
    "import sys\n",
    "n=int(sys.stdin.readline().strip())\n",
    "L,R=[],[]\n",
    "for _ in range(n):\n",
    "    lines=sys.stdin.readline().strip().split()\n",
    "    L.append(int(lines[0]))\n",
    "    R.append(int(lines[1]))\n",
    "res=[0]*(max(R)+2)\n",
    "for i in range(n):\n",
    "    res[L[i]:R[i]+1]=[i+1]*(R[i]-L[i]+1)\n",
    "\n",
    "print(len(set(res))-1)"
   ]
  }
 ],
 "metadata": {
  "kernelspec": {
   "display_name": "Python 3",
   "language": "python",
   "name": "python3"
  },
  "language_info": {
   "codemirror_mode": {
    "name": "ipython",
    "version": 3
   },
   "file_extension": ".py",
   "mimetype": "text/x-python",
   "name": "python",
   "nbconvert_exporter": "python",
   "pygments_lexer": "ipython3",
   "version": "3.7.5"
  }
 },
 "nbformat": 4,
 "nbformat_minor": 2
}

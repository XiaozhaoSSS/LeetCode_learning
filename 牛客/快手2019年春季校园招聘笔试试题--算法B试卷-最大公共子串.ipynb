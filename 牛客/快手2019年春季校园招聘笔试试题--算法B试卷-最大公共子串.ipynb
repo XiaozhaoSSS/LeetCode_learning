{
 "cells": [
  {
   "cell_type": "code",
   "execution_count": null,
   "metadata": {},
   "outputs": [],
   "source": [
    "给定两个字符串，请编写代码，输出最长公共子串（Longest Common Substring），是指两个字符串中的最长的公共子串，要求子串一定是连续。"
   ]
  },
  {
   "cell_type": "code",
   "execution_count": null,
   "metadata": {},
   "outputs": [],
   "source": [
    "输入描述:\n",
    "文本格式，2个非空字符串（字母数字组成），2个字符串以\",\"英文逗号分割，字符串长度均小于等于100。\n",
    "\n",
    "输出描述:\n",
    "整形，为匹配到的最长子串长度"
   ]
  },
  {
   "cell_type": "code",
   "execution_count": null,
   "metadata": {},
   "outputs": [],
   "source": [
    "输入例子1:\n",
    "bab,caba\n",
    "\n",
    "输出例子1:\n",
    "2"
   ]
  },
  {
   "cell_type": "code",
   "execution_count": null,
   "metadata": {},
   "outputs": [],
   "source": [
    "思路：\n",
    "1.动态规划\n",
    "2.二维数组dp[i][j],表示以第一个字符串的第i个字符和第二个字符串的第j个字符为末尾的公共子串长度"
   ]
  },
  {
   "cell_type": "code",
   "execution_count": null,
   "metadata": {},
   "outputs": [],
   "source": [
    "import sys\n",
    "lines=sys.stdin.readline().strip().split(',')\n",
    "str1,str2=lines[0],lines[1]\n",
    "n1,n2=len(str1),len(str2)\n",
    "dp=[[0]*(n1+1) for _ in range(n2+1)]\n",
    "res=0\n",
    "for i in range(1,n2+1):\n",
    "    for j in range(1,n1+1):\n",
    "        if str2[i-1]==str1[j-1]:\n",
    "            dp[i][j]=dp[i-1][j-1]+1\n",
    "            res=max(res,dp[i][j])\n",
    "print(res)"
   ]
  }
 ],
 "metadata": {
  "kernelspec": {
   "display_name": "Python 3",
   "language": "python",
   "name": "python3"
  },
  "language_info": {
   "codemirror_mode": {
    "name": "ipython",
    "version": 3
   },
   "file_extension": ".py",
   "mimetype": "text/x-python",
   "name": "python",
   "nbconvert_exporter": "python",
   "pygments_lexer": "ipython3",
   "version": "3.7.5"
  }
 },
 "nbformat": 4,
 "nbformat_minor": 2
}

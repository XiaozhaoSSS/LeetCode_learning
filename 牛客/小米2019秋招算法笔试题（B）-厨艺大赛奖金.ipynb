{
 "cells": [
  {
   "cell_type": "code",
   "execution_count": null,
   "metadata": {},
   "outputs": [],
   "source": [
    "小米食堂每年都会举办一次厨艺大赛，假设参赛的厨师一共有n位（n < 1000），比赛结束后没有公布评分，\n",
    "但是站在领奖台上的一排厨师中每位厨师都能看到与自己相邻的厨师（左或者右）里评分比自己低（看不到比自己分数高的人的分数）的评分。\n",
    "比赛结束之后要发奖金，以1K为单位，每位厨师至少会发1K的奖金，\n",
    "另外，如果一个厨师发现自己的奖金没有高于比自己评分低的厨师的奖金，就会不满意，\n",
    "作为比赛组织方，小米食堂至少需要发放多少奖金才能让所有厨师满意。"
   ]
  },
  {
   "cell_type": "code",
   "execution_count": null,
   "metadata": {},
   "outputs": [],
   "source": [
    "输入描述:\n",
    "每组数据为n+1个正整数单空格分割，其中第一个数为参赛厨师的人数，后面n个数为每位厨师的得分（0-100）\n",
    "\n",
    "输出描述:\n",
    "输出至少需要多少K的奖金"
   ]
  },
  {
   "cell_type": "code",
   "execution_count": null,
   "metadata": {},
   "outputs": [],
   "source": [
    "输入例子1:\n",
    "10 60 76 66 76 85 55 61 71 84 62\n",
    "\n",
    "输出例子1:\n",
    "20"
   ]
  },
  {
   "cell_type": "code",
   "execution_count": null,
   "metadata": {},
   "outputs": [],
   "source": [
    "import sys\n",
    "lines=sys.stdin.readline().strip().split()\n",
    "n=int(lines[0])\n",
    "arr=lines[1:]\n",
    "arr=[int(x) for x in arr]\n",
    "money=[1]*n\n",
    "for i in range(1,n):\n",
    "    if arr[i]>arr[i-1]:money[i]=money[i-1]+1\n",
    "for i in range(n-1)[::-1]:\n",
    "    if arr[i]>arr[i+1]:money[i]=max(money[i+1]+1,money[i])\n",
    "print(sum(money))"
   ]
  },
  {
   "cell_type": "code",
   "execution_count": null,
   "metadata": {},
   "outputs": [],
   "source": [
    "100 19 96 39 65 28 68 70 11 93 70 79 26 31 47 35 37 38 77 78 60 19 83 61 30 1 16 87 72 15 55 35 99 59 54 62 41 63 86 70 87 26 85 69 43 31 45 67 33 6 23 73 10 22 57 55 92 40 11 83 67 50 73 5 57 9 11 44 38 24 87 60 67 41 42 78 24 81 3 31 9 22 56 43 82 85 70 60 90 81 57 2 8 53 88 49 78 32 98 47 32"
   ]
  },
  {
   "cell_type": "code",
   "execution_count": null,
   "metadata": {},
   "outputs": [],
   "source": [
    "3\n",
    "6\n",
    "12\n",
    "15\n",
    "18\n",
    "24\n",
    "40\n",
    "49\n",
    "56\n",
    "59 \n",
    "64\n",
    "67\n",
    "73\n",
    "76\n",
    "85\n",
    "92\n",
    "98\n",
    "104\n",
    "109\n",
    "114\n",
    "117\n",
    "120\n",
    "127\n",
    "130\n",
    "133\n",
    "139\n",
    "142\n",
    "145\n",
    "151\n",
    "158\n",
    "167\n",
    "177\n",
    "180\n",
    "185"
   ]
  }
 ],
 "metadata": {
  "kernelspec": {
   "display_name": "Python 3",
   "language": "python",
   "name": "python3"
  },
  "language_info": {
   "codemirror_mode": {
    "name": "ipython",
    "version": 3
   },
   "file_extension": ".py",
   "mimetype": "text/x-python",
   "name": "python",
   "nbconvert_exporter": "python",
   "pygments_lexer": "ipython3",
   "version": "3.7.5"
  }
 },
 "nbformat": 4,
 "nbformat_minor": 2
}

{
 "cells": [
  {
   "cell_type": "code",
   "execution_count": null,
   "metadata": {},
   "outputs": [],
   "source": [
    "小易有一个长度为n的数字数组a_1, a_2, …, a_n。\n",
    "\n",
    "问你是否能用这n个数字构成一个环(首尾连接)，使得环中的每一个数字都小于它相邻的两个数字的和(每个数字都必须使用并且每个数字只能使用一次)。"
   ]
  },
  {
   "cell_type": "code",
   "execution_count": null,
   "metadata": {},
   "outputs": [],
   "source": [
    "输入描述:\n",
    "第一行包含一个整数t(1<=t<=10)，表示测试用例的组数。\n",
    "每个测试用例输入如下：\n",
    "第一行一个整数n，表示数字的个数；\n",
    "第二行n个整数a_1, a_2, …, a_n，每两个整数之间用一个空格分隔。\n",
    "输入数据保证\n",
    "\n",
    "。\n",
    "\n",
    "输出描述:\n",
    "输出应该包含t行，对于每组用例，若能输出\"YES\"，否则输出\"NO\"。"
   ]
  },
  {
   "cell_type": "code",
   "execution_count": null,
   "metadata": {},
   "outputs": [],
   "source": [
    "输入例子1:\n",
    "1\n",
    "5\n",
    "17 6 17 11 17\n",
    "\n",
    "输出例子1:\n",
    "YES"
   ]
  },
  {
   "cell_type": "code",
   "execution_count": null,
   "metadata": {},
   "outputs": [],
   "source": [
    "输入例子2:\n",
    "1\n",
    "3\n",
    "1 2 4\n",
    "\n",
    "输出例子2:\n",
    "NO"
   ]
  },
  {
   "cell_type": "code",
   "execution_count": 20,
   "metadata": {},
   "outputs": [],
   "source": [
    "import sys\n",
    "\n",
    "try:\n",
    "    t=int(sys.stdin.readline().strip())\n",
    "    n_list,arr_list=[],[]\n",
    "    while True:\n",
    "        line=sys.stdin.readline().strip()\n",
    "\n",
    "        if line=='':\n",
    "            break\n",
    "\n",
    "        n_list.append(int(line))\n",
    "        line=sys.stdin.readline().strip()\n",
    "        lines=line.split()\n",
    "        lines=[int(x) for x in lines]\n",
    "        arr_list.append(lines)\n",
    "\n",
    "    res=[]\n",
    "    for i in range(t):\n",
    "        n,arr=n_list[i],arr_list[i]\n",
    "        arr.sort()\n",
    "        if arr[-1]>arr[-2]+arr[-3]:res.append('NO')\n",
    "        else:res.append('YES')\n",
    "    res='\\n'.join(res)\n",
    "    print(res)\n",
    "except:\n",
    "    pass"
   ]
  }
 ],
 "metadata": {
  "kernelspec": {
   "display_name": "Python 3",
   "language": "python",
   "name": "python3"
  },
  "language_info": {
   "codemirror_mode": {
    "name": "ipython",
    "version": 3
   },
   "file_extension": ".py",
   "mimetype": "text/x-python",
   "name": "python",
   "nbconvert_exporter": "python",
   "pygments_lexer": "ipython3",
   "version": "3.7.5"
  }
 },
 "nbformat": 4,
 "nbformat_minor": 2
}

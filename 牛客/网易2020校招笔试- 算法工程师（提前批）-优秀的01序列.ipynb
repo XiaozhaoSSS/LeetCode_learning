{
 "cells": [
  {
   "cell_type": "code",
   "execution_count": null,
   "metadata": {},
   "outputs": [],
   "source": [
    "给定01序列S, 序列S是优秀的01序列，优秀的01序列定义如下:\n",
    "1、如果序列S,T是优秀的，则序列S+T是优秀的，+被定义为按顺序连接两个序列，即\"010\"+\"110\"=\"010110\"。\n",
    "2、如果序列S是优秀的，则序列rev(S)也是优秀的。rev(S)被定义为按位翻转(0变1,1变0)序列S，并删去前导零。例如rev(\"1100101\")=\"11010\"。\n",
    "\n",
    "现在请你判断序列T是不是优秀的"
   ]
  },
  {
   "cell_type": "code",
   "execution_count": null,
   "metadata": {},
   "outputs": [],
   "source": [
    "输入描述:\n",
    "第一行数据组数T，表示有T组数据。\n",
    "每组数据的第一行是一个01序列，表示序列S。第二行是另一个01序列，表示序列T。\n",
    "，S,T不含前导零。\n",
    "\n",
    "输出描述:\n",
    "对于每组数据，一行输出\"YES\"或者\"NO\"，表示序列T是不是优秀的。（大小写敏感）"
   ]
  },
  {
   "cell_type": "code",
   "execution_count": null,
   "metadata": {},
   "outputs": [],
   "source": [
    "输入示例:\n",
    "5\n",
    "1110010\n",
    "101101\n",
    "1111000\n",
    "1111110011\n",
    "10111101\n",
    "1100101000\n",
    "1000100101\n",
    "111011010\n",
    "1011101\n",
    "1001000111\n",
    "\n",
    "输出示例：\n",
    "YES\n",
    "NO\n",
    "YES\n",
    "YES\n",
    "YES"
   ]
  },
  {
   "cell_type": "code",
   "execution_count": null,
   "metadata": {},
   "outputs": [],
   "source": [
    "思路：\n",
    "1.将s不断反转生成优秀序列，看这些序列能否拼接成t\n",
    "2.如果s最后两个编码不同，那么可以生成任意序列，即任意序列都是优秀的"
   ]
  },
  {
   "cell_type": "code",
   "execution_count": null,
   "metadata": {},
   "outputs": [],
   "source": [
    "import sys\n",
    "\n",
    "n=int(sys.stdin.readline().strip())\n",
    "s,t=[],[]\n",
    "while True:\n",
    "    line=sys.stdin.readline().strip()\n",
    "    if line=='':\n",
    "        break\n",
    "    s.append(line)\n",
    "    t.append(sys.stdin.readline().strip())\n",
    "res=[]\n",
    "\n",
    "def  is_good(good_list_from_s,t):\n",
    "    #判断t是否优秀\n",
    "    n=len(t)\n",
    "    dp=[True] + [False for _ in range(n)]\n",
    "    for i in range(n):\n",
    "        for j in range(i+1):\n",
    "            if dp[j] and (t[j:i+1] in good_list_from_s):\n",
    "                dp[i+1]=True\n",
    "                break\n",
    "    return dp[-1]\n",
    "\n",
    "def reverse(s):\n",
    "    #反转01字符串\n",
    "    return bin(int(s,2)^int('1'*len(s),2))[2:]\n",
    "\n",
    "def all_good_from_s(s):\n",
    "    #将s不断反转获得优秀序列\n",
    "    res=set()\n",
    "    while True:\n",
    "        if s=='':break\n",
    "        if int(s)==0:\n",
    "            res.add('1'*len(s))\n",
    "            break\n",
    "        res.add(s)\n",
    "        s=reverse(s)\n",
    "    return res\n",
    "\n",
    "for i in range(n):\n",
    "    curr_s,curr_t=s[i],t[i]\n",
    "    if curr_t=='':\n",
    "        res.append('NO')\n",
    "        continue\n",
    "    \n",
    "    #如果s最后两个编码不同，那么可以组成任意序列\n",
    "    if len(curr_s)>=2 and curr_s[-1]!=curr_s[-2]:\n",
    "        res.append('YES')\n",
    "        continue\n",
    "    \n",
    "    good_list_from_s=all_good_from_s(curr_s)\n",
    "    if is_good(good_list_from_s,curr_t):res.append('YES')\n",
    "    else:res.append('NO')\n",
    "print('\\n'.join(res))"
   ]
  }
 ],
 "metadata": {
  "kernelspec": {
   "display_name": "Python 3",
   "language": "python",
   "name": "python3"
  },
  "language_info": {
   "codemirror_mode": {
    "name": "ipython",
    "version": 3
   },
   "file_extension": ".py",
   "mimetype": "text/x-python",
   "name": "python",
   "nbconvert_exporter": "python",
   "pygments_lexer": "ipython3",
   "version": "3.7.5"
  }
 },
 "nbformat": 4,
 "nbformat_minor": 2
}

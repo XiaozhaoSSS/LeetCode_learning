{
 "cells": [
  {
   "cell_type": "code",
   "execution_count": null,
   "metadata": {},
   "outputs": [],
   "source": [
    "小易给定一个到的排列，希望你能求出这个序列中所有逆序对的距离和。\n",
    "下标的距离为，逆序对是指序列中一对下标满足且 ."
   ]
  },
  {
   "cell_type": "code",
   "execution_count": null,
   "metadata": {},
   "outputs": [],
   "source": [
    "输入描述:\n",
    "第一行数字表示排列长度 \n",
    "接下来一行个数字表示这个排列\n",
    "\n",
    "\n",
    "输出描述:\n",
    "一行一个数字表示答案"
   ]
  },
  {
   "cell_type": "code",
   "execution_count": null,
   "metadata": {},
   "outputs": [],
   "source": [
    "输入例子1:\n",
    "5  \n",
    "1 3 4 2 5\n",
    "\n",
    "输出例子1:\n",
    "3"
   ]
  },
  {
   "cell_type": "code",
   "execution_count": null,
   "metadata": {},
   "outputs": [],
   "source": [
    "思路：\n",
    "1.n*n的时间复杂度超时\n",
    "2.仿照寻找逆序列对个数的分治法，也超时了\n",
    "3.未完待续........"
   ]
  },
  {
   "cell_type": "code",
   "execution_count": null,
   "metadata": {},
   "outputs": [],
   "source": [
    "import sys\n",
    "import operator\n",
    "n=int(sys.stdin.readline().strip())\n",
    "arr=sys.stdin.readline().strip().split()\n",
    "arr=[int(x) for x in arr]\n",
    "count=0\n",
    "def merge_count(arr):\n",
    "    global count\n",
    "    if len(arr)==1:\n",
    "        return arr\n",
    "    left=merge_count(arr[:len(arr)//2])\n",
    "    right=merge_count(arr[len(arr)//2:])\n",
    "    out,temp=merge(left,right)\n",
    "    count+=temp\n",
    "    return out\n",
    "def merge(left,right):\n",
    "    # left和right都是两个升序排列的列表\n",
    "    temp=0\n",
    "    out=[]\n",
    "    # 指针就是一个指明位置的标识，不需要必须是指针类型\n",
    "    while(len(left)>0 and len(right)>0):\n",
    "        if arr[left[0]]>arr[right[0]]:\n",
    "            # 如果左边序列的当前值大于右边序列的当前值：\n",
    "            temp+=sum([arr[x]-arr[right[0]] for x in left])\n",
    "            out.append(right.pop(0))\n",
    "        else:\n",
    "            out.append(left.pop(0))\n",
    "    out.extend(left)\n",
    "    out.extend(right)\n",
    "    return out,temp\n",
    "\n",
    "\n",
    "if n<=1:print(0)\n",
    "elif n==2:print(0 if arr[1]>=arr[0] else 1)\n",
    "else:\n",
    "    #arr_index=[x[0] for x in sorted(enumerate(arr), key=operator.itemgetter(1))]\n",
    "    arr_index=list(range(n))\n",
    "    merge_count(arr_index)\n",
    "    print(count)"
   ]
  }
 ],
 "metadata": {
  "kernelspec": {
   "display_name": "Python 3",
   "language": "python",
   "name": "python3"
  },
  "language_info": {
   "codemirror_mode": {
    "name": "ipython",
    "version": 3
   },
   "file_extension": ".py",
   "mimetype": "text/x-python",
   "name": "python",
   "nbconvert_exporter": "python",
   "pygments_lexer": "ipython3",
   "version": "3.7.5"
  }
 },
 "nbformat": 4,
 "nbformat_minor": 2
}

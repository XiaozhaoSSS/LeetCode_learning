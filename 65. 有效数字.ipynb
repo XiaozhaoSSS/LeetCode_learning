{
 "cells": [
  {
   "cell_type": "markdown",
   "metadata": {},
   "source": [
    "1.\n",
    "\n",
    "执行用时 :\n",
    "48 ms\n",
    ", 在所有 python3 提交中击败了\n",
    "81.69%\n",
    "的用户\n",
    "内存消耗 :\n",
    "14.1 MB\n",
    ", 在所有 python3 提交中击败了\n",
    "5.97%\n",
    "的用户"
   ]
  },
  {
   "cell_type": "code",
   "execution_count": null,
   "metadata": {},
   "outputs": [],
   "source": [
    "class Solution:\n",
    "    def isNumber(self, s: str) -> bool:\n",
    "        import re\n",
    "        return bool(re.match(r'^(\\s*)[+-]?(([0-9]*[.]?[0-9]+)|([0-9]+[.]?[0-9]*))([e][+-]?[0-9]+)?(\\s*)$',s))"
   ]
  },
  {
   "cell_type": "markdown",
   "metadata": {},
   "source": [
    "2.\n",
    "\n",
    "执行用时 :\n",
    "40 ms\n",
    ", 在所有 python3 提交中击败了\n",
    "97.59%\n",
    "的用户\n",
    "内存消耗 :\n",
    "14 MB\n",
    ", 在所有 python3 提交中击败了\n",
    "5.97%\n",
    "的用户"
   ]
  },
  {
   "cell_type": "code",
   "execution_count": null,
   "metadata": {},
   "outputs": [],
   "source": [
    "class Solution:\n",
    "    def isNumber(self, s: str) -> bool:\n",
    "        try:\n",
    "            float(s)\n",
    "            return True\n",
    "        except:\n",
    "            return False"
   ]
  }
 ],
 "metadata": {
  "kernelspec": {
   "display_name": "Python 3",
   "language": "python",
   "name": "python3"
  },
  "language_info": {
   "codemirror_mode": {
    "name": "ipython",
    "version": 3
   },
   "file_extension": ".py",
   "mimetype": "text/x-python",
   "name": "python",
   "nbconvert_exporter": "python",
   "pygments_lexer": "ipython3",
   "version": "3.7.3"
  }
 },
 "nbformat": 4,
 "nbformat_minor": 2
}

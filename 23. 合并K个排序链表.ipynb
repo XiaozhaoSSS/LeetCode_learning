{
 "cells": [
  {
   "cell_type": "markdown",
   "metadata": {},
   "source": [
    "1.超暴力解法，挨个查找\n",
    "\n",
    "执行用时 :\n",
    "4772 ms\n",
    ", 在所有 Python3 提交中击败了\n",
    "7.10%\n",
    "的用户\n",
    "内存消耗 :\n",
    "439.9 MB\n",
    ", 在所有 Python3 提交中击败了\n",
    "5.22%\n",
    "的用户"
   ]
  },
  {
   "cell_type": "code",
   "execution_count": null,
   "metadata": {},
   "outputs": [],
   "source": [
    "# Definition for singly-linked list.\n",
    "# class ListNode:\n",
    "#     def __init__(self, x):\n",
    "#         self.val = x\n",
    "#         self.next = None\n",
    "\n",
    "class Solution:\n",
    "    def mergeKLists(self, lists: List[ListNode]) -> ListNode:\n",
    "        mergeklists=ListNode(0)\n",
    "        p=mergeklists\n",
    "        while None in lists:\n",
    "            lists.remove(None)\n",
    "\n",
    "        def gen(lists,p):\n",
    "            if len(lists)==0:return\n",
    "            value_list=[x.val for x in lists]\n",
    "            index_min=value_list.index(min(value_list))\n",
    "            p.next=lists[index_min]\n",
    "            p=p.next\n",
    "            if len(lists)==1:return\n",
    "            if lists[index_min].next==None:lists.remove(lists[index_min])\n",
    "            else:lists[index_min]=lists[index_min].next\n",
    "\n",
    "            gen(lists,p)\n",
    "        gen(lists,p)\n",
    "        return mergeklists.next"
   ]
  },
  {
   "cell_type": "markdown",
   "metadata": {},
   "source": [
    "2.暴力解法，合并-排序-生成新链表\n",
    "\n",
    "执行用时 :\n",
    "128 ms\n",
    ", 在所有 Python3 提交中击败了\n",
    "79.50%\n",
    "的用户\n",
    "内存消耗 :\n",
    "17.9 MB\n",
    ", 在所有 Python3 提交中击败了\n",
    "9.24%\n",
    "的用户"
   ]
  },
  {
   "cell_type": "code",
   "execution_count": null,
   "metadata": {},
   "outputs": [],
   "source": [
    "# Definition for singly-linked list.\n",
    "# class ListNode:\n",
    "#     def __init__(self, x):\n",
    "#         self.val = x\n",
    "#         self.next = None\n",
    "\n",
    "class Solution:\n",
    "    def mergeKLists(self, lists: List[ListNode]) -> ListNode:\n",
    "        nodes=[]\n",
    "        dummyhead=ListNode(0)\n",
    "        p=dummyhead\n",
    "        for l in lists:\n",
    "            while l:\n",
    "                nodes.append(l.val)\n",
    "                l=l.next\n",
    "        for x in sorted(nodes):\n",
    "            p.next=ListNode(x)\n",
    "            p=p.next\n",
    "        return dummyhead.next"
   ]
  },
  {
   "cell_type": "markdown",
   "metadata": {},
   "source": [
    "3.分治\n",
    "\n",
    "执行用时 :\n",
    "164 ms\n",
    ", 在所有 Python3 提交中击败了\n",
    "51.50%\n",
    "的用户\n",
    "内存消耗 :\n",
    "17.2 MB\n",
    ", 在所有 Python3 提交中击败了\n",
    "41.58%\n",
    "的用户"
   ]
  },
  {
   "cell_type": "code",
   "execution_count": null,
   "metadata": {},
   "outputs": [],
   "source": [
    "# Definition for singly-linked list.\n",
    "# class ListNode:\n",
    "#     def __init__(self, x):\n",
    "#         self.val = x\n",
    "#         self.next = None\n",
    "\n",
    "class Solution:\n",
    "    def mergeKLists(self, lists: List[ListNode]) -> ListNode:\n",
    "        amount = len(lists)\n",
    "\n",
    "        interval = 1\n",
    "        while interval < amount:\n",
    "            for i in range(0, amount - interval, interval * 2):\n",
    "                lists[i] = self.merge2Lists(lists[i], lists[i + interval])\n",
    "            interval *= 2\n",
    "\n",
    "        return lists[0] if amount > 0 else None\n",
    "\n",
    "    def merge2Lists(self,l1, l2):\n",
    "        head = point = ListNode(0)\n",
    "        while l1 and l2:\n",
    "            if l1.val <= l2.val:\n",
    "                point.next = l1\n",
    "                l1 = l1.next\n",
    "            else:\n",
    "                point.next = l2\n",
    "                l2 = l1\n",
    "                l1 = point.next.next\n",
    "            point = point.next\n",
    "        if not l1:\n",
    "            point.next=l2\n",
    "        else:\n",
    "            point.next=l1\n",
    "        return head.next"
   ]
  }
 ],
 "metadata": {
  "kernelspec": {
   "display_name": "Python 3",
   "language": "python",
   "name": "python3"
  },
  "language_info": {
   "codemirror_mode": {
    "name": "ipython",
    "version": 3
   },
   "file_extension": ".py",
   "mimetype": "text/x-python",
   "name": "python",
   "nbconvert_exporter": "python",
   "pygments_lexer": "ipython3",
   "version": "3.7.3"
  }
 },
 "nbformat": 4,
 "nbformat_minor": 2
}

{
 "cells": [
  {
   "cell_type": "code",
   "execution_count": null,
   "metadata": {},
   "outputs": [],
   "source": [
    "1.动态规划，d[i][j]存储s从i到j是否为回文"
   ]
  },
  {
   "cell_type": "code",
   "execution_count": null,
   "metadata": {},
   "outputs": [],
   "source": [
    "class Solution:\n",
    "    def minCut(self, s: str) -> int:\n",
    "        min_s = list(range(len(s)))\n",
    "        n = len(s)\n",
    "        dp = [[False] * n for _ in range(n)]\n",
    "        for i in range(n):\n",
    "            for j in range(i+1):\n",
    "                if s[i] == s[j] and (i - j < 2 or dp[j + 1][i - 1]):\n",
    "                    dp[j][i] = True\n",
    "                    # 说明不用分割\n",
    "                    if j == 0:\n",
    "                        min_s[i] = 0\n",
    "                    else:\n",
    "                        min_s[i] = min(min_s[i], min_s[j - 1] + 1)\n",
    "        return min_s[-1]"
   ]
  }
 ],
 "metadata": {
  "kernelspec": {
   "display_name": "Python 3",
   "language": "python",
   "name": "python3"
  },
  "language_info": {
   "codemirror_mode": {
    "name": "ipython",
    "version": 3
   },
   "file_extension": ".py",
   "mimetype": "text/x-python",
   "name": "python",
   "nbconvert_exporter": "python",
   "pygments_lexer": "ipython3",
   "version": "3.7.5"
  }
 },
 "nbformat": 4,
 "nbformat_minor": 2
}

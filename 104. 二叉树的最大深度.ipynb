{
 "cells": [
  {
   "cell_type": "code",
   "execution_count": null,
   "metadata": {},
   "outputs": [],
   "source": [
    "1.同上体方法，层次遍历，同时存储当前深度"
   ]
  },
  {
   "cell_type": "code",
   "execution_count": null,
   "metadata": {},
   "outputs": [],
   "source": [
    "# Definition for a binary tree node.\n",
    "# class TreeNode:\n",
    "#     def __init__(self, x):\n",
    "#         self.val = x\n",
    "#         self.left = None\n",
    "#         self.right = None\n",
    "\n",
    "class Solution:\n",
    "    def maxDepth(self, root: TreeNode) -> int:\n",
    "        queue=[]\n",
    "        depth=[]\n",
    "        curr_depth=-1\n",
    "        if root:\n",
    "            queue.append(root)\n",
    "            depth.append(0)\n",
    "        while queue:\n",
    "            curr_root=queue.pop()\n",
    "            curr_depth=depth.pop()\n",
    "            if curr_root.left:\n",
    "                queue.insert(0,curr_root.left)\n",
    "                depth.insert(0,curr_depth+1)\n",
    "            if curr_root.right:\n",
    "                queue.insert(0,curr_root.right)\n",
    "                depth.insert(0,curr_depth+1)\n",
    "        return curr_depth+1"
   ]
  },
  {
   "cell_type": "code",
   "execution_count": null,
   "metadata": {},
   "outputs": [],
   "source": [
    "2.分治"
   ]
  },
  {
   "cell_type": "code",
   "execution_count": null,
   "metadata": {},
   "outputs": [],
   "source": [
    "# Definition for a binary tree node.\n",
    "# class TreeNode:\n",
    "#     def __init__(self, x):\n",
    "#         self.val = x\n",
    "#         self.left = None\n",
    "#         self.right = None\n",
    "\n",
    "class Solution:\n",
    "    def maxDepth(self, root: TreeNode) -> int:\n",
    "        if root is None: \n",
    "            return 0 \n",
    "        else: \n",
    "            left_height = self.maxDepth(root.left) \n",
    "            right_height = self.maxDepth(root.right) \n",
    "            return max(left_height, right_height) + 1 "
   ]
  }
 ],
 "metadata": {
  "kernelspec": {
   "display_name": "Python 3",
   "language": "python",
   "name": "python3"
  },
  "language_info": {
   "codemirror_mode": {
    "name": "ipython",
    "version": 3
   },
   "file_extension": ".py",
   "mimetype": "text/x-python",
   "name": "python",
   "nbconvert_exporter": "python",
   "pygments_lexer": "ipython3",
   "version": "3.7.3"
  }
 },
 "nbformat": 4,
 "nbformat_minor": 2
}

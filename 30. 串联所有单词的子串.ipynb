{
 "cells": [
  {
   "cell_type": "markdown",
   "metadata": {},
   "source": [
    "1.一种超出时间限制的解法"
   ]
  },
  {
   "cell_type": "code",
   "execution_count": null,
   "metadata": {},
   "outputs": [],
   "source": [
    "class Solution:\n",
    "    def findSubstring(self, s: str, words: List[str]) -> List[int]:\n",
    "        import copy\n",
    "        index=[]\n",
    "        wordlength=len(words[0]) if words else 0\n",
    "        wordsnum=len(words)\n",
    "        n=len(s)-wordlength*wordsnum\n",
    "        if wordlength==0 and wordsnum!=0:index=list(range(len(s)+1))\n",
    "        elif n>=0 and wordlength>0:\n",
    "            for i in range(n+1):\n",
    "                words_copy=copy.deepcopy(words)\n",
    "                for j in range(wordsnum):\n",
    "                    curr=s[i+j*wordlength:i+(j+1)*wordlength]\n",
    "                    if curr in words_copy:words_copy.remove(curr)\n",
    "                    else:break\n",
    "                if not words_copy:index.append(i)\n",
    "            \n",
    "        return index "
   ]
  },
  {
   "cell_type": "markdown",
   "metadata": {},
   "source": [
    "2.用dict保存words，时间差点超限\n",
    "\n",
    "执行用时 :\n",
    "2500 ms\n",
    ", 在所有 Python3 提交中击败了\n",
    "5.05%\n",
    "的用户\n",
    "内存消耗 :\n",
    "14.2 MB\n",
    ", 在所有 Python3 提交中击败了\n",
    "5.30%\n",
    "的用户"
   ]
  },
  {
   "cell_type": "code",
   "execution_count": null,
   "metadata": {},
   "outputs": [],
   "source": [
    "class Solution:\n",
    "    def findSubstring(self, s: str, words: List[str]) -> List[int]:\n",
    "        import copy\n",
    "        index=[]\n",
    "        wordlength=len(words[0]) if words else 0\n",
    "        wordsnum=len(words)\n",
    "        n=len(s)-wordlength*wordsnum\n",
    "        if wordlength==0 and wordsnum!=0:index=list(range(len(s)+1))\n",
    "        elif n>=0 and wordlength>0:\n",
    "            word_appear=dict((a, words.count(a)) for a in words)\n",
    "            for i in range(n+1):\n",
    "                words_copy=copy.deepcopy(word_appear)\n",
    "                for j in range(wordsnum):\n",
    "                    curr=s[i+j*wordlength:i+(j+1)*wordlength]\n",
    "                    try:\n",
    "                        words_copy[curr]-=1\n",
    "                        if words_copy[curr]<0:break\n",
    "                    except KeyError:break\n",
    "                if list(set(words_copy.values()))==[0]:index.append(i)\n",
    "            \n",
    "        return index "
   ]
  }
 ],
 "metadata": {
  "kernelspec": {
   "display_name": "Python 3",
   "language": "python",
   "name": "python3"
  },
  "language_info": {
   "codemirror_mode": {
    "name": "ipython",
    "version": 3
   },
   "file_extension": ".py",
   "mimetype": "text/x-python",
   "name": "python",
   "nbconvert_exporter": "python",
   "pygments_lexer": "ipython3",
   "version": "3.7.3"
  }
 },
 "nbformat": 4,
 "nbformat_minor": 2
}

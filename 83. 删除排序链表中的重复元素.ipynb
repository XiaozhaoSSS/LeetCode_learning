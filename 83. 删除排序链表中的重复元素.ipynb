{
 "cells": [
  {
   "cell_type": "code",
   "execution_count": null,
   "metadata": {},
   "outputs": [],
   "source": [
    "1."
   ]
  },
  {
   "cell_type": "code",
   "execution_count": null,
   "metadata": {},
   "outputs": [],
   "source": [
    "# Definition for singly-linked list.\n",
    "# class ListNode:\n",
    "#     def __init__(self, x):\n",
    "#         self.val = x\n",
    "#         self.next = None\n",
    "\n",
    "class Solution:\n",
    "    def deleteDuplicates(self, head: ListNode) -> ListNode:\n",
    "        dummyhead=ListNode(0)\n",
    "        dummyhead.next=None\n",
    "        p=dummyhead\n",
    "        curr=head\n",
    "        label=0\n",
    "        while curr and curr.next!=None:\n",
    "            if label==0:\n",
    "                p.next=curr\n",
    "                p=p.next\n",
    "            label=0 if curr.next.val!=curr.val else 1\n",
    "            curr=curr.next\n",
    "        if label==0:p.next=curr\n",
    "        else:p.next=None\n",
    "        return dummyhead.next"
   ]
  }
 ],
 "metadata": {
  "kernelspec": {
   "display_name": "Python 3",
   "language": "python",
   "name": "python3"
  },
  "language_info": {
   "codemirror_mode": {
    "name": "ipython",
    "version": 3
   },
   "file_extension": ".py",
   "mimetype": "text/x-python",
   "name": "python",
   "nbconvert_exporter": "python",
   "pygments_lexer": "ipython3",
   "version": "3.7.1"
  }
 },
 "nbformat": 4,
 "nbformat_minor": 2
}

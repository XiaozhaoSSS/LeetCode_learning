{
 "cells": [
  {
   "cell_type": "code",
   "execution_count": null,
   "metadata": {},
   "outputs": [],
   "source": [
    "1.递归"
   ]
  },
  {
   "cell_type": "code",
   "execution_count": null,
   "metadata": {},
   "outputs": [],
   "source": [
    "class Solution:\n",
    "    def isScramble(self, s1: str, s2: str) -> bool:\n",
    "        \n",
    "        def gen(begin1,end1,begin2,end2):\n",
    "            \n",
    "            if end1-begin1!=end2-begin2:return False\n",
    "            if s1[begin1:end1+1]==s2[begin2:end2+1]:return True\n",
    "            \n",
    "            label_dict={}\n",
    "            for j in range(end1-begin1+1):\n",
    "                label_dict[s1[begin1+j]]=label_dict.get(s1[begin1+j],0)+1\n",
    "                label_dict[s2[begin2+j]]=label_dict.get(s2[begin2+j],0)-1\n",
    "            if set(label_dict.values())!={0}:return False\n",
    "            \n",
    "            for i in range(begin1,end1):\n",
    "                if gen(begin1,i,begin2,i-begin1+begin2) and gen(i+1,end1,i-begin1+begin2+1,end2):\n",
    "                    return True\n",
    "                if gen(begin1,i,end2+begin1-i,end2) and gen(i+1,end1,begin2,end2+begin1-i-1):\n",
    "                    return True\n",
    "            return False\n",
    "        \n",
    "        return gen(0,len(s1)-1,0,len(s2)-1)"
   ]
  }
 ],
 "metadata": {
  "kernelspec": {
   "display_name": "Python 3",
   "language": "python",
   "name": "python3"
  },
  "language_info": {
   "codemirror_mode": {
    "name": "ipython",
    "version": 3
   },
   "file_extension": ".py",
   "mimetype": "text/x-python",
   "name": "python",
   "nbconvert_exporter": "python",
   "pygments_lexer": "ipython3",
   "version": "3.7.1"
  }
 },
 "nbformat": 4,
 "nbformat_minor": 2
}

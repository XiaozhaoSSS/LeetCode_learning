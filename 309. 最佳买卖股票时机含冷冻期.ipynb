{
 "cells": [
  {
   "cell_type": "code",
   "execution_count": null,
   "metadata": {},
   "outputs": [],
   "source": [
    "给定一个整数数组，其中第 i 个元素代表了第 i 天的股票价格 。\n",
    "\n",
    "设计一个算法计算出最大利润。在满足以下约束条件下，你可以尽可能地完成更多的交易（多次买卖一支股票）:\n",
    "\n",
    "你不能同时参与多笔交易（你必须在再次购买前出售掉之前的股票）。\n",
    "卖出股票后，你无法在第二天买入股票 (即冷冻期为 1 天)。"
   ]
  },
  {
   "cell_type": "code",
   "execution_count": null,
   "metadata": {},
   "outputs": [],
   "source": [
    "思路：\n",
    "have[i],nothave[i]表示第i天持有和不持有股票的最大收益"
   ]
  },
  {
   "cell_type": "code",
   "execution_count": null,
   "metadata": {},
   "outputs": [],
   "source": [
    "class Solution:\n",
    "    def maxProfit(self, prices: List[int]) -> int:\n",
    "        n=len(prices)\n",
    "        if n<=1:return 0\n",
    "        have,nothave=[-prices[0],max(-prices[0],-prices[1])]+[0]*(n-2),[0,max(0,prices[1]-prices[0])]+[0]*(n-2)\n",
    "        for i in range(2,n):\n",
    "            have[i]=max(have[i-1],nothave[i-2]-prices[i])\n",
    "            nothave[i]=max(have[i-1]+prices[i],nothave[i-1])\n",
    "        return max(have[-1],nothave[-1])"
   ]
  }
 ],
 "metadata": {
  "kernelspec": {
   "display_name": "Python 3",
   "language": "python",
   "name": "python3"
  },
  "language_info": {
   "codemirror_mode": {
    "name": "ipython",
    "version": 3
   },
   "file_extension": ".py",
   "mimetype": "text/x-python",
   "name": "python",
   "nbconvert_exporter": "python",
   "pygments_lexer": "ipython3",
   "version": "3.7.5"
  }
 },
 "nbformat": 4,
 "nbformat_minor": 2
}

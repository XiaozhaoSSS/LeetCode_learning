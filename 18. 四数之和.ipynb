{
 "cells": [
  {
   "cell_type": "markdown",
   "metadata": {},
   "source": [
    "1.\n",
    "\n",
    "执行用时 :1956 ms, 在所有 Python3 提交中击败了19.00%的用户\n",
    "内存消耗 :13.7 MB, 在所有 Python3 提交中击败了11.42%的用户"
   ]
  },
  {
   "cell_type": "code",
   "execution_count": null,
   "metadata": {},
   "outputs": [],
   "source": [
    "class Solution:\n",
    "    def fourSum(self, nums: List[int], target: int) -> List[List[int]]:\n",
    "        foursum=[]\n",
    "        n=len(nums)\n",
    "        l=max(0,target)\n",
    "        if n>=4:\n",
    "            nums=sorted(nums)\n",
    "            for index1 in range(n-3):\n",
    "\n",
    "                label1=label1+1 if index1!=0 and nums[index1]==num1 else 0\n",
    "                if label1>0:continue\n",
    "                num1=nums[index1]\n",
    "                newtarget=target-num1\n",
    "                \n",
    "                if num1>l:break \n",
    "                for index3 in range(index1+2,n-1):\n",
    "                    label2=label2+1 if index3!=index1+2 and nums[index3]==num3 else 0\n",
    "                    if label2>1:continue\n",
    "                    num3=nums[index3]\n",
    "                    index2,index4=index1+1,n-1\n",
    "                    while index2<index3 and index4>index3:\n",
    "                        num2,num4=nums[index2],nums[index4]\n",
    "                        if num2+num3+num4 == newtarget:\n",
    "                            foursum.append([num1,num2,num3,num4])\n",
    "                            while index2<index3 and nums[index2]==num2:\n",
    "                                index2+=1\n",
    "                            while index4>index3 and nums[index4]==num4:\n",
    "                                index4-=1\n",
    "                        elif num2+num3+num4 < newtarget:\n",
    "                            while index2<index3 and nums[index2]==num2:\n",
    "                                index2+=1\n",
    "                        else:\n",
    "                            while index4>index3 and nums[index4]==num4:\n",
    "                                index4-=1\n",
    "   \n",
    "        return list(set([tuple(x) for x in foursum]))   "
   ]
  },
  {
   "cell_type": "code",
   "execution_count": null,
   "metadata": {},
   "outputs": [],
   "source": []
  }
 ],
 "metadata": {
  "kernelspec": {
   "display_name": "Python 3",
   "language": "python",
   "name": "python3"
  },
  "language_info": {
   "codemirror_mode": {
    "name": "ipython",
    "version": 3
   },
   "file_extension": ".py",
   "mimetype": "text/x-python",
   "name": "python",
   "nbconvert_exporter": "python",
   "pygments_lexer": "ipython3",
   "version": "3.7.3"
  }
 },
 "nbformat": 4,
 "nbformat_minor": 2
}

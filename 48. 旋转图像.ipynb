{
 "cells": [
  {
   "cell_type": "markdown",
   "metadata": {},
   "source": [
    "1.按圈变换\n",
    "\n",
    "执行用时 :\n",
    "64 ms\n",
    ", 在所有 Python3 提交中击败了\n",
    "31.73%\n",
    "的用户\n",
    "内存消耗 :\n",
    "13.6 MB\n",
    ", 在所有 Python3 提交中击败了\n",
    "5.06%\n",
    "的用户"
   ]
  },
  {
   "cell_type": "code",
   "execution_count": null,
   "metadata": {},
   "outputs": [],
   "source": [
    "class Solution:\n",
    "    def rotate(self, matrix: List[List[int]]) -> None:\n",
    "        \"\"\"\n",
    "        Do not return anything, modify matrix in-place instead.\n",
    "        \"\"\"\n",
    "        n=len(matrix)\n",
    "        for i in range(n//2):\n",
    "            for j in range(i,n-i-1):\n",
    "                a=matrix[i][j]\n",
    "                matrix[i][j]=matrix[n-1-j][i]\n",
    "                matrix[n-1-j][i]=matrix[n-1-i][n-1-j]\n",
    "                matrix[n-1-i][n-1-j]=matrix[j][n-1-i]\n",
    "                matrix[j][n-1-i]=a"
   ]
  }
 ],
 "metadata": {
  "kernelspec": {
   "display_name": "Python 3",
   "language": "python",
   "name": "python3"
  },
  "language_info": {
   "codemirror_mode": {
    "name": "ipython",
    "version": 3
   },
   "file_extension": ".py",
   "mimetype": "text/x-python",
   "name": "python",
   "nbconvert_exporter": "python",
   "pygments_lexer": "ipython3",
   "version": "3.7.3"
  }
 },
 "nbformat": 4,
 "nbformat_minor": 2
}

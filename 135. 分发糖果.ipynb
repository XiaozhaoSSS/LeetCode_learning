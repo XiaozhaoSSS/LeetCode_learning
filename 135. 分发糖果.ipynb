{
 "cells": [
  {
   "cell_type": "code",
   "execution_count": null,
   "metadata": {},
   "outputs": [],
   "source": [
    "1.从左到右遍历，若ratings[i] > ratings[i - 1]，第i个同学得到的糖果比i-1个同学多1，\n",
    "再从右到左遍历一次，若ratings[i] > ratings[i + 1]，第i个同学得到的糖果比i+1个同学多1，第二次遍历同时，\n",
    "在每个同学处取两次遍历中得到糖果的较大值"
   ]
  },
  {
   "cell_type": "code",
   "execution_count": null,
   "metadata": {},
   "outputs": [],
   "source": [
    "class Solution:\n",
    "    def candy(self, ratings: List[int]) -> int:\n",
    "        n=len(ratings)\n",
    "        left = [1 for _ in range(n)]\n",
    "        right = left[:]\n",
    "        for i in range(1, n):\n",
    "            if ratings[i] > ratings[i - 1]: left[i] = left[i - 1] + 1\n",
    "        count = left[-1]\n",
    "        for i in range(n-1)[::-1]:\n",
    "            if ratings[i] > ratings[i + 1]: right[i] = right[i + 1] + 1\n",
    "            count += max(left[i], right[i])\n",
    "        return count"
   ]
  },
  {
   "cell_type": "code",
   "execution_count": null,
   "metadata": {},
   "outputs": [],
   "source": [
    "2.将数据的起看成山，找到山峰和山谷，分别对每个山需要的糖果求和，每个山需要的糖果数为：两边山底为1，从山地出发到山顶依次加一\n",
    "时间复杂度：O(n)\n",
    "空间复杂度：O(1)"
   ]
  },
  {
   "cell_type": "code",
   "execution_count": null,
   "metadata": {},
   "outputs": [],
   "source": [
    "class Solution:\n",
    "    def candy(self, ratings: List[int]) -> int:\n",
    "        n=len(ratings)\n",
    "        candies = 0\n",
    "        up,down = 0,0\n",
    "        old_slope = 0\n",
    "        for i in range(1,n):\n",
    "            new_slope=1 if ratings[i]>ratings[i-1] else -1 if ratings[i]<ratings[i-1] else 0\n",
    "            if ((old_slope > 0 and new_slope == 0) or (old_slope < 0 and new_slope >= 0)):\n",
    "                candies += up*(up+1)/2+down*(down+1)/2+max(up,down)\n",
    "                up = 0\n",
    "                down = 0\n",
    "            if new_slope > 0:up+=1\n",
    "            elif new_slope < 0:down+=1\n",
    "            elif new_slope == 0:candies+=1\n",
    "            old_slope = new_slope\n",
    "\n",
    "        candies += up*(up+1)/2+down*(down+1)/2+max(up,down)+1\n",
    "        return int(candies)"
   ]
  }
 ],
 "metadata": {
  "kernelspec": {
   "display_name": "Python 3",
   "language": "python",
   "name": "python3"
  },
  "language_info": {
   "codemirror_mode": {
    "name": "ipython",
    "version": 3
   },
   "file_extension": ".py",
   "mimetype": "text/x-python",
   "name": "python",
   "nbconvert_exporter": "python",
   "pygments_lexer": "ipython3",
   "version": "3.7.3"
  }
 },
 "nbformat": 4,
 "nbformat_minor": 2
}

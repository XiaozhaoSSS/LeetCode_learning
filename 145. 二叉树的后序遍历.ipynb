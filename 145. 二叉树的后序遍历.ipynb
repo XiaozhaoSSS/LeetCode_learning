{
 "cells": [
  {
   "cell_type": "code",
   "execution_count": null,
   "metadata": {},
   "outputs": [],
   "source": [
    "1.递归"
   ]
  },
  {
   "cell_type": "code",
   "execution_count": null,
   "metadata": {},
   "outputs": [],
   "source": [
    "# Definition for a binary tree node.\n",
    "# class TreeNode:\n",
    "#     def __init__(self, x):\n",
    "#         self.val = x\n",
    "#         self.left = None\n",
    "#         self.right = None\n",
    "\n",
    "class Solution:\n",
    "    def postorderTraversal(self, root: TreeNode) -> List[int]:\n",
    "        def postorder(node):\n",
    "            if node==None:return\n",
    "            postorder(node.left)\n",
    "            postorder(node.right)\n",
    "            res.append(node.val)\n",
    "        res=[]\n",
    "        postorder(root)\n",
    "        return res"
   ]
  },
  {
   "cell_type": "code",
   "execution_count": null,
   "metadata": {},
   "outputs": [],
   "source": [
    "2.递归，同前序遍历，只不过先把左节点入栈再把右节点入栈，最后将输出反转"
   ]
  },
  {
   "cell_type": "code",
   "execution_count": null,
   "metadata": {},
   "outputs": [],
   "source": [
    "# Definition for a binary tree node.\n",
    "# class TreeNode:\n",
    "#     def __init__(self, x):\n",
    "#         self.val = x\n",
    "#         self.left = None\n",
    "#         self.right = None\n",
    "\n",
    "class Solution:\n",
    "    def postorderTraversal(self, root: TreeNode) -> List[int]:\n",
    "        if root is None:\n",
    "            return []\n",
    "        \n",
    "        stack, output = [root, ], []\n",
    "        \n",
    "        while stack:\n",
    "            root = stack.pop()\n",
    "            if root is not None:\n",
    "                output.append(root.val)\n",
    "                if root.left is not None:\n",
    "                    stack.append(root.left)\n",
    "                if root.right is not None:\n",
    "                    stack.append(root.right)\n",
    "\n",
    "        \n",
    "        return output[::-1]"
   ]
  }
 ],
 "metadata": {
  "kernelspec": {
   "display_name": "Python 3",
   "language": "python",
   "name": "python3"
  },
  "language_info": {
   "codemirror_mode": {
    "name": "ipython",
    "version": 3
   },
   "file_extension": ".py",
   "mimetype": "text/x-python",
   "name": "python",
   "nbconvert_exporter": "python",
   "pygments_lexer": "ipython3",
   "version": "3.7.3"
  }
 },
 "nbformat": 4,
 "nbformat_minor": 2
}

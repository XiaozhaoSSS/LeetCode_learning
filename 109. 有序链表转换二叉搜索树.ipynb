{
 "cells": [
  {
   "cell_type": "code",
   "execution_count": null,
   "metadata": {},
   "outputs": [],
   "source": [
    "1.用双指针寻找链表中心点，mid_node指针每次加1，last_node指针每次加2"
   ]
  },
  {
   "cell_type": "code",
   "execution_count": null,
   "metadata": {},
   "outputs": [],
   "source": [
    "# Definition for singly-linked list.\n",
    "# class ListNode:\n",
    "#     def __init__(self, x):\n",
    "#         self.val = x\n",
    "#         self.next = None\n",
    "\n",
    "# Definition for a binary tree node.\n",
    "# class TreeNode:\n",
    "#     def __init__(self, x):\n",
    "#         self.val = x\n",
    "#         self.left = None\n",
    "#         self.right = None\n",
    "\n",
    "class Solution:\n",
    "    def sortedListToBST(self, head: ListNode) -> TreeNode:\n",
    "        if head==None:return None\n",
    "        dummyhead=ListNode(0)\n",
    "        dummyhead.next=head\n",
    "        pre_node,mid_node,last_node=dummyhead,head,head\n",
    "        while last_node.next!=None and last_node.next.next!=None:\n",
    "            last_node=last_node.next.next\n",
    "            mid_node=mid_node.next\n",
    "            pre_node=pre_node.next\n",
    "        root=TreeNode(mid_node.val)\n",
    "        pre_node.next=None\n",
    "        root.left=self.sortedListToBST(dummyhead.next)\n",
    "        root.right=self.sortedListToBST(mid_node.next)\n",
    "        return root"
   ]
  }
 ],
 "metadata": {
  "kernelspec": {
   "display_name": "Python 3",
   "language": "python",
   "name": "python3"
  },
  "language_info": {
   "codemirror_mode": {
    "name": "ipython",
    "version": 3
   },
   "file_extension": ".py",
   "mimetype": "text/x-python",
   "name": "python",
   "nbconvert_exporter": "python",
   "pygments_lexer": "ipython3",
   "version": "3.7.3"
  }
 },
 "nbformat": 4,
 "nbformat_minor": 2
}

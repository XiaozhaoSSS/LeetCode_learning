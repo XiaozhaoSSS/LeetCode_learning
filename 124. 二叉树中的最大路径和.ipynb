{
 "cells": [
  {
   "cell_type": "code",
   "execution_count": null,
   "metadata": {},
   "outputs": [],
   "source": [
    "1.回溯，求以当前节点为始末点、经过当前节点、当前节点为路径中最大值"
   ]
  },
  {
   "cell_type": "code",
   "execution_count": null,
   "metadata": {},
   "outputs": [],
   "source": [
    "# Definition for a binary tree node.\n",
    "# class TreeNode:\n",
    "#     def __init__(self, x):\n",
    "#         self.val = x\n",
    "#         self.left = None\n",
    "#         self.right = None\n",
    "\n",
    "class Solution:\n",
    "    def maxPathSum(self, root: TreeNode) -> int:\n",
    "        def maxpath(node):\n",
    "            nonlocal res\n",
    "            if node==None:return 0\n",
    "            max_left=maxpath(node.left)\n",
    "            max_right=maxpath(node.right)\n",
    "            max_path=max(node.val,node.val+max_left,node.val+max_right)\n",
    "            #print(max_path)\n",
    "            if res<max(max_path,node.val+max_left+max_right):res=max(max_path,node.val+max_left+max_right)\n",
    "            return max_path\n",
    "        res=-float(\"Inf\")\n",
    "        maxpath(root)\n",
    "        return res"
   ]
  }
 ],
 "metadata": {
  "kernelspec": {
   "display_name": "Python 3",
   "language": "python",
   "name": "python3"
  },
  "language_info": {
   "codemirror_mode": {
    "name": "ipython",
    "version": 3
   },
   "file_extension": ".py",
   "mimetype": "text/x-python",
   "name": "python",
   "nbconvert_exporter": "python",
   "pygments_lexer": "ipython3",
   "version": "3.7.3"
  }
 },
 "nbformat": 4,
 "nbformat_minor": 2
}

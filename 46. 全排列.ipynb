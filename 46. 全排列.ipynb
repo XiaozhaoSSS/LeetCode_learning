{
 "cells": [
  {
   "cell_type": "markdown",
   "metadata": {},
   "source": [
    "1.回溯，想清楚何时curr.pop()\n",
    "\n",
    "执行用时 :\n",
    "48 ms\n",
    ", 在所有 Python3 提交中击败了\n",
    "98.25%\n",
    "的用户\n",
    "内存消耗 :\n",
    "13.8 MB\n",
    ", 在所有 Python3 提交中击败了\n",
    "5.27%\n",
    "的用户"
   ]
  },
  {
   "cell_type": "code",
   "execution_count": null,
   "metadata": {},
   "outputs": [],
   "source": [
    "class Solution:\n",
    "    def permute(self, nums: List[int]) -> List[List[int]]:\n",
    "        res,curr=[],[]\n",
    "        def search(rem_nums):\n",
    "            n=len(rem_nums)\n",
    "            if n<=1:\n",
    "                res.append(curr+rem_nums)\n",
    "            else:\n",
    "                for i in range(n):\n",
    "                    curr.append(rem_nums[i])\n",
    "                    search(rem_nums[:i]+rem_nums[i+1:])\n",
    "                    curr.pop()\n",
    "            \n",
    "        search(nums)\n",
    "        return res"
   ]
  }
 ],
 "metadata": {
  "kernelspec": {
   "display_name": "Python 3",
   "language": "python",
   "name": "python3"
  },
  "language_info": {
   "codemirror_mode": {
    "name": "ipython",
    "version": 3
   },
   "file_extension": ".py",
   "mimetype": "text/x-python",
   "name": "python",
   "nbconvert_exporter": "python",
   "pygments_lexer": "ipython3",
   "version": "3.7.3"
  }
 },
 "nbformat": 4,
 "nbformat_minor": 2
}

{
 "cells": [
  {
   "cell_type": "code",
   "execution_count": null,
   "metadata": {},
   "outputs": [],
   "source": [
    "1."
   ]
  },
  {
   "cell_type": "code",
   "execution_count": null,
   "metadata": {},
   "outputs": [],
   "source": [
    "class Solution:\n",
    "    def calculateMinimumHP(self, dungeon: List[List[int]]) -> int:\n",
    "        m=len(dungeon)\n",
    "        n=len(dungeon[0])\n",
    "        dp=[[0]*n for _ in range(m)]\n",
    "        dp[-1][-1]=max(1,1-dungeon[-1][-1])\n",
    "        for i in range(n-2,-1,-1):\n",
    "            dp[-1][i]=max(1,dp[-1][i+1]-dungeon[-1][i])\n",
    "        for i in range(m-2,-1,-1):\n",
    "            dp[i][-1]=max(1,dp[i+1][-1]-dungeon[i][-1])\n",
    "        for i in range(m-2,-1,-1):\n",
    "            for j in range(n-2,-1,-1):\n",
    "                dp[i][j]=max(min(dp[i+1][j],dp[i][j+1])-dungeon[i][j],1)\n",
    "        return dp[0][0]"
   ]
  }
 ],
 "metadata": {
  "kernelspec": {
   "display_name": "Python 3",
   "language": "python",
   "name": "python3"
  },
  "language_info": {
   "codemirror_mode": {
    "name": "ipython",
    "version": 3
   },
   "file_extension": ".py",
   "mimetype": "text/x-python",
   "name": "python",
   "nbconvert_exporter": "python",
   "pygments_lexer": "ipython3",
   "version": "3.7.3"
  }
 },
 "nbformat": 4,
 "nbformat_minor": 2
}

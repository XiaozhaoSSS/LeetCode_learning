{
 "cells": [
  {
   "cell_type": "code",
   "execution_count": null,
   "metadata": {},
   "outputs": [],
   "source": [
    "1."
   ]
  },
  {
   "cell_type": "code",
   "execution_count": null,
   "metadata": {},
   "outputs": [],
   "source": [
    "class Solution:\n",
    "    def fractionToDecimal(self, numerator: int, denominator: int) -> str:\n",
    "        res=\"\"\n",
    "        if numerator<0 and denominator>0 or numerator>0 and denominator<0:\n",
    "            res+='-'\n",
    "            numerator,denominator=abs(numerator),abs(denominator)\n",
    "        res+=str(numerator//denominator)\n",
    "        next_numerator=numerator%denominator\n",
    "        if next_numerator==0:return res\n",
    "        res+='.'\n",
    "        n_dict,curr_res_list={},[]\n",
    "        index=0\n",
    "        while True:\n",
    "            numerator=next_numerator*10\n",
    "            n_dict[numerator]=index\n",
    "            index+=1\n",
    "            curr_res=str(numerator//denominator)\n",
    "            curr_res_list.append(curr_res)\n",
    "            next_numerator=numerator%denominator\n",
    "            if next_numerator==0:return res+''.join(curr_res_list)\n",
    "            if next_numerator*10 in n_dict:\n",
    "                return res+''.join(curr_res_list[:n_dict[next_numerator*10]])+'('+''.join(curr_res_list[n_dict[next_numerator*10]:])+')'"
   ]
  }
 ],
 "metadata": {
  "kernelspec": {
   "display_name": "Python 3",
   "language": "python",
   "name": "python3"
  },
  "language_info": {
   "codemirror_mode": {
    "name": "ipython",
    "version": 3
   },
   "file_extension": ".py",
   "mimetype": "text/x-python",
   "name": "python",
   "nbconvert_exporter": "python",
   "pygments_lexer": "ipython3",
   "version": "3.7.3"
  }
 },
 "nbformat": 4,
 "nbformat_minor": 2
}

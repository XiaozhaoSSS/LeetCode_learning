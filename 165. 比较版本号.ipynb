{
 "cells": [
  {
   "cell_type": "code",
   "execution_count": null,
   "metadata": {},
   "outputs": [],
   "source": [
    "1."
   ]
  },
  {
   "cell_type": "code",
   "execution_count": null,
   "metadata": {},
   "outputs": [],
   "source": [
    "class Solution:\n",
    "    def compareVersion(self, version1: str, version2: str) -> int:\n",
    "        v1,v2=version1.split('.'),version2.split('.')\n",
    "        n1,n2=len(v1),len(v2)\n",
    "        n=min(n1,n2)\n",
    "        for i in range(n):\n",
    "            if int(v1[i])>int(v2[i]):return 1\n",
    "            if int(v1[i])<int(v2[i]):return -1\n",
    "        if sum([int(x) for x in v1[n:]])>0:return 1\n",
    "        if sum([int(x) for x in v2[n:]])>0:return -1\n",
    "        return 0"
   ]
  }
 ],
 "metadata": {
  "kernelspec": {
   "display_name": "Python 3",
   "language": "python",
   "name": "python3"
  },
  "language_info": {
   "codemirror_mode": {
    "name": "ipython",
    "version": 3
   },
   "file_extension": ".py",
   "mimetype": "text/x-python",
   "name": "python",
   "nbconvert_exporter": "python",
   "pygments_lexer": "ipython3",
   "version": "3.7.3"
  }
 },
 "nbformat": 4,
 "nbformat_minor": 2
}

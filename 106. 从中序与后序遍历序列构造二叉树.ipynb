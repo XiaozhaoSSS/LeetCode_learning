{
 "cells": [
  {
   "cell_type": "code",
   "execution_count": null,
   "metadata": {},
   "outputs": [],
   "source": [
    "1.f分治"
   ]
  },
  {
   "cell_type": "code",
   "execution_count": null,
   "metadata": {},
   "outputs": [],
   "source": [
    "/**\n",
    " * Definition for a binary tree node.\n",
    " * public class TreeNode {\n",
    " *     int val;\n",
    " *     TreeNode left;\n",
    " *     TreeNode right;\n",
    " *     TreeNode(int x) { val = x; }\n",
    " * }\n",
    " */\n",
    "class Solution {\n",
    "    public TreeNode buildTree(int[] inorder, int[] postorder) {\n",
    "        HashMap<Integer, Integer> map = new HashMap<>();\n",
    "        for (int i = 0; i < inorder.length; i++) {\n",
    "            map.put(inorder[i], i);\n",
    "        }\n",
    "        return gen(inorder,postorder,0,inorder.length,0,postorder.length,map);\n",
    "    }\n",
    "    public TreeNode gen(int[] inorder, int[] postorder,int i_left,int i_right,int p_left,int p_right,HashMap<Integer, Integer> map){\n",
    "        if (p_left==p_right){return null;}\n",
    "        int curr_val=postorder[p_right-1];\n",
    "        TreeNode curr_tree=new TreeNode(curr_val);\n",
    "        int index=map.get(curr_val);\n",
    "        curr_tree.left=gen(inorder,postorder,i_left,index,p_left,p_left+index-i_left,map);\n",
    "        curr_tree.right=gen(inorder,postorder,index+1,i_right,p_left+index-i_left,p_right-1,map);\n",
    "        return curr_tree;\n",
    "        \n",
    "    }\n",
    "}"
   ]
  }
 ],
 "metadata": {
  "kernelspec": {
   "display_name": "Python 3",
   "language": "python",
   "name": "python3"
  },
  "language_info": {
   "codemirror_mode": {
    "name": "ipython",
    "version": 3
   },
   "file_extension": ".py",
   "mimetype": "text/x-python",
   "name": "python",
   "nbconvert_exporter": "python",
   "pygments_lexer": "ipython3",
   "version": "3.7.3"
  }
 },
 "nbformat": 4,
 "nbformat_minor": 2
}

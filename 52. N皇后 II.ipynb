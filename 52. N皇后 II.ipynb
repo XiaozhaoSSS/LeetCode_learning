{
 "cells": [
  {
   "cell_type": "markdown",
   "metadata": {},
   "source": [
    "1.\n",
    "\n",
    "执行用时 :\n",
    "52 ms\n",
    ", 在所有 Python3 提交中击败了\n",
    "94.79%\n",
    "的用户\n",
    "内存消耗 :\n",
    "13.9 MB\n",
    ", 在所有 Python3 提交中击败了\n",
    "5.52%\n",
    "的用户"
   ]
  },
  {
   "cell_type": "code",
   "execution_count": null,
   "metadata": {},
   "outputs": [],
   "source": [
    "class Solution:\n",
    "    def totalNQueens(self, n: int) -> int:\n",
    "        res=0\n",
    "        diagonal_left,diagonal_right=[],[]\n",
    "        row,column=list(range(n)),list(range(n))\n",
    "        def solve(row,column,diagonal_left,diagonal_right):\n",
    "            nonlocal res\n",
    "            if len(row)==1:\n",
    "                if row[0]+column[0] not in diagonal_left and row[0]-column[0] not in diagonal_right:\n",
    "                    res+=1\n",
    "            else:\n",
    "                for i in range(len(column)):\n",
    "                    curr_row=row[0]\n",
    "                    curr_column=column[i]\n",
    "                    if curr_row+curr_column not in diagonal_left and curr_row-curr_column not in diagonal_right:\n",
    "                        diagonal_left.append(curr_row+curr_column)\n",
    "                        diagonal_right.append(curr_row-curr_column)\n",
    "                        solve(row[1:],column[:i]+column[i+1:],diagonal_left,diagonal_right)\n",
    "                        diagonal_left.pop()\n",
    "                        diagonal_right.pop()\n",
    "        solve(row,column,diagonal_left,diagonal_right)\n",
    "        return res"
   ]
  }
 ],
 "metadata": {
  "kernelspec": {
   "display_name": "Python 3",
   "language": "python",
   "name": "python3"
  },
  "language_info": {
   "codemirror_mode": {
    "name": "ipython",
    "version": 3
   },
   "file_extension": ".py",
   "mimetype": "text/x-python",
   "name": "python",
   "nbconvert_exporter": "python",
   "pygments_lexer": "ipython3",
   "version": "3.7.3"
  }
 },
 "nbformat": 4,
 "nbformat_minor": 2
}
